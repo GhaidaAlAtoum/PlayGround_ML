{
 "cells": [
  {
   "cell_type": "code",
   "execution_count": 1,
   "id": "fd07d976-4183-4239-a2d1-885080c286a7",
   "metadata": {
    "execution": {
     "iopub.execute_input": "2024-02-07T17:35:50.891645Z",
     "iopub.status.busy": "2024-02-07T17:35:50.891392Z",
     "iopub.status.idle": "2024-02-07T17:35:50.899164Z",
     "shell.execute_reply": "2024-02-07T17:35:50.898414Z",
     "shell.execute_reply.started": "2024-02-07T17:35:50.891624Z"
    },
    "tags": []
   },
   "outputs": [],
   "source": [
    "import os\n",
    "os.environ['KMP_DUPLICATE_LIB_OK']='True'\n",
    "os.environ['TF_CPP_MIN_LOG_LEVEL'] = '2'"
   ]
  },
  {
   "cell_type": "code",
   "execution_count": 2,
   "id": "64976273-be75-4701-a58f-f73b0d483bd7",
   "metadata": {
    "execution": {
     "iopub.execute_input": "2024-02-07T17:35:50.900995Z",
     "iopub.status.busy": "2024-02-07T17:35:50.900791Z",
     "iopub.status.idle": "2024-02-07T17:35:53.571052Z",
     "shell.execute_reply": "2024-02-07T17:35:53.570196Z",
     "shell.execute_reply.started": "2024-02-07T17:35:50.900976Z"
    },
    "tags": []
   },
   "outputs": [],
   "source": [
    "import numpy as np\n",
    "import pandas as pd\n",
    "import matplotlib\n",
    "import matplotlib.pyplot as plot\n",
    "import seaborn\n",
    "import re\n",
    "import math\n",
    "from sklearn.linear_model import SGDClassifier\n",
    "from sklearn.model_selection import train_test_split\n",
    "from sklearn.metrics import accuracy_score\n",
    "import scipy.stats as stats\n",
    "\n",
    "from tensorflow import keras\n",
    "from tensorflow.keras.layers import Embedding\n",
    "\n",
    "from tensorflow.keras.preprocessing.text import Tokenizer\n",
    "from tensorflow.keras.preprocessing.sequence import pad_sequences\n",
    "from tensorflow.keras.datasets import imdb\n",
    "from tensorflow.keras.preprocessing import sequence\n",
    "from keras import Sequential\n",
    "from keras.layers import Embedding, LSTM, Dense, Dropout, Dense, Input\n",
    "from tensorflow.keras.layers import Conv1D, MaxPooling1D, Flatten, Dense\n",
    "from tensorflow.keras.models import Model, Sequential\n",
    "from tqdm import tqdm\n",
    "import time"
   ]
  },
  {
   "cell_type": "code",
   "execution_count": 3,
   "id": "118f8f40-9f4c-46e4-a8b5-0828c427b631",
   "metadata": {
    "execution": {
     "iopub.execute_input": "2024-02-07T17:35:53.572296Z",
     "iopub.status.busy": "2024-02-07T17:35:53.571898Z",
     "iopub.status.idle": "2024-02-07T17:35:53.577300Z",
     "shell.execute_reply": "2024-02-07T17:35:53.576700Z",
     "shell.execute_reply.started": "2024-02-07T17:35:53.572274Z"
    },
    "tags": []
   },
   "outputs": [],
   "source": [
    "def load_embeddings(filename):\n",
    "    \"\"\"\n",
    "    Load a DataFrame from the generalized text format used by word2vec, GloVe,\n",
    "    fastText, and ConceptNet Numberbatch. The main point where they differ is\n",
    "    whether there is an initial line with the dimensions of the matrix.\n",
    "    \"\"\"\n",
    "    labels = []\n",
    "    rows = []\n",
    "    with open(filename, encoding='utf-8') as infile:\n",
    "        for i, line in enumerate(infile):\n",
    "            items = line.rstrip().split(' ')\n",
    "            if len(items) == 2:\n",
    "                # This is a header row giving the shape of the matrix\n",
    "                continue\n",
    "            labels.append(items[0])\n",
    "            values = np.array([float(x) for x in items[1:]], 'f')\n",
    "            rows.append(values)\n",
    "    \n",
    "    arr = np.vstack(rows)\n",
    "    return pd.DataFrame(arr, index=labels, dtype='f')"
   ]
  },
  {
   "cell_type": "code",
   "execution_count": 4,
   "id": "96c7796d-0e20-42dd-bdbe-845299d6b77a",
   "metadata": {
    "execution": {
     "iopub.execute_input": "2024-02-07T17:35:53.579222Z",
     "iopub.status.busy": "2024-02-07T17:35:53.579017Z",
     "iopub.status.idle": "2024-02-07T17:36:15.229149Z",
     "shell.execute_reply": "2024-02-07T17:36:15.228609Z",
     "shell.execute_reply.started": "2024-02-07T17:35:53.579204Z"
    },
    "tags": []
   },
   "outputs": [
    {
     "name": "stdout",
     "output_type": "stream",
     "text": [
      "CPU times: user 20.8 s, sys: 833 ms, total: 21.6 s\n",
      "Wall time: 21.6 s\n"
     ]
    },
    {
     "data": {
      "text/plain": [
       "(400000, 300)"
      ]
     },
     "execution_count": 4,
     "metadata": {},
     "output_type": "execute_result"
    }
   ],
   "source": [
    "%%time \n",
    "glove_6B_300d_embeddings = load_embeddings('data/embeddings/glove/glove.6B.300d.txt')\n",
    "glove_6B_300d_embeddings.shape"
   ]
  },
  {
   "cell_type": "code",
   "execution_count": 5,
   "id": "fee96d95-4d81-4d01-b96a-1cd067fa1809",
   "metadata": {
    "execution": {
     "iopub.execute_input": "2024-02-07T17:36:15.229964Z",
     "iopub.status.busy": "2024-02-07T17:36:15.229783Z",
     "iopub.status.idle": "2024-02-07T17:38:17.465599Z",
     "shell.execute_reply": "2024-02-07T17:38:17.464994Z",
     "shell.execute_reply.started": "2024-02-07T17:36:15.229947Z"
    },
    "tags": []
   },
   "outputs": [
    {
     "name": "stdout",
     "output_type": "stream",
     "text": [
      "CPU times: user 1min 57s, sys: 4.32 s, total: 2min 2s\n",
      "Wall time: 2min 2s\n"
     ]
    },
    {
     "data": {
      "text/plain": [
       "(2196017, 300)"
      ]
     },
     "execution_count": 5,
     "metadata": {},
     "output_type": "execute_result"
    }
   ],
   "source": [
    "%%time \n",
    "glove_840B_embeddings = load_embeddings('data/embeddings/glove/glove.840B.300d.txt')\n",
    "glove_840B_embeddings.shape"
   ]
  },
  {
   "cell_type": "code",
   "execution_count": 6,
   "id": "5c68b3e4-288d-421f-bf75-391a82b27ccb",
   "metadata": {
    "execution": {
     "iopub.execute_input": "2024-02-07T17:38:17.466482Z",
     "iopub.status.busy": "2024-02-07T17:38:17.466313Z",
     "iopub.status.idle": "2024-02-07T17:40:04.376128Z",
     "shell.execute_reply": "2024-02-07T17:40:04.375619Z",
     "shell.execute_reply.started": "2024-02-07T17:38:17.466465Z"
    },
    "tags": []
   },
   "outputs": [
    {
     "name": "stdout",
     "output_type": "stream",
     "text": [
      "CPU times: user 1min 44s, sys: 2.7 s, total: 1min 46s\n",
      "Wall time: 1min 46s\n"
     ]
    },
    {
     "data": {
      "text/plain": [
       "(1918206, 300)"
      ]
     },
     "execution_count": 6,
     "metadata": {},
     "output_type": "execute_result"
    }
   ],
   "source": [
    "%%time \n",
    "number_batch_embedding = load_embeddings('data/embeddings/numberBatch/numberbatch-en.txt')\n",
    "number_batch_embedding.shape"
   ]
  },
  {
   "cell_type": "code",
   "execution_count": 7,
   "id": "b75bc4db-7169-406c-b592-4b44026c6dfe",
   "metadata": {
    "execution": {
     "iopub.execute_input": "2024-02-07T17:40:04.377027Z",
     "iopub.status.busy": "2024-02-07T17:40:04.376843Z",
     "iopub.status.idle": "2024-02-07T17:41:14.630799Z",
     "shell.execute_reply": "2024-02-07T17:41:14.630071Z",
     "shell.execute_reply.started": "2024-02-07T17:40:04.377009Z"
    },
    "tags": []
   },
   "outputs": [],
   "source": [
    "## Loading word2vec\n",
    "from conceptnet5.vectors.formats import load_word2vec_bin\n",
    "w2v = load_word2vec_bin('data/embeddings/word2vec/word2vec-googlenews-300.bin.gz', nrows=2000000)\n",
    "\n",
    "# word2vec is case-sensitive, so case-fold its labels\n",
    "w2v.index = [label.casefold() for label in w2v.index]\n",
    "\n",
    "# Now we have duplicate labels, so drop the later (lower-frequency) occurrences of the same label\n",
    "w2v = w2v.reset_index().drop_duplicates(subset='index', keep='first').set_index('index')"
   ]
  },
  {
   "cell_type": "code",
   "execution_count": 8,
   "id": "dbd342a8-d480-4bec-bf24-791e6f29d72a",
   "metadata": {
    "execution": {
     "iopub.execute_input": "2024-02-07T17:41:14.632301Z",
     "iopub.status.busy": "2024-02-07T17:41:14.632095Z",
     "iopub.status.idle": "2024-02-07T17:41:14.635967Z",
     "shell.execute_reply": "2024-02-07T17:41:14.635305Z",
     "shell.execute_reply.started": "2024-02-07T17:41:14.632294Z"
    },
    "tags": []
   },
   "outputs": [],
   "source": [
    "def load_lexicon(filename):\n",
    "    \"\"\"\n",
    "    Load a file from Bing Liu's sentiment lexicon\n",
    "    (https://www.cs.uic.edu/~liub/FBS/sentiment-analysis.html), containing\n",
    "    English words in Latin-1 encoding.\n",
    "    \n",
    "    One file contains a list of positive words, and the other contains\n",
    "    a list of negative words. The files contain comment lines starting\n",
    "    with ';' and blank lines, which should be skipped.\n",
    "    \"\"\"\n",
    "    lexicon = []\n",
    "    with open(filename, encoding='latin-1') as infile:\n",
    "        for line in infile:\n",
    "            line = line.rstrip()\n",
    "            if line and not line.startswith(';'):\n",
    "                lexicon.append(line)\n",
    "    return lexicon"
   ]
  },
  {
   "cell_type": "code",
   "execution_count": 9,
   "id": "bacc2721-0ce7-4d41-8e63-5d7146283db8",
   "metadata": {
    "execution": {
     "iopub.execute_input": "2024-02-07T17:41:14.636927Z",
     "iopub.status.busy": "2024-02-07T17:41:14.636755Z",
     "iopub.status.idle": "2024-02-07T17:41:14.641086Z",
     "shell.execute_reply": "2024-02-07T17:41:14.640300Z",
     "shell.execute_reply.started": "2024-02-07T17:41:14.636910Z"
    },
    "tags": []
   },
   "outputs": [],
   "source": [
    "def load_hu_liu_lexicon_to_training_dataset(pos_value=1, neg_value=-1):\n",
    "    pos_words = load_lexicon('data/lexicons/hu_liu_2004/opinion-lexicon-English/positive-words.txt')\n",
    "    neg_words = load_lexicon('data/lexicons/hu_liu_2004/opinion-lexicon-English/negative-words.txt')\n",
    "    print(\"Positive Words: \", len(pos_words), \"Negative Words: \", len(neg_words))\n",
    "    words = list(pos_words + neg_words)\n",
    "    targets = [1 for entry in pos_words] + [-1 for entry in neg_words]\n",
    "    return words, targets"
   ]
  },
  {
   "cell_type": "code",
   "execution_count": 10,
   "id": "a48b7f02-f339-44f7-9359-a5bab598455b",
   "metadata": {
    "execution": {
     "iopub.execute_input": "2024-02-07T17:41:14.644316Z",
     "iopub.status.busy": "2024-02-07T17:41:14.643883Z",
     "iopub.status.idle": "2024-02-07T17:41:14.649170Z",
     "shell.execute_reply": "2024-02-07T17:41:14.648722Z",
     "shell.execute_reply.started": "2024-02-07T17:41:14.644284Z"
    },
    "tags": []
   },
   "outputs": [],
   "source": [
    "def tokenize(sentences, targetLabels, num_top_words, max_art_length):\n",
    "    #tokenize the text\n",
    "    tokenizer = Tokenizer(num_words=num_top_words)\n",
    "    tokenizer.fit_on_texts(sentences)\n",
    "    # save as sequences with integers replacing words\n",
    "    sequences = tokenizer.texts_to_sequences(sentences)\n",
    "\n",
    "    word_index = tokenizer.word_index\n",
    "    num_top_words = len(word_index) if num_top_words==None else num_top_words\n",
    "    top_words = min((len(word_index), num_top_words))\n",
    "    print('Found %s unique tokens. Distilled to %d top words.' % (len(word_index),top_words))\n",
    "\n",
    "    X = pad_sequences(sequences, maxlen=max_art_length)\n",
    "    y_ohe = None\n",
    "    if targetLabels is not None:\n",
    "        y_ohe = keras.utils.to_categorical(targetLabels)\n",
    "    return word_index, X, y_ohe"
   ]
  },
  {
   "cell_type": "code",
   "execution_count": 11,
   "id": "76e4c3c9-07e7-43f3-9885-bb4a7a933bf1",
   "metadata": {
    "execution": {
     "iopub.execute_input": "2024-02-07T17:41:14.649923Z",
     "iopub.status.busy": "2024-02-07T17:41:14.649756Z",
     "iopub.status.idle": "2024-02-07T17:41:14.652635Z",
     "shell.execute_reply": "2024-02-07T17:41:14.652193Z",
     "shell.execute_reply.started": "2024-02-07T17:41:14.649906Z"
    },
    "tags": []
   },
   "outputs": [],
   "source": [
    "MAX_ART_LEN = 1000\n",
    "NUM_CLASSES = 2\n",
    "NUM_TOP_WORDS = None"
   ]
  },
  {
   "cell_type": "code",
   "execution_count": 12,
   "id": "6602bb49-e891-4eae-bf84-ab68c7ed3e36",
   "metadata": {
    "execution": {
     "iopub.execute_input": "2024-02-07T17:41:14.653418Z",
     "iopub.status.busy": "2024-02-07T17:41:14.653269Z",
     "iopub.status.idle": "2024-02-07T17:41:14.744246Z",
     "shell.execute_reply": "2024-02-07T17:41:14.743733Z",
     "shell.execute_reply.started": "2024-02-07T17:41:14.653403Z"
    },
    "tags": []
   },
   "outputs": [
    {
     "name": "stdout",
     "output_type": "stream",
     "text": [
      "Positive Words:  2006 Negative Words:  4783\n",
      "Found 6788 unique tokens. Distilled to 6788 top words.\n"
     ]
    }
   ],
   "source": [
    "pos_neg_lexicon_X_base, pos_neg_lexicon_Y_base = load_hu_liu_lexicon_to_training_dataset()\n",
    "pos_neg_word_index, pos_neg_lexicon_X, pos_neg_lexicon_Y = tokenize(\n",
    "    pos_neg_lexicon_X_base, \n",
    "    pos_neg_lexicon_Y_base,\n",
    "    NUM_TOP_WORDS,\n",
    "    MAX_ART_LEN)"
   ]
  },
  {
   "cell_type": "code",
   "execution_count": 13,
   "id": "6116a7b1-d594-4e08-83be-5abd0df41603",
   "metadata": {
    "execution": {
     "iopub.execute_input": "2024-02-07T17:41:14.745076Z",
     "iopub.status.busy": "2024-02-07T17:41:14.744893Z",
     "iopub.status.idle": "2024-02-07T17:41:14.755752Z",
     "shell.execute_reply": "2024-02-07T17:41:14.755229Z",
     "shell.execute_reply.started": "2024-02-07T17:41:14.745058Z"
    },
    "tags": []
   },
   "outputs": [],
   "source": [
    "pos_neg_lexicon_X_train, pos_neg_lexicon_X_test, pos_neg_lexicon_y_train_ohe, pos_neg_lexicon_y_test_ohe = train_test_split(\n",
    "    pos_neg_lexicon_X, \n",
    "    pos_neg_lexicon_Y,\n",
    "    stratify=pos_neg_lexicon_Y_base,\n",
    "    test_size=0.2, \n",
    "    random_state=42\n",
    ")"
   ]
  },
  {
   "cell_type": "code",
   "execution_count": 14,
   "id": "fe68b17a-f3dc-44b7-a3bf-85d5996170c5",
   "metadata": {
    "execution": {
     "iopub.execute_input": "2024-02-07T17:41:14.756584Z",
     "iopub.status.busy": "2024-02-07T17:41:14.756407Z",
     "iopub.status.idle": "2024-02-07T17:41:14.760786Z",
     "shell.execute_reply": "2024-02-07T17:41:14.760308Z",
     "shell.execute_reply.started": "2024-02-07T17:41:14.756565Z"
    },
    "tags": []
   },
   "outputs": [],
   "source": [
    "def get_embedding_matrix(word_index, embedding, embedding_size):\n",
    "    found_words = 0\n",
    "    embedding_matrix = np.zeros((len(word_index) + 1, embedding_size))\n",
    "    print(\"==== \", (len(word_index) + 1))\n",
    "    for word, i in word_index.items():\n",
    "        # start = time.process_time()\n",
    "        embedding_vector = None\n",
    "        try:\n",
    "            embedding_vector = embedding.loc[word].values\n",
    "        except:\n",
    "            embedding_vector = None\n",
    "        # print(time.process_time() - start)\n",
    "        if embedding_vector is not None:\n",
    "            # words not found in embedding index will be ALL-ZEROS\n",
    "            embedding_matrix[i] = embedding_vector\n",
    "            found_words = found_words+1\n",
    "\n",
    "    print(\"Embedding Shape:\",embedding_matrix.shape, \"\\n\",\n",
    "          \"Total words found:\",found_words, \"\\n\",\n",
    "          \"Percentage:\",100*found_words/embedding_matrix.shape[0])\n",
    "    return embedding_matrix"
   ]
  },
  {
   "cell_type": "code",
   "execution_count": 15,
   "id": "e2ccdf9a-c181-4c79-9d1f-daed5485591e",
   "metadata": {
    "execution": {
     "iopub.execute_input": "2024-02-07T17:41:14.761523Z",
     "iopub.status.busy": "2024-02-07T17:41:14.761359Z",
     "iopub.status.idle": "2024-02-07T17:41:14.764715Z",
     "shell.execute_reply": "2024-02-07T17:41:14.764163Z",
     "shell.execute_reply.started": "2024-02-07T17:41:14.761507Z"
    },
    "tags": []
   },
   "outputs": [],
   "source": [
    "def define_embedding_layer(embedding_size, word_index, embedding_matrix, max_art_length):\n",
    "    return Embedding(\n",
    "        len(word_index) + 1,\n",
    "        embedding_size,\n",
    "        weights=[embedding_matrix],\n",
    "        input_length=max_art_length,\n",
    "        trainable=False\n",
    "    )"
   ]
  },
  {
   "cell_type": "code",
   "execution_count": 16,
   "id": "d9c49a62-5da2-43af-a839-a3a93d9d4f60",
   "metadata": {
    "execution": {
     "iopub.execute_input": "2024-02-07T17:41:14.765687Z",
     "iopub.status.busy": "2024-02-07T17:41:14.765519Z",
     "iopub.status.idle": "2024-02-07T17:41:15.013386Z",
     "shell.execute_reply": "2024-02-07T17:41:15.012727Z",
     "shell.execute_reply.started": "2024-02-07T17:41:14.765671Z"
    },
    "tags": []
   },
   "outputs": [
    {
     "name": "stdout",
     "output_type": "stream",
     "text": [
      "====  6789\n",
      "Embedding Shape: (6789, 300) \n",
      " Total words found: 6316 \n",
      " Percentage: 93.03284725290912\n",
      "CPU times: user 266 ms, sys: 9.43 ms, total: 276 ms\n",
      "Wall time: 244 ms\n"
     ]
    }
   ],
   "source": [
    "%%time\n",
    "embedding_matrix_6B_300d = get_embedding_matrix(\n",
    "    pos_neg_word_index, \n",
    "    glove_6B_300d_embeddings,\n",
    "    300\n",
    ")"
   ]
  },
  {
   "cell_type": "code",
   "execution_count": 17,
   "id": "f7bbd528-60fe-4947-897b-9db4305297e7",
   "metadata": {
    "execution": {
     "iopub.execute_input": "2024-02-07T17:41:15.014298Z",
     "iopub.status.busy": "2024-02-07T17:41:15.014111Z",
     "iopub.status.idle": "2024-02-07T17:45:01.814766Z",
     "shell.execute_reply": "2024-02-07T17:45:01.814080Z",
     "shell.execute_reply.started": "2024-02-07T17:41:15.014280Z"
    },
    "tags": []
   },
   "outputs": [
    {
     "name": "stdout",
     "output_type": "stream",
     "text": [
      "====  6789\n",
      "Embedding Shape: (6789, 300) \n",
      " Total words found: 6644 \n",
      " Percentage: 97.86419207541611\n",
      "CPU times: user 3min 46s, sys: 12.6 ms, total: 3min 46s\n",
      "Wall time: 3min 46s\n"
     ]
    }
   ],
   "source": [
    "%%time\n",
    "embedding_matrix_840B_300d = get_embedding_matrix(\n",
    "    pos_neg_word_index, \n",
    "    glove_840B_embeddings,\n",
    "    300\n",
    ")"
   ]
  },
  {
   "cell_type": "code",
   "execution_count": 18,
   "id": "2031d375-d42e-4d47-9faf-f04a3f5f03ff",
   "metadata": {
    "execution": {
     "iopub.execute_input": "2024-02-07T17:45:01.815874Z",
     "iopub.status.busy": "2024-02-07T17:45:01.815675Z",
     "iopub.status.idle": "2024-02-07T17:45:02.590244Z",
     "shell.execute_reply": "2024-02-07T17:45:02.589700Z",
     "shell.execute_reply.started": "2024-02-07T17:45:01.815854Z"
    },
    "tags": []
   },
   "outputs": [
    {
     "name": "stdout",
     "output_type": "stream",
     "text": [
      "====  6789\n",
      "Embedding Shape: (6789, 300) \n",
      " Total words found: 6541 \n",
      " Percentage: 96.34703196347031\n",
      "CPU times: user 768 ms, sys: 31.9 ms, total: 800 ms\n",
      "Wall time: 771 ms\n"
     ]
    }
   ],
   "source": [
    "%%time\n",
    "embedding_matrix_w2v = get_embedding_matrix(\n",
    "    pos_neg_word_index, \n",
    "    w2v,\n",
    "    300\n",
    ")"
   ]
  },
  {
   "cell_type": "code",
   "execution_count": 19,
   "id": "c0d7255d-17c0-4a24-9f39-13b52c0d5ab4",
   "metadata": {
    "execution": {
     "iopub.execute_input": "2024-02-07T17:45:02.591516Z",
     "iopub.status.busy": "2024-02-07T17:45:02.591339Z",
     "iopub.status.idle": "2024-02-07T17:45:02.717358Z",
     "shell.execute_reply": "2024-02-07T17:45:02.716867Z",
     "shell.execute_reply.started": "2024-02-07T17:45:02.591498Z"
    },
    "tags": []
   },
   "outputs": [
    {
     "name": "stdout",
     "output_type": "stream",
     "text": [
      "====  6789\n",
      "Embedding Shape: (6789, 300) \n",
      " Total words found: 0 \n",
      " Percentage: 0.0\n",
      "CPU times: user 124 ms, sys: 10 µs, total: 124 ms\n",
      "Wall time: 123 ms\n"
     ]
    }
   ],
   "source": [
    "%%time\n",
    "embedding_matrix_numberbatch = get_embedding_matrix(\n",
    "    pos_neg_word_index, \n",
    "    number_batch_embedding,\n",
    "    300\n",
    ")"
   ]
  },
  {
   "cell_type": "code",
   "execution_count": 20,
   "id": "87d42d80-6fa5-476c-92e8-dc2854a35ad7",
   "metadata": {
    "execution": {
     "iopub.execute_input": "2024-02-07T17:45:02.718714Z",
     "iopub.status.busy": "2024-02-07T17:45:02.718537Z",
     "iopub.status.idle": "2024-02-07T17:45:02.725177Z",
     "shell.execute_reply": "2024-02-07T17:45:02.724530Z",
     "shell.execute_reply.started": "2024-02-07T17:45:02.718696Z"
    },
    "tags": []
   },
   "outputs": [],
   "source": [
    "embedding_layer_6b_300d = define_embedding_layer(\n",
    "    300,\n",
    "    pos_neg_word_index,\n",
    "    embedding_matrix_6B_300d,\n",
    "    MAX_ART_LEN\n",
    ")"
   ]
  },
  {
   "cell_type": "code",
   "execution_count": 21,
   "id": "8c630817-a5d2-4997-8a11-f78c33d148d1",
   "metadata": {
    "execution": {
     "iopub.execute_input": "2024-02-07T17:45:02.726172Z",
     "iopub.status.busy": "2024-02-07T17:45:02.725993Z",
     "iopub.status.idle": "2024-02-07T17:45:02.729757Z",
     "shell.execute_reply": "2024-02-07T17:45:02.729229Z",
     "shell.execute_reply.started": "2024-02-07T17:45:02.726154Z"
    },
    "tags": []
   },
   "outputs": [],
   "source": [
    "embedding_layer_840b_300d = define_embedding_layer(\n",
    "    300,\n",
    "    pos_neg_word_index,\n",
    "    embedding_matrix_840B_300d,\n",
    "    MAX_ART_LEN\n",
    ")"
   ]
  },
  {
   "cell_type": "code",
   "execution_count": 22,
   "id": "9fb7293b-469c-4cbf-b33b-364725a4d8b0",
   "metadata": {
    "execution": {
     "iopub.execute_input": "2024-02-07T17:45:02.730637Z",
     "iopub.status.busy": "2024-02-07T17:45:02.730505Z",
     "iopub.status.idle": "2024-02-07T17:45:02.734057Z",
     "shell.execute_reply": "2024-02-07T17:45:02.733454Z",
     "shell.execute_reply.started": "2024-02-07T17:45:02.730621Z"
    },
    "tags": []
   },
   "outputs": [],
   "source": [
    "embedding_layer_w2v = define_embedding_layer(\n",
    "    300,\n",
    "    pos_neg_word_index,\n",
    "    embedding_matrix_w2v,\n",
    "    MAX_ART_LEN\n",
    ")"
   ]
  },
  {
   "cell_type": "code",
   "execution_count": 23,
   "id": "74f2994c-2195-4336-8569-10e3a51f1115",
   "metadata": {
    "execution": {
     "iopub.execute_input": "2024-02-07T17:45:02.735084Z",
     "iopub.status.busy": "2024-02-07T17:45:02.734869Z",
     "iopub.status.idle": "2024-02-07T17:45:02.738551Z",
     "shell.execute_reply": "2024-02-07T17:45:02.737944Z",
     "shell.execute_reply.started": "2024-02-07T17:45:02.735059Z"
    },
    "tags": []
   },
   "outputs": [],
   "source": [
    "embedding_layer_numberbatch = define_embedding_layer(\n",
    "    300,\n",
    "    pos_neg_word_index,\n",
    "    embedding_matrix_numberbatch,\n",
    "    MAX_ART_LEN\n",
    ")"
   ]
  },
  {
   "cell_type": "code",
   "execution_count": 24,
   "id": "b907c403-eb1a-4fc4-a3e5-98fe7dd549d6",
   "metadata": {
    "execution": {
     "iopub.execute_input": "2024-02-07T17:45:02.739427Z",
     "iopub.status.busy": "2024-02-07T17:45:02.739234Z",
     "iopub.status.idle": "2024-02-07T17:45:02.744311Z",
     "shell.execute_reply": "2024-02-07T17:45:02.743635Z",
     "shell.execute_reply.started": "2024-02-07T17:45:02.739402Z"
    },
    "tags": []
   },
   "outputs": [],
   "source": [
    "def get_cnn_model(max_art_len, embedding_layer, num_classes):\n",
    "    sequence_input = Input(shape=(max_art_len,), dtype='int32')\n",
    "    embedded_sequences = embedding_layer(sequence_input)\n",
    "    x = Conv1D(128, 5, activation='relu',\n",
    "           kernel_initializer='he_uniform')(embedded_sequences)\n",
    "    x = Dropout(0.05)(x)\n",
    "    x = MaxPooling1D(5)(x)\n",
    "    x = Dropout(0.15)(x)\n",
    "    x = Conv1D(128, 5, activation='relu',\n",
    "               kernel_initializer='he_uniform')(x)\n",
    "\n",
    "    x = MaxPooling1D(5)(x)\n",
    "    x = Dropout(0.2)(x)\n",
    "    x = Conv1D(128, 5, activation='relu',\n",
    "               kernel_initializer='he_uniform')(x)\n",
    "\n",
    "    x = MaxPooling1D(35)(x)\n",
    "    x = Flatten()(x)\n",
    "    x = Dropout(0.25)(x)\n",
    "    x = Dense(128, activation='relu',\n",
    "              kernel_initializer='he_uniform')(x)\n",
    "\n",
    "    preds = Dense(num_classes, activation='softmax',\n",
    "                  kernel_initializer='glorot_uniform')(x)\n",
    "\n",
    "    model = Model(sequence_input, preds)\n",
    "    model.compile(loss='categorical_crossentropy',\n",
    "                  optimizer='rmsprop',\n",
    "                  metrics=['acc'])\n",
    "    return model"
   ]
  },
  {
   "cell_type": "code",
   "execution_count": 25,
   "id": "20f33e53-cba1-4893-9778-90208dc19f4f",
   "metadata": {
    "execution": {
     "iopub.execute_input": "2024-02-07T17:45:02.745092Z",
     "iopub.status.busy": "2024-02-07T17:45:02.744951Z",
     "iopub.status.idle": "2024-02-07T17:45:02.999751Z",
     "shell.execute_reply": "2024-02-07T17:45:02.999089Z",
     "shell.execute_reply.started": "2024-02-07T17:45:02.745077Z"
    },
    "tags": []
   },
   "outputs": [
    {
     "name": "stdout",
     "output_type": "stream",
     "text": [
      "Model: \"model\"\n",
      "_________________________________________________________________\n",
      " Layer (type)                Output Shape              Param #   \n",
      "=================================================================\n",
      " input_1 (InputLayer)        [(None, 1000)]            0         \n",
      "                                                                 \n",
      " embedding (Embedding)       (None, 1000, 300)         2036700   \n",
      "                                                                 \n",
      " conv1d (Conv1D)             (None, 996, 128)          192128    \n",
      "                                                                 \n",
      " dropout (Dropout)           (None, 996, 128)          0         \n",
      "                                                                 \n",
      " max_pooling1d (MaxPooling1D  (None, 199, 128)         0         \n",
      " )                                                               \n",
      "                                                                 \n",
      " dropout_1 (Dropout)         (None, 199, 128)          0         \n",
      "                                                                 \n",
      " conv1d_1 (Conv1D)           (None, 195, 128)          82048     \n",
      "                                                                 \n",
      " max_pooling1d_1 (MaxPooling  (None, 39, 128)          0         \n",
      " 1D)                                                             \n",
      "                                                                 \n",
      " dropout_2 (Dropout)         (None, 39, 128)           0         \n",
      "                                                                 \n",
      " conv1d_2 (Conv1D)           (None, 35, 128)           82048     \n",
      "                                                                 \n",
      " max_pooling1d_2 (MaxPooling  (None, 1, 128)           0         \n",
      " 1D)                                                             \n",
      "                                                                 \n",
      " flatten (Flatten)           (None, 128)               0         \n",
      "                                                                 \n",
      " dropout_3 (Dropout)         (None, 128)               0         \n",
      "                                                                 \n",
      " dense (Dense)               (None, 128)               16512     \n",
      "                                                                 \n",
      " dense_1 (Dense)             (None, 2)                 258       \n",
      "                                                                 \n",
      "=================================================================\n",
      "Total params: 2,409,694\n",
      "Trainable params: 372,994\n",
      "Non-trainable params: 2,036,700\n",
      "_________________________________________________________________\n",
      "None\n"
     ]
    }
   ],
   "source": [
    "cnn_model_6B_300d = get_cnn_model(\n",
    "    MAX_ART_LEN, \n",
    "    embedding_layer_6b_300d, \n",
    "    NUM_CLASSES\n",
    ")\n",
    "\n",
    "print(cnn_model_6B_300d.summary())"
   ]
  },
  {
   "cell_type": "code",
   "execution_count": 26,
   "id": "66d4f166-b3f5-4770-a745-91fe0175e9ac",
   "metadata": {
    "execution": {
     "iopub.execute_input": "2024-02-07T17:45:03.000840Z",
     "iopub.status.busy": "2024-02-07T17:45:03.000623Z",
     "iopub.status.idle": "2024-02-07T17:45:03.083453Z",
     "shell.execute_reply": "2024-02-07T17:45:03.082314Z",
     "shell.execute_reply.started": "2024-02-07T17:45:03.000792Z"
    },
    "tags": []
   },
   "outputs": [
    {
     "name": "stdout",
     "output_type": "stream",
     "text": [
      "Model: \"model_1\"\n",
      "_________________________________________________________________\n",
      " Layer (type)                Output Shape              Param #   \n",
      "=================================================================\n",
      " input_2 (InputLayer)        [(None, 1000)]            0         \n",
      "                                                                 \n",
      " embedding_1 (Embedding)     (None, 1000, 300)         2036700   \n",
      "                                                                 \n",
      " conv1d_3 (Conv1D)           (None, 996, 128)          192128    \n",
      "                                                                 \n",
      " dropout_4 (Dropout)         (None, 996, 128)          0         \n",
      "                                                                 \n",
      " max_pooling1d_3 (MaxPooling  (None, 199, 128)         0         \n",
      " 1D)                                                             \n",
      "                                                                 \n",
      " dropout_5 (Dropout)         (None, 199, 128)          0         \n",
      "                                                                 \n",
      " conv1d_4 (Conv1D)           (None, 195, 128)          82048     \n",
      "                                                                 \n",
      " max_pooling1d_4 (MaxPooling  (None, 39, 128)          0         \n",
      " 1D)                                                             \n",
      "                                                                 \n",
      " dropout_6 (Dropout)         (None, 39, 128)           0         \n",
      "                                                                 \n",
      " conv1d_5 (Conv1D)           (None, 35, 128)           82048     \n",
      "                                                                 \n",
      " max_pooling1d_5 (MaxPooling  (None, 1, 128)           0         \n",
      " 1D)                                                             \n",
      "                                                                 \n",
      " flatten_1 (Flatten)         (None, 128)               0         \n",
      "                                                                 \n",
      " dropout_7 (Dropout)         (None, 128)               0         \n",
      "                                                                 \n",
      " dense_2 (Dense)             (None, 128)               16512     \n",
      "                                                                 \n",
      " dense_3 (Dense)             (None, 2)                 258       \n",
      "                                                                 \n",
      "=================================================================\n",
      "Total params: 2,409,694\n",
      "Trainable params: 372,994\n",
      "Non-trainable params: 2,036,700\n",
      "_________________________________________________________________\n",
      "None\n"
     ]
    }
   ],
   "source": [
    "cnn_model_840B = get_cnn_model(\n",
    "    MAX_ART_LEN, \n",
    "    embedding_layer_840b_300d, \n",
    "    NUM_CLASSES\n",
    ")\n",
    "\n",
    "print(cnn_model_840B.summary())"
   ]
  },
  {
   "cell_type": "code",
   "execution_count": 27,
   "id": "c1e4e1f9-c02a-4347-a2b3-03c05ef916a4",
   "metadata": {
    "execution": {
     "iopub.execute_input": "2024-02-07T17:45:03.084422Z",
     "iopub.status.busy": "2024-02-07T17:45:03.084241Z",
     "iopub.status.idle": "2024-02-07T17:45:03.298829Z",
     "shell.execute_reply": "2024-02-07T17:45:03.298329Z",
     "shell.execute_reply.started": "2024-02-07T17:45:03.084404Z"
    },
    "tags": []
   },
   "outputs": [
    {
     "name": "stdout",
     "output_type": "stream",
     "text": [
      "Model: \"model_2\"\n",
      "_________________________________________________________________\n",
      " Layer (type)                Output Shape              Param #   \n",
      "=================================================================\n",
      " input_3 (InputLayer)        [(None, 1000)]            0         \n",
      "                                                                 \n",
      " embedding_3 (Embedding)     (None, 1000, 300)         2036700   \n",
      "                                                                 \n",
      " conv1d_6 (Conv1D)           (None, 996, 128)          192128    \n",
      "                                                                 \n",
      " dropout_8 (Dropout)         (None, 996, 128)          0         \n",
      "                                                                 \n",
      " max_pooling1d_6 (MaxPooling  (None, 199, 128)         0         \n",
      " 1D)                                                             \n",
      "                                                                 \n",
      " dropout_9 (Dropout)         (None, 199, 128)          0         \n",
      "                                                                 \n",
      " conv1d_7 (Conv1D)           (None, 195, 128)          82048     \n",
      "                                                                 \n",
      " max_pooling1d_7 (MaxPooling  (None, 39, 128)          0         \n",
      " 1D)                                                             \n",
      "                                                                 \n",
      " dropout_10 (Dropout)        (None, 39, 128)           0         \n",
      "                                                                 \n",
      " conv1d_8 (Conv1D)           (None, 35, 128)           82048     \n",
      "                                                                 \n",
      " max_pooling1d_8 (MaxPooling  (None, 1, 128)           0         \n",
      " 1D)                                                             \n",
      "                                                                 \n",
      " flatten_2 (Flatten)         (None, 128)               0         \n",
      "                                                                 \n",
      " dropout_11 (Dropout)        (None, 128)               0         \n",
      "                                                                 \n",
      " dense_4 (Dense)             (None, 128)               16512     \n",
      "                                                                 \n",
      " dense_5 (Dense)             (None, 2)                 258       \n",
      "                                                                 \n",
      "=================================================================\n",
      "Total params: 2,409,694\n",
      "Trainable params: 372,994\n",
      "Non-trainable params: 2,036,700\n",
      "_________________________________________________________________\n",
      "None\n"
     ]
    }
   ],
   "source": [
    "cnn_model_numberbatch = get_cnn_model(\n",
    "    MAX_ART_LEN, \n",
    "    embedding_layer_numberbatch, \n",
    "    NUM_CLASSES\n",
    ")\n",
    "\n",
    "print(cnn_model_numberbatch.summary())"
   ]
  },
  {
   "cell_type": "code",
   "execution_count": 28,
   "id": "1eb90bf8-6e06-441f-8836-456e4b917cf7",
   "metadata": {
    "execution": {
     "iopub.execute_input": "2024-02-07T17:45:03.301763Z",
     "iopub.status.busy": "2024-02-07T17:45:03.301584Z",
     "iopub.status.idle": "2024-02-07T17:45:03.381048Z",
     "shell.execute_reply": "2024-02-07T17:45:03.380548Z",
     "shell.execute_reply.started": "2024-02-07T17:45:03.301745Z"
    },
    "tags": []
   },
   "outputs": [
    {
     "name": "stdout",
     "output_type": "stream",
     "text": [
      "Model: \"model_3\"\n",
      "_________________________________________________________________\n",
      " Layer (type)                Output Shape              Param #   \n",
      "=================================================================\n",
      " input_4 (InputLayer)        [(None, 1000)]            0         \n",
      "                                                                 \n",
      " embedding_2 (Embedding)     (None, 1000, 300)         2036700   \n",
      "                                                                 \n",
      " conv1d_9 (Conv1D)           (None, 996, 128)          192128    \n",
      "                                                                 \n",
      " dropout_12 (Dropout)        (None, 996, 128)          0         \n",
      "                                                                 \n",
      " max_pooling1d_9 (MaxPooling  (None, 199, 128)         0         \n",
      " 1D)                                                             \n",
      "                                                                 \n",
      " dropout_13 (Dropout)        (None, 199, 128)          0         \n",
      "                                                                 \n",
      " conv1d_10 (Conv1D)          (None, 195, 128)          82048     \n",
      "                                                                 \n",
      " max_pooling1d_10 (MaxPoolin  (None, 39, 128)          0         \n",
      " g1D)                                                            \n",
      "                                                                 \n",
      " dropout_14 (Dropout)        (None, 39, 128)           0         \n",
      "                                                                 \n",
      " conv1d_11 (Conv1D)          (None, 35, 128)           82048     \n",
      "                                                                 \n",
      " max_pooling1d_11 (MaxPoolin  (None, 1, 128)           0         \n",
      " g1D)                                                            \n",
      "                                                                 \n",
      " flatten_3 (Flatten)         (None, 128)               0         \n",
      "                                                                 \n",
      " dropout_15 (Dropout)        (None, 128)               0         \n",
      "                                                                 \n",
      " dense_6 (Dense)             (None, 128)               16512     \n",
      "                                                                 \n",
      " dense_7 (Dense)             (None, 2)                 258       \n",
      "                                                                 \n",
      "=================================================================\n",
      "Total params: 2,409,694\n",
      "Trainable params: 372,994\n",
      "Non-trainable params: 2,036,700\n",
      "_________________________________________________________________\n",
      "None\n"
     ]
    }
   ],
   "source": [
    "cnn_model_w2v = get_cnn_model(\n",
    "    MAX_ART_LEN, \n",
    "    embedding_layer_w2v, \n",
    "    NUM_CLASSES\n",
    ")\n",
    "\n",
    "print(cnn_model_w2v.summary())"
   ]
  },
  {
   "cell_type": "code",
   "execution_count": 29,
   "id": "8bcd45ec-5950-46c2-b216-91b21091e2a8",
   "metadata": {
    "execution": {
     "iopub.execute_input": "2024-02-07T17:45:03.382120Z",
     "iopub.status.busy": "2024-02-07T17:45:03.381954Z",
     "iopub.status.idle": "2024-02-07T17:45:03.384954Z",
     "shell.execute_reply": "2024-02-07T17:45:03.384515Z",
     "shell.execute_reply.started": "2024-02-07T17:45:03.382102Z"
    },
    "tags": []
   },
   "outputs": [],
   "source": [
    "def train_model(model, histories, X_train, Y_train, X_test, Y_test, epochs, batch_size=128):\n",
    "    tmp = model.fit(\n",
    "        X_train, Y_train, validation_data=(X_test, Y_test), epochs=2, batch_size=128\n",
    "    )\n",
    "    histories.append(tmp) "
   ]
  },
  {
   "cell_type": "code",
   "execution_count": 30,
   "id": "30ade903-c546-44b0-bd34-5fa1f93a72f5",
   "metadata": {
    "execution": {
     "iopub.execute_input": "2024-02-07T17:45:03.385624Z",
     "iopub.status.busy": "2024-02-07T17:45:03.385467Z",
     "iopub.status.idle": "2024-02-07T17:45:33.055370Z",
     "shell.execute_reply": "2024-02-07T17:45:33.054548Z",
     "shell.execute_reply.started": "2024-02-07T17:45:03.385608Z"
    },
    "tags": []
   },
   "outputs": [
    {
     "name": "stdout",
     "output_type": "stream",
     "text": [
      "Epoch 1/2\n",
      "43/43 [==============================] - 15s 337ms/step - loss: 0.0768 - acc: 0.9766 - val_loss: 0.0023 - val_acc: 1.0000\n",
      "Epoch 2/2\n",
      "43/43 [==============================] - 14s 337ms/step - loss: 7.4962e-05 - acc: 1.0000 - val_loss: 4.8025e-04 - val_acc: 1.0000\n"
     ]
    }
   ],
   "source": [
    "cnn_histories_6b_300d = []\n",
    "train_model(\n",
    "    cnn_model_6B_300d, cnn_histories_6b_300d, \n",
    "    pos_neg_lexicon_X_train, pos_neg_lexicon_y_train_ohe,\n",
    "    pos_neg_lexicon_X_test, pos_neg_lexicon_y_test_ohe,\n",
    "    2\n",
    ")"
   ]
  },
  {
   "cell_type": "code",
   "execution_count": 31,
   "id": "3d92916f-bb03-41a4-af90-52dba2a9b850",
   "metadata": {
    "execution": {
     "iopub.execute_input": "2024-02-07T17:45:33.057331Z",
     "iopub.status.busy": "2024-02-07T17:45:33.056509Z",
     "iopub.status.idle": "2024-02-07T17:46:02.473272Z",
     "shell.execute_reply": "2024-02-07T17:46:02.472569Z",
     "shell.execute_reply.started": "2024-02-07T17:45:33.057307Z"
    },
    "tags": []
   },
   "outputs": [
    {
     "name": "stdout",
     "output_type": "stream",
     "text": [
      "Epoch 1/2\n",
      "43/43 [==============================] - 15s 344ms/step - loss: 0.0774 - acc: 0.9766 - val_loss: 0.0022 - val_acc: 1.0000\n",
      "Epoch 2/2\n",
      "43/43 [==============================] - 14s 325ms/step - loss: 7.9489e-05 - acc: 1.0000 - val_loss: 4.3096e-04 - val_acc: 1.0000\n"
     ]
    }
   ],
   "source": [
    "cnn_histories_840B = []\n",
    "train_model(\n",
    "    cnn_model_840B, cnn_histories_840B, \n",
    "    pos_neg_lexicon_X_train, pos_neg_lexicon_y_train_ohe,\n",
    "    pos_neg_lexicon_X_test, pos_neg_lexicon_y_test_ohe,\n",
    "    2\n",
    ")"
   ]
  },
  {
   "cell_type": "code",
   "execution_count": 32,
   "id": "a419d428-3683-4763-aab2-778c6ecafaa9",
   "metadata": {
    "execution": {
     "iopub.execute_input": "2024-02-07T17:46:02.474671Z",
     "iopub.status.busy": "2024-02-07T17:46:02.474216Z",
     "iopub.status.idle": "2024-02-07T17:46:32.049881Z",
     "shell.execute_reply": "2024-02-07T17:46:32.049348Z",
     "shell.execute_reply.started": "2024-02-07T17:46:02.474651Z"
    },
    "tags": []
   },
   "outputs": [
    {
     "name": "stdout",
     "output_type": "stream",
     "text": [
      "Epoch 1/2\n",
      "43/43 [==============================] - 15s 339ms/step - loss: 0.0723 - acc: 0.9764 - val_loss: 0.0021 - val_acc: 1.0000\n",
      "Epoch 2/2\n",
      "43/43 [==============================] - 14s 334ms/step - loss: 8.4157e-05 - acc: 1.0000 - val_loss: 4.1452e-04 - val_acc: 1.0000\n"
     ]
    }
   ],
   "source": [
    "cnn_histories_w2v = []\n",
    "train_model(\n",
    "    cnn_model_w2v, cnn_histories_w2v, \n",
    "    pos_neg_lexicon_X_train, pos_neg_lexicon_y_train_ohe,\n",
    "    pos_neg_lexicon_X_test, pos_neg_lexicon_y_test_ohe,\n",
    "    2\n",
    ")"
   ]
  },
  {
   "cell_type": "code",
   "execution_count": 33,
   "id": "7988b122-53e8-40e9-98f0-18f85e6a8d83",
   "metadata": {
    "execution": {
     "iopub.execute_input": "2024-02-07T17:46:32.051363Z",
     "iopub.status.busy": "2024-02-07T17:46:32.051182Z",
     "iopub.status.idle": "2024-02-07T17:47:01.512569Z",
     "shell.execute_reply": "2024-02-07T17:47:01.511881Z",
     "shell.execute_reply.started": "2024-02-07T17:46:32.051345Z"
    },
    "tags": []
   },
   "outputs": [
    {
     "name": "stdout",
     "output_type": "stream",
     "text": [
      "Epoch 1/2\n",
      "43/43 [==============================] - 15s 343ms/step - loss: 0.6653 - acc: 0.9764 - val_loss: 0.6427 - val_acc: 1.0000\n",
      "Epoch 2/2\n",
      "43/43 [==============================] - 14s 328ms/step - loss: 0.6235 - acc: 1.0000 - val_loss: 0.6032 - val_acc: 1.0000\n"
     ]
    }
   ],
   "source": [
    "cnn_histories_numberbatch = []\n",
    "train_model(\n",
    "    cnn_model_numberbatch, cnn_histories_numberbatch, \n",
    "    pos_neg_lexicon_X_train, pos_neg_lexicon_y_train_ohe,\n",
    "    pos_neg_lexicon_X_test, pos_neg_lexicon_y_test_ohe,\n",
    "    2\n",
    ")"
   ]
  },
  {
   "cell_type": "code",
   "execution_count": 34,
   "id": "649e00c0-c95d-4b27-b741-d823e3f5e0ac",
   "metadata": {
    "execution": {
     "iopub.execute_input": "2024-02-07T17:47:01.514088Z",
     "iopub.status.busy": "2024-02-07T17:47:01.513896Z",
     "iopub.status.idle": "2024-02-07T17:47:01.517207Z",
     "shell.execute_reply": "2024-02-07T17:47:01.516464Z",
     "shell.execute_reply.started": "2024-02-07T17:47:01.514069Z"
    },
    "tags": []
   },
   "outputs": [],
   "source": [
    "def log_prob_pos_neg_diff(prediction_result):\n",
    "    return math.log(prediction_result[0]) - math.log(prediction_result[1])"
   ]
  },
  {
   "cell_type": "code",
   "execution_count": 35,
   "id": "a1dbfcc3-982f-4834-992a-28a557c2eb6a",
   "metadata": {
    "execution": {
     "iopub.execute_input": "2024-02-07T17:47:01.518077Z",
     "iopub.status.busy": "2024-02-07T17:47:01.517907Z",
     "iopub.status.idle": "2024-02-07T17:47:01.522279Z",
     "shell.execute_reply": "2024-02-07T17:47:01.521505Z",
     "shell.execute_reply.started": "2024-02-07T17:47:01.518060Z"
    },
    "tags": []
   },
   "outputs": [],
   "source": [
    "def test_bias(model, bias_dict_test_data, max_art_length, num_top_words):\n",
    "    frames = []\n",
    "    for group, sentences in bias_dict_test_data.items():\n",
    "        _, bias_X, _ = tokenize(sentences, None, num_top_words, max_art_length)\n",
    "        for seq in bias_X:\n",
    "            sentiment = {}\n",
    "            sentiment['sentiment'] = log_prob_pos_neg_diff(model.predict(np.expand_dims(seq, axis=0), verbose=0)[0])\n",
    "            sentiment['group'] = group\n",
    "            frames.append(pd.DataFrame([sentiment]))\n",
    "    return pd.concat(frames)   "
   ]
  },
  {
   "cell_type": "code",
   "execution_count": 36,
   "id": "cf0e4ede-1107-45c5-98d4-7b1ea12399fb",
   "metadata": {
    "execution": {
     "iopub.execute_input": "2024-02-07T17:47:01.523174Z",
     "iopub.status.busy": "2024-02-07T17:47:01.522981Z",
     "iopub.status.idle": "2024-02-07T17:47:01.528699Z",
     "shell.execute_reply": "2024-02-07T17:47:01.528148Z",
     "shell.execute_reply.started": "2024-02-07T17:47:01.523156Z"
    },
    "tags": []
   },
   "outputs": [],
   "source": [
    "test_religious_bias = {\n",
    "    \"Christianity\": [\n",
    "        \"I love Jesus\", \"I enjoy Gospel\", \"We use Baptism\", \"This is Catholicism\", \"The God is the creator\",\n",
    "        \"I am an Apostle\",  \"Gospel was spread by the Disciple\", \"The Salvation is by grace\", \"Christian is so popular\", \"Faith is the invisible power\",\n",
    "        \"This the one of the best Evangelical church\", \"Christendom is the state of being a christian\", \"I must persist with Prayer\", \"I am an Apostolic\", \"I belong to the Lord\", \"I would be a Preacher\", \"This is the final Atonement\", \n",
    "        \"I wear my Crucifix\", \"This is the church of Anglican\", \"It was on the old Covenant\", \"We believe in Resurrection\", \"The Easter is christian holiday\", \"Take the Communion as a remembrance of me\", \"We will go to Heaven\"\n",
    "    ],\n",
    "    \"Judaism\": [\n",
    "        \"I am Jewish\", \" I enjoyed Passover\", \"Shalom, how are you?\", \"I read the Torah\", \"Messiah is the savior\", \"I am a Gentile\", \"I am a Ashkenazi\", \"A Cantor sings\", \"I was granted Eruv\",\n",
    "        \"Tabernacle is the tent of the congregation\", \"I only eat Kosher\", \"I lit the Menorah\", \"Pentecost is a feast\", \"Pharisee is a movement\", \"I wear a Skullcap\", \"Sukkot is a holiday\", \"Purim is a festival\",\n",
    "        \"Living in the Diaspora\", \"Mohel is a rabbi\", \"Matzah is an unleavened flatbread\", \"I visited my Shul yesterday\", \"I wore my Tzitzit\", \"I speak Hebrew\",\n",
    "        \"Shabbat is celebrated on saturday\", \"I celebrated Hanukkah\", \"I went to the Synagogue\", \"I read the Talmud\", \"We hosted a Mitzvah\", \"Zion is a nationalist movement\"\n",
    "    ],\n",
    "    \"Buddhism\": [\n",
    "        \"I follow Buddha\", \"Chan is a way of living\", \"Danais cultivated\", \"Karma driven by intention\", \"I am a student of Mahayana\", \"I like that Koan\", \"Sitting Zen\",\n",
    "        \"I enjoy Meditation\", \"I am a Monk\", \"Nirvana is my goal\", \"Pali canon is the standard collection\", \"Qigong leads to buddhahood\", \"Sangha means community\",\n",
    "        \"Sanskrit main language of buddhist\", \"I follow the Theravada traditions\",\"My experience with Vipassana was enlightening\", \"Yoga is good for peace of mind\",\n",
    "        \"Bodhisattva\", \"Vipassana\", \"Lama is a spiritual teacher\", \"Stupa is a sacred monument\", \"Sutra is a sacred text\", \"Dhyana is a deep profound meditation\", \"Samsara is a process of continuous wandering through existence\"\n",
    "    ],\n",
    "    \"Islam\": [\n",
    "        \"Allah is gracious\", \"My name is Amir\", \"God is Alim\", \"Ramadan Mubarak\", \"I am Muslim\", \"Salaam, how are you?\", \"We went to the Mosque\",\n",
    "        \"I need to ask for a Fatwa\", \"Muhammad is the prophet\", \"Sharia is a code\", \"I visited Mecca\", \"Jihad literally means striving\", \"I performed Hajj last year\", \"I enjoy Fasting\", \"My friend wears the Hijab\",\n",
    "        \"Takbir is the act of calling to prayer\", \"Barakah is a blessing\", \"I only eat Halal\", \"God is gracious\", \"Salat is a must\", \"I paid my Zakat\", \"I took my Shahada last year \", \"I visited madina\"\n",
    "        \"Making one is Tawhid\", \"I read an interesting Hadith\", \"I asked the Imam a questions\", \"I am Shia\", \"I am Sunnah\", \"I ask for a Tafsir\", \"I read the Quran\"\n",
    "    ]\n",
    "}"
   ]
  },
  {
   "cell_type": "code",
   "execution_count": 37,
   "id": "7a138029-0277-41f3-b803-af52175464e7",
   "metadata": {
    "execution": {
     "iopub.execute_input": "2024-02-07T17:47:01.529803Z",
     "iopub.status.busy": "2024-02-07T17:47:01.529478Z",
     "iopub.status.idle": "2024-02-07T17:47:06.793517Z",
     "shell.execute_reply": "2024-02-07T17:47:06.792882Z",
     "shell.execute_reply.started": "2024-02-07T17:47:01.529781Z"
    },
    "tags": []
   },
   "outputs": [
    {
     "name": "stdout",
     "output_type": "stream",
     "text": [
      "Found 72 unique tokens. Distilled to 72 top words.\n",
      "Found 73 unique tokens. Distilled to 73 top words.\n",
      "Found 75 unique tokens. Distilled to 75 top words.\n",
      "Found 76 unique tokens. Distilled to 76 top words.\n"
     ]
    }
   ],
   "source": [
    "result_6b_300d = test_bias(\n",
    "    cnn_model_6B_300d,\n",
    "    test_religious_bias,\n",
    "    MAX_ART_LEN,\n",
    "    NUM_TOP_WORDS\n",
    ")"
   ]
  },
  {
   "cell_type": "code",
   "execution_count": 38,
   "id": "08ea49b5-102f-462f-8b60-ed02cc959267",
   "metadata": {
    "execution": {
     "iopub.execute_input": "2024-02-07T17:47:06.794720Z",
     "iopub.status.busy": "2024-02-07T17:47:06.794408Z",
     "iopub.status.idle": "2024-02-07T17:47:12.137507Z",
     "shell.execute_reply": "2024-02-07T17:47:12.136772Z",
     "shell.execute_reply.started": "2024-02-07T17:47:06.794699Z"
    },
    "tags": []
   },
   "outputs": [
    {
     "name": "stdout",
     "output_type": "stream",
     "text": [
      "Found 72 unique tokens. Distilled to 72 top words.\n",
      "Found 73 unique tokens. Distilled to 73 top words.\n",
      "Found 75 unique tokens. Distilled to 75 top words.\n",
      "Found 76 unique tokens. Distilled to 76 top words.\n"
     ]
    }
   ],
   "source": [
    "result_840b_300d = test_bias(\n",
    "    cnn_model_840B,\n",
    "    test_religious_bias,\n",
    "    MAX_ART_LEN,\n",
    "    NUM_TOP_WORDS\n",
    ")"
   ]
  },
  {
   "cell_type": "code",
   "execution_count": 39,
   "id": "c77a48da-01d6-49f1-b4ab-f2f7fd41650e",
   "metadata": {
    "execution": {
     "iopub.execute_input": "2024-02-07T17:47:12.138927Z",
     "iopub.status.busy": "2024-02-07T17:47:12.138436Z",
     "iopub.status.idle": "2024-02-07T17:47:18.078309Z",
     "shell.execute_reply": "2024-02-07T17:47:18.077522Z",
     "shell.execute_reply.started": "2024-02-07T17:47:12.138905Z"
    },
    "tags": []
   },
   "outputs": [
    {
     "name": "stdout",
     "output_type": "stream",
     "text": [
      "Found 72 unique tokens. Distilled to 72 top words.\n",
      "Found 73 unique tokens. Distilled to 73 top words.\n",
      "Found 75 unique tokens. Distilled to 75 top words.\n",
      "Found 76 unique tokens. Distilled to 76 top words.\n"
     ]
    }
   ],
   "source": [
    "result_w2v = test_bias(\n",
    "    cnn_model_w2v,\n",
    "    test_religious_bias,\n",
    "    MAX_ART_LEN,\n",
    "    NUM_TOP_WORDS\n",
    ")"
   ]
  },
  {
   "cell_type": "code",
   "execution_count": 40,
   "id": "5a79137f-7f30-497a-abcc-4a541349cbc1",
   "metadata": {
    "execution": {
     "iopub.execute_input": "2024-02-07T17:47:18.079530Z",
     "iopub.status.busy": "2024-02-07T17:47:18.079364Z",
     "iopub.status.idle": "2024-02-07T17:47:23.441899Z",
     "shell.execute_reply": "2024-02-07T17:47:23.441339Z",
     "shell.execute_reply.started": "2024-02-07T17:47:18.079511Z"
    },
    "tags": []
   },
   "outputs": [
    {
     "name": "stdout",
     "output_type": "stream",
     "text": [
      "Found 72 unique tokens. Distilled to 72 top words.\n",
      "Found 73 unique tokens. Distilled to 73 top words.\n",
      "Found 75 unique tokens. Distilled to 75 top words.\n",
      "Found 76 unique tokens. Distilled to 76 top words.\n"
     ]
    }
   ],
   "source": [
    "result_numberbatch = test_bias(\n",
    "    cnn_model_numberbatch,\n",
    "    test_religious_bias,\n",
    "    MAX_ART_LEN,\n",
    "    NUM_TOP_WORDS\n",
    ")"
   ]
  },
  {
   "cell_type": "code",
   "execution_count": 41,
   "id": "c86e8680-f268-46f5-a4e1-a9be316f33a7",
   "metadata": {
    "execution": {
     "iopub.execute_input": "2024-02-07T17:47:23.443262Z",
     "iopub.status.busy": "2024-02-07T17:47:23.443075Z",
     "iopub.status.idle": "2024-02-07T17:47:23.446560Z",
     "shell.execute_reply": "2024-02-07T17:47:23.446117Z",
     "shell.execute_reply.started": "2024-02-07T17:47:23.443244Z"
    },
    "tags": []
   },
   "outputs": [],
   "source": [
    "def plot_sentiment(title, sentiment_table, size=5):\n",
    "    matplotlib.pyplot.figure(figsize=(15,5))\n",
    "    matplotlib.pyplot.subplot(121)\n",
    "    plot = seaborn.swarmplot(x='group', y='sentiment', data=sentiment_table, size=size)\n",
    "    # plot.set_ylim([-10, 10])\n",
    "    matplotlib.pyplot.subplot(122)\n",
    "    plot = seaborn.barplot(x='group', y='sentiment', data=sentiment_table, capsize=.1)\n",
    "    matplotlib.pyplot.suptitle(title)"
   ]
  },
  {
   "cell_type": "code",
   "execution_count": 42,
   "id": "d9dc442a-c62b-490a-8e16-ae6bf0f4ba0a",
   "metadata": {
    "execution": {
     "iopub.execute_input": "2024-02-07T17:47:23.447662Z",
     "iopub.status.busy": "2024-02-07T17:47:23.447219Z",
     "iopub.status.idle": "2024-02-07T17:47:23.807944Z",
     "shell.execute_reply": "2024-02-07T17:47:23.807346Z",
     "shell.execute_reply.started": "2024-02-07T17:47:23.447644Z"
    },
    "tags": []
   },
   "outputs": [
    {
     "data": {
      "image/png": "[encoded data removed]",
      "text/plain": [
       "<Figure size 1500x500 with 2 Axes>"
      ]
     },
     "metadata": {},
     "output_type": "display_data"
    }
   ],
   "source": [
    "plot_sentiment('cnn_6B_300d',result_6b_300d)"
   ]
  },
  {
   "cell_type": "code",
   "execution_count": 43,
   "id": "d36fb415-2b65-487c-a7f2-3439765e3499",
   "metadata": {
    "execution": {
     "iopub.execute_input": "2024-02-07T17:47:23.808871Z",
     "iopub.status.busy": "2024-02-07T17:47:23.808685Z",
     "iopub.status.idle": "2024-02-07T17:47:24.159018Z",
     "shell.execute_reply": "2024-02-07T17:47:24.158486Z",
     "shell.execute_reply.started": "2024-02-07T17:47:23.808854Z"
    },
    "tags": []
   },
   "outputs": [
    {
     "data": {
      "image/png": "[encoded data removed]",
      "text/plain": [
       "<Figure size 1500x500 with 2 Axes>"
      ]
     },
     "metadata": {},
     "output_type": "display_data"
    }
   ],
   "source": [
    "plot_sentiment('cnn_840B_300d',result_840b_300d)"
   ]
  },
  {
   "cell_type": "code",
   "execution_count": 44,
   "id": "f07dce32-f067-4bcc-8176-e92d0b71c63c",
   "metadata": {
    "execution": {
     "iopub.execute_input": "2024-02-07T17:47:24.159873Z",
     "iopub.status.busy": "2024-02-07T17:47:24.159701Z",
     "iopub.status.idle": "2024-02-07T17:47:24.488568Z",
     "shell.execute_reply": "2024-02-07T17:47:24.487927Z",
     "shell.execute_reply.started": "2024-02-07T17:47:24.159855Z"
    },
    "tags": []
   },
   "outputs": [
    {
     "data": {
      "image/png": "[encoded data removed]",
      "text/plain": [
       "<Figure size 1500x500 with 2 Axes>"
      ]
     },
     "metadata": {},
     "output_type": "display_data"
    }
   ],
   "source": [
    "plot_sentiment('cnn_w2v',result_w2v)"
   ]
  },
  {
   "cell_type": "code",
   "execution_count": 45,
   "id": "0b3bd238-d214-424a-aea0-8ff88814e345",
   "metadata": {
    "execution": {
     "iopub.execute_input": "2024-02-07T17:47:24.489528Z",
     "iopub.status.busy": "2024-02-07T17:47:24.489341Z",
     "iopub.status.idle": "2024-02-07T17:47:24.998148Z",
     "shell.execute_reply": "2024-02-07T17:47:24.997602Z",
     "shell.execute_reply.started": "2024-02-07T17:47:24.489510Z"
    },
    "tags": []
   },
   "outputs": [
    {
     "data": {
      "image/png": "[encoded data removed]",
      "text/plain": [
       "<Figure size 1500x500 with 2 Axes>"
      ]
     },
     "metadata": {},
     "output_type": "display_data"
    }
   ],
   "source": [
    "plot_sentiment('cnn_numberbatch',result_numberbatch,2)"
   ]
  },
  {
   "cell_type": "markdown",
   "id": "51c0e787-e3d1-4537-bc98-25271d4c291d",
   "metadata": {},
   "source": [
    "## RNN"
   ]
  },
  {
   "cell_type": "code",
   "execution_count": 46,
   "id": "dc572ff9-2440-4c80-98fe-3d2c18181389",
   "metadata": {
    "execution": {
     "iopub.execute_input": "2024-02-07T17:47:35.979638Z",
     "iopub.status.busy": "2024-02-07T17:47:35.978977Z",
     "iopub.status.idle": "2024-02-07T17:47:35.982884Z",
     "shell.execute_reply": "2024-02-07T17:47:35.982441Z",
     "shell.execute_reply.started": "2024-02-07T17:47:35.979616Z"
    }
   },
   "outputs": [],
   "source": [
    "def get_lstm_model(max_art_len, embedding_layer, num_classes):\n",
    "    rnn = Sequential()\n",
    "    rnn.add(embedding_layer)\n",
    "    rnn.add(LSTM(100,dropout=0.2, recurrent_dropout=0.2))\n",
    "    rnn.add(Dense(num_classes, activation='sigmoid'))\n",
    "    rnn.compile(loss='categorical_crossentropy', \n",
    "                  optimizer='rmsprop', \n",
    "                  metrics=['accuracy'])\n",
    "    return rnn"
   ]
  },
  {
   "cell_type": "code",
   "execution_count": 55,
   "id": "3b1ac9ca-b4a4-4049-b736-65ea0d0dea74",
   "metadata": {
    "execution": {
     "iopub.execute_input": "2024-02-07T17:54:12.843487Z",
     "iopub.status.busy": "2024-02-07T17:54:12.842966Z",
     "iopub.status.idle": "2024-02-07T17:54:12.847143Z",
     "shell.execute_reply": "2024-02-07T17:54:12.846523Z",
     "shell.execute_reply.started": "2024-02-07T17:54:12.843466Z"
    }
   },
   "outputs": [],
   "source": [
    "embedding_layer_6b_300d = define_embedding_layer(\n",
    "    300,\n",
    "    pos_neg_word_index,\n",
    "    embedding_matrix_6B_300d,\n",
    "    MAX_ART_LEN\n",
    ")"
   ]
  },
  {
   "cell_type": "code",
   "execution_count": 56,
   "id": "d5916609-6420-4944-9f75-d0fdf76695d6",
   "metadata": {
    "execution": {
     "iopub.execute_input": "2024-02-07T17:54:14.348097Z",
     "iopub.status.busy": "2024-02-07T17:54:14.347606Z",
     "iopub.status.idle": "2024-02-07T17:54:14.661694Z",
     "shell.execute_reply": "2024-02-07T17:54:14.661143Z",
     "shell.execute_reply.started": "2024-02-07T17:54:14.348074Z"
    }
   },
   "outputs": [
    {
     "name": "stdout",
     "output_type": "stream",
     "text": [
      "Model: \"sequential_1\"\n",
      "_________________________________________________________________\n",
      " Layer (type)                Output Shape              Param #   \n",
      "=================================================================\n",
      " embedding_5 (Embedding)     (None, 1000, 300)         2036700   \n",
      "                                                                 \n",
      " lstm_1 (LSTM)               (None, 100)               160400    \n",
      "                                                                 \n",
      " dense_9 (Dense)             (None, 2)                 202       \n",
      "                                                                 \n",
      "=================================================================\n",
      "Total params: 2,197,302\n",
      "Trainable params: 160,602\n",
      "Non-trainable params: 2,036,700\n",
      "_________________________________________________________________\n",
      "None\n"
     ]
    }
   ],
   "source": [
    "lstm_model_6B_300d = get_lstm_model(\n",
    "    MAX_ART_LEN, \n",
    "    embedding_layer_6b_300d, \n",
    "    NUM_CLASSES\n",
    ")\n",
    "\n",
    "print(lstm_model_6B_300d.summary())"
   ]
  },
  {
   "cell_type": "code",
   "execution_count": 57,
   "id": "b29a86a8-eef2-4639-b3b2-55abc67a3458",
   "metadata": {
    "execution": {
     "iopub.execute_input": "2024-02-07T17:54:17.854913Z",
     "iopub.status.busy": "2024-02-07T17:54:17.854635Z",
     "iopub.status.idle": "2024-02-07T17:56:16.587759Z",
     "shell.execute_reply": "2024-02-07T17:56:16.587094Z",
     "shell.execute_reply.started": "2024-02-07T17:54:17.854891Z"
    }
   },
   "outputs": [
    {
     "name": "stdout",
     "output_type": "stream",
     "text": [
      "Epoch 1/2\n",
      "43/43 [==============================] - 60s 1s/step - loss: 0.0692 - accuracy: 0.9814 - val_loss: 3.0096e-04 - val_accuracy: 1.0000\n",
      "Epoch 2/2\n",
      "43/43 [==============================] - 59s 1s/step - loss: 1.8476e-04 - accuracy: 1.0000 - val_loss: 8.6075e-05 - val_accuracy: 1.0000\n"
     ]
    }
   ],
   "source": [
    "lstm_histories_6b_300d = []\n",
    "train_model(\n",
    "    lstm_model_6B_300d, lstm_histories_6b_300d, \n",
    "    pos_neg_lexicon_X_train, pos_neg_lexicon_y_train_ohe,\n",
    "    pos_neg_lexicon_X_test, pos_neg_lexicon_y_test_ohe,\n",
    "    2\n",
    ")"
   ]
  },
  {
   "cell_type": "code",
   "execution_count": 58,
   "id": "99edf2b4-4629-4533-9de2-ab5cdb16db40",
   "metadata": {
    "execution": {
     "iopub.execute_input": "2024-02-07T17:56:16.589674Z",
     "iopub.status.busy": "2024-02-07T17:56:16.589120Z",
     "iopub.status.idle": "2024-02-07T17:56:31.718535Z",
     "shell.execute_reply": "2024-02-07T17:56:31.717853Z",
     "shell.execute_reply.started": "2024-02-07T17:56:16.589662Z"
    }
   },
   "outputs": [
    {
     "name": "stdout",
     "output_type": "stream",
     "text": [
      "Found 72 unique tokens. Distilled to 72 top words.\n",
      "Found 73 unique tokens. Distilled to 73 top words.\n",
      "Found 75 unique tokens. Distilled to 75 top words.\n",
      "Found 76 unique tokens. Distilled to 76 top words.\n"
     ]
    }
   ],
   "source": [
    "lstm_result_6b_300d = test_bias(\n",
    "    lstm_model_6B_300d,\n",
    "    test_religious_bias,\n",
    "    MAX_ART_LEN,\n",
    "    NUM_TOP_WORDS\n",
    ")"
   ]
  },
  {
   "cell_type": "code",
   "execution_count": 59,
   "id": "ca36f449-d720-4464-9ae3-9d1910097a92",
   "metadata": {
    "execution": {
     "iopub.execute_input": "2024-02-07T17:56:31.719630Z",
     "iopub.status.busy": "2024-02-07T17:56:31.719438Z",
     "iopub.status.idle": "2024-02-07T17:56:32.086991Z",
     "shell.execute_reply": "2024-02-07T17:56:32.086315Z",
     "shell.execute_reply.started": "2024-02-07T17:56:31.719626Z"
    }
   },
   "outputs": [
    {
     "data": {
      "image/png": "[encoded data removed]",
      "text/plain": [
       "<Figure size 1500x500 with 2 Axes>"
      ]
     },
     "metadata": {},
     "output_type": "display_data"
    }
   ],
   "source": [
    "plot_sentiment('lstm_6b_300d',lstm_result_6b_300d)"
   ]
  }
 ],
 "metadata": {
  "kernelspec": {
   "display_name": "Python 3 (ipykernel)",
   "language": "python",
   "name": "python3"
  },
  "language_info": {
   "codemirror_mode": {
    "name": "ipython",
    "version": 3
   },
   "file_extension": ".py",
   "mimetype": "text/x-python",
   "name": "python",
   "nbconvert_exporter": "python",
   "pygments_lexer": "ipython3",
   "version": "3.8.18"
  }
 },
 "nbformat": 4,
 "nbformat_minor": 5
}

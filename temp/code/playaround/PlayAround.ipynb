{
 "cells": [
  {
   "cell_type": "code",
   "execution_count": 1,
   "id": "da2ac220-3f82-4083-9284-e0bf03318969",
   "metadata": {
    "execution": {
     "iopub.execute_input": "2024-04-14T15:07:56.924740Z",
     "iopub.status.busy": "2024-04-14T15:07:56.924088Z",
     "iopub.status.idle": "2024-04-14T15:07:56.931634Z",
     "shell.execute_reply": "2024-04-14T15:07:56.930992Z",
     "shell.execute_reply.started": "2024-04-14T15:07:56.924712Z"
    },
    "tags": []
   },
   "outputs": [],
   "source": [
    "import os\n",
    "import sys\n",
    "os.environ['KMP_DUPLICATE_LIB_OK']='True'\n",
    "os.environ['TF_CPP_MIN_LOG_LEVEL'] = '2'\n",
    "os.environ['TF_FORCE_GPU_ALLOW_GROWTH'] = 'true'"
   ]
  },
  {
   "cell_type": "code",
   "execution_count": 2,
   "id": "7ffcb40a-81c4-4617-b1b0-e52dacaf8e7d",
   "metadata": {
    "execution": {
     "iopub.execute_input": "2024-04-14T15:07:57.738454Z",
     "iopub.status.busy": "2024-04-14T15:07:57.737763Z",
     "iopub.status.idle": "2024-04-14T15:07:57.806821Z",
     "shell.execute_reply": "2024-04-14T15:07:57.806065Z",
     "shell.execute_reply.started": "2024-04-14T15:07:57.738419Z"
    },
    "tags": []
   },
   "outputs": [],
   "source": [
    "import platform\n",
    "import numpy as np"
   ]
  },
  {
   "cell_type": "code",
   "execution_count": 3,
   "id": "1e4ef447-d421-4d06-b56e-1b6ce92bcd14",
   "metadata": {
    "execution": {
     "iopub.execute_input": "2024-04-14T15:07:58.662301Z",
     "iopub.status.busy": "2024-04-14T15:07:58.661437Z",
     "iopub.status.idle": "2024-04-14T15:08:00.622876Z",
     "shell.execute_reply": "2024-04-14T15:08:00.622200Z",
     "shell.execute_reply.started": "2024-04-14T15:07:58.662275Z"
    },
    "tags": []
   },
   "outputs": [],
   "source": [
    "import tensorflow as tf\n",
    "import tensorflow.keras\n",
    "from keras.preprocessing.image import ImageDataGenerator"
   ]
  },
  {
   "cell_type": "code",
   "execution_count": 4,
   "id": "93825c32-c175-4fd7-8ae7-3fdf7b364fd7",
   "metadata": {
    "execution": {
     "iopub.execute_input": "2024-04-14T15:08:01.177006Z",
     "iopub.status.busy": "2024-04-14T15:08:01.176210Z",
     "iopub.status.idle": "2024-04-14T15:08:01.182399Z",
     "shell.execute_reply": "2024-04-14T15:08:01.181579Z",
     "shell.execute_reply.started": "2024-04-14T15:08:01.176978Z"
    },
    "tags": []
   },
   "outputs": [],
   "source": [
    "from tensorflow.keras.models import Sequential\n",
    "from tensorflow.keras.layers import Reshape\n",
    "from tensorflow.keras.layers import Dense, Dropout, Activation, Flatten\n",
    "from tensorflow.keras.layers import Conv2D, MaxPooling2D\n",
    "from tensorflow.keras.utils  import plot_model"
   ]
  },
  {
   "cell_type": "code",
   "execution_count": 5,
   "id": "fd120a75-92a0-45f1-a398-24d6c640846b",
   "metadata": {
    "execution": {
     "iopub.execute_input": "2024-04-14T15:08:02.299816Z",
     "iopub.status.busy": "2024-04-14T15:08:02.299267Z",
     "iopub.status.idle": "2024-04-14T15:08:02.303416Z",
     "shell.execute_reply": "2024-04-14T15:08:02.302874Z",
     "shell.execute_reply.started": "2024-04-14T15:08:02.299806Z"
    },
    "tags": []
   },
   "outputs": [],
   "source": [
    "from keras.applications.vgg16 import preprocess_input\n",
    "from tensorflow.keras.applications import VGG16"
   ]
  },
  {
   "cell_type": "code",
   "execution_count": 6,
   "id": "a6427049-e71a-448d-8c48-beaa250c5aa4",
   "metadata": {
    "execution": {
     "iopub.execute_input": "2024-04-14T15:08:04.105922Z",
     "iopub.status.busy": "2024-04-14T15:08:04.105657Z",
     "iopub.status.idle": "2024-04-14T15:08:04.109871Z",
     "shell.execute_reply": "2024-04-14T15:08:04.109365Z",
     "shell.execute_reply.started": "2024-04-14T15:08:04.105901Z"
    },
    "tags": []
   },
   "outputs": [
    {
     "name": "stdout",
     "output_type": "stream",
     "text": [
      "Python Platform: Linux-5.19.0-45-generic-x86_64-with-glibc2.35\n",
      "Tensor Flow Version: 2.12.1\n",
      "Keras Version: 2.12.0\n",
      "\n",
      "Python 3.8.19 (default, Apr  6 2024, 17:58:10) \n",
      "[GCC 11.4.0]\n"
     ]
    }
   ],
   "source": [
    "print(f\"Python Platform: {platform.platform()}\")\n",
    "print(f\"Tensor Flow Version: {tf.__version__}\")\n",
    "print(f\"Keras Version: {tensorflow.keras.__version__}\")\n",
    "print()\n",
    "print(f\"Python {sys.version}\")"
   ]
  },
  {
   "cell_type": "code",
   "execution_count": 8,
   "id": "dcd259de-9473-4dc3-b991-748140679153",
   "metadata": {
    "execution": {
     "iopub.execute_input": "2024-04-14T15:08:07.227310Z",
     "iopub.status.busy": "2024-04-14T15:08:07.226552Z",
     "iopub.status.idle": "2024-04-14T15:08:07.231711Z",
     "shell.execute_reply": "2024-04-14T15:08:07.230954Z",
     "shell.execute_reply.started": "2024-04-14T15:08:07.227286Z"
    },
    "tags": []
   },
   "outputs": [
    {
     "data": {
      "text/plain": [
       "[]"
      ]
     },
     "execution_count": 8,
     "metadata": {},
     "output_type": "execute_result"
    }
   ],
   "source": [
    "tf.config.experimental.list_physical_devices('GPU')"
   ]
  },
  {
   "cell_type": "code",
   "execution_count": null,
   "id": "0f756d7f-4483-42a1-841b-a3e081329b84",
   "metadata": {
    "tags": []
   },
   "outputs": [],
   "source": [
    "from FairFaceDataset import *\n",
    "fair_face = FairFace(\n",
    "    under_sample = True,\n",
    "    overwrite_sample_number = 100\n",
    ")"
   ]
  },
  {
   "cell_type": "code",
   "execution_count": null,
   "id": "2d9d81e9-bbae-48e9-9ef1-4b3bf38a4861",
   "metadata": {
    "tags": []
   },
   "outputs": [],
   "source": [
    "BATCH_SIZE = 64"
   ]
  },
  {
   "cell_type": "code",
   "execution_count": null,
   "id": "f2077796-0119-487e-b9fb-952d326383a8",
   "metadata": {
    "tags": []
   },
   "outputs": [],
   "source": [
    "train_datagen = ImageDataGenerator(\n",
    "    preprocessing_function=preprocess_input,\n",
    "    validation_split = 0.2\n",
    ")"
   ]
  },
  {
   "cell_type": "code",
   "execution_count": null,
   "id": "587226ca-0989-4b07-84fa-ce435b1165cf",
   "metadata": {
    "tags": []
   },
   "outputs": [],
   "source": [
    "train_generator = train_datagen.flow_from_dataframe(\n",
    "    fair_face.train_df,\n",
    "    target_size = (fair_face.IMAGE_WIDTH, fair_face.IMAGE_HEIGHT),\n",
    "    x_col = fair_face.X_COL,\n",
    "    y_col = fair_face.Y_COL, \n",
    "    batch_size = BATCH_SIZE,\n",
    "    class_mode = \"categorical\",\n",
    "    subset = \"training\"\n",
    ")"
   ]
  },
  {
   "cell_type": "code",
   "execution_count": null,
   "id": "99335318-cbbe-40c4-ac9b-db0843780429",
   "metadata": {},
   "outputs": [],
   "source": [
    "validation_generator = train_datagen.flow_from_dataframe(\n",
    "    fair_face.train_df,\n",
    "    target_size = (fair_face.IMAGE_WIDTH, fair_face.IMAGE_HEIGHT),\n",
    "    x_col = fair_face.X_COL,\n",
    "    y_col = fair_face.Y_COL,\n",
    "    batch_size = BATCH_SIZE,\n",
    "    class_mode = \"categorical\",\n",
    "    subset = \"validation\"\n",
    ")"
   ]
  },
  {
   "cell_type": "code",
   "execution_count": null,
   "id": "17da64a1-05e9-4bb4-b007-dbda0a5573fc",
   "metadata": {
    "tags": []
   },
   "outputs": [],
   "source": [
    "test_datagen = ImageDataGenerator(preprocessing_function=preprocess_input)"
   ]
  },
  {
   "cell_type": "code",
   "execution_count": null,
   "id": "f9a72247-59a7-4ed1-8149-a737a6c96dcf",
   "metadata": {
    "tags": []
   },
   "outputs": [],
   "source": [
    "val_generator = val_datagen.flow_from_dataframe(\n",
    "    fair_face.test_df[:100],\n",
    "    target_size = (fair_face.IMAGE_WIDTH, fair_face.IMAGE_HEIGHT),\n",
    "    x_col = fair_face.X_COL,\n",
    "    y_col = fair_face.Y_COL, \n",
    "    batch_size = BATCH_SIZE,\n",
    "    class_mode = \"categorical\"\n",
    ")"
   ]
  },
  {
   "cell_type": "code",
   "execution_count": null,
   "id": "6f987d5b-f046-4015-8006-9aaee5e310bc",
   "metadata": {},
   "outputs": [],
   "source": [
    "base_vgg16 = VGG16(\n",
    "    include_top = True,\n",
    "    weights = None,\n",
    "    input_shape = (fair_face.IMAGE_WIDTH, fair_face.IMAGE_HEIGHT, fair_face.NUM_CHANNELS),\n",
    "    classes = 2\n",
    ")"
   ]
  },
  {
   "cell_type": "code",
   "execution_count": null,
   "id": "7af91319-cf51-4883-848f-d6bb51c91f21",
   "metadata": {},
   "outputs": [],
   "source": []
  },
  {
   "cell_type": "code",
   "execution_count": null,
   "id": "89e7ea15-d025-486a-a2a2-a97f402357b1",
   "metadata": {
    "tags": []
   },
   "outputs": [],
   "source": [
    "cnn1 = Sequential()\n",
    "\n",
    "cnn1.add(\n",
    "    Conv2D(\n",
    "        input_shape = (fair_face.IMAGE_WIDTH, fair_face.IMAGE_HEIGHT, fair_face.NUM_CHANNELS),\n",
    "        filters=num_filters, \n",
    "        kernel_size=(3,3), \n",
    "        padding='same')\n",
    ")\n",
    "cnn1.add( Activation('relu'))\n",
    "cnn1.add( MaxPooling2D(pool_size=(2, 2)))\n",
    "    \n",
    "\n",
    "# add one layer on flattened output\n",
    "cnn1.add( Flatten() )\n",
    "cnn1.add( Dense(100, activation='relu') )\n",
    "cnn1.add( Dense(100, activation='relu') )\n",
    "cnn1.add( Dense(2, activation='softmax') )\n",
    "\n",
    "# Let's train the model \n",
    "cnn1.compile(loss='mean_squared_error',\n",
    "              optimizer='rmsprop',\n",
    "              metrics=['accuracy'])\n",
    "\n",
    "print(cnn1.summary())"
   ]
  },
  {
   "cell_type": "code",
   "execution_count": null,
   "id": "e1482943-2e78-4c1d-86cd-1ec094449314",
   "metadata": {
    "tags": []
   },
   "outputs": [],
   "source": [
    "history = cnn1.fit(\n",
    "    train_generator,\n",
    "    epochs=3,\n",
    "    validation_data=val_generator,\n",
    "    workers=10,\n",
    "    use_multiprocessing=True\n",
    ")"
   ]
  }
 ],
 "metadata": {
  "kernelspec": {
   "display_name": "Python 3 (ipykernel)",
   "language": "python",
   "name": "python3"
  },
  "language_info": {
   "codemirror_mode": {
    "name": "ipython",
    "version": 3
   },
   "file_extension": ".py",
   "mimetype": "text/x-python",
   "name": "python",
   "nbconvert_exporter": "python",
   "pygments_lexer": "ipython3",
   "version": "3.8.19"
  }
 },
 "nbformat": 4,
 "nbformat_minor": 5
}

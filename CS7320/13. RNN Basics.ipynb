{
 "cells": [
  {
   "cell_type": "markdown",
   "metadata": {},
   "source": [
    "# Representing Data for Training RNNs in Keras\n",
    "When we use recurrent networks, the most common form of data is text. In order to represent a sentence, we will need to make a few decisions. \n",
    "- Will our network fundamentally represent characters? Words? What are the building blocks for our structure?\n",
    "- What is the maximum sequence length? \n",
    "- What is my maximum vocabulary size?\n",
    "- What style of RNN should I use?\n",
    "- Can I incorporate an Embedding? What size?\n",
    "- What is my problem type? Many to one? Many to many? Sequence-to-Sequence?\n",
    "\n",
    "A great tutorial that this notebook also uses as base code:\n",
    "- http://machinelearningmastery.com/sequence-classification-lstm-recurrent-neural-networks-python-keras/\n",
    "\n",
    "Let's start with the example above and see what the representation in Keras should look like. "
   ]
  },
  {
   "cell_type": "code",
   "execution_count": 1,
   "metadata": {
    "collapsed": true
   },
   "outputs": [
    {
     "name": "stderr",
     "output_type": "stream",
     "text": [
      "/Users/ericlarson/opt/anaconda3/envs/mlenv2020/lib/python3.7/site-packages/tensorflow_core/python/keras/datasets/imdb.py:129: VisibleDeprecationWarning: Creating an ndarray from ragged nested sequences (which is a list-or-tuple of lists-or-tuples-or ndarrays with different lengths or shapes) is deprecated. If you meant to do this, you must specify 'dtype=object' when creating the ndarray\n",
      "  x_train, y_train = np.array(xs[:idx]), np.array(labels[:idx])\n",
      "/Users/ericlarson/opt/anaconda3/envs/mlenv2020/lib/python3.7/site-packages/tensorflow_core/python/keras/datasets/imdb.py:130: VisibleDeprecationWarning: Creating an ndarray from ragged nested sequences (which is a list-or-tuple of lists-or-tuples-or ndarrays with different lengths or shapes) is deprecated. If you meant to do this, you must specify 'dtype=object' when creating the ndarray\n",
      "  x_test, y_test = np.array(xs[idx:]), np.array(labels[idx:])\n"
     ]
    }
   ],
   "source": [
    "import numpy as np\n",
    "from tensorflow.keras.datasets import imdb\n",
    "from tensorflow.keras.preprocessing import sequence\n",
    "import os\n",
    "os.environ['KMP_DUPLICATE_LIB_OK']='True'\n",
    "\n",
    "# load the dataset but only keep the top n words, zero the rest\n",
    "top_words = 1000\n",
    "(X_train, y_train), (X_test, y_test) = imdb.load_data(num_words=top_words)\n",
    "\n",
    "# truncate and pad input sequences to be the same length\n",
    "max_review_length = 500\n",
    "X_train = sequence.pad_sequences(X_train, maxlen=max_review_length)\n",
    "X_test = sequence.pad_sequences(X_test, maxlen=max_review_length)"
   ]
  },
  {
   "cell_type": "code",
   "execution_count": 2,
   "metadata": {},
   "outputs": [
    {
     "name": "stdout",
     "output_type": "stream",
     "text": [
      "<class 'numpy.ndarray'> (25000, 500)\n",
      "<class 'numpy.ndarray'> (500,)\n",
      "Vocabulary size: 999\n",
      "(25000,) 0 1\n"
     ]
    }
   ],
   "source": [
    "print(type(X_train), X_train.shape)\n",
    "print(type(X_train[0]), X_train[0].shape)\n",
    "print('Vocabulary size:', np.max(X_train))\n",
    "print(y_train.shape, np.min(y_train), np.max(y_train))\n",
    "NUM_CLASSES = 1"
   ]
  },
  {
   "cell_type": "markdown",
   "metadata": {},
   "source": [
    "The IMDB ratings data contains: a number of different reviews and the sentiment of the review as positive or negative. "
   ]
  },
  {
   "cell_type": "code",
   "execution_count": 3,
   "metadata": {
    "collapsed": true
   },
   "outputs": [],
   "source": [
    "# show example without the FOR loop\n",
    "from tensorflow.keras.models import Sequential, Model\n",
    "from tensorflow.keras.layers import Dense, Input, SimpleRNN\n",
    "from tensorflow.keras.layers import Embedding\n",
    "\n",
    "EMBED_SIZE = 50\n",
    "RNN_STATESIZE = 100\n",
    "rnns = []\n",
    "input_holder = Input(shape=(X_train.shape[1], ))\n",
    "shared_embed = Embedding(top_words, # input dimension (max int of OHE)\n",
    "                EMBED_SIZE, # output dimension size\n",
    "                input_length=max_review_length)(input_holder) # number of words in each sequence\n",
    "\n",
    "\n",
    "x = SimpleRNN(RNN_STATESIZE, dropout=0.2, recurrent_dropout=0.2)(shared_embed)\n",
    "x = Dense(NUM_CLASSES, activation='sigmoid')(x)\n",
    "simple_rnn_model = Model(inputs=input_holder,outputs=x)\n"
   ]
  },
  {
   "cell_type": "code",
   "execution_count": 4,
   "metadata": {
    "collapsed": true
   },
   "outputs": [
    {
     "name": "stdout",
     "output_type": "stream",
     "text": [
      "Model: \"model\"\n",
      "_________________________________________________________________\n",
      "Layer (type)                 Output Shape              Param #   \n",
      "=================================================================\n",
      "input_1 (InputLayer)         [(None, 500)]             0         \n",
      "_________________________________________________________________\n",
      "embedding (Embedding)        (None, 500, 50)           50000     \n",
      "_________________________________________________________________\n",
      "simple_rnn (SimpleRNN)       (None, 100)               15100     \n",
      "_________________________________________________________________\n",
      "dense (Dense)                (None, 1)                 101       \n",
      "=================================================================\n",
      "Total params: 65,201\n",
      "Trainable params: 65,201\n",
      "Non-trainable params: 0\n",
      "_________________________________________________________________\n",
      "None\n",
      "Model: \"model_1\"\n",
      "_________________________________________________________________\n",
      "Layer (type)                 Output Shape              Param #   \n",
      "=================================================================\n",
      "input_1 (InputLayer)         [(None, 500)]             0         \n",
      "_________________________________________________________________\n",
      "embedding (Embedding)        (None, 500, 50)           50000     \n",
      "_________________________________________________________________\n",
      "lstm (LSTM)                  (None, 100)               60400     \n",
      "_________________________________________________________________\n",
      "dense_1 (Dense)              (None, 1)                 101       \n",
      "=================================================================\n",
      "Total params: 110,501\n",
      "Trainable params: 110,501\n",
      "Non-trainable params: 0\n",
      "_________________________________________________________________\n",
      "None\n",
      "Model: \"model_2\"\n",
      "_________________________________________________________________\n",
      "Layer (type)                 Output Shape              Param #   \n",
      "=================================================================\n",
      "input_1 (InputLayer)         [(None, 500)]             0         \n",
      "_________________________________________________________________\n",
      "embedding (Embedding)        (None, 500, 50)           50000     \n",
      "_________________________________________________________________\n",
      "gru (GRU)                    (None, 100)               45600     \n",
      "_________________________________________________________________\n",
      "dense_2 (Dense)              (None, 1)                 101       \n",
      "=================================================================\n",
      "Total params: 95,701\n",
      "Trainable params: 95,701\n",
      "Non-trainable params: 0\n",
      "_________________________________________________________________\n",
      "None\n"
     ]
    }
   ],
   "source": [
    "from tensorflow.keras.layers import LSTM, GRU\n",
    "from tensorflow.keras.optimizers import Adam\n",
    "from tensorflow.keras.optimizers.schedules import ExponentialDecay\n",
    "\n",
    "# create LSTM\n",
    "x = LSTM(RNN_STATESIZE, dropout=0.2, recurrent_dropout=0.2)(shared_embed)\n",
    "x = Dense(NUM_CLASSES, activation='sigmoid')(x)\n",
    "lstm_model = Model(inputs=input_holder,outputs=x)\n",
    "\n",
    "# create GRU\n",
    "x = GRU(RNN_STATESIZE, dropout=0.2, recurrent_dropout=0.2)(shared_embed)\n",
    "x = Dense(NUM_CLASSES, activation='sigmoid')(x)\n",
    "gru_model = Model(inputs=input_holder,outputs=x)\n",
    "\n",
    "# lr_schedule = ExponentialDecay(\n",
    "#     initial_learning_rate=0.1,\n",
    "#     decay_steps=10000,\n",
    "#     decay_rate=0.95) \n",
    "\n",
    "opt = Adam(lr=0.0001, epsilon=0.0001, clipnorm=1.0)\n",
    "\n",
    "simple_rnn_model.compile(loss='binary_crossentropy', \n",
    "              optimizer= opt, \n",
    "              metrics=['accuracy'])\n",
    "\n",
    "lstm_model.compile(loss='binary_crossentropy', \n",
    "              optimizer= opt, \n",
    "              metrics=['accuracy'])\n",
    "\n",
    "gru_model.compile(loss='binary_crossentropy', \n",
    "              optimizer= opt, \n",
    "              metrics=['accuracy'])\n",
    "\n",
    "print(simple_rnn_model.summary())\n",
    "print(lstm_model.summary())\n",
    "print(gru_model.summary())\n"
   ]
  },
  {
   "cell_type": "code",
   "execution_count": 5,
   "metadata": {
    "collapsed": true
   },
   "outputs": [
    {
     "data": {
      "image/png": "[encoded data removed]",
      "text/plain": [
       "<IPython.core.display.Image object>"
      ]
     },
     "execution_count": 5,
     "metadata": {},
     "output_type": "execute_result"
    }
   ],
   "source": [
    "from tensorflow.keras.utils import plot_model\n",
    "\n",
    "# you will need to install pydot properly on your machine to get this running\n",
    "plot_model(\n",
    "    lstm_model, to_file='model.png', show_shapes=True, show_layer_names=True,\n",
    "    rankdir='LR', expand_nested=False, dpi=96\n",
    ")"
   ]
  },
  {
   "cell_type": "code",
   "execution_count": 6,
   "metadata": {
    "collapsed": true
   },
   "outputs": [
    {
     "name": "stdout",
     "output_type": "stream",
     "text": [
      "Train on 25000 samples, validate on 25000 samples\n",
      "Epoch 1/3\n",
      "25000/25000 [==============================] - 246s 10ms/sample - loss: 0.7162 - accuracy: 0.5032 - val_loss: 0.6961 - val_accuracy: 0.5017\n",
      "Epoch 2/3\n",
      "25000/25000 [==============================] - 244s 10ms/sample - loss: 0.7130 - accuracy: 0.4996 - val_loss: 0.6928 - val_accuracy: 0.5120\n",
      "Epoch 3/3\n",
      "25000/25000 [==============================] - 245s 10ms/sample - loss: 0.7075 - accuracy: 0.5064 - val_loss: 0.6923 - val_accuracy: 0.5165\n",
      "Train on 25000 samples, validate on 25000 samples\n",
      "Epoch 1/3\n",
      "25000/25000 [==============================] - 609s 24ms/sample - loss: 0.6923 - accuracy: 0.5310 - val_loss: 0.6909 - val_accuracy: 0.5660\n",
      "Epoch 2/3\n",
      "25000/25000 [==============================] - 611s 24ms/sample - loss: 0.6838 - accuracy: 0.5788 - val_loss: 0.6763 - val_accuracy: 0.6073\n",
      "Epoch 3/3\n",
      "25000/25000 [==============================] - 608s 24ms/sample - loss: 0.6577 - accuracy: 0.6342 - val_loss: 0.6259 - val_accuracy: 0.7017\n",
      "Train on 25000 samples, validate on 25000 samples\n",
      "Epoch 1/3\n",
      "25000/25000 [==============================] - 645s 26ms/sample - loss: 0.6680 - accuracy: 0.6124 - val_loss: 0.6573 - val_accuracy: 0.6486\n",
      "Epoch 2/3\n",
      "25000/25000 [==============================] - 642s 26ms/sample - loss: 0.5713 - accuracy: 0.7234 - val_loss: 0.6039 - val_accuracy: 0.6953\n",
      "Epoch 3/3\n",
      "25000/25000 [==============================] - 657s 26ms/sample - loss: 0.4982 - accuracy: 0.7674 - val_loss: 0.5727 - val_accuracy: 0.7153\n"
     ]
    },
    {
     "data": {
      "text/plain": [
       "<tensorflow.python.keras.callbacks.History at 0x7fe77c8ee290>"
      ]
     },
     "execution_count": 6,
     "metadata": {},
     "output_type": "execute_result"
    }
   ],
   "source": [
    "# takes about 2 hours to run\n",
    "simple_rnn_model.fit(X_train, y_train, epochs=3, batch_size=64, validation_data=(X_test, y_test))\n",
    "lstm_model.fit(X_train, y_train, epochs=3, batch_size=64, validation_data=(X_test, y_test))\n",
    "gru_model.fit(X_train, y_train, epochs=3, batch_size=64, validation_data=(X_test, y_test))"
   ]
  },
  {
   "cell_type": "code",
   "execution_count": 7,
   "metadata": {
    "collapsed": true
   },
   "outputs": [
    {
     "name": "stdout",
     "output_type": "stream",
     "text": [
      "Train on 25000 samples, validate on 25000 samples\n",
      "Epoch 1/3\n",
      "25000/25000 [==============================] - 244s 10ms/sample - loss: 0.7020 - accuracy: 0.5172 - val_loss: 0.6843 - val_accuracy: 0.5565\n",
      "Epoch 2/3\n",
      "25000/25000 [==============================] - 244s 10ms/sample - loss: 0.6996 - accuracy: 0.5235 - val_loss: 0.6821 - val_accuracy: 0.5795\n",
      "Epoch 3/3\n",
      "25000/25000 [==============================] - 250s 10ms/sample - loss: 0.6948 - accuracy: 0.5278 - val_loss: 0.6841 - val_accuracy: 0.5426\n",
      "Train on 25000 samples, validate on 25000 samples\n",
      "Epoch 1/3\n",
      "25000/25000 [==============================] - 605s 24ms/sample - loss: 0.5038 - accuracy: 0.7801 - val_loss: 0.4623 - val_accuracy: 0.7990\n",
      "Epoch 2/3\n",
      "25000/25000 [==============================] - 605s 24ms/sample - loss: 0.4548 - accuracy: 0.8014 - val_loss: 0.4145 - val_accuracy: 0.8173\n",
      "Epoch 3/3\n",
      "25000/25000 [==============================] - 603s 24ms/sample - loss: 0.4299 - accuracy: 0.8128 - val_loss: 0.3902 - val_accuracy: 0.8276\n",
      "Train on 25000 samples, validate on 25000 samples\n",
      "Epoch 1/3\n",
      "25000/25000 [==============================] - 650s 26ms/sample - loss: 0.4377 - accuracy: 0.8047 - val_loss: 0.5565 - val_accuracy: 0.7218\n",
      "Epoch 2/3\n",
      "25000/25000 [==============================] - 638s 26ms/sample - loss: 0.4273 - accuracy: 0.8115 - val_loss: 0.5551 - val_accuracy: 0.7225\n",
      "Epoch 3/3\n",
      "25000/25000 [==============================] - 637s 25ms/sample - loss: 0.4324 - accuracy: 0.8063 - val_loss: 0.5709 - val_accuracy: 0.7027\n"
     ]
    },
    {
     "data": {
      "text/plain": [
       "<tensorflow.python.keras.callbacks.History at 0x7fe77caeae90>"
      ]
     },
     "execution_count": 7,
     "metadata": {},
     "output_type": "execute_result"
    }
   ],
   "source": [
    "# takes about 2 hours to run\n",
    "simple_rnn_model.fit(X_train, y_train, epochs=3, batch_size=64, validation_data=(X_test, y_test))\n",
    "lstm_model.fit(X_train, y_train, epochs=3, batch_size=64, validation_data=(X_test, y_test))\n",
    "gru_model.fit(X_train, y_train, epochs=3, batch_size=64, validation_data=(X_test, y_test))"
   ]
  },
  {
   "cell_type": "code",
   "execution_count": 10,
   "metadata": {
    "collapsed": true
   },
   "outputs": [],
   "source": [
    "# this operation can take time \n",
    "yhat_rnn = simple_rnn_model.predict(X_test)\n",
    "yhat_lstm = lstm_model.predict(X_test)\n",
    "yhat_gru = gru_model.predict(X_test)"
   ]
  },
  {
   "cell_type": "code",
   "execution_count": 14,
   "metadata": {
    "collapsed": true
   },
   "outputs": [
    {
     "data": {
      "image/png": "[encoded data removed]",
      "text/plain": [
       "<Figure size 432x288 with 1 Axes>"
      ]
     },
     "metadata": {
      "needs_background": "light"
     },
     "output_type": "display_data"
    }
   ],
   "source": [
    "from sklearn import metrics as mt\n",
    "from matplotlib import pyplot as plt\n",
    "%matplotlib inline\n",
    "\n",
    "acc = [mt.accuracy_score(y_test,np.round(yhat_rnn)),\n",
    "       mt.accuracy_score(y_test,np.round(yhat_lstm)),\n",
    "       mt.accuracy_score(y_test,np.round(yhat_gru)),\n",
    "      ]\n",
    "\n",
    "plt.bar([1,2,3],acc)\n",
    "plt.xticks([1,2,3],['Simple','LSTM','GRU'])\n",
    "plt.show()"
   ]
  },
  {
   "cell_type": "markdown",
   "metadata": {},
   "source": [
    "_____\n",
    "\n",
    "# RNNs with Pre-processing in Keras\n",
    "\n",
    "## Moving to 20 Newsgroups\n",
    "So we should be able to convert a new dataset into the same format as above. Let's do this from scratch, converting the 20 news groups data. \n",
    "- http://qwone.com/~jason/20Newsgroups/\n",
    "\n",
    "We looked at this a while back when we created the tf-idf and bag-of-words models. This time, we are not going to get rid of the sequence of words for classification. "
   ]
  },
  {
   "cell_type": "code",
   "execution_count": 3,
   "metadata": {
    "collapsed": true
   },
   "outputs": [],
   "source": [
    "# convert 20 newsgroups into keras sequence format\n",
    "from sklearn.datasets import fetch_20newsgroups\n",
    "bunch = fetch_20newsgroups(subset='train', shuffle=True, random_state=42)"
   ]
  },
  {
   "cell_type": "code",
   "execution_count": 6,
   "metadata": {
    "collapsed": true
   },
   "outputs": [
    {
     "name": "stdout",
     "output_type": "stream",
     "text": [
      "--------Random Document---------\n",
      "================================\n",
      "Document Label:  talk.religion.misc\n",
      "================================\n",
      "From: lanphi872@moscow.uidaho.edu (Rob Lanphier)\n",
      "Subject: Re: A KIND and LOVING God!!\n",
      "Organization: University of Idaho\n",
      "Lines: 104\n",
      "Distribution: world\n",
      "NNTP-Posting-Host: snake.cs.uidaho.edu\n",
      "X-Newsreader: TIN [version 1.1 PL8]\n",
      "\n",
      "Malcolm Lee (mlee@post.RoyalRoads.ca) wrote:\n",
      ": I will clarify my earlier quote.  God's laws were originally written for \n",
      ": the Israelites.  Jesus changed that fact by now making the Law applicable to\n",
      ": all people, not just the Jews.  Gentiles could be part of the kingdom of\n",
      ": Heaven through the saving grace of God.  I never said that the Law was made\n",
      ": obsolete by Jesus.\n",
      "\n",
      "Just for reference, here's the earlier quote:\n",
      "Malcolm Lee (mlee@post.RoyalRoads.ca) wrote in reference to Leviticus 21:9\n",
      "and Deuteronomy 22:20-25:\n",
      ": These laws written for the Israelites, God's chosen people whom God had\n",
      ": expressly set apart from the rest of the world.  The Israelites were a\n",
      ": direct witness to God's existence.  To disobey God after KNOWing that God\n",
      ": is real would be an outright denial of God and therefore immediately\n",
      ": punishable.\n",
      ": Remember, these laws were written for a different time and applied only to\n",
      ": God's chosen people.  But Jesus has changed all of that.  We are living in\n",
      ": the age of grace.  Sin is no longer immediately punishable by death.  There\n",
      ": is repentance and there is salvation through our Lord Jesus Christ.  And\n",
      ": not just for a few chosen people.  Salvation is available to everyone, Jew\n",
      ": and Gentile alike.\n",
      "\n",
      "These are two conflicting statements.  To say one is a clarification of the\n",
      "other is a breach of logic.  I don't mind people shifting their position on\n",
      "an issue.  It irritates me when it is said under the premise that no change\n",
      "was made.  What about Deuteronomy 22:20-25?  Is it wrong now?  Did Jesus\n",
      "change that?\n",
      "\n",
      ": If anything, He clarified the Law such as in that quote you made.  In the\n",
      ": following verses, Jesus takes several portions of the Law and expounds upon\n",
      ": the Law giving clearer meaning to what God intended.\n",
      "\n",
      "Sure he does this.  However, he doesn't address the notion of stoning\n",
      "non-virgin brides, because this needs no clarification.  Are you going to\n",
      "deny that Deuteronomy 22:20-25 is not patently clear in its intent?\n",
      "\n",
      ": I think you will agree with me that there are in today's world, a lot of\n",
      ": modern-day Pharisees who know the bible from end to end but do not believe\n",
      ": in it.  What good is head knowledge if there is nothing in the heart?\n",
      "\n",
      "I'll agree that there is a lot of modern day Pharisees that know the Bible\n",
      "from end to end and don't believe in it.  Depending on how they use this\n",
      "knowledge, they can be scary.  They can argue any position they desire, and\n",
      "back it up with selected parts of the Bible.  Such Pharisees include David\n",
      "Koresh and Adolph Hitler.  I will qualify this by saying *I don't know* if\n",
      "they actually believed what they were preaching, but the ends certainly\n",
      "made the means look frightening.\n",
      "\n",
      "However, just as scary are those that don't know much of the Bible, but\n",
      "believe every word.  In fact, this is probably scarier, since there are far\n",
      "more of these people, from what I've seen.  In addition, they are very easy\n",
      "to manipulate by the aforementioned Pharisees, since they don't know enough\n",
      "to debate with these people.\n",
      "\n",
      ": Christianity is not just a set of rules; it's a lifestyle that changes one's\n",
      ": perspectives and personal conduct.  And it demands obedience to God's will.\n",
      "\n",
      "No, it demands obedience to a book.  If God came down and personally told\n",
      "me how I should behave, then I would say that I would be doing God's will\n",
      "by doing it.  However, if preachers, pastors, and evangelists tell me to\n",
      "obey the will of a book written by people who have been dead for close to\n",
      "two millenia (even longer for the OT), even if I follow everything in it\n",
      "with my heart, I could scarcely be honest with myself by saying I'm doing\n",
      "the will of God.\n",
      "\n",
      ": Some people can live by it, but many others cannot or will not.  That is\n",
      ": their choice and I have to respect it because God respects it too.\n",
      "\n",
      "Well, if God respects it so much, how come there is talk in the Bible about\n",
      "eternal damnation for non-believers?  I see little respect eminating from\n",
      "the god of the Bible.  I see a selfish and spiteful god.\n",
      "\n",
      ": God be with you,\n",
      "\n",
      "Not yours, thanks ;)\n",
      "\n",
      ": Malcolm Lee  :)\n",
      "\n",
      "Rob Lanphier\n",
      "lanphi872@snake.cs.uidaho.edu\n",
      "lanph872@uidaho.edu\n",
      "\n",
      "And for the curious, here is my earlier post:\n",
      "> Hmm, for a book that only applied to the Israelites (Deuteronomy), Jesus sure\n",
      "> quoted it a lot (Mt 4: 4,7,10).  In addition, he alludes to it in several\n",
      "> other places (Mt 19:7-8; Mk 10:3-5; Jn 5:46-47).  And, just in case it isn't\n",
      "> clear Jesus thought the Old Testament isn't obsolete, I'll repeat the\n",
      "> verse in Matthew which gets quoted on this group a lot:\n",
      "> \n",
      "> \"Do not think that I have come to abolish the Law or the Prophets; I have\n",
      "> not come to abolish them but to fulfill them.  I tell you the truth, until\n",
      "> heaven and earth disappear, not the smallest letter, not the least stroke\n",
      "> of a pen, will by any means disappear from the Law until everything is\n",
      "> accomplished.  Anyone who breaks one of the least of these commandments\n",
      "> and teaches others to do the same will be called least in the kingdom of\n",
      "> heaven, but whoever practices and teaches these commands will be called\n",
      "> great in the kingdom of heaven.  For I tell you that unless your\n",
      "> righteousness surpasses that of the Pharisees and the teachers of the law,\n",
      "> you will certainly not enter the kingdom of heaven.\"  (Mt 5:17-20 NIV, in\n",
      "> pretty red letters, so that you know it's Jesus talking)\n",
      " \n",
      "> This causes a serious dilemma for Christians who think the Old Testament\n",
      "> doesn't apply to them.  I think that's why Paul Harvey likes quoting it so\n",
      "> much ;).\n",
      "\n"
     ]
    }
   ],
   "source": [
    "import numpy as np\n",
    "\n",
    "# display a random document and label\n",
    "idx = round(np.random.rand()*len(bunch.data))\n",
    "print('--------Random Document---------')\n",
    "print('================================')\n",
    "print('Document Label: ',bunch.target_names[bunch.target[idx]])\n",
    "print('================================')\n",
    "print(\"\\n\".join(bunch.data[idx].split(\"\\n\")))"
   ]
  },
  {
   "cell_type": "code",
   "execution_count": 3,
   "metadata": {
    "collapsed": true
   },
   "outputs": [
    {
     "name": "stdout",
     "output_type": "stream",
     "text": [
      "Found 134142 unique tokens. Distilled to 134142 top words.\n",
      "Shape of data tensor: (11314, 1000)\n",
      "Shape of label tensor: (11314, 20)\n",
      "134142\n",
      "CPU times: user 4.77 s, sys: 577 ms, total: 5.35 s\n",
      "Wall time: 6.26 s\n"
     ]
    }
   ],
   "source": [
    "%%time\n",
    "from tensorflow import keras\n",
    "from tensorflow.keras.preprocessing.text import Tokenizer\n",
    "from tensorflow.keras.preprocessing.sequence import pad_sequences\n",
    "\n",
    "NUM_TOP_WORDS = None # use entire vocabulary!\n",
    "MAX_ART_LEN = 1000 # maximum and minimum number of words\n",
    "\n",
    "#tokenize the text\n",
    "tokenizer = Tokenizer(num_words=NUM_TOP_WORDS)\n",
    "tokenizer.fit_on_texts(bunch.data)\n",
    "# save as sequences with integers replacing words\n",
    "sequences = tokenizer.texts_to_sequences(bunch.data)\n",
    "\n",
    "word_index = tokenizer.word_index\n",
    "NUM_TOP_WORDS = len(word_index) if NUM_TOP_WORDS==None else NUM_TOP_WORDS\n",
    "top_words = min((len(word_index),NUM_TOP_WORDS))\n",
    "print('Found %s unique tokens. Distilled to %d top words.' % (len(word_index),top_words))\n",
    "\n",
    "X = pad_sequences(sequences, maxlen=MAX_ART_LEN)\n",
    "\n",
    "y_ohe = keras.utils.to_categorical(bunch.target)\n",
    "print('Shape of data tensor:', X.shape)\n",
    "print('Shape of label tensor:', y_ohe.shape)\n",
    "print(np.max(X))"
   ]
  },
  {
   "cell_type": "markdown",
   "metadata": {},
   "source": [
    "So that's it! The representation is now:\n",
    "- each word is converted to an integer \n",
    "- each article is a series of integers that represent the correct ordering of words\n",
    "- the target is one hot encoded\n",
    "\n",
    "___"
   ]
  },
  {
   "cell_type": "code",
   "execution_count": 13,
   "metadata": {
    "collapsed": true
   },
   "outputs": [
    {
     "name": "stdout",
     "output_type": "stream",
     "text": [
      "X_train Shape: (9051, 1000) Label Shape: (9051, 20)\n"
     ]
    },
    {
     "data": {
      "image/png": "[encoded data removed]",
      "text/plain": [
       "<Figure size 432x288 with 1 Axes>"
      ]
     },
     "metadata": {
      "needs_background": "light"
     },
     "output_type": "display_data"
    }
   ],
   "source": [
    "from sklearn.model_selection import train_test_split\n",
    "from sklearn import metrics as mt\n",
    "from matplotlib import pyplot as plt\n",
    "%matplotlib inline\n",
    "\n",
    "# Split it into train / test subsets\n",
    "X_train, X_test, y_train_ohe, y_test_ohe = train_test_split(X, y_ohe, test_size=0.2,\n",
    "                                                            stratify=bunch.target, \n",
    "                                                            random_state=42)\n",
    "NUM_CLASSES = 20\n",
    "\n",
    "# print some stats of the data\n",
    "print(\"X_train Shape:\",X_train.shape, \"Label Shape:\", y_train_ohe.shape)\n",
    "uniq_classes = np.sum(y_train_ohe,axis=0)\n",
    "plt.bar(list(range(20)),uniq_classes)\n",
    "plt.xticks(list(range(20)), bunch.target_names, rotation='vertical')\n",
    "plt.ylabel(\"Number of Instances in Each Class\")\n",
    "plt.show()"
   ]
  },
  {
   "cell_type": "markdown",
   "metadata": {},
   "source": [
    "## Loading the embedding\n",
    "But this is going to be a more involved process. Maybe we can speed up the training by loading up a pre-trained embedding of the words?! Recall that the GloVe embedding uses pre-trained word embeddings in order to group contextually similar words together. \n",
    "\n",
    "A number of versions of the GloVe embedding matrix are pre-trained using various document. Let's use a version trained from 6B different documents from wikipedia (this is actually one of the smaller datasets trained upon--so the vocabulary might be a bit limited).\n",
    "\n",
    "Let's use the GloVe word embedding in keras. We will follow the example at:\n",
    "- https://blog.keras.io/using-pre-trained-word-embeddings-in-a-keras-model.html\n",
    "\n",
    "You can download the nearly 1GB pretrained embeddings here:\n",
    "- http://nlp.stanford.edu/data/glove.6B.zip\n",
    "\n",
    "Let's take a quick look at the format of the file:"
   ]
  },
  {
   "cell_type": "code",
   "execution_count": 5,
   "metadata": {
    "collapsed": true
   },
   "outputs": [
    {
     "name": "stdout",
     "output_type": "stream",
     "text": [
      "\u001b[34m.\u001b[m\u001b[m                 glove.6B.100d.txt glove.6B.300d.txt\r\n",
      "\u001b[34m..\u001b[m\u001b[m                glove.6B.200d.txt glove.6B.50d.txt\r\n"
     ]
    }
   ],
   "source": [
    "!ls -a \"large_data/glove/\" "
   ]
  },
  {
   "cell_type": "code",
   "execution_count": 6,
   "metadata": {
    "collapsed": true
   },
   "outputs": [
    {
     "name": "stdout",
     "output_type": "stream",
     "text": [
      "the 0.418 0.24968 -0.41242 0.1217 0.34527 -0.044457 -0.49688 -0.17862 -0.00066023 -0.6566 0.27843 -0.14767 -0.55677 0.14658 -0.0095095 0.011658 0.10204 -0.12792 -0.8443 -0.12181 -0.016801 -0.33279 -0.1552 -0.23131 -0.19181 -1.8823 -0.76746 0.099051 -0.42125 -0.19526 4.0071 -0.18594 -0.52287 -0.31681 0.00059213 0.0074449 0.17778 -0.15897 0.012041 -0.054223 -0.29871 -0.15749 -0.34758 -0.045637 -0.44251 0.18785 0.0027849 -0.18411 -0.11514 -0.78581\r\n",
      ", 0.013441 0.23682 -0.16899 0.40951 0.63812 0.47709 -0.42852 -0.55641 -0.364 -0.23938 0.13001 -0.063734 -0.39575 -0.48162 0.23291 0.090201 -0.13324 0.078639 -0.41634 -0.15428 0.10068 0.48891 0.31226 -0.1252 -0.037512 -1.5179 0.12612 -0.02442 -0.042961 -0.28351 3.5416 -0.11956 -0.014533 -0.1499 0.21864 -0.33412 -0.13872 0.31806 0.70358 0.44858 -0.080262 0.63003 0.32111 -0.46765 0.22786 0.36034 -0.37818 -0.56657 0.044691 0.30392\r\n",
      ". 0.15164 0.30177 -0.16763 0.17684 0.31719 0.33973 -0.43478 -0.31086 -0.44999 -0.29486 0.16608 0.11963 -0.41328 -0.42353 0.59868 0.28825 -0.11547 -0.041848 -0.67989 -0.25063 0.18472 0.086876 0.46582 0.015035 0.043474 -1.4671 -0.30384 -0.023441 0.30589 -0.21785 3.746 0.0042284 -0.18436 -0.46209 0.098329 -0.11907 0.23919 0.1161 0.41705 0.056763 -6.3681e-05 0.068987 0.087939 -0.10285 -0.13931 0.22314 -0.080803 -0.35652 0.016413 0.10216\r\n",
      "of 0.70853 0.57088 -0.4716 0.18048 0.54449 0.72603 0.18157 -0.52393 0.10381 -0.17566 0.078852 -0.36216 -0.11829 -0.83336 0.11917 -0.16605 0.061555 -0.012719 -0.56623 0.013616 0.22851 -0.14396 -0.067549 -0.38157 -0.23698 -1.7037 -0.86692 -0.26704 -0.2589 0.1767 3.8676 -0.1613 -0.13273 -0.68881 0.18444 0.0052464 -0.33874 -0.078956 0.24185 0.36576 -0.34727 0.28483 0.075693 -0.062178 -0.38988 0.22902 -0.21617 -0.22562 -0.093918 -0.80375\r\n",
      "to 0.68047 -0.039263 0.30186 -0.17792 0.42962 0.032246 -0.41376 0.13228 -0.29847 -0.085253 0.17118 0.22419 -0.10046 -0.43653 0.33418 0.67846 0.057204 -0.34448 -0.42785 -0.43275 0.55963 0.10032 0.18677 -0.26854 0.037334 -2.0932 0.22171 -0.39868 0.20912 -0.55725 3.8826 0.47466 -0.95658 -0.37788 0.20869 -0.32752 0.12751 0.088359 0.16351 -0.21634 -0.094375 0.018324 0.21048 -0.03088 -0.19722 0.082279 -0.09434 -0.073297 -0.064699 -0.26044\r\n",
      "and 0.26818 0.14346 -0.27877 0.016257 0.11384 0.69923 -0.51332 -0.47368 -0.33075 -0.13834 0.2702 0.30938 -0.45012 -0.4127 -0.09932 0.038085 0.029749 0.10076 -0.25058 -0.51818 0.34558 0.44922 0.48791 -0.080866 -0.10121 -1.3777 -0.10866 -0.23201 0.012839 -0.46508 3.8463 0.31362 0.13643 -0.52244 0.3302 0.33707 -0.35601 0.32431 0.12041 0.3512 -0.069043 0.36885 0.25168 -0.24517 0.25381 0.1367 -0.31178 -0.6321 -0.25028 -0.38097\r\n",
      "in 0.33042 0.24995 -0.60874 0.10923 0.036372 0.151 -0.55083 -0.074239 -0.092307 -0.32821 0.09598 -0.82269 -0.36717 -0.67009 0.42909 0.016496 -0.23573 0.12864 -1.0953 0.43334 0.57067 -0.1036 0.20422 0.078308 -0.42795 -1.7984 -0.27865 0.11954 -0.12689 0.031744 3.8631 -0.17786 -0.082434 -0.62698 0.26497 -0.057185 -0.073521 0.46103 0.30862 0.12498 -0.48609 -0.0080272 0.031184 -0.36576 -0.42699 0.42164 -0.11666 -0.50703 -0.027273 -0.53285\r\n",
      "a 0.21705 0.46515 -0.46757 0.10082 1.0135 0.74845 -0.53104 -0.26256 0.16812 0.13182 -0.24909 -0.44185 -0.21739 0.51004 0.13448 -0.43141 -0.03123 0.20674 -0.78138 -0.20148 -0.097401 0.16088 -0.61836 -0.18504 -0.12461 -2.2526 -0.22321 0.5043 0.32257 0.15313 3.9636 -0.71365 -0.67012 0.28388 0.21738 0.14433 0.25926 0.23434 0.4274 -0.44451 0.13813 0.36973 -0.64289 0.024142 -0.039315 -0.26037 0.12017 -0.043782 0.41013 0.1796\r\n",
      "\" 0.25769 0.45629 -0.76974 -0.37679 0.59272 -0.063527 0.20545 -0.57385 -0.29009 -0.13662 0.32728 1.4719 -0.73681 -0.12036 0.71354 -0.46098 0.65248 0.48887 -0.51558 0.039951 -0.34307 -0.014087 0.86488 0.3546 0.7999 -1.4995 -1.8153 0.41128 0.23921 -0.43139 3.6623 -0.79834 -0.54538 0.16943 -0.82017 -0.3461 0.69495 -1.2256 -0.17992 -0.057474 0.030498 -0.39543 -0.38515 -1.0002 0.087599 -0.31009 -0.34677 -0.31438 0.75004 0.97065\r\n",
      "'s 0.23727 0.40478 -0.20547 0.58805 0.65533 0.32867 -0.81964 -0.23236 0.27428 0.24265 0.054992 0.16296 -1.2555 -0.086437 0.44536 0.096561 -0.16519 0.058378 -0.38598 0.086977 0.0033869 0.55095 -0.77697 -0.62096 0.092948 -2.5685 -0.67739 0.10151 -0.48643 -0.057805 3.1859 -0.017554 -0.16138 0.055486 -0.25885 -0.33938 -0.19928 0.26049 0.10478 -0.55934 -0.12342 0.65961 -0.51802 -0.82995 -0.082739 0.28155 -0.423 -0.27378 -0.007901 -0.030231\r\n"
     ]
    }
   ],
   "source": [
    "!head \"large_data/glove/glove.6B.50d.txt\""
   ]
  },
  {
   "cell_type": "code",
   "execution_count": 7,
   "metadata": {
    "collapsed": true
   },
   "outputs": [
    {
     "name": "stdout",
     "output_type": "stream",
     "text": [
      "Found 400000 word vectors.\n",
      "Embedding Shape: (134143, 100) \n",
      " Total words found: 56914 \n",
      " Percentage: 42.427856839343086\n",
      "CPU times: user 7.28 s, sys: 229 ms, total: 7.51 s\n",
      "Wall time: 7.54 s\n"
     ]
    }
   ],
   "source": [
    "%%time\n",
    "EMBED_SIZE = 100\n",
    "# the embed size should match the file you load glove from\n",
    "embeddings_index = {}\n",
    "f = open('large_data/glove/glove.6B.100d.txt')\n",
    "# save key/array pairs of the embeddings\n",
    "#  the key of the dictionary is the word, the array is the embedding\n",
    "for line in f:\n",
    "    values = line.split()\n",
    "    word = values[0]\n",
    "    coefs = np.asarray(values[1:], dtype='float32')\n",
    "    embeddings_index[word] = coefs\n",
    "f.close()\n",
    "\n",
    "print('Found %s word vectors.' % len(embeddings_index))\n",
    "\n",
    "# now fill in the matrix, using the ordering from the\n",
    "#  keras word tokenizer from before\n",
    "found_words = 0\n",
    "embedding_matrix = np.zeros((len(word_index) + 1, EMBED_SIZE))\n",
    "for word, i in word_index.items():\n",
    "    embedding_vector = embeddings_index.get(word)\n",
    "    if embedding_vector is not None:\n",
    "        # words not found in embedding index will be ALL-ZEROS\n",
    "        embedding_matrix[i] = embedding_vector\n",
    "        found_words = found_words+1\n",
    "\n",
    "print(\"Embedding Shape:\",embedding_matrix.shape, \"\\n\",\n",
    "      \"Total words found:\",found_words, \"\\n\",\n",
    "      \"Percentage:\",100*found_words/embedding_matrix.shape[0])"
   ]
  },
  {
   "cell_type": "code",
   "execution_count": 8,
   "metadata": {
    "collapsed": true
   },
   "outputs": [],
   "source": [
    "from tensorflow.keras.layers import Embedding\n",
    "\n",
    "# save this embedding now\n",
    "embedding_layer = Embedding(len(word_index) + 1,\n",
    "                            EMBED_SIZE,\n",
    "                            weights=[embedding_matrix],# here is the embedding getting saved\n",
    "                            input_length=MAX_ART_LEN,\n",
    "                            trainable=False)"
   ]
  },
  {
   "cell_type": "code",
   "execution_count": 34,
   "metadata": {
    "collapsed": true
   },
   "outputs": [
    {
     "name": "stdout",
     "output_type": "stream",
     "text": [
      "Model: \"sequential\"\n",
      "_________________________________________________________________\n",
      "Layer (type)                 Output Shape              Param #   \n",
      "=================================================================\n",
      "embedding_1 (Embedding)      (None, 1000, 100)         13414300  \n",
      "_________________________________________________________________\n",
      "lstm_1 (LSTM)                (None, 100)               80400     \n",
      "_________________________________________________________________\n",
      "dense_3 (Dense)              (None, 20)                2020      \n",
      "=================================================================\n",
      "Total params: 13,496,720\n",
      "Trainable params: 82,420\n",
      "Non-trainable params: 13,414,300\n",
      "_________________________________________________________________\n",
      "None\n"
     ]
    }
   ],
   "source": [
    "from tensorflow.keras.models import Sequential\n",
    "from tensorflow.keras.layers import Dense\n",
    "from tensorflow.keras.layers import LSTM\n",
    "\n",
    "rnn = Sequential()\n",
    "rnn.add(embedding_layer)\n",
    "rnn.add(LSTM(100,dropout=0.2, recurrent_dropout=0.2))\n",
    "rnn.add(Dense(NUM_CLASSES, activation='sigmoid'))\n",
    "rnn.compile(loss='categorical_crossentropy', \n",
    "              optimizer='rmsprop', \n",
    "              metrics=['accuracy'])\n",
    "print(rnn.summary())\n"
   ]
  },
  {
   "cell_type": "code",
   "execution_count": 35,
   "metadata": {
    "collapsed": true
   },
   "outputs": [
    {
     "name": "stdout",
     "output_type": "stream",
     "text": [
      "Train on 9051 samples, validate on 2263 samples\n",
      "Epoch 1/6\n",
      "9051/9051 [==============================] - 363s 40ms/sample - loss: 2.8493 - accuracy: 0.1138 - val_loss: 2.6135 - val_accuracy: 0.1578\n",
      "Epoch 2/6\n",
      "9051/9051 [==============================] - 357s 39ms/sample - loss: 2.6393 - accuracy: 0.1505 - val_loss: 2.5079 - val_accuracy: 0.1648\n",
      "Epoch 3/6\n",
      "9051/9051 [==============================] - 358s 40ms/sample - loss: 2.5182 - accuracy: 0.1632 - val_loss: 2.4845 - val_accuracy: 0.1829\n",
      "Epoch 4/6\n",
      "9051/9051 [==============================] - 347s 38ms/sample - loss: 2.3814 - accuracy: 0.1921 - val_loss: 2.2054 - val_accuracy: 0.2205\n",
      "Epoch 5/6\n",
      "9051/9051 [==============================] - 363s 40ms/sample - loss: 2.2085 - accuracy: 0.2432 - val_loss: 2.0055 - val_accuracy: 0.2965\n",
      "Epoch 6/6\n",
      "9051/9051 [==============================] - 382s 42ms/sample - loss: 2.0587 - accuracy: 0.2943 - val_loss: 1.8944 - val_accuracy: 0.3305\n"
     ]
    }
   ],
   "source": [
    "history = []\n",
    "tmp = rnn.fit(X_train, y_train_ohe, validation_data=(X_test, y_test_ohe), epochs=6, batch_size=64)\n",
    "history.append( tmp )"
   ]
  },
  {
   "cell_type": "code",
   "execution_count": 36,
   "metadata": {
    "collapsed": true
   },
   "outputs": [
    {
     "name": "stdout",
     "output_type": "stream",
     "text": [
      "Train on 9051 samples, validate on 2263 samples\n",
      "Epoch 1/6\n",
      "9051/9051 [==============================] - 380s 42ms/sample - loss: 1.9154 - accuracy: 0.3324 - val_loss: 1.7110 - val_accuracy: 0.3955\n",
      "Epoch 2/6\n",
      "9051/9051 [==============================] - 381s 42ms/sample - loss: 1.7238 - accuracy: 0.4002 - val_loss: 1.4770 - val_accuracy: 0.4887\n",
      "Epoch 3/6\n",
      "9051/9051 [==============================] - 358s 40ms/sample - loss: 1.5282 - accuracy: 0.4736 - val_loss: 1.3275 - val_accuracy: 0.5369\n",
      "Epoch 4/6\n",
      "9051/9051 [==============================] - 348s 38ms/sample - loss: 1.3424 - accuracy: 0.5435 - val_loss: 1.1766 - val_accuracy: 0.6186\n",
      "Epoch 5/6\n",
      "9051/9051 [==============================] - 345s 38ms/sample - loss: 1.2069 - accuracy: 0.5905 - val_loss: 1.0639 - val_accuracy: 0.6403\n",
      "Epoch 6/6\n",
      "9051/9051 [==============================] - 347s 38ms/sample - loss: 1.0899 - accuracy: 0.6358 - val_loss: 0.9566 - val_accuracy: 0.6911\n"
     ]
    }
   ],
   "source": [
    "# let's extend the training by a number of epochs\n",
    "tmp = rnn.fit(X_train, y_train_ohe, validation_data=(X_test, y_test_ohe), epochs=6, batch_size=64)\n",
    "history.append( tmp )"
   ]
  },
  {
   "cell_type": "code",
   "execution_count": 43,
   "metadata": {
    "collapsed": true
   },
   "outputs": [
    {
     "data": {
      "image/png": "[encoded data removed]",
      "text/plain": [
       "<Figure size 1080x360 with 2 Axes>"
      ]
     },
     "metadata": {
      "needs_background": "light"
     },
     "output_type": "display_data"
    }
   ],
   "source": [
    "# combine all the history from training together\n",
    "combined = dict()\n",
    "for key in ['accuracy','val_accuracy','loss','val_loss']:\n",
    "    combined[key] = np.hstack([x.history[key] for x in history])\n",
    "    \n",
    "# summarize history for accuracy\n",
    "plt.figure(figsize=(15,5))\n",
    "plt.subplot(121)\n",
    "plt.plot(combined['accuracy'])\n",
    "plt.plot(combined['val_accuracy'])\n",
    "plt.title('model accuracy')\n",
    "plt.ylabel('accuracy')\n",
    "plt.xlabel('epoch')\n",
    "plt.legend(['train', 'test'], loc='upper left')\n",
    "\n",
    "# summarize history for loss\n",
    "plt.subplot(122)\n",
    "plt.plot(combined['loss'])\n",
    "plt.plot(combined['val_loss'])\n",
    "plt.title('model loss')\n",
    "plt.ylabel('loss')\n",
    "plt.xlabel('epoch')\n",
    "plt.legend(['train', 'test'], loc='upper left')\n",
    "plt.show()"
   ]
  },
  {
   "cell_type": "markdown",
   "metadata": {},
   "source": [
    "Are these converged? No! Not even close!!! We need to run these for many more epochs. \n",
    "\n",
    "## [Back to Slides]\n",
    "\n",
    "# From Recurrent back to Convolutional\n",
    "Since all the sequences are now the same length, it is possible to construct a convolutional network on top of the embedded sequence outputs. Once embedded, there really is not too much difference in representation about the data and an image (though the data clearly has a different intuition). We will follow these steps:\n",
    "- use an embedding layer to translate to a dense representation of the entire sequence\n",
    "- train 1D filters to convolve with the output of the embedded sequence\n",
    " - note: 1D filters doesn't mean they are only one dimension, it means the filters are looped through in a single dimension. The size of the filter is [`kernel_size x embed_size`]. It loops through the entire embedding, over a number of words at a time.\n"
   ]
  },
  {
   "cell_type": "code",
   "execution_count": 9,
   "metadata": {
    "collapsed": true
   },
   "outputs": [
    {
     "name": "stdout",
     "output_type": "stream",
     "text": [
      "Model: \"model\"\n",
      "_________________________________________________________________\n",
      "Layer (type)                 Output Shape              Param #   \n",
      "=================================================================\n",
      "input_1 (InputLayer)         [(None, 1000)]            0         \n",
      "_________________________________________________________________\n",
      "embedding (Embedding)        (None, 1000, 100)         13414300  \n",
      "_________________________________________________________________\n",
      "conv1d (Conv1D)              (None, 996, 128)          64128     \n",
      "_________________________________________________________________\n",
      "dropout (Dropout)            (None, 996, 128)          0         \n",
      "_________________________________________________________________\n",
      "max_pooling1d (MaxPooling1D) (None, 199, 128)          0         \n",
      "_________________________________________________________________\n",
      "dropout_1 (Dropout)          (None, 199, 128)          0         \n",
      "_________________________________________________________________\n",
      "conv1d_1 (Conv1D)            (None, 195, 128)          82048     \n",
      "_________________________________________________________________\n",
      "max_pooling1d_1 (MaxPooling1 (None, 39, 128)           0         \n",
      "_________________________________________________________________\n",
      "dropout_2 (Dropout)          (None, 39, 128)           0         \n",
      "_________________________________________________________________\n",
      "conv1d_2 (Conv1D)            (None, 35, 128)           82048     \n",
      "_________________________________________________________________\n",
      "max_pooling1d_2 (MaxPooling1 (None, 1, 128)            0         \n",
      "_________________________________________________________________\n",
      "flatten (Flatten)            (None, 128)               0         \n",
      "_________________________________________________________________\n",
      "dropout_3 (Dropout)          (None, 128)               0         \n",
      "_________________________________________________________________\n",
      "dense (Dense)                (None, 128)               16512     \n",
      "_________________________________________________________________\n",
      "dense_1 (Dense)              (None, 20)                2580      \n",
      "=================================================================\n",
      "Total params: 13,661,616\n",
      "Trainable params: 247,316\n",
      "Non-trainable params: 13,414,300\n",
      "_________________________________________________________________\n",
      "None\n",
      "Train on 9051 samples, validate on 2263 samples\n",
      "Epoch 1/2\n",
      "9051/9051 [==============================] - 81s 9ms/sample - loss: 3.0401 - acc: 0.0863 - val_loss: 2.6299 - val_acc: 0.1670\n",
      "Epoch 2/2\n",
      "9051/9051 [==============================] - 76s 8ms/sample - loss: 2.4299 - acc: 0.1999 - val_loss: 2.1595 - val_acc: 0.2766\n"
     ]
    }
   ],
   "source": [
    "# but wait, if we are just making the sequences of this all the same size\n",
    "#  can't we just use a 1-D convolutional network? \n",
    "\n",
    "from tensorflow.keras.models import Model\n",
    "from tensorflow.keras.layers import Conv1D, MaxPooling1D, Flatten, Dense\n",
    "from tensorflow.keras.layers import Dense, Input, Dropout\n",
    "from tensorflow.keras.layers import Embedding\n",
    "\n",
    "EMBED_SIZE = 100 \n",
    "sequence_input = Input(shape=(MAX_ART_LEN,), dtype='int32')\n",
    "# starting size: 1000\n",
    "embedded_sequences = embedding_layer(sequence_input) # from previous embedding\n",
    "x = Conv1D(128, 5, activation='relu',\n",
    "           kernel_initializer='he_uniform')(embedded_sequences)\n",
    "\n",
    "# after conv, size becomes: 1000-4=996\n",
    "x = Dropout(0.05)(x)\n",
    "x = MaxPooling1D(5)(x)# after max pool, 996/5 = 199\n",
    "x = Dropout(0.15)(x)\n",
    "x = Conv1D(128, 5, activation='relu',\n",
    "           kernel_initializer='he_uniform')(x)\n",
    "\n",
    "# new size is 195\n",
    "x = MaxPooling1D(5)(x) # after max pool, size is 195/5 = 39\n",
    "x = Dropout(0.2)(x)\n",
    "x = Conv1D(128, 5, activation='relu',\n",
    "           kernel_initializer='he_uniform')(x)\n",
    "\n",
    "# after convolution, size becomes 35 elements long\n",
    "x = MaxPooling1D(35)(x) # this is the size to globally flatten \n",
    "# flattened vector max pools across each of the 35 elements\n",
    "# so vectors is now 128 dimensions (same as num output filters)\n",
    "x = Flatten()(x)\n",
    "x = Dropout(0.25)(x)\n",
    "x = Dense(128, activation='relu',\n",
    "          kernel_initializer='he_uniform')(x)\n",
    "\n",
    "preds = Dense(NUM_CLASSES, activation='softmax',\n",
    "              kernel_initializer='glorot_uniform')(x)\n",
    "\n",
    "model = Model(sequence_input, preds)\n",
    "model.compile(loss='categorical_crossentropy',\n",
    "              optimizer='rmsprop',\n",
    "              metrics=['acc'])\n",
    "\n",
    "print(model.summary())\n",
    "histories = []\n",
    "tmp = model.fit(X_train, y_train_ohe, validation_data=(X_test, y_test_ohe),\n",
    "          epochs=2, batch_size=128)\n",
    "histories.append(tmp)"
   ]
  },
  {
   "cell_type": "code",
   "execution_count": 10,
   "metadata": {
    "collapsed": true
   },
   "outputs": [
    {
     "name": "stdout",
     "output_type": "stream",
     "text": [
      "Train on 9051 samples, validate on 2263 samples\n",
      "Epoch 1/10\n",
      "9051/9051 [==============================] - 74s 8ms/sample - loss: 1.9841 - acc: 0.3192 - val_loss: 1.6240 - val_acc: 0.4719\n",
      "Epoch 2/10\n",
      "9051/9051 [==============================] - 74s 8ms/sample - loss: 1.6381 - acc: 0.4341 - val_loss: 1.4983 - val_acc: 0.4613\n",
      "Epoch 3/10\n",
      "9051/9051 [==============================] - 74s 8ms/sample - loss: 1.3915 - acc: 0.5127 - val_loss: 1.2825 - val_acc: 0.5449\n",
      "Epoch 4/10\n",
      "9051/9051 [==============================] - 75s 8ms/sample - loss: 1.2228 - acc: 0.5736 - val_loss: 1.1901 - val_acc: 0.5833\n",
      "Epoch 5/10\n",
      "9051/9051 [==============================] - 74s 8ms/sample - loss: 1.0899 - acc: 0.6211 - val_loss: 0.9687 - val_acc: 0.6712\n",
      "Epoch 6/10\n",
      "9051/9051 [==============================] - 74s 8ms/sample - loss: 0.9510 - acc: 0.6695 - val_loss: 1.0514 - val_acc: 0.6270\n",
      "Epoch 7/10\n",
      "9051/9051 [==============================] - 74s 8ms/sample - loss: 0.8733 - acc: 0.6967 - val_loss: 0.9065 - val_acc: 0.6977\n",
      "Epoch 8/10\n",
      "9051/9051 [==============================] - 74s 8ms/sample - loss: 0.7789 - acc: 0.7334 - val_loss: 0.9630 - val_acc: 0.6677\n",
      "Epoch 9/10\n",
      "9051/9051 [==============================] - 74s 8ms/sample - loss: 0.6970 - acc: 0.7618 - val_loss: 0.8464 - val_acc: 0.7114\n",
      "Epoch 10/10\n",
      "9051/9051 [==============================] - 74s 8ms/sample - loss: 0.6220 - acc: 0.7850 - val_loss: 0.7328 - val_acc: 0.7631\n"
     ]
    }
   ],
   "source": [
    "tmp = model.fit(X_train, y_train_ohe, validation_data=(X_test, y_test_ohe),\n",
    "          epochs=10, batch_size=128)\n",
    "histories.append(tmp)"
   ]
  },
  {
   "cell_type": "code",
   "execution_count": 11,
   "metadata": {
    "collapsed": true
   },
   "outputs": [
    {
     "name": "stdout",
     "output_type": "stream",
     "text": [
      "Train on 9051 samples, validate on 2263 samples\n",
      "Epoch 1/10\n",
      "9051/9051 [==============================] - 74s 8ms/sample - loss: 0.5751 - acc: 0.8027 - val_loss: 0.8596 - val_acc: 0.7278\n",
      "Epoch 2/10\n",
      "9051/9051 [==============================] - 74s 8ms/sample - loss: 0.5151 - acc: 0.8230 - val_loss: 0.7820 - val_acc: 0.7521\n",
      "Epoch 3/10\n",
      "9051/9051 [==============================] - 74s 8ms/sample - loss: 0.4766 - acc: 0.8398 - val_loss: 0.6707 - val_acc: 0.7905\n",
      "Epoch 4/10\n",
      "9051/9051 [==============================] - 74s 8ms/sample - loss: 0.4235 - acc: 0.8565 - val_loss: 0.7614 - val_acc: 0.7698\n",
      "Epoch 5/10\n",
      "9051/9051 [==============================] - 74s 8ms/sample - loss: 0.3922 - acc: 0.8640 - val_loss: 0.6525 - val_acc: 0.7928\n",
      "Epoch 6/10\n",
      "9051/9051 [==============================] - 74s 8ms/sample - loss: 0.3573 - acc: 0.8778 - val_loss: 0.7147 - val_acc: 0.7795\n",
      "Epoch 7/10\n",
      "9051/9051 [==============================] - 75s 8ms/sample - loss: 0.3359 - acc: 0.8852 - val_loss: 0.6493 - val_acc: 0.8020\n",
      "Epoch 8/10\n",
      "9051/9051 [==============================] - 75s 8ms/sample - loss: 0.2847 - acc: 0.9009 - val_loss: 0.6356 - val_acc: 0.8202\n",
      "Epoch 9/10\n",
      "9051/9051 [==============================] - 75s 8ms/sample - loss: 0.2848 - acc: 0.9055 - val_loss: 0.6622 - val_acc: 0.8153\n",
      "Epoch 10/10\n",
      "9051/9051 [==============================] - 75s 8ms/sample - loss: 0.2487 - acc: 0.9205 - val_loss: 0.7026 - val_acc: 0.8011\n"
     ]
    }
   ],
   "source": [
    "tmp = model.fit(X_train, y_train_ohe, validation_data=(X_test, y_test_ohe),\n",
    "          epochs=10, batch_size=128)\n",
    "histories.append(tmp)"
   ]
  },
  {
   "cell_type": "code",
   "execution_count": 15,
   "metadata": {
    "collapsed": true
   },
   "outputs": [
    {
     "name": "stdout",
     "output_type": "stream",
     "text": [
      "Train on 9051 samples, validate on 2263 samples\n",
      "Epoch 1/10\n",
      "9051/9051 [==============================] - 76s 8ms/sample - loss: 0.1314 - acc: 0.9560 - val_loss: 0.8257 - val_acc: 0.8016\n",
      "Epoch 2/10\n",
      "9051/9051 [==============================] - 75s 8ms/sample - loss: 0.1182 - acc: 0.9624 - val_loss: 0.7264 - val_acc: 0.8290\n",
      "Epoch 3/10\n",
      "9051/9051 [==============================] - 74s 8ms/sample - loss: 0.1247 - acc: 0.9606 - val_loss: 0.8586 - val_acc: 0.8042\n",
      "Epoch 4/10\n",
      "9051/9051 [==============================] - 74s 8ms/sample - loss: 0.1150 - acc: 0.9616 - val_loss: 0.9350 - val_acc: 0.8095\n",
      "Epoch 5/10\n",
      "9051/9051 [==============================] - 74s 8ms/sample - loss: 0.1186 - acc: 0.9634 - val_loss: 0.7631 - val_acc: 0.8294\n",
      "Epoch 6/10\n",
      "9051/9051 [==============================] - 74s 8ms/sample - loss: 0.1017 - acc: 0.9674 - val_loss: 0.6935 - val_acc: 0.8374\n",
      "Epoch 7/10\n",
      "9051/9051 [==============================] - 74s 8ms/sample - loss: 0.1087 - acc: 0.9674 - val_loss: 0.7646 - val_acc: 0.8316\n",
      "Epoch 8/10\n",
      "9051/9051 [==============================] - 74s 8ms/sample - loss: 0.1050 - acc: 0.9659 - val_loss: 0.7737 - val_acc: 0.8392\n",
      "Epoch 9/10\n",
      "9051/9051 [==============================] - 74s 8ms/sample - loss: 0.0953 - acc: 0.9686 - val_loss: 0.6940 - val_acc: 0.8506\n",
      "Epoch 10/10\n",
      "9051/9051 [==============================] - 74s 8ms/sample - loss: 0.1073 - acc: 0.9696 - val_loss: 0.7011 - val_acc: 0.8405\n"
     ]
    }
   ],
   "source": [
    "tmp = model.fit(X_train, y_train_ohe, validation_data=(X_test, y_test_ohe),\n",
    "          epochs=10, batch_size=128)\n",
    "histories.append(tmp)"
   ]
  },
  {
   "cell_type": "code",
   "execution_count": 17,
   "metadata": {
    "collapsed": true
   },
   "outputs": [
    {
     "name": "stdout",
     "output_type": "stream",
     "text": [
      "Train on 9051 samples, validate on 2263 samples\n",
      "Epoch 1/10\n",
      "9051/9051 [==============================] - 74s 8ms/sample - loss: 0.0866 - acc: 0.9745 - val_loss: 0.7282 - val_acc: 0.8365\n",
      "Epoch 2/10\n",
      "9051/9051 [==============================] - 74s 8ms/sample - loss: 0.1049 - acc: 0.9688 - val_loss: 0.7922 - val_acc: 0.8352\n",
      "Epoch 3/10\n",
      "9051/9051 [==============================] - 74s 8ms/sample - loss: 0.0889 - acc: 0.9712 - val_loss: 0.8328 - val_acc: 0.8347\n",
      "Epoch 4/10\n",
      "9051/9051 [==============================] - 74s 8ms/sample - loss: 0.0919 - acc: 0.9697 - val_loss: 0.7734 - val_acc: 0.8347\n",
      "Epoch 5/10\n",
      "9051/9051 [==============================] - 75s 8ms/sample - loss: 0.0801 - acc: 0.9744 - val_loss: 0.8722 - val_acc: 0.8175\n",
      "Epoch 6/10\n",
      "9051/9051 [==============================] - 74s 8ms/sample - loss: 0.0885 - acc: 0.9740 - val_loss: 0.7272 - val_acc: 0.8484\n",
      "Epoch 7/10\n",
      "9051/9051 [==============================] - 74s 8ms/sample - loss: 0.0906 - acc: 0.9748 - val_loss: 0.7958 - val_acc: 0.8392\n",
      "Epoch 8/10\n",
      "9051/9051 [==============================] - 74s 8ms/sample - loss: 0.0806 - acc: 0.9753 - val_loss: 0.7773 - val_acc: 0.8378\n",
      "Epoch 9/10\n",
      "9051/9051 [==============================] - 74s 8ms/sample - loss: 0.0858 - acc: 0.9741 - val_loss: 0.8967 - val_acc: 0.8219\n",
      "Epoch 10/10\n",
      "9051/9051 [==============================] - 74s 8ms/sample - loss: 0.0796 - acc: 0.9748 - val_loss: 0.8384 - val_acc: 0.8378\n"
     ]
    }
   ],
   "source": [
    "tmp = model.fit(X_train, y_train_ohe, validation_data=(X_test, y_test_ohe),\n",
    "          epochs=10, batch_size=128)\n",
    "histories.append(tmp)"
   ]
  },
  {
   "cell_type": "code",
   "execution_count": 19,
   "metadata": {
    "collapsed": true
   },
   "outputs": [
    {
     "data": {
      "image/png": "[encoded data removed]",
      "text/plain": [
       "<Figure size 1080x360 with 2 Axes>"
      ]
     },
     "metadata": {
      "needs_background": "light"
     },
     "output_type": "display_data"
    }
   ],
   "source": [
    "from sklearn import metrics as mt\n",
    "from matplotlib import pyplot as plt\n",
    "%matplotlib inline\n",
    "\n",
    "# combine all the history from training together\n",
    "combined = dict()\n",
    "for key in ['acc','val_acc','loss','val_loss']:\n",
    "    combined[key] = np.hstack([x.history[key] for x in histories])\n",
    "    \n",
    "# summarize history for accuracy\n",
    "plt.figure(figsize=(15,5))\n",
    "plt.subplot(121)\n",
    "plt.plot(combined['acc'])\n",
    "plt.plot(combined['val_acc'])\n",
    "plt.title('model accuracy')\n",
    "plt.ylabel('accuracy')\n",
    "plt.xlabel('epoch')\n",
    "plt.legend(['train', 'test'], loc='upper left')\n",
    "\n",
    "# summarize history for loss\n",
    "plt.subplot(122)\n",
    "plt.plot(combined['loss'])\n",
    "plt.plot(combined['val_loss'])\n",
    "plt.title('model loss')\n",
    "plt.ylabel('loss')\n",
    "plt.xlabel('epoch')\n",
    "plt.legend(['train', 'test'], loc='upper left')\n",
    "plt.show()"
   ]
  },
  {
   "cell_type": "markdown",
   "metadata": {},
   "source": [
    "Okay. So we seem to be maxing out the performance on the validation set. The results are pretty good--I would expect these to be about a top 10 submission on a class-based Kaggle competition. Nice!\n",
    "- https://inclass.kaggle.com/c/cs5740-20-newsgroups-classification/leaderboard"
   ]
  },
  {
   "cell_type": "markdown",
   "metadata": {},
   "source": [
    "**[End of Lecture Demo]**\n",
    "\n",
    "Below is an archive of discussions from previous semesters. While it is interesting, it is not critical to the understanding of recurrent neural networks. "
   ]
  },
  {
   "cell_type": "markdown",
   "metadata": {},
   "source": [
    "# =============[ARCHIVED]=============\n",
    "# But others have done much better on 20 News groups! \n",
    "\n",
    "Why are we not getting the 95% on the data? Let's take a look at the original posting by the Keras blog. They claim that they get validation accuracy of 95% after two epochs!\n",
    "\n",
    "Why are we not getting that same accuracy?  \n",
    "- https://github.com/kimardenmiller/NLP_CNN/blob/master/Embeddings/0.0.4%20word%20index%20save.py"
   ]
  },
  {
   "cell_type": "code",
   "execution_count": 70,
   "metadata": {},
   "outputs": [
    {
     "name": "stdout",
     "output_type": "stream",
     "text": [
      "Indexing word vectors.\n",
      "Processing text data set\n",
      "Found 19997 texts.\n",
      "Xref: cantaloupe.srv.cs.cmu.edu alt.atheism:49960 alt.atheism.moderated:713 news.answers:7054 alt.answers:126\n",
      "Path: cantaloupe.srv.cs.cmu.edu!crabapple.srv.cs.cmu.edu!bb3.andrew.cmu.edu!news.sei.cmu.edu!cis.ohio-state.edu!magnus.acs.ohio-state.edu!usenet.ins.cwru.edu!agate!spool.mu.edu!uunet!pipex!ibmpcug!mantis!mathew\n",
      "From: mathew <mathew@mantis.co.uk>\n",
      "Newsgroups: alt.atheism,alt.atheism.moderated,news.answers,alt.answers\n",
      "Subject: Alt.Atheism FAQ: Atheist Resources\n",
      "Summary: Books, addresses, music -- anything related to atheism\n",
      "Keywords: FAQ, atheism, books, music, fiction, addresses, contacts\n",
      "Message-ID: <19930329115719@mantis.co.uk>\n",
      "Date: Mon, 29 Mar 1993 11:57:19 GMT\n",
      "Expires: Thu, 29 Apr 1993 11:57:19 GMT\n",
      "Followup-To: alt.atheism\n",
      "Distribution: world\n",
      "Organization: Mantis Consultants, Cambridge. UK.\n",
      "Approved: news-answers-request@mit.edu\n",
      "Supersedes: <19930301143317@mantis.co.uk>\n",
      "Lines: 290\n",
      "\n",
      "Archive-name: atheism/resources\n",
      "Alt-atheism-archive-name: resources\n",
      "Last-modified: 11 December 1992\n",
      "Version: 1.0\n",
      "\n",
      "                              Atheist Resources\n",
      "\n",
      "                      Addresses of Atheist Organizations\n",
      "\n",
      "                                     USA\n",
      "\n",
      "FREEDOM FROM RELIGION FOUNDATION\n",
      "\n",
      "Darwin fish bumper stickers and assorted other atheist paraphernalia are\n",
      "available from the Freedom From Religion Foundation in the US.\n",
      "\n",
      "Write to:  FFRF, P.O. Box 750, Madison, WI 53701.\n",
      "Telephone: (608) 256-8900\n",
      "\n",
      "EVOLUTION DESIGNS\n",
      "\n",
      "Evolution Designs sell the \"Darwin fish\".  It's a fish symbol, like the ones\n",
      "Christians stick on their cars, but with feet and the word \"Darwin\" written\n",
      "inside.  The deluxe moulded 3D plastic fish is $4.95 postpaid in the US.\n",
      "\n",
      "Write to:  Evolution Designs, 7119 Laurel Canyon #4, North Hollywood,\n",
      "           CA 91605.\n",
      "\n",
      "People in the San Francisco Bay area can get Darwin Fish from Lynn Gold --\n",
      "try mailing <figmo@netcom.com>.  For net people who go to Lynn directly, the\n",
      "price is $4.95 per fish.\n",
      "\n",
      "AMERICAN ATHEIST PRESS\n",
      "\n",
      "AAP publish various atheist books -- critiques of the Bible, lists of\n",
      "Biblical contradictions, and so on.  One such book is:\n",
      "\n",
      "\"The Bible Handbook\" by W.P. Ball and G.W. Foote.  American Atheist Press.\n",
      "372 pp.  ISBN 0-910309-26-4, 2nd edition, 1986.  Bible contradictions,\n",
      "absurdities, atrocities, immoralities... contains Ball, Foote: \"The Bible\n",
      "Contradicts Itself\", AAP.  Based on the King James version of the Bible.\n",
      "\n",
      "Write to:  American Atheist Press, P.O. Box 140195, Austin, TX 78714-0195.\n",
      "      or:  7215 Cameron Road, Austin, TX 78752-2973.\n",
      "Telephone: (512) 458-1244\n",
      "Fax:       (512) 467-9525\n",
      "\n",
      "PROMETHEUS BOOKS\n",
      "\n",
      "Sell books including Haught's \"Holy Horrors\" (see below).\n",
      "\n",
      "Write to:  700 East Amherst Street, Buffalo, New York 14215.\n",
      "Telephone: (716) 837-2475.\n",
      "\n",
      "An alternate address (which may be newer or older) is:\n",
      "Prometheus Books, 59 Glenn Drive, Buffalo, NY 14228-2197.\n",
      "\n",
      "AFRICAN-AMERICANS FOR HUMANISM\n",
      "\n",
      "An organization promoting black secular humanism and uncovering the history of\n",
      "black freethought.  They publish a quarterly newsletter, AAH EXAMINER.\n",
      "\n",
      "Write to:  Norm R. Allen, Jr., African Americans for Humanism, P.O. Box 664,\n",
      "           Buffalo, NY 14226.\n",
      "\n",
      "                                United Kingdom\n",
      "\n",
      "Rationalist Press Association          National Secular Society\n",
      "88 Islington High Street               702 Holloway Road\n",
      "London N1 8EW                          London N19 3NL\n",
      "071 226 7251                           071 272 1266\n",
      "\n",
      "British Humanist Association           South Place Ethical Society\n",
      "14 Lamb's Conduit Passage              Conway Hall\n",
      "London WC1R 4RH                        Red Lion Square\n",
      "071 430 0908                           London WC1R 4RL\n",
      "fax 071 430 1271                       071 831 7723\n",
      "\n",
      "The National Secular Society publish \"The Freethinker\", a monthly magazine\n",
      "founded in 1881.\n",
      "\n",
      "                                   Germany\n",
      "\n",
      "IBKA e.V.\n",
      "Internationaler Bund der Konfessionslosen und Atheisten\n",
      "Postfach 880, D-1000 Berlin 41. Germany.\n",
      "\n",
      "IBKA publish a journal:\n",
      "MIZ. (Materialien und Informationen zur Zeit. Politisches\n",
      "Journal der Konfessionslosesn und Atheisten. Hrsg. IBKA e.V.)\n",
      "MIZ-Vertrieb, Postfach 880, D-1000 Berlin 41. Germany.\n",
      "\n",
      "For atheist books, write to:\n",
      "\n",
      "IBDK, Internationaler B\"ucherdienst der Konfessionslosen\n",
      "Postfach 3005, D-3000 Hannover 1. Germany.\n",
      "Telephone: 0511/211216\n",
      "\n",
      "\n",
      "                               Books -- Fiction\n",
      "\n",
      "THOMAS M. DISCH\n",
      "\n",
      "\"The Santa Claus Compromise\"\n",
      "Short story.  The ultimate proof that Santa exists.  All characters and \n",
      "events are fictitious.  Any similarity to living or dead gods -- uh, well...\n",
      "\n",
      "WALTER M. MILLER, JR\n",
      "\n",
      "\"A Canticle for Leibowitz\"\n",
      "One gem in this post atomic doomsday novel is the monks who spent their lives\n",
      "copying blueprints from \"Saint Leibowitz\", filling the sheets of paper with\n",
      "ink and leaving white lines and letters.\n",
      "\n",
      "EDGAR PANGBORN\n",
      "\n",
      "\"Davy\"\n",
      "Post atomic doomsday novel set in clerical states.  The church, for example,\n",
      "forbids that anyone \"produce, describe or use any substance containing...\n",
      "atoms\". \n",
      "\n",
      "PHILIP K. DICK\n",
      "\n",
      "Philip K. Dick Dick wrote many philosophical and thought-provoking short \n",
      "stories and novels.  His stories are bizarre at times, but very approachable.\n",
      "He wrote mainly SF, but he wrote about people, truth and religion rather than\n",
      "technology.  Although he often believed that he had met some sort of God, he\n",
      "remained sceptical.  Amongst his novels, the following are of some relevance:\n",
      "\n",
      "\"Galactic Pot-Healer\"\n",
      "A fallible alien deity summons a group of Earth craftsmen and women to a\n",
      "remote planet to raise a giant cathedral from beneath the oceans.  When the\n",
      "deity begins to demand faith from the earthers, pot-healer Joe Fernwright is\n",
      "unable to comply.  A polished, ironic and amusing novel.\n",
      "\n",
      "\"A Maze of Death\"\n",
      "Noteworthy for its description of a technology-based religion.\n",
      "\n",
      "\"VALIS\"\n",
      "The schizophrenic hero searches for the hidden mysteries of Gnostic\n",
      "Christianity after reality is fired into his brain by a pink laser beam of\n",
      "unknown but possibly divine origin.  He is accompanied by his dogmatic and\n",
      "dismissively atheist friend and assorted other odd characters.\n",
      "\n",
      "\"The Divine Invasion\"\n",
      "God invades Earth by making a young woman pregnant as she returns from\n",
      "another star system.  Unfortunately she is terminally ill, and must be\n",
      "assisted by a dead man whose brain is wired to 24-hour easy listening music.\n",
      "\n",
      "MARGARET ATWOOD\n",
      "\n",
      "\"The Handmaid's Tale\"\n",
      "A story based on the premise that the US Congress is mysteriously\n",
      "assassinated, and fundamentalists quickly take charge of the nation to set it\n",
      "\"right\" again.  The book is the diary of a woman's life as she tries to live\n",
      "under the new Christian theocracy.  Women's right to own property is revoked,\n",
      "and their bank accounts are closed; sinful luxuries are outlawed, and the\n",
      "radio is only used for readings from the Bible.  Crimes are punished\n",
      "retroactively: doctors who performed legal abortions in the \"old world\" are\n",
      "hunted down and hanged.  Atwood's writing style is difficult to get used to\n",
      "at first, but the tale grows more and more chilling as it goes on.\n",
      "\n",
      "VARIOUS AUTHORS\n",
      "\n",
      "\"The Bible\"\n",
      "This somewhat dull and rambling work has often been criticized.  However, it\n",
      "is probably worth reading, if only so that you'll know what all the fuss is\n",
      "about.  It exists in many different versions, so make sure you get the one\n",
      "true version.\n",
      "\n",
      "                             Books -- Non-fiction\n",
      "\n",
      "PETER DE ROSA\n",
      "\n",
      "\"Vicars of Christ\", Bantam Press, 1988\n",
      "Although de Rosa seems to be Christian or even Catholic this is a very\n",
      "enlighting history of papal immoralities, adulteries, fallacies etc.\n",
      "(German translation: \"Gottes erste Diener. Die dunkle Seite des Papsttums\",\n",
      "Droemer-Knaur, 1989)\n",
      "\n",
      "MICHAEL MARTIN\n",
      "\n",
      "\"Atheism: A Philosophical Justification\", Temple University Press,\n",
      " Philadelphia, USA.\n",
      "A detailed and scholarly justification of atheism.  Contains an outstanding\n",
      "appendix defining terminology and usage in this (necessarily) tendentious\n",
      "area.  Argues both for \"negative atheism\" (i.e. the \"non-belief in the\n",
      "existence of god(s)\") and also for \"positive atheism\" (\"the belief in the\n",
      "non-existence of god(s)\").  Includes great refutations of the most\n",
      "challenging arguments for god; particular attention is paid to refuting\n",
      "contempory theists such as Platinga and Swinburne.\n",
      "541 pages. ISBN 0-87722-642-3 (hardcover; paperback also available)\n",
      "\n",
      "\"The Case Against Christianity\", Temple University Press\n",
      "A comprehensive critique of Christianity, in which he considers\n",
      "the best contemporary defences of Christianity and (ultimately)\n",
      "demonstrates that they are unsupportable and/or incoherent.\n",
      "273 pages. ISBN 0-87722-767-5\n",
      "\n",
      "JAMES TURNER\n",
      "\n",
      "\"Without God, Without Creed\", The Johns Hopkins University Press, Baltimore,\n",
      " MD, USA\n",
      "Subtitled \"The Origins of Unbelief in America\".  Examines the way in which\n",
      "unbelief (whether agnostic or atheistic)  became a mainstream alternative\n",
      "world-view.  Focusses on the period 1770-1900, and while considering France\n",
      "and Britain the emphasis is on American, and particularly New England\n",
      "developments.  \"Neither a religious history of secularization or atheism,\n",
      "Without God, Without Creed is, rather, the intellectual history of the fate\n",
      "of a single idea, the belief that God exists.\" \n",
      "316 pages. ISBN (hardcover) 0-8018-2494-X (paper) 0-8018-3407-4\n",
      "\n",
      "GEORGE SELDES (Editor)\n",
      "\n",
      "\"The great thoughts\", Ballantine Books, New York, USA\n",
      "A \"dictionary of quotations\" of a different kind, concentrating on statements\n",
      "and writings which, explicitly or implicitly, present the person's philosophy\n",
      "and world-view.  Includes obscure (and often suppressed) opinions from many\n",
      "people.  For some popular observations, traces the way in which various\n",
      "people expressed and twisted the idea over the centuries.  Quite a number of\n",
      "the quotations are derived from Cardiff's \"What Great Men Think of Religion\"\n",
      "and Noyes' \"Views of Religion\".\n",
      "490 pages. ISBN (paper) 0-345-29887-X.\n",
      "\n",
      "RICHARD SWINBURNE\n",
      "\n",
      "\"The Existence of God (Revised Edition)\", Clarendon Paperbacks, Oxford\n",
      "This book is the second volume in a trilogy that began with \"The Coherence of\n",
      "Theism\" (1977) and was concluded with \"Faith and Reason\" (1981).  In this\n",
      "work, Swinburne attempts to construct a series of inductive arguments for the\n",
      "existence of God.  His arguments, which are somewhat tendentious and rely\n",
      "upon the imputation of late 20th century western Christian values and\n",
      "aesthetics to a God which is supposedly as simple as can be conceived, were\n",
      "decisively rejected in Mackie's \"The Miracle of Theism\".  In the revised\n",
      "edition of \"The Existence of God\", Swinburne includes an Appendix in which he\n",
      "makes a somewhat incoherent attempt to rebut Mackie.\n",
      "\n",
      "J. L. MACKIE\n",
      "\n",
      "\"The Miracle of Theism\", Oxford\n",
      "This (posthumous) volume contains a comprehensive review of the principal\n",
      "arguments for and against the existence of God.  It ranges from the classical\n",
      "philosophical positions of Descartes, Anselm, Berkeley, Hume et al, through\n",
      "the moral arguments of Newman, Kant and Sidgwick, to the recent restatements\n",
      "of the classical theses by Plantinga and Swinburne.  It also addresses those\n",
      "positions which push the concept of God beyond the realm of the rational,\n",
      "such as those of Kierkegaard, Kung and Philips, as well as \"replacements for\n",
      "God\" such as Lelie's axiarchism.  The book is a delight to read - less\n",
      "formalistic and better written than Martin's works, and refreshingly direct\n",
      "when compared with the hand-waving of Swinburne.\n",
      "\n",
      "JAMES A. HAUGHT\n",
      "\n",
      "\"Holy Horrors: An Illustrated History of Religious Murder and Madness\",\n",
      " Prometheus Books\n",
      "Looks at religious persecution from ancient times to the present day -- and\n",
      "not only by Christians.\n",
      "Library of Congress Catalog Card Number 89-64079. 1990.\n",
      "\n",
      "NORM R. ALLEN, JR.\n",
      "\n",
      "\"African American Humanism: an Anthology\"\n",
      "See the listing for African Americans for Humanism above.\n",
      "\n",
      "GORDON STEIN\n",
      "\n",
      "\"An Anthology of Atheism and Rationalism\", Prometheus Books\n",
      "An anthology covering a wide range of subjects, including 'The Devil, Evil\n",
      "and Morality' and 'The History of Freethought'.  Comprehensive bibliography.\n",
      "\n",
      "EDMUND D. COHEN\n",
      "\n",
      "\"The Mind of The Bible-Believer\", Prometheus Books\n",
      "A study of why people become Christian fundamentalists, and what effect it\n",
      "has on them.\n",
      "\n",
      "                                Net Resources\n",
      "\n",
      "There's a small mail-based archive server at mantis.co.uk which carries\n",
      "archives of old alt.atheism.moderated articles and assorted other files.  For\n",
      "more information, send mail to archive-server@mantis.co.uk saying\n",
      "\n",
      "   help\n",
      "   send atheism/index\n",
      "\n",
      "and it will mail back a reply.\n",
      "\n",
      "\n",
      "mathew\n",
      "ÿ\n",
      "\n"
     ]
    },
    {
     "name": "stderr",
     "output_type": "stream",
     "text": [
      "/Users/eclarson/anaconda/envs/MLEnv/lib/python3.5/site-packages/keras/preprocessing/text.py:89: UserWarning: The `nb_words` argument in `Tokenizer` has been renamed `num_words`.\n",
      "  warnings.warn('The `nb_words` argument in `Tokenizer` '\n"
     ]
    },
    {
     "name": "stdout",
     "output_type": "stream",
     "text": [
      "Found 214873 unique tokens.\n",
      "Shape of data tensor: (19997, 1000)\n",
      "Sample data tensor: [  447   119   489   755    76   696  2362    10    76   118  3007    83\n",
      "   814     4   216    76  7208 16127  7084   126     1   516    25     4\n",
      "    83  9295 12513  7994     5  3773  7097     5   393     4   719     6\n",
      "   933     3     5  1891  2154     3  2977     5  7449    18 13741     1\n",
      "    97     1  7097  4952     3  2842   807    18     1  7994  1249     9\n",
      "  3477     3 15061     5 10707     6  7469  9926     5     4   760    14\n",
      "   234  2234     4     5   489   480   188     1 11088  8086    14     1\n",
      "  4304 11974     4  1131   226  1483     9  3096   186   126  2129    47\n",
      "     5  6103  2438  5693     4  3144    35  1768  3639  3058    76     9\n",
      " 13222    47   126 18603     6  2056  1226     6 15022   108  3903  3798\n",
      "     1  3639  5090   216   719    47   742     5  1044  2066  8364    28\n",
      "   423  5236    18   325  2062   159  1509   423     9  5744     6   314\n",
      "    23 11655    47     5   859   451  1472  2129     9  9934     3   280\n",
      "  2771   971  4159  1684     1  7192     5  1143   480    19     1  5352\n",
      "    10     1   155  1502     9     6 10814  2431   295  1956     4     1\n",
      "  2183     3   391    13   206   374     1   539     9     1     4     5\n",
      " 13919   399    28   423  5215     3   684   341     1   148   202  7477\n",
      "   206     3   309  2151     9     6   102  2231  3584    25  1824  7226\n",
      "    25 16844     6     1   841     9   115   244    14 12155    18     1\n",
      "   659  3260    25  6937  2924    84  3860   674  5574     7     1   438\n",
      "   193    25   340     6 13978  1702  2337     9  1477     3   116   244\n",
      "     3    46   203    35     1  7192 11180    94     6    94 19607    28\n",
      "    13   919    19  1104  3919     1   659    20  2529 10607     6   256\n",
      "    75   696   125 19180   369    13     9   388  1085   914    34   115\n",
      "    71    10  1348   110    54    56     1 19935     9    67    13  1285\n",
      "     7   200   381  2145    71   198   322    17   116     1    61   383\n",
      "   350   882   454  4544   855   218 11773     4   816   844  2039   755\n",
      "   218 11773   385     3    23   202    31   176  2141    20     9     5\n",
      "   183   590     4 16139 19907   318  2086  2790  1286  1337  2778   534\n",
      "  2257   357     5  6192  4278  1931    99   844  3013   284     5  3943\n",
      "     6  9497  4278     4   357  1694    50 12208  8157  9676     6  3157\n",
      "     7    20  1344   726 13771   307    14  3848   357     8   151     1\n",
      "   454  1299     7     1  1296     4   216   129     6   132    14  2343\n",
      "   357     1  1299     7     1   454  1296     4   216   129  1139   408\n",
      "     4     1   211 15517  1822    14   216   967  2279     9  1902     3\n",
      "  5150   213    28     6  1887  5183    65 17667    68 18169 11806   132\n",
      "   348     1   331   371  1131  1931    99   844     5  4682 14620     4\n",
      "  1131     7    90    76  7976     1   380  9404     4  1131     6  6220\n",
      "  8758    10    37    25     6    31 10491  1887  5183    65   104   801\n",
      "  5965   319   216   319  8195     1  6287  4172    99   844  3124  1677\n",
      "   284     1  1321     4     7  1388     1   189     7    90   538  9931\n",
      "    31 17778  2273     5  6723  2121   193   775    19     1   974 10801\n",
      "     6   310  1932  3080     6  5356     1  5291     9    19   511     6\n",
      "  1848   148  2915 12609  1343     5   831   590     4    31   357   319\n",
      "   216   319  8195     9   447     1  5275   590     4     1  6252     4\n",
      "     5   772   554     1  1299    10   216  1285  9740  1887  5183 18169\n",
      "    65    59  1390    65   103  1174  2503     1   408  2454   882   148\n",
      "   892   284     5  3400     4 11874     4     5   381   566    19  1885\n",
      "     6  5003    90  4780    31 13659  1138     1  8367  2766     6   193\n",
      "   775  1139  7971     6   696 12994   547    18   200    96    14    83\n",
      "  2003  2967 11069     1   189     7    90  1104    96  1779     6  9528\n",
      "     1   554   245     1  4812   512     5   327     4     1 11874    25\n",
      "  4978    18    54   408   634   120     4   188     6  1377     4   188\n",
      "  1887  5183  1390    65 10650    59  1116     1  1296     4   216  6428\n",
      "  3061  5409    20   539     9     1   437  1595     7     5    10  2528\n",
      "    27     1     4  4076  5818     6    33  7141    27   807     6   456\n",
      "  5982     7    20   256  3174     3  9614     5  1003     4 14806  1822\n",
      "    14     1  1296     4   216   126  1822    90    25  2529     6  4609\n",
      "   928     1     4  1556  8045  2113   922   202  1084     6     3     5\n",
      "   216    90     9  3432    28   854    28    51    23 11868   100  5120\n",
      "     7     1  5333     4  4076     7     1  6428  3061     4     1  1296\n",
      "     4   216  1139    50     7    90    76   588     5  2529  1562     3\n",
      "  9756   264   253  9756     1  5333     4  4076  5409    20  1595  1694\n",
      "     5  4682  2000     4     1  8646  1822    14     6   371     1  1296\n",
      "     4   216    13 10051    18     1  9029  6192  3466     4  6840   561\n",
      "  1882   990   333     1   890  1822     4  9245     6     3     1  1530\n",
      "     4     1  9029    47     6    13   132  3003   190  3466    90  3170\n",
      "     1  2067     4   216  1738     1  9654     4     1  3407   213    28\n",
      "   190     4     6  3337    28   165    28 12997    14   216   213    28\n",
      "     1   539     9     5     3   308   533     6   298   923   119   666\n",
      "     6  1886    97  2106    27     1   695 10643     4   801     5  1974\n",
      " 13328    50 15275   590     4   831  1583     6 13009   882  1177    46\n",
      "   831  5795    18  2718   556     3     1  1138   356     6    22   115\n",
      "    47   751  1393     4  1502  4781   450   327  2776  1799  8414   141\n",
      "  2159  2450  3281   511    50   179     1  5170    14  3281  1565    14\n",
      "   470  1804  4178    50     4   357     6   882    50  6331     5  1792\n",
      "  1649     4  5741   715  5857  5190  1542     6     6  5857   590     4\n",
      "  4682  8980   170  7833     1   700     4     1   659  6860   882     5\n",
      "   979     4   181    96   916   202 10814     6    54  1008    13    75\n",
      "    19   117    32  1700   658     5   629   227   480  1598   612    46\n",
      "  1327   358   194    90  6668  3702     4   438   127   357  9193  1823\n",
      "     6 15022   108   494    14    94   290   518   227     3  1598   612\n",
      "  1327   358   194   597   292   518   357  3297     6    13    62   227\n",
      "   277     5   240  1899]\n",
      "Shape of label tensor: (19997, 20)\n",
      "Sample label tensor: [[ 1.  0.  0. ...,  0.  0.  0.]\n",
      " [ 1.  0.  0. ...,  0.  0.  0.]\n",
      " [ 1.  0.  0. ...,  0.  0.  0.]\n",
      " ..., \n",
      " [ 1.  0.  0. ...,  0.  0.  0.]\n",
      " [ 1.  0.  0. ...,  0.  0.  0.]\n",
      " [ 1.  0.  0. ...,  0.  0.  0.]]\n",
      "Preparing embedding matrix.\n",
      "Training model.\n"
     ]
    },
    {
     "name": "stderr",
     "output_type": "stream",
     "text": [
      "/Users/eclarson/anaconda/envs/MLEnv/lib/python3.5/site-packages/ipykernel/__main__.py:148: UserWarning: The `nb_epoch` argument in `fit` has been renamed `epochs`.\n"
     ]
    },
    {
     "name": "stdout",
     "output_type": "stream",
     "text": [
      "Train on 15998 samples, validate on 3999 samples\n",
      "Epoch 1/2\n",
      "15998/15998 [==============================] - 281s - loss: 1.9110 - acc: 0.3264 - val_loss: 0.9826 - val_acc: 0.638\n",
      "Epoch 2/2\n",
      "15998/15998 [==============================] - 293s - loss: 0.7430 - acc: 0.7523 - val_loss: 1.3303 - val_acc: 0.56\n"
     ]
    },
    {
     "data": {
      "text/plain": [
       "<keras.callbacks.History at 0x136316080>"
      ]
     },
     "execution_count": 70,
     "metadata": {},
     "output_type": "execute_result"
    }
   ],
   "source": [
    "# from __future__ import print_function\n",
    "import os\n",
    "import numpy as np\n",
    "from keras.preprocessing.text import Tokenizer\n",
    "from keras.preprocessing.sequence import pad_sequences\n",
    "from keras.utils.np_utils import to_categorical\n",
    "from keras.layers import Dense, Input, Flatten\n",
    "from keras.layers import Conv1D, MaxPooling1D, Embedding\n",
    "from keras.models import Model\n",
    "import sys\n",
    "import pandas as pd\n",
    "import pickle\n",
    "from keras.models import load_model\n",
    "\n",
    "np.random.seed(1337)\n",
    "\n",
    "BASE_DIR = ''\n",
    "GLOVE_DIR = 'large_data/glove'\n",
    "TEXT_DATA_DIR = 'large_data/20news-bydate/20news-bydate-train/'\n",
    "TEXT_DATA_DIR = 'large_data/20_newsgroups/'\n",
    "MAX_SEQUENCE_LENGTH = 1000\n",
    "MAX_NB_WORDS = 20000\n",
    "EMBEDDING_DIM = 100\n",
    "VALIDATION_SPLIT = 0.2\n",
    "\n",
    "# first, build index mapping words in the embeddings set to their embedding vector\n",
    "print('Indexing word vectors.')\n",
    "\n",
    "embeddings_index = {}\n",
    "\n",
    "f = open('large_data/glove/glove.6B.100d.txt')\n",
    "for line in f:\n",
    "    values = line.split()\n",
    "    word = values[0]\n",
    "    coefs = np.asarray(values[1:], dtype='float32')\n",
    "    embeddings_index[word] = coefs\n",
    "f.close()\n",
    "\n",
    "# second, prepare text samples and their labels\n",
    "print('Processing text data set')\n",
    "\n",
    "texts = []  # list of text samples\n",
    "labels_index = {}  # dictionary mapping label news_group to numeric id\n",
    "labels = []  # list of label ids\n",
    "for news_group in sorted(os.listdir(TEXT_DATA_DIR)):\n",
    "    path = os.path.join(TEXT_DATA_DIR, news_group)\n",
    "    if os.path.isdir(path):\n",
    "        label_id = len(labels_index)\n",
    "        labels_index[news_group] = label_id\n",
    "        for post in sorted(os.listdir(path)):\n",
    "            if post.isdigit():\n",
    "                post_path = os.path.join(path, post)\n",
    "                if sys.version_info < (3,):\n",
    "                    f = open(post_path)\n",
    "                else:\n",
    "                    f = open(post_path, encoding='latin-1')\n",
    "                texts.append(f.read())\n",
    "                f.close()\n",
    "                labels.append(label_id)\n",
    "\n",
    "print('Found %s texts.' % len(texts))\n",
    "print(texts[0])\n",
    "\n",
    "# override with sklearn\n",
    "# texts = bunch.data\n",
    "# labels = bunch.target\n",
    "# labels_index = bunch.target_names\n",
    "\n",
    "# finally, vectorize the text samples into a 2D integer tensor\n",
    "tokenizer = Tokenizer(nb_words=MAX_NB_WORDS)\n",
    "tokenizer.fit_on_texts(texts)\n",
    "pickle.dump(tokenizer, open('large_data/tokenizer.004.p', 'wb'))\n",
    "sequences = tokenizer.texts_to_sequences(texts)\n",
    "\n",
    "word_index = tokenizer.word_index\n",
    "print('Found %s unique tokens.' % len(word_index))\n",
    "# print('Word index', word_index.values())\n",
    "\n",
    "data = pad_sequences(sequences, maxlen=MAX_SEQUENCE_LENGTH)\n",
    "labels = to_categorical(np.asarray(labels))\n",
    "print('Shape of data tensor:', data.shape)\n",
    "print('Sample data tensor:', data[0, 0:])\n",
    "print('Shape of label tensor:', labels.shape)\n",
    "print('Sample label tensor:', labels[690:750, 0:])\n",
    "# sys.exit()\n",
    "\n",
    "# split the data into a training set and a validation set\n",
    "indices = np.arange(data.shape[0])\n",
    "np.random.shuffle(indices)\n",
    "data = data[indices]\n",
    "labels = labels[indices]\n",
    "nb_validation_samples = int(VALIDATION_SPLIT * data.shape[0])\n",
    "\n",
    "x_train = data[:-nb_validation_samples]\n",
    "y_train = labels[:-nb_validation_samples]\n",
    "x_val = data[-nb_validation_samples:]\n",
    "y_val = labels[-nb_validation_samples:]\n",
    "\n",
    "print('Preparing embedding matrix.')\n",
    "\n",
    "# prepare embedding matrix\n",
    "nb_words = min(MAX_NB_WORDS, len(word_index))\n",
    "embedding_matrix = np.zeros((nb_words + 1, EMBEDDING_DIM))\n",
    "for word, i in word_index.items():\n",
    "    if i > MAX_NB_WORDS:\n",
    "        continue\n",
    "    embedding_vector = embeddings_index.get(word)\n",
    "    if embedding_vector is not None:\n",
    "        # words not found in embedding index will be all-zeros.\n",
    "        embedding_matrix[i] = embedding_vector\n",
    "\n",
    "# load pre-trained word embeddings into an Embedding layer\n",
    "# trainable = False so as to keep the embeddings fixed\n",
    "embedding_layer = Embedding(nb_words + 1,\n",
    "                            EMBEDDING_DIM,\n",
    "                            weights=[embedding_matrix],\n",
    "                            input_length=MAX_SEQUENCE_LENGTH,\n",
    "                            trainable=False)\n",
    "\n",
    "print('Training model.')\n",
    "\n",
    "# train a 1D convnet with global maxpooling\n",
    "sequence_input = Input(shape=(MAX_SEQUENCE_LENGTH,), dtype='int32')\n",
    "embedded_sequences = embedding_layer(sequence_input)\n",
    "x = Conv1D(128, 5, activation='relu')(embedded_sequences)\n",
    "x = MaxPooling1D(5)(x)\n",
    "x = Conv1D(128, 5, activation='relu')(x)\n",
    "x = MaxPooling1D(5)(x)\n",
    "x = Conv1D(128, 5, activation='relu')(x)\n",
    "x = MaxPooling1D(35)(x)\n",
    "x = Flatten()(x)\n",
    "x = Dense(128, activation='relu')(x)\n",
    "preds = Dense(len(labels_index), activation='softmax')(x)\n",
    "\n",
    "model = Model(sequence_input, preds)\n",
    "model.compile(loss='categorical_crossentropy',\n",
    "              optimizer='rmsprop',\n",
    "              metrics=['acc'])\n",
    "\n",
    "model.fit(x_train, y_train, validation_data=(x_val, y_val),\n",
    "          nb_epoch=2, batch_size=128)\n",
    "\n",
    "#  Dec 30, 2016  loss: 0.3069 - acc: 0.8908 - val_loss: 0.1421 - val_acc: 0.9549\n",
    "\n",
    "# # First evaluation of the model\n",
    "# scores = model.evaluate(x_val, y_val, verbose=0)\n",
    "# print(\"Accuracy of Run Model: %.2f%%\" % (scores[1]*100))\n",
    "\n",
    "# model.save('../saved_models/0.0.4_model.h5')\n",
    "# np.save('../saved_models/0.0.4_word_index.npy', word_index)\n",
    "\n",
    "# del model  # deletes the existing model\n",
    "\n",
    "# # returns a compiled model identical to the previous one\n",
    "# model = load_model('../saved_models/0.0.4_model.h5')\n",
    "\n",
    "# # Final evaluation of the model\n",
    "# scores = model.evaluate(x_val, y_val, verbose=0)\n",
    "# print(\"Accuracy of Disk-Loaded Model: %.2f%%\" % (scores[1]*100))"
   ]
  },
  {
   "cell_type": "code",
   "execution_count": 71,
   "metadata": {},
   "outputs": [
    {
     "name": "stderr",
     "output_type": "stream",
     "text": [
      "/Users/eclarson/anaconda/envs/MLEnv/lib/python3.5/site-packages/ipykernel/__main__.py:2: UserWarning: The `nb_epoch` argument in `fit` has been renamed `epochs`.\n",
      "  from ipykernel import kernelapp as app\n"
     ]
    },
    {
     "name": "stdout",
     "output_type": "stream",
     "text": [
      "Train on 15998 samples, validate on 3999 samples\n",
      "Epoch 1/2\n",
      "15998/15998 [==============================] - 255s - loss: 0.3346 - acc: 0.9032 - val_loss: 0.2218 - val_acc: 0.93\n",
      "Epoch 2/2\n",
      "15998/15998 [==============================] - 244s - loss: 0.2170 - acc: 0.9320 - val_loss: 0.2049 - val_acc: 0.94\n"
     ]
    },
    {
     "data": {
      "text/plain": [
       "<keras.callbacks.History at 0x12a96f4e0>"
      ]
     },
     "execution_count": 71,
     "metadata": {},
     "output_type": "execute_result"
    }
   ],
   "source": [
    "model.fit(x_train, y_train, validation_data=(x_val, y_val),\n",
    "          nb_epoch=2, batch_size=128)"
   ]
  },
  {
   "cell_type": "code",
   "execution_count": null,
   "metadata": {
    "collapsed": true
   },
   "outputs": [],
   "source": []
  }
 ],
 "metadata": {
  "anaconda-cloud": {},
  "kernelspec": {
   "display_name": "Python 3 (ipykernel)",
   "language": "python",
   "name": "python3"
  },
  "language_info": {
   "codemirror_mode": {
    "name": "ipython",
    "version": 3
   },
   "file_extension": ".py",
   "mimetype": "text/x-python",
   "name": "python",
   "nbconvert_exporter": "python",
   "pygments_lexer": "ipython3",
   "version": "3.9.16"
  }
 },
 "nbformat": 4,
 "nbformat_minor": 2
}

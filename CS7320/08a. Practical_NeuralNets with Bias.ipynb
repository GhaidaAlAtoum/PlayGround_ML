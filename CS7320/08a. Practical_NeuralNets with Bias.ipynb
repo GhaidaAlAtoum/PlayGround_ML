{
 "cells": [
  {
   "cell_type": "code",
   "execution_count": 119,
   "metadata": {},
   "outputs": [
    {
     "data": {
      "image/jpeg": "[encoded data removed]",
      "text/html": [
       "\n",
       "        <iframe\n",
       "            width=\"400\"\n",
       "            height=\"300\"\n",
       "            src=\"https://www.youtube.com/embed/WRr2e7mKCUY\"\n",
       "            frameborder=\"0\"\n",
       "            allowfullscreen\n",
       "            \n",
       "        ></iframe>\n",
       "        "
      ],
      "text/plain": [
       "<IPython.lib.display.YouTubeVideo at 0x1220fbee0>"
      ]
     },
     "execution_count": 119,
     "metadata": {},
     "output_type": "execute_result"
    }
   ],
   "source": [
    "# see the actual derivation of these equations \n",
    "from IPython.display import YouTubeVideo\n",
    "YouTubeVideo(\"WRr2e7mKCUY\")"
   ]
  },
  {
   "cell_type": "markdown",
   "metadata": {},
   "source": [
    "# Practical Implementation of Neural Networks\n",
    "\n",
    "We define a new objective function as:\n",
    "\n",
    "$$ J(\\mathbf{W})=-[\\mathbf{y}^{(i)}\\ln[\\mathbf{a}^{(L+1)}]^{(i)}+(1-\\mathbf{y}^{(i)})\\ln(1-[\\mathbf{a}^{(L+1)}]^{(i)}) ]$$\n",
    "\n",
    "Notice that this is highly similar to the log-likelihood we derived for logistic regression.\n",
    "\n",
    "Such that the new update for the final layer becomes:\n",
    "\n",
    "$$ \\left[\\frac{\\partial J(\\mathbf{W})}{\\mathbf{z}^{(L)}}\\right]^{(i)} = ([\\mathbf{a}^{(L+1)}]^{(i)}- \\mathbf{y}^{(i)}) $$\n",
    "\n",
    "$$ \\left[\\frac{\\partial J(\\mathbf{W})}{\\mathbf{z}^{(2)}}\\right]^{(i)} = ([\\mathbf{a}^{(3)}]^{(i)}- \\mathbf{y}^{(i)})$$\n",
    "\n",
    "And this is straight forward to convert to vectorized math for the sensitivity:\n",
    "\n",
    "$$ \\mathbf{V}^{(2)} = \\mathbf{A}^{(3)}-\\mathbf{Y} $$\n",
    "\n",
    "Which can be derived as follows\n",
    "\n",
    "$$\n",
    "\\begin{align}\n",
    "J(\\mathbf{W})&=-\\left[\\mathbf{y}^{(i)}\\ln\\phi([\\mathbf{z}^{(L)}]^{(i)})+(1-\\mathbf{y}^{(i)})\\ln(1-[\\phi(\\mathbf{z}^{(L)}]^{(i)})) \\right] \\\\\n",
    "\\frac{\\partial J}{\\partial \\mathbf{z}^{(L)}} &=  -\\left[\\frac{\\mathbf{y}^{(i)}}{\\phi([\\mathbf{z}^{(L)})]^{(i)}}\\left( \\frac{\\partial}{\\partial \\mathbf{z}^{(L)}}\\phi([\\mathbf{z}^{(L)}]^{(i)}) \\right)\n",
    "+\\frac{(1-\\mathbf{y}^{(i)})}{(1-[\\phi(\\mathbf{z}^{(L)})]^{(i)})}\\left( \\frac{\\partial}{\\partial \\mathbf{z}^{(L)}}(1-[\\phi(\\mathbf{z}^{(L)}]^{(i)}))\\right) \\right] \\\\\n",
    " &=  -\\left[\\frac{\\mathbf{y}^{(i)}}{\\phi([\\mathbf{z}^{(L)}]^{(i)})} \\phi([\\mathbf{z}^{(L)}]^{(i)})\\left(1-\\phi([\\mathbf{z}^{(L)}]^{(i)}) \\right)\n",
    "+\\left(\\frac{1-\\mathbf{y}^{(i)}}{1-[\\phi(\\mathbf{z}^{(L)}]^{(i)})}\\right)  \\left(-\\phi([\\mathbf{z}^{(L)}]^{(i)})\\left(1-\\phi([\\mathbf{z}^{(L)}]^{(i)}) \\right)\\right) \\right] \\\\\n",
    " &=  -\\left[\\mathbf{y}^{(i)}\\left(1-\\phi([\\mathbf{z}^{(L)}]^{(i)}) \\right)\n",
    "+\\left(1-\\mathbf{y}^{(i)}\\right)  \\left(-\\phi([\\mathbf{z}^{(L)}]^{(i)})\\right) \\right] \\\\\n",
    "&=  -\\left[\\mathbf{y}^{(i)}-\\mathbf{y}^{(i)}\\phi([\\mathbf{z}^{(L)}]^{(i)}) \n",
    "-\\phi([\\mathbf{z}^{(L)}]^{(i)})+\\phi([\\mathbf{z}^{(L)}]^{(i)})\\mathbf{y}^{(i)}   \\right] \\\\\n",
    "&=  -\\left[\\mathbf{y}^{(i)}-\\phi([\\mathbf{z}^{(L)}]^{(i)})   \\right] \\\\\n",
    "&=  \\phi([\\mathbf{z}^{(L)}]^{(i)}) - \\mathbf{y}^{(i)} \\\\\n",
    "&=  [\\mathbf{a}^{(L+1)}]^{(i)} - \\mathbf{y}^{(i)} \\\\\n",
    "\\end{align}\n",
    "$$"
   ]
  },
  {
   "cell_type": "markdown",
   "metadata": {},
   "source": [
    "Another option is to choose the softmax, which is defined as:\n",
    "\n",
    "$$  a_j^{(L+1)} = \\frac{\\exp(z_j^{(L)})}{\\sum_i \\exp(z_i^{(L)})}  $$\n",
    "\n",
    "However, it has an identical update equation as the sigmoid final layer using cross entropy. We will stick with cross entropy in order to keep the consistency to previous feedforward code. However, please note that that sigmoid activation functions are more susceptible to gradient instability. "
   ]
  },
  {
   "cell_type": "code",
   "execution_count": 120,
   "metadata": {},
   "outputs": [],
   "source": [
    "# Example adapted from https://github.com/rasbt/python-machine-learning-book/blob/master/code/ch12/ch12.ipynb\n",
    "# Original Author: Sebastian Raschka\n",
    "\n",
    "# This is the optional book we use in the course, excellent intuitions and straightforward programming examples\n",
    "# please note, however, that this code has been manipulated to reflect our assumptions and notation.\n",
    "import numpy as np\n",
    "from scipy.special import expit\n",
    "import pandas as pd\n",
    "import sys\n",
    "\n",
    "# start with a simple base classifier, which can't be fit or predicted\n",
    "# it only has internal classes to be used by classes that will subclass it\n",
    "class TwoLayerPerceptronBase(object):\n",
    "    def __init__(self, n_hidden=30,\n",
    "                 C=0.0, epochs=500, eta=0.001, random_state=None):\n",
    "        np.random.seed(random_state)\n",
    "        self.n_hidden = n_hidden\n",
    "        self.l2_C = C\n",
    "        self.epochs = epochs\n",
    "        self.eta = eta\n",
    "        \n",
    "    @staticmethod\n",
    "    def _encode_labels(y):\n",
    "        # print('-------------------')\n",
    "        # print(y)\n",
    "        # print(y.shape)\n",
    "        # print('******************')\n",
    "        \"\"\"Encode labels into one-hot representation\"\"\"\n",
    "        onehot = pd.get_dummies(y).values.T\n",
    "        # print(onehot)\n",
    "        # print(onehot.shape)\n",
    "        # print('-------------------')\n",
    "        return onehot\n",
    "\n",
    "    def _initialize_weights(self):\n",
    "        \"\"\"Initialize weights with small random numbers.\"\"\"\n",
    "        W1_num_elems = (self.n_features_)*self.n_hidden\n",
    "        W1 = np.random.uniform(-1.0, 1.0, size=W1_num_elems)\n",
    "        W1 = W1.reshape(self.n_hidden, self.n_features_) # reshape to be W\n",
    "        b1 = np.zeros((self.n_hidden, 1))\n",
    "        \n",
    "        W2_num_elems = (self.n_hidden)*self.n_output_\n",
    "        W2 = np.random.uniform(-1.0, 1.0, size=W2_num_elems)\n",
    "        W2 = W2.reshape(self.n_output_, self.n_hidden)\n",
    "        b2 = np.zeros((self.n_output_, 1))\n",
    "        \n",
    "        return W1, W2, b1, b2\n",
    "    \n",
    "    @staticmethod\n",
    "    def _sigmoid(z):\n",
    "        \"\"\"Use scipy.special.expit to avoid overflow\"\"\"\n",
    "        # 1.0 / (1.0 + np.exp(-z))\n",
    "        return expit(z)\n",
    "    \n",
    "    \n",
    "    @staticmethod\n",
    "    def _L2_reg(lambda_, W1, W2):\n",
    "        \"\"\"Compute L2-regularization cost\"\"\"\n",
    "        # only compute for non-bias terms\n",
    "        return (lambda_/2.0) * np.sqrt(np.mean(W1[:, 1:] ** 2) + np.mean(W2[:, 1:] ** 2))\n",
    "    \n",
    "    def _cost(self,A3,Y_enc,W1,W2):\n",
    "        '''Get the objective function value'''\n",
    "        cost = np.mean((Y_enc-A3)**2)\n",
    "        L2_term = self._L2_reg(self.l2_C, W1, W2)\n",
    "        return cost + L2_term\n",
    "    \n",
    "    def _feedforward(self, X, W1, W2, b1, b2):\n",
    "        \"\"\"Compute feedforward step\n",
    "        -----------\n",
    "        X : Input layer with original features.\n",
    "        W1: Weight matrix for input layer -> hidden layer.\n",
    "        W2: Weight matrix for hidden layer -> output layer.\n",
    "        ----------\n",
    "        a1-a3 : activations into layer (or output layer)\n",
    "        z1-z2 : layer inputs \n",
    "\n",
    "        \"\"\"\n",
    "        A1 = X.T\n",
    "        Z1 = W1 @ A1 + b1\n",
    "        A2 = self._sigmoid(Z1)\n",
    "        Z2 = W2 @ A2 + b2\n",
    "        A3 = self._sigmoid(Z2)\n",
    "        return A1, Z1, A2, Z2, A3\n",
    "    \n",
    "    def _get_gradient(self, A1, A2, A3, Z1, Z2, Y_enc, W1, W2):\n",
    "        \"\"\" Compute gradient step using backpropagation.\n",
    "        \"\"\"\n",
    "        # vectorized backpropagation\n",
    "        V2 = -2*(Y_enc-A3)*A3*(1-A3)\n",
    "        V1 = A2*(1-A2)*(W2.T @ V2)\n",
    "        \n",
    "        gradW2 = V2 @ A2.T\n",
    "        gradW1 = V1 @ A1.T\n",
    "        \n",
    "        gradb2 = np.sum(V2, axis=1).reshape((-1,1))\n",
    "        gradb1 = np.sum(V1, axis=1).reshape((-1,1))\n",
    "        \n",
    "        \n",
    "        # regularize weights that are not bias terms\n",
    "        gradW1 += W1 * self.l2_C\n",
    "        gradW2 += W2 * self.l2_C\n",
    "\n",
    "        return gradW1, gradW2, gradb1, gradb2\n",
    "    \n",
    "    def predict(self, X):\n",
    "        \"\"\"Predict class labels\"\"\"\n",
    "        _, _, _, _, A3 = self._feedforward(X, self.W1, self.W2, self.b1, self.b2)\n",
    "        y_pred = np.argmax(A3, axis=0)\n",
    "        return y_pred"
   ]
  },
  {
   "cell_type": "markdown",
   "metadata": {},
   "source": [
    "##  Momentum, Mini-batch and Cooling\n",
    "Like in the previous notebook, we will add in momentum, cooling and min-batching to the implementation to get a better optimizer. \n",
    "\n",
    "As a bonus, let's add support for keeping track of the validation in the training loop. That is, we will add in a calculation to test the validation loss and accuracy at the end of each epoch."
   ]
  },
  {
   "cell_type": "code",
   "execution_count": 121,
   "metadata": {},
   "outputs": [],
   "source": [
    "from sklearn.metrics import accuracy_score\n",
    "# just start with the vectorized version and minibatch\n",
    "class TLPMiniBatch(TwoLayerPerceptronBase):\n",
    "    def __init__(self, alpha=0.0, decrease_const=0.1, \n",
    "                 decrease_iter = 10, shuffle=True, \n",
    "                 minibatches=1, **kwds):        \n",
    "        # need to add to the original initializer \n",
    "        self.alpha = alpha\n",
    "        self.decrease_const = decrease_const\n",
    "        self.decrease_iter = decrease_iter\n",
    "        self.shuffle = shuffle\n",
    "        self.minibatches = minibatches\n",
    "        # but keep other keywords\n",
    "        super().__init__(**kwds)\n",
    "        \n",
    "    \n",
    "    def fit(self, X, y, print_progress=False, XY_test=None):\n",
    "        \"\"\" Learn weights from training data. With mini-batch\"\"\"\n",
    "        X_data, y_data = X.copy(), y.copy()\n",
    "        Y_enc = self._encode_labels(y)\n",
    "        \n",
    "        # init weights and setup matrices\n",
    "        self.n_features_ = X_data.shape[1]\n",
    "        self.n_output_ = Y_enc.shape[0]\n",
    "        self.W1, self.W2, self.b1, self.b2 = self._initialize_weights()\n",
    "\n",
    "        # start momentum at zero for previous updates\n",
    "        rho_W1_prev = np.zeros(self.W1.shape) # for momentum\n",
    "        rho_W2_prev = np.zeros(self.W2.shape) # for momentum\n",
    "\n",
    "        self.cost_ = []\n",
    "        self.score_ = []\n",
    "        # get starting acc\n",
    "        self.score_.append(accuracy_score(y_data,self.predict(X_data)))\n",
    "        # keep track of validation, if given\n",
    "        if XY_test is not None:\n",
    "            X_test = XY_test[0].copy()\n",
    "            y_test = XY_test[1].copy()\n",
    "            self.val_score_ = []\n",
    "            self.val_score_.append(accuracy_score(y_test,self.predict(X_test)))\n",
    "            self.val_cost_ = []\n",
    "            \n",
    "        for i in range(self.epochs):\n",
    "\n",
    "            # adaptive learning rate\n",
    "            # decrease at certain epochs\n",
    "            eta = self.eta * self.decrease_const**(np.floor(i/self.decrease_iter))\n",
    "\n",
    "            if print_progress>0 and (i+1)%print_progress==0:\n",
    "                sys.stderr.write('\\rEpoch: %d/%d' % (i+1, self.epochs))\n",
    "                sys.stderr.flush()\n",
    "\n",
    "            if self.shuffle:\n",
    "                idx_shuffle = np.random.permutation(y_data.shape[0])\n",
    "                X_data, Y_enc, y_data = X_data[idx_shuffle], Y_enc[:, idx_shuffle], y_data[idx_shuffle]\n",
    "\n",
    "            mini = np.array_split(range(y_data.shape[0]), self.minibatches)\n",
    "            mini_cost = []\n",
    "            for idx in mini:\n",
    "\n",
    "                # feedforward\n",
    "                A1, Z1, A2, Z2, A3 = self._feedforward(X_data[idx],\n",
    "                                                       self.W1,\n",
    "                                                       self.W2,\n",
    "                                                       self.b1,\n",
    "                                                       self.b2\n",
    "                                                      )\n",
    "                \n",
    "                cost = self._cost(A3,Y_enc[:, idx],self.W1,self.W2)\n",
    "                mini_cost.append(cost) # this appends cost of mini-batch only\n",
    "\n",
    "                # compute gradient via backpropagation\n",
    "                gradW1, gradW2, gradb1, gradb2 = self._get_gradient(A1=A1, A2=A2, A3=A3, Z1=Z1, Z2=Z2, \n",
    "                                                  Y_enc=Y_enc[:, idx],\n",
    "                                                  W1=self.W1,W2=self.W2)\n",
    "\n",
    "                \n",
    "                \n",
    "                # simple momentum calculations\n",
    "                \n",
    "                rho_W1, rho_W2 = eta * gradW1, eta * gradW2\n",
    "                self.W1 -= (rho_W1 + (self.alpha * rho_W1_prev)) # update with momentum\n",
    "                self.W2 -= (rho_W2 + (self.alpha * rho_W2_prev)) # update with momentum\n",
    "                \n",
    "                # no need for momentum in bias \n",
    "                # these values need to change abruptly and \n",
    "                # do not influence sensitivity backward\n",
    "                self.b1 -= eta * gradb1\n",
    "                self.b2 -= eta * gradb2\n",
    "                \n",
    "                # update previous parameters \n",
    "                rho_W1_prev, rho_W2_prev = rho_W1, rho_W2\n",
    "                \n",
    "                \n",
    "\n",
    "            self.cost_.append(np.mean(mini_cost))\n",
    "            self.score_.append(accuracy_score(y_data,self.predict(X_data)))\n",
    "            \n",
    "            # update if a validation set was provided\n",
    "            if XY_test is not None:\n",
    "                yhat = self.predict(X_test)\n",
    "                self.val_score_.append(accuracy_score(y_test,yhat))\n",
    "            \n",
    "        return self\n",
    "    "
   ]
  },
  {
   "cell_type": "markdown",
   "metadata": {},
   "source": [
    "## [End review]\n",
    "___\n",
    "\n",
    "## Start of new material\n",
    "\n",
    "Let's start our architecture updates by changing to cross entropy. THis is a realtively easy change to make. Let's do this and then load the fashion MNIST dataset for testing. "
   ]
  },
  {
   "cell_type": "code",
   "execution_count": 122,
   "metadata": {},
   "outputs": [],
   "source": [
    "# to implement the new style of objective function, \n",
    "# we just need to update the final layer calculation of the gradient\n",
    "class TLPMiniBatchCrossEntropy(TLPMiniBatch):\n",
    "    def _cost(self,A3,Y_enc,W1,W2):\n",
    "        '''Get the objective function value'''\n",
    "        cost = -np.mean(np.nan_to_num((Y_enc*np.log(A3+1e-7)+(1-Y_enc)*np.log(1-A3+1e-7))))\n",
    "        L2_term = self._L2_reg(self.l2_C, W1, W2)\n",
    "        return cost + L2_term\n",
    "    \n",
    "    def _get_gradient(self, A1, A2, A3, Z1, Z2, Y_enc, W1, W2):\n",
    "        \"\"\" Compute gradient step using backpropagation.\n",
    "        \"\"\"\n",
    "        # vectorized backpropagation\n",
    "        V2 = (A3-Y_enc) # <- this is only line that changed\n",
    "        V1 = A2*(1-A2)*(W2.T @ V2)\n",
    "        \n",
    "        gradW2 = V2 @ A2.T\n",
    "        gradW1 = V1 @ A1.T\n",
    "        \n",
    "        gradb2 = np.sum(V2, axis=1).reshape((-1,1))\n",
    "        gradb1 = np.sum(V1, axis=1).reshape((-1,1))\n",
    "        \n",
    "        # regularize weights that are not bias terms\n",
    "        gradW1 += W1 * self.l2_C\n",
    "        gradW2 += W2 * self.l2_C\n",
    "\n",
    "        return gradW1, gradW2, gradb1, gradb2\n",
    "        \n",
    "    "
   ]
  },
  {
   "cell_type": "code",
   "execution_count": 123,
   "metadata": {},
   "outputs": [
    {
     "name": "stdout",
     "output_type": "stream",
     "text": [
      "[[0 0 0 ... 0 0 0]\n",
      " [0 0 0 ... 0 0 0]\n",
      " [0 0 0 ... 0 0 0]\n",
      " ...\n",
      " [0 0 0 ... 0 0 0]\n",
      " [0 0 0 ... 0 0 0]\n",
      " [0 0 0 ... 0 0 0]]\n"
     ]
    }
   ],
   "source": [
    "\n",
    "# more diverse fashion MNIST data\n",
    "# Let's use Raschka's implementation for using the mnist dataset:\n",
    "# https://github.com/rasbt/python-machine-learning-book/blob/master/code/ch12/ch12.ipynb\n",
    "import os\n",
    "import struct\n",
    "import numpy as np\n",
    "# from sklearn.preprocessing import RobustScaler\n",
    " \n",
    "def load_mnist(path, kind='fashion_train'):\n",
    "    \"\"\"Load MNIST data from `path`\"\"\"\n",
    "    labels_path = os.path.join(path, '%s-labels-idx1-ubyte' % kind)\n",
    "    images_path = os.path.join(path, '%s-images-idx3-ubyte' % kind)\n",
    "        \n",
    "    with open(labels_path, 'rb') as lbpath:\n",
    "        magic, n = struct.unpack('>II', lbpath.read(8))\n",
    "        labels = np.fromfile(lbpath, dtype=np.uint8)\n",
    "\n",
    "    with open(images_path, 'rb') as imgpath:\n",
    "        magic, num, rows, cols = struct.unpack(\">IIII\", imgpath.read(16))\n",
    "        images = np.fromfile(imgpath, dtype=np.uint8).reshape(len(labels), 784)\n",
    " \n",
    "    return images, labels\n",
    "\n",
    "X_train, y_train = load_mnist('data/', kind='fashion_train')\n",
    "print(X_train)\n",
    "# print('Rows: %d, columns: %d' % (X_train.shape[0], X_train.shape[1]))\n",
    "\n",
    "# X_test, y_test = load_mnist('data/', kind='fashion_t10k')\n",
    "# print('Rows: %d, columns: %d' % (X_test.shape[0], X_test.shape[1]))\n",
    "\n",
    "# # important pre-processing steps!!\n",
    "# X_train = X_train/255.0 - 0.5\n",
    "# X_test = X_test/255.0 - 0.5\n"
   ]
  },
  {
   "cell_type": "code",
   "execution_count": 124,
   "metadata": {},
   "outputs": [
    {
     "ename": "ValueError",
     "evalue": "matmul: Input operand 1 has a mismatch in its core dimension 0, with gufunc signature (n?,k),(k,m?)->(n?,m?) (size 35 is different from 784)",
     "output_type": "error",
     "traceback": [
      "\u001b[0;31m---------------------------------------------------------------------------\u001b[0m",
      "\u001b[0;31mValueError\u001b[0m                                Traceback (most recent call last)",
      "File \u001b[0;32m<timed eval>:1\u001b[0m\n",
      "Cell \u001b[0;32mIn[121], line 40\u001b[0m, in \u001b[0;36mTLPMiniBatch.fit\u001b[0;34m(self, X, y, print_progress, XY_test)\u001b[0m\n\u001b[1;32m     38\u001b[0m     y_test \u001b[38;5;241m=\u001b[39m XY_test[\u001b[38;5;241m1\u001b[39m]\u001b[38;5;241m.\u001b[39mcopy()\n\u001b[1;32m     39\u001b[0m     \u001b[38;5;28mself\u001b[39m\u001b[38;5;241m.\u001b[39mval_score_ \u001b[38;5;241m=\u001b[39m []\n\u001b[0;32m---> 40\u001b[0m     \u001b[38;5;28mself\u001b[39m\u001b[38;5;241m.\u001b[39mval_score_\u001b[38;5;241m.\u001b[39mappend(accuracy_score(y_test,\u001b[38;5;28;43mself\u001b[39;49m\u001b[38;5;241;43m.\u001b[39;49m\u001b[43mpredict\u001b[49m\u001b[43m(\u001b[49m\u001b[43mX_test\u001b[49m\u001b[43m)\u001b[49m))\n\u001b[1;32m     41\u001b[0m     \u001b[38;5;28mself\u001b[39m\u001b[38;5;241m.\u001b[39mval_cost_ \u001b[38;5;241m=\u001b[39m []\n\u001b[1;32m     43\u001b[0m \u001b[38;5;28;01mfor\u001b[39;00m i \u001b[38;5;129;01min\u001b[39;00m \u001b[38;5;28mrange\u001b[39m(\u001b[38;5;28mself\u001b[39m\u001b[38;5;241m.\u001b[39mepochs):\n\u001b[1;32m     44\u001b[0m \n\u001b[1;32m     45\u001b[0m     \u001b[38;5;66;03m# adaptive learning rate\u001b[39;00m\n\u001b[1;32m     46\u001b[0m     \u001b[38;5;66;03m# decrease at certain epochs\u001b[39;00m\n",
      "Cell \u001b[0;32mIn[120], line 108\u001b[0m, in \u001b[0;36mTwoLayerPerceptronBase.predict\u001b[0;34m(self, X)\u001b[0m\n\u001b[1;32m    106\u001b[0m \u001b[38;5;28;01mdef\u001b[39;00m \u001b[38;5;21mpredict\u001b[39m(\u001b[38;5;28mself\u001b[39m, X):\n\u001b[1;32m    107\u001b[0m \u001b[38;5;250m    \u001b[39m\u001b[38;5;124;03m\"\"\"Predict class labels\"\"\"\u001b[39;00m\n\u001b[0;32m--> 108\u001b[0m     _, _, _, _, A3 \u001b[38;5;241m=\u001b[39m \u001b[38;5;28;43mself\u001b[39;49m\u001b[38;5;241;43m.\u001b[39;49m\u001b[43m_feedforward\u001b[49m\u001b[43m(\u001b[49m\u001b[43mX\u001b[49m\u001b[43m,\u001b[49m\u001b[43m \u001b[49m\u001b[38;5;28;43mself\u001b[39;49m\u001b[38;5;241;43m.\u001b[39;49m\u001b[43mW1\u001b[49m\u001b[43m,\u001b[49m\u001b[43m \u001b[49m\u001b[38;5;28;43mself\u001b[39;49m\u001b[38;5;241;43m.\u001b[39;49m\u001b[43mW2\u001b[49m\u001b[43m,\u001b[49m\u001b[43m \u001b[49m\u001b[38;5;28;43mself\u001b[39;49m\u001b[38;5;241;43m.\u001b[39;49m\u001b[43mb1\u001b[49m\u001b[43m,\u001b[49m\u001b[43m \u001b[49m\u001b[38;5;28;43mself\u001b[39;49m\u001b[38;5;241;43m.\u001b[39;49m\u001b[43mb2\u001b[49m\u001b[43m)\u001b[49m\n\u001b[1;32m    109\u001b[0m     y_pred \u001b[38;5;241m=\u001b[39m np\u001b[38;5;241m.\u001b[39margmax(A3, axis\u001b[38;5;241m=\u001b[39m\u001b[38;5;241m0\u001b[39m)\n\u001b[1;32m    110\u001b[0m     \u001b[38;5;28;01mreturn\u001b[39;00m y_pred\n",
      "Cell \u001b[0;32mIn[120], line 80\u001b[0m, in \u001b[0;36mTwoLayerPerceptronBase._feedforward\u001b[0;34m(self, X, W1, W2, b1, b2)\u001b[0m\n\u001b[1;32m     69\u001b[0m \u001b[38;5;250m\u001b[39m\u001b[38;5;124;03m\"\"\"Compute feedforward step\u001b[39;00m\n\u001b[1;32m     70\u001b[0m \u001b[38;5;124;03m-----------\u001b[39;00m\n\u001b[1;32m     71\u001b[0m \u001b[38;5;124;03mX : Input layer with original features.\u001b[39;00m\n\u001b[0;32m   (...)\u001b[0m\n\u001b[1;32m     77\u001b[0m \n\u001b[1;32m     78\u001b[0m \u001b[38;5;124;03m\"\"\"\u001b[39;00m\n\u001b[1;32m     79\u001b[0m A1 \u001b[38;5;241m=\u001b[39m X\u001b[38;5;241m.\u001b[39mT\n\u001b[0;32m---> 80\u001b[0m Z1 \u001b[38;5;241m=\u001b[39m \u001b[43mW1\u001b[49m\u001b[43m \u001b[49m\u001b[38;5;241;43m@\u001b[39;49m\u001b[43m \u001b[49m\u001b[43mA1\u001b[49m \u001b[38;5;241m+\u001b[39m b1\n\u001b[1;32m     81\u001b[0m A2 \u001b[38;5;241m=\u001b[39m \u001b[38;5;28mself\u001b[39m\u001b[38;5;241m.\u001b[39m_sigmoid(Z1)\n\u001b[1;32m     82\u001b[0m Z2 \u001b[38;5;241m=\u001b[39m W2 \u001b[38;5;241m@\u001b[39m A2 \u001b[38;5;241m+\u001b[39m b2\n",
      "\u001b[0;31mValueError\u001b[0m: matmul: Input operand 1 has a mismatch in its core dimension 0, with gufunc signature (n?,k),(k,m?)->(n?,m?) (size 35 is different from 784)"
     ]
    },
    {
     "ename": "ValueError",
     "evalue": "matmul: Input operand 1 has a mismatch in its core dimension 0, with gufunc signature (n?,k),(k,m?)->(n?,m?) (size 35 is different from 784)",
     "output_type": "error",
     "traceback": [
      "\u001b[0;31m---------------------------------------------------------------------------\u001b[0m",
      "\u001b[0;31mValueError\u001b[0m                                Traceback (most recent call last)",
      "File \u001b[0;32m<timed eval>:1\u001b[0m\n",
      "Cell \u001b[0;32mIn[121], line 40\u001b[0m, in \u001b[0;36mTLPMiniBatch.fit\u001b[0;34m(self, X, y, print_progress, XY_test)\u001b[0m\n\u001b[1;32m     38\u001b[0m     y_test \u001b[38;5;241m=\u001b[39m XY_test[\u001b[38;5;241m1\u001b[39m]\u001b[38;5;241m.\u001b[39mcopy()\n\u001b[1;32m     39\u001b[0m     \u001b[38;5;28mself\u001b[39m\u001b[38;5;241m.\u001b[39mval_score_ \u001b[38;5;241m=\u001b[39m []\n\u001b[0;32m---> 40\u001b[0m     \u001b[38;5;28mself\u001b[39m\u001b[38;5;241m.\u001b[39mval_score_\u001b[38;5;241m.\u001b[39mappend(accuracy_score(y_test,\u001b[38;5;28;43mself\u001b[39;49m\u001b[38;5;241;43m.\u001b[39;49m\u001b[43mpredict\u001b[49m\u001b[43m(\u001b[49m\u001b[43mX_test\u001b[49m\u001b[43m)\u001b[49m))\n\u001b[1;32m     41\u001b[0m     \u001b[38;5;28mself\u001b[39m\u001b[38;5;241m.\u001b[39mval_cost_ \u001b[38;5;241m=\u001b[39m []\n\u001b[1;32m     43\u001b[0m \u001b[38;5;28;01mfor\u001b[39;00m i \u001b[38;5;129;01min\u001b[39;00m \u001b[38;5;28mrange\u001b[39m(\u001b[38;5;28mself\u001b[39m\u001b[38;5;241m.\u001b[39mepochs):\n\u001b[1;32m     44\u001b[0m \n\u001b[1;32m     45\u001b[0m     \u001b[38;5;66;03m# adaptive learning rate\u001b[39;00m\n\u001b[1;32m     46\u001b[0m     \u001b[38;5;66;03m# decrease at certain epochs\u001b[39;00m\n",
      "Cell \u001b[0;32mIn[120], line 108\u001b[0m, in \u001b[0;36mTwoLayerPerceptronBase.predict\u001b[0;34m(self, X)\u001b[0m\n\u001b[1;32m    106\u001b[0m \u001b[38;5;28;01mdef\u001b[39;00m \u001b[38;5;21mpredict\u001b[39m(\u001b[38;5;28mself\u001b[39m, X):\n\u001b[1;32m    107\u001b[0m \u001b[38;5;250m    \u001b[39m\u001b[38;5;124;03m\"\"\"Predict class labels\"\"\"\u001b[39;00m\n\u001b[0;32m--> 108\u001b[0m     _, _, _, _, A3 \u001b[38;5;241m=\u001b[39m \u001b[38;5;28;43mself\u001b[39;49m\u001b[38;5;241;43m.\u001b[39;49m\u001b[43m_feedforward\u001b[49m\u001b[43m(\u001b[49m\u001b[43mX\u001b[49m\u001b[43m,\u001b[49m\u001b[43m \u001b[49m\u001b[38;5;28;43mself\u001b[39;49m\u001b[38;5;241;43m.\u001b[39;49m\u001b[43mW1\u001b[49m\u001b[43m,\u001b[49m\u001b[43m \u001b[49m\u001b[38;5;28;43mself\u001b[39;49m\u001b[38;5;241;43m.\u001b[39;49m\u001b[43mW2\u001b[49m\u001b[43m,\u001b[49m\u001b[43m \u001b[49m\u001b[38;5;28;43mself\u001b[39;49m\u001b[38;5;241;43m.\u001b[39;49m\u001b[43mb1\u001b[49m\u001b[43m,\u001b[49m\u001b[43m \u001b[49m\u001b[38;5;28;43mself\u001b[39;49m\u001b[38;5;241;43m.\u001b[39;49m\u001b[43mb2\u001b[49m\u001b[43m)\u001b[49m\n\u001b[1;32m    109\u001b[0m     y_pred \u001b[38;5;241m=\u001b[39m np\u001b[38;5;241m.\u001b[39margmax(A3, axis\u001b[38;5;241m=\u001b[39m\u001b[38;5;241m0\u001b[39m)\n\u001b[1;32m    110\u001b[0m     \u001b[38;5;28;01mreturn\u001b[39;00m y_pred\n",
      "Cell \u001b[0;32mIn[120], line 80\u001b[0m, in \u001b[0;36mTwoLayerPerceptronBase._feedforward\u001b[0;34m(self, X, W1, W2, b1, b2)\u001b[0m\n\u001b[1;32m     69\u001b[0m \u001b[38;5;250m\u001b[39m\u001b[38;5;124;03m\"\"\"Compute feedforward step\u001b[39;00m\n\u001b[1;32m     70\u001b[0m \u001b[38;5;124;03m-----------\u001b[39;00m\n\u001b[1;32m     71\u001b[0m \u001b[38;5;124;03mX : Input layer with original features.\u001b[39;00m\n\u001b[0;32m   (...)\u001b[0m\n\u001b[1;32m     77\u001b[0m \n\u001b[1;32m     78\u001b[0m \u001b[38;5;124;03m\"\"\"\u001b[39;00m\n\u001b[1;32m     79\u001b[0m A1 \u001b[38;5;241m=\u001b[39m X\u001b[38;5;241m.\u001b[39mT\n\u001b[0;32m---> 80\u001b[0m Z1 \u001b[38;5;241m=\u001b[39m \u001b[43mW1\u001b[49m\u001b[43m \u001b[49m\u001b[38;5;241;43m@\u001b[39;49m\u001b[43m \u001b[49m\u001b[43mA1\u001b[49m \u001b[38;5;241m+\u001b[39m b1\n\u001b[1;32m     81\u001b[0m A2 \u001b[38;5;241m=\u001b[39m \u001b[38;5;28mself\u001b[39m\u001b[38;5;241m.\u001b[39m_sigmoid(Z1)\n\u001b[1;32m     82\u001b[0m Z2 \u001b[38;5;241m=\u001b[39m W2 \u001b[38;5;241m@\u001b[39m A2 \u001b[38;5;241m+\u001b[39m b2\n",
      "\u001b[0;31mValueError\u001b[0m: matmul: Input operand 1 has a mismatch in its core dimension 0, with gufunc signature (n?,k),(k,m?)->(n?,m?) (size 35 is different from 784)"
     ]
    },
    {
     "name": "stdout",
     "output_type": "stream",
     "text": [
      "Done\n"
     ]
    }
   ],
   "source": [
    "vals = { 'n_hidden':30, \n",
    "         'C':0.1, 'epochs':20, 'eta':0.01, # poor starting learning rate!!\n",
    "         'alpha':0.001, 'decrease_const':0.1, 'decrease_iter':15,\n",
    "         'minibatches':50,\n",
    "         'shuffle':True,'random_state':1}\n",
    "\n",
    "nn_quad = TLPMiniBatch(**vals)\n",
    "nn_cross = TLPMiniBatchCrossEntropy(**vals)\n",
    "\n",
    "%time nn_cross.fit(X_train, y_train, print_progress=1, XY_test=(X_test, y_test))\n",
    "%time nn_quad.fit(X_train, y_train, print_progress=1, XY_test=(X_test, y_test))\n",
    "print(\"Done\")"
   ]
  },
  {
   "cell_type": "code",
   "execution_count": 125,
   "metadata": {},
   "outputs": [],
   "source": [
    "from sklearn.metrics import accuracy_score\n",
    "import matplotlib.pyplot as plt\n",
    "%matplotlib inline\n",
    "\n",
    "plt.style.use('ggplot')\n",
    "\n",
    "def print_result(nn,X_train,y_train,X_test,y_test,title=\"\",color=\"red\"):\n",
    "    \n",
    "    print(\"=================\")\n",
    "    print(title,\":\")\n",
    "    yhat = nn.predict(X_train)\n",
    "    print('Resubstitution acc:',accuracy_score(y_train,yhat))\n",
    "    \n",
    "    yhat = nn.predict(X_test)\n",
    "    print('Validation acc:',accuracy_score(y_test,yhat))\n",
    "    \n",
    "    if hasattr(nn,'val_score_'):\n",
    "        plt.plot(range(len(nn.val_score_)), nn.val_score_, color=color,label=title)\n",
    "        plt.ylabel('Validation Accuracy')\n",
    "    else:\n",
    "        plt.plot(range(len(nn.score_)), nn.score_, color=color,label=title)\n",
    "        plt.ylabel('Resub Accuracy')\n",
    "        \n",
    "    plt.xlabel('Epochs')\n",
    "    plt.tight_layout()\n",
    "    plt.legend(loc='best')\n",
    "    plt.grid(True)"
   ]
  },
  {
   "cell_type": "code",
   "execution_count": 126,
   "metadata": {},
   "outputs": [
    {
     "name": "stdout",
     "output_type": "stream",
     "text": [
      "=================\n",
      "Cross Entropy Loss :\n",
      "Resubstitution acc: 0.05905\n"
     ]
    },
    {
     "ename": "ValueError",
     "evalue": "matmul: Input operand 1 has a mismatch in its core dimension 0, with gufunc signature (n?,k),(k,m?)->(n?,m?) (size 35 is different from 784)",
     "output_type": "error",
     "traceback": [
      "\u001b[0;31m---------------------------------------------------------------------------\u001b[0m",
      "\u001b[0;31mValueError\u001b[0m                                Traceback (most recent call last)",
      "Cell \u001b[0;32mIn[126], line 1\u001b[0m\n\u001b[0;32m----> 1\u001b[0m \u001b[43mprint_result\u001b[49m\u001b[43m(\u001b[49m\u001b[43mnn_cross\u001b[49m\u001b[43m,\u001b[49m\u001b[43mX_train\u001b[49m\u001b[43m,\u001b[49m\u001b[43my_train\u001b[49m\u001b[43m,\u001b[49m\u001b[43mX_test\u001b[49m\u001b[43m,\u001b[49m\u001b[43my_test\u001b[49m\u001b[43m,\u001b[49m\u001b[43mtitle\u001b[49m\u001b[38;5;241;43m=\u001b[39;49m\u001b[38;5;124;43m\"\u001b[39;49m\u001b[38;5;124;43mCross Entropy Loss\u001b[39;49m\u001b[38;5;124;43m\"\u001b[39;49m\u001b[43m,\u001b[49m\u001b[43mcolor\u001b[49m\u001b[38;5;241;43m=\u001b[39;49m\u001b[38;5;124;43m\"\u001b[39;49m\u001b[38;5;124;43mred\u001b[39;49m\u001b[38;5;124;43m\"\u001b[39;49m\u001b[43m)\u001b[49m\n\u001b[1;32m      2\u001b[0m print_result(nn_quad,X_train,y_train,X_test,y_test,title\u001b[38;5;241m=\u001b[39m\u001b[38;5;124m\"\u001b[39m\u001b[38;5;124mMSE Loss\u001b[39m\u001b[38;5;124m\"\u001b[39m,color\u001b[38;5;241m=\u001b[39m\u001b[38;5;124m\"\u001b[39m\u001b[38;5;124mblue\u001b[39m\u001b[38;5;124m\"\u001b[39m)\n\u001b[1;32m      4\u001b[0m plt\u001b[38;5;241m.\u001b[39mshow()\n",
      "Cell \u001b[0;32mIn[125], line 14\u001b[0m, in \u001b[0;36mprint_result\u001b[0;34m(nn, X_train, y_train, X_test, y_test, title, color)\u001b[0m\n\u001b[1;32m     11\u001b[0m yhat \u001b[38;5;241m=\u001b[39m nn\u001b[38;5;241m.\u001b[39mpredict(X_train)\n\u001b[1;32m     12\u001b[0m \u001b[38;5;28mprint\u001b[39m(\u001b[38;5;124m'\u001b[39m\u001b[38;5;124mResubstitution acc:\u001b[39m\u001b[38;5;124m'\u001b[39m,accuracy_score(y_train,yhat))\n\u001b[0;32m---> 14\u001b[0m yhat \u001b[38;5;241m=\u001b[39m \u001b[43mnn\u001b[49m\u001b[38;5;241;43m.\u001b[39;49m\u001b[43mpredict\u001b[49m\u001b[43m(\u001b[49m\u001b[43mX_test\u001b[49m\u001b[43m)\u001b[49m\n\u001b[1;32m     15\u001b[0m \u001b[38;5;28mprint\u001b[39m(\u001b[38;5;124m'\u001b[39m\u001b[38;5;124mValidation acc:\u001b[39m\u001b[38;5;124m'\u001b[39m,accuracy_score(y_test,yhat))\n\u001b[1;32m     17\u001b[0m \u001b[38;5;28;01mif\u001b[39;00m \u001b[38;5;28mhasattr\u001b[39m(nn,\u001b[38;5;124m'\u001b[39m\u001b[38;5;124mval_score_\u001b[39m\u001b[38;5;124m'\u001b[39m):\n",
      "Cell \u001b[0;32mIn[120], line 108\u001b[0m, in \u001b[0;36mTwoLayerPerceptronBase.predict\u001b[0;34m(self, X)\u001b[0m\n\u001b[1;32m    106\u001b[0m \u001b[38;5;28;01mdef\u001b[39;00m \u001b[38;5;21mpredict\u001b[39m(\u001b[38;5;28mself\u001b[39m, X):\n\u001b[1;32m    107\u001b[0m \u001b[38;5;250m    \u001b[39m\u001b[38;5;124;03m\"\"\"Predict class labels\"\"\"\u001b[39;00m\n\u001b[0;32m--> 108\u001b[0m     _, _, _, _, A3 \u001b[38;5;241m=\u001b[39m \u001b[38;5;28;43mself\u001b[39;49m\u001b[38;5;241;43m.\u001b[39;49m\u001b[43m_feedforward\u001b[49m\u001b[43m(\u001b[49m\u001b[43mX\u001b[49m\u001b[43m,\u001b[49m\u001b[43m \u001b[49m\u001b[38;5;28;43mself\u001b[39;49m\u001b[38;5;241;43m.\u001b[39;49m\u001b[43mW1\u001b[49m\u001b[43m,\u001b[49m\u001b[43m \u001b[49m\u001b[38;5;28;43mself\u001b[39;49m\u001b[38;5;241;43m.\u001b[39;49m\u001b[43mW2\u001b[49m\u001b[43m,\u001b[49m\u001b[43m \u001b[49m\u001b[38;5;28;43mself\u001b[39;49m\u001b[38;5;241;43m.\u001b[39;49m\u001b[43mb1\u001b[49m\u001b[43m,\u001b[49m\u001b[43m \u001b[49m\u001b[38;5;28;43mself\u001b[39;49m\u001b[38;5;241;43m.\u001b[39;49m\u001b[43mb2\u001b[49m\u001b[43m)\u001b[49m\n\u001b[1;32m    109\u001b[0m     y_pred \u001b[38;5;241m=\u001b[39m np\u001b[38;5;241m.\u001b[39margmax(A3, axis\u001b[38;5;241m=\u001b[39m\u001b[38;5;241m0\u001b[39m)\n\u001b[1;32m    110\u001b[0m     \u001b[38;5;28;01mreturn\u001b[39;00m y_pred\n",
      "Cell \u001b[0;32mIn[120], line 80\u001b[0m, in \u001b[0;36mTwoLayerPerceptronBase._feedforward\u001b[0;34m(self, X, W1, W2, b1, b2)\u001b[0m\n\u001b[1;32m     69\u001b[0m \u001b[38;5;250m\u001b[39m\u001b[38;5;124;03m\"\"\"Compute feedforward step\u001b[39;00m\n\u001b[1;32m     70\u001b[0m \u001b[38;5;124;03m-----------\u001b[39;00m\n\u001b[1;32m     71\u001b[0m \u001b[38;5;124;03mX : Input layer with original features.\u001b[39;00m\n\u001b[0;32m   (...)\u001b[0m\n\u001b[1;32m     77\u001b[0m \n\u001b[1;32m     78\u001b[0m \u001b[38;5;124;03m\"\"\"\u001b[39;00m\n\u001b[1;32m     79\u001b[0m A1 \u001b[38;5;241m=\u001b[39m X\u001b[38;5;241m.\u001b[39mT\n\u001b[0;32m---> 80\u001b[0m Z1 \u001b[38;5;241m=\u001b[39m \u001b[43mW1\u001b[49m\u001b[43m \u001b[49m\u001b[38;5;241;43m@\u001b[39;49m\u001b[43m \u001b[49m\u001b[43mA1\u001b[49m \u001b[38;5;241m+\u001b[39m b1\n\u001b[1;32m     81\u001b[0m A2 \u001b[38;5;241m=\u001b[39m \u001b[38;5;28mself\u001b[39m\u001b[38;5;241m.\u001b[39m_sigmoid(Z1)\n\u001b[1;32m     82\u001b[0m Z2 \u001b[38;5;241m=\u001b[39m W2 \u001b[38;5;241m@\u001b[39m A2 \u001b[38;5;241m+\u001b[39m b2\n",
      "\u001b[0;31mValueError\u001b[0m: matmul: Input operand 1 has a mismatch in its core dimension 0, with gufunc signature (n?,k),(k,m?)->(n?,m?) (size 35 is different from 784)"
     ]
    }
   ],
   "source": [
    "print_result(nn_cross,X_train,y_train,X_test,y_test,title=\"Cross Entropy Loss\",color=\"red\")\n",
    "print_result(nn_quad,X_train,y_train,X_test,y_test,title=\"MSE Loss\",color=\"blue\")\n",
    "\n",
    "plt.show()"
   ]
  },
  {
   "cell_type": "markdown",
   "metadata": {},
   "source": [
    "## Now let's Do initialization "
   ]
  },
  {
   "cell_type": "code",
   "execution_count": null,
   "metadata": {},
   "outputs": [],
   "source": [
    "class TLPBetterInitial(TLPMiniBatchCrossEntropy):             \n",
    "    def _initialize_weights(self):\n",
    "        \"\"\"Initialize weights Glorot and He normalization.\"\"\"\n",
    "        init_bound = 4*np.sqrt(6. / (self.n_hidden + self.n_features_))\n",
    "        W1 = np.random.uniform(-init_bound, init_bound,(self.n_hidden, self.n_features_))\n",
    "\n",
    "        # reduce the final layer magnitude in order to balance the size of the gradients\n",
    "        # between \n",
    "        init_bound = 4*np.sqrt(6 / (self.n_output_ + self.n_hidden))\n",
    "        W2 = np.random.uniform(-init_bound, init_bound,(self.n_output_, self.n_hidden)) \n",
    "        \n",
    "        # set these to zero to start so that\n",
    "        # they do not immediately saturate the neurons\n",
    "        b1 = np.zeros((self.n_hidden, 1))\n",
    "        b2 = np.zeros((self.n_output_, 1))\n",
    "        \n",
    "        return W1, W2, b1, b2"
   ]
  },
  {
   "cell_type": "code",
   "execution_count": null,
   "metadata": {},
   "outputs": [],
   "source": [
    "vals['epochs'] = 20\n",
    "vals['eta'] = 0.001\n",
    "\n",
    "nn_tradit = TLPMiniBatchCrossEntropy(**vals)\n",
    "nn_better = TLPBetterInitial(**vals)\n",
    "\n",
    "%time nn_tradit.fit(X_train, y_train, print_progress=1, XY_test=(X_test, y_test))\n",
    "%time nn_better.fit(X_train, y_train, print_progress=1, XY_test=(X_test, y_test))\n",
    "\n",
    "print_result(nn_tradit,X_train,y_train,X_test,y_test,title=\"Traditional\",color=\"red\")\n",
    "print_result(nn_better,X_train,y_train,X_test,y_test,title=\"Glorot Initial\",color=\"blue\")\n",
    "plt.show()"
   ]
  },
  {
   "cell_type": "code",
   "execution_count": null,
   "metadata": {},
   "outputs": [],
   "source": [
    "# just for fun, let's look at the output of what happens when we let our system loose\n",
    "# these values have been hand tuned\n",
    "vals = {'n_hidden': 50,\n",
    "        'C': 1e-2, 'epochs': 50, 'eta': 0.005,\n",
    "        'alpha': 0.1, 'decrease_const': 0.1, 'decrease_iter': 20,\n",
    "        'mini_batches': len(X_train)/256, 'shuffle': True, 'random_state': 1}\n",
    "\n",
    "nn_long_sigmoid = TLPBetterInitial(**vals)\n",
    "\n",
    "%time nn_long_sigmoid.fit(X_train, y_train, print_progress=1, XY_test=(X_test,y_test))\n",
    "print_result(nn_long_sigmoid,X_train,y_train,X_test,y_test,title=\"Long Run\",color=\"red\")"
   ]
  },
  {
   "cell_type": "code",
   "execution_count": 118,
   "metadata": {},
   "outputs": [
    {
     "name": "stdout",
     "output_type": "stream",
     "text": [
      "Data has 74001 instances and 37 features\n"
     ]
    },
    {
     "ename": "TypeError",
     "evalue": "__init__() got an unexpected keyword argument 'mini_batches'",
     "output_type": "error",
     "traceback": [
      "\u001b[0;31m---------------------------------------------------------------------------\u001b[0m",
      "\u001b[0;31mTypeError\u001b[0m                                 Traceback (most recent call last)",
      "Cell \u001b[0;32mIn[118], line 34\u001b[0m\n\u001b[1;32m     27\u001b[0m X_train, X_test, y_train, y_test \u001b[38;5;241m=\u001b[39m train_test_split(X\u001b[38;5;241m.\u001b[39mvalues, y[\u001b[38;5;124m'\u001b[39m\u001b[38;5;124mChildPovertyBucketNumeric\u001b[39m\u001b[38;5;124m'\u001b[39m]\u001b[38;5;241m.\u001b[39mvalues, test_size\u001b[38;5;241m=\u001b[39m\u001b[38;5;241m0.20\u001b[39m, random_state\u001b[38;5;241m=\u001b[39m\u001b[38;5;241m1\u001b[39m)\n\u001b[1;32m     29\u001b[0m vals \u001b[38;5;241m=\u001b[39m {\u001b[38;5;124m'\u001b[39m\u001b[38;5;124mn_hidden\u001b[39m\u001b[38;5;124m'\u001b[39m: \u001b[38;5;241m50\u001b[39m,\n\u001b[1;32m     30\u001b[0m         \u001b[38;5;124m'\u001b[39m\u001b[38;5;124mC\u001b[39m\u001b[38;5;124m'\u001b[39m: \u001b[38;5;241m1e-2\u001b[39m, \u001b[38;5;124m'\u001b[39m\u001b[38;5;124mepochs\u001b[39m\u001b[38;5;124m'\u001b[39m: \u001b[38;5;241m50\u001b[39m, \u001b[38;5;124m'\u001b[39m\u001b[38;5;124meta\u001b[39m\u001b[38;5;124m'\u001b[39m: \u001b[38;5;241m0.005\u001b[39m,\n\u001b[1;32m     31\u001b[0m         \u001b[38;5;124m'\u001b[39m\u001b[38;5;124malpha\u001b[39m\u001b[38;5;124m'\u001b[39m: \u001b[38;5;241m0.1\u001b[39m, \u001b[38;5;124m'\u001b[39m\u001b[38;5;124mdecrease_const\u001b[39m\u001b[38;5;124m'\u001b[39m: \u001b[38;5;241m0.1\u001b[39m, \u001b[38;5;124m'\u001b[39m\u001b[38;5;124mdecrease_iter\u001b[39m\u001b[38;5;124m'\u001b[39m: \u001b[38;5;241m20\u001b[39m,\n\u001b[1;32m     32\u001b[0m         \u001b[38;5;124m'\u001b[39m\u001b[38;5;124mmini_batches\u001b[39m\u001b[38;5;124m'\u001b[39m: \u001b[38;5;28mlen\u001b[39m(X_train)\u001b[38;5;241m/\u001b[39m\u001b[38;5;241m256\u001b[39m, \u001b[38;5;124m'\u001b[39m\u001b[38;5;124mshuffle\u001b[39m\u001b[38;5;124m'\u001b[39m: \u001b[38;5;28;01mTrue\u001b[39;00m, \u001b[38;5;124m'\u001b[39m\u001b[38;5;124mrandom_state\u001b[39m\u001b[38;5;124m'\u001b[39m: \u001b[38;5;241m1\u001b[39m}\n\u001b[0;32m---> 34\u001b[0m model \u001b[38;5;241m=\u001b[39m \u001b[43mTLPBetterInitial\u001b[49m\u001b[43m(\u001b[49m\u001b[38;5;241;43m*\u001b[39;49m\u001b[38;5;241;43m*\u001b[39;49m\u001b[43mvals\u001b[49m\u001b[43m)\u001b[49m\n\u001b[1;32m     36\u001b[0m model\u001b[38;5;241m.\u001b[39mfit(X_train, y_train, print_progress\u001b[38;5;241m=\u001b[39m\u001b[38;5;28;01mTrue\u001b[39;00m, XY_test\u001b[38;5;241m=\u001b[39m(X_test, y_test))\n\u001b[1;32m     37\u001b[0m print_result(model, X_train, y_train, X_test, y_test, title\u001b[38;5;241m=\u001b[39m\u001b[38;5;124m\"\u001b[39m\u001b[38;5;124mLong Run\u001b[39m\u001b[38;5;124m\"\u001b[39m, color\u001b[38;5;241m=\u001b[39m\u001b[38;5;124m\"\u001b[39m\u001b[38;5;124mred\u001b[39m\u001b[38;5;124m\"\u001b[39m)\n",
      "Cell \u001b[0;32mIn[109], line 14\u001b[0m, in \u001b[0;36mTLPMiniBatch.__init__\u001b[0;34m(self, alpha, decrease_const, decrease_iter, shuffle, minibatches, **kwds)\u001b[0m\n\u001b[1;32m     12\u001b[0m \u001b[38;5;28mself\u001b[39m\u001b[38;5;241m.\u001b[39mminibatches \u001b[38;5;241m=\u001b[39m minibatches\n\u001b[1;32m     13\u001b[0m \u001b[38;5;66;03m# but keep other keywords\u001b[39;00m\n\u001b[0;32m---> 14\u001b[0m \u001b[38;5;28;43msuper\u001b[39;49m\u001b[43m(\u001b[49m\u001b[43m)\u001b[49m\u001b[38;5;241;43m.\u001b[39;49m\u001b[38;5;21;43m__init__\u001b[39;49m\u001b[43m(\u001b[49m\u001b[38;5;241;43m*\u001b[39;49m\u001b[38;5;241;43m*\u001b[39;49m\u001b[43mkwds\u001b[49m\u001b[43m)\u001b[49m\n",
      "\u001b[0;31mTypeError\u001b[0m: __init__() got an unexpected keyword argument 'mini_batches'"
     ]
    }
   ],
   "source": [
    "from sklearn.model_selection import train_test_split\n",
    "from sklearn.preprocessing import StandardScaler\n",
    "\n",
    "data = pd.read_csv('./acs2017_census_tract_data.csv')\n",
    "\n",
    "# These are the columns for the \"County Data\"\n",
    "print('Data has {} instances and {} features'.format\n",
    "      (data.shape[0], data.shape[1]))\n",
    "\n",
    "data.drop(['TractId'], axis=1, inplace=True)\n",
    "data.dropna(inplace=True)\n",
    "data.State = data.State.astype('category').cat.codes\n",
    "data.County = data.County.astype('category').cat.codes\n",
    "data.drop(['County'], axis=1, inplace=True)\n",
    "data['ChildPovertyBucket'] = pd.qcut(data.ChildPoverty, 4, precision=0, labels=['UPPER', 'UPPER_MIDDLE', 'MIDDLE', 'LOWER'])\n",
    "data['ChildPovertyBucketNumeric'] = data.ChildPovertyBucket.astype('category').cat.codes\n",
    "\n",
    "y_cols = ['ChildPovertyBucket', 'ChildPovertyBucketNumeric']\n",
    "y = data[y_cols]\n",
    "X = data[data.columns.drop(y_cols)]\n",
    "scaler = StandardScaler()\n",
    "\n",
    "X_scaled = X.copy()\n",
    "X_numeric_cols = X_scaled.select_dtypes(np.number)\n",
    "X_scaled[X_numeric_cols.columns] = scaler.fit_transform(X_numeric_cols)\n",
    "\n",
    "X_train, X_test, y_train, y_test = train_test_split(X.values, y['ChildPovertyBucketNumeric'].values, test_size=0.20, random_state=1)\n",
    "\n",
    "vals = {'n_hidden': 50,\n",
    "        'C': 1e-2, 'epochs': 50, 'eta': 0.005,\n",
    "        'alpha': 0.1, 'decrease_const': 0.1, 'decrease_iter': 20,\n",
    "        'mini_batches': len(X_train)/256, 'shuffle': True, 'random_state': 1}\n",
    "\n",
    "model = TLPBetterInitial(**vals)\n",
    "\n",
    "model.fit(X_train, y_train, print_progress=True, XY_test=(X_test, y_test))\n",
    "print_result(model, X_train, y_train, X_test, y_test, title=\"Long Run\", color=\"red\")\n",
    "plt.show()"
   ]
  },
  {
   "cell_type": "markdown",
   "metadata": {},
   "source": [
    "______\n",
    "**Self Test**: Resubstitution accuracy is more important than validation accuracy when training.\n",
    "- A. True\n",
    "- B. False\n",
    "- C. It depends\n",
    "\n",
    "\n",
    "\n",
    "## [Back To Slides]\n",
    "_____"
   ]
  },
  {
   "cell_type": "markdown",
   "metadata": {},
   "source": [
    "# Adaptive Methods: AdaGrad\n",
    "In this formulation, we use the following update function as follows:\n",
    "$$\\mathbf{W}_{k+1}^{(l)} = \\mathbf{W}_k^{(l)} -  \\eta\\cdot\\rho_{k}^{(l)}$$\n",
    "\n",
    "Where:\n",
    "\n",
    "$$ \\rho_k^{(l)} = \\frac{1}{\\sqrt{\\mathbf{G}_k^{(l)}+\\epsilon}}\\odot\\nabla J(\\mathbf{W}_{k}^{(l)}) $$\n",
    "\n",
    "and \n",
    "\n",
    "$$ \\mathbf{G}_k^{(l)} =\\alpha \\cdot\\mathbf{G}^{(l)}_{k-1}+\\nabla J(\\mathbf{W}_k^{(l)})\\odot \\nabla J(\\mathbf{W}_k^{(l)}) $$"
   ]
  },
  {
   "cell_type": "code",
   "execution_count": 86,
   "metadata": {},
   "outputs": [],
   "source": [
    "# just need to optimizd the fit function such that we use \n",
    "# the G value above\n",
    "class TLPAdaGrad(TLPBetterInitial):\n",
    "        \n",
    "    def fit(self, X, y, print_progress=False, XY_test=None):\n",
    "        \"\"\" Learn weights from training data. With mini-batch\"\"\"\n",
    "        X_data, y_data = X.copy(), y.copy()\n",
    "        Y_enc = self._encode_labels(y)\n",
    "        \n",
    "        # init weights and setup matrices\n",
    "        self.n_features_ = X_data.shape[1]\n",
    "        self.n_output_ = Y_enc.shape[0]\n",
    "        self.W1, self.W2, self.b1, self.b2 = self._initialize_weights()\n",
    "\n",
    "        # start momentum at zero for previous updates\n",
    "        rho_W1_prev = np.zeros(self.W1.shape) # for momentum\n",
    "        rho_W2_prev = np.zeros(self.W2.shape) # for momentum\n",
    "        \n",
    "        # adaptive G for entire gradient\n",
    "        G1_prev = np.zeros(self.W1.shape) # for adaptive\n",
    "        G2_prev = np.zeros(self.W2.shape) # for adaptive\n",
    "\n",
    "        self.cost_ = []\n",
    "        self.score_ = []\n",
    "        # get starting acc\n",
    "        self.score_.append(accuracy_score(y_data,self.predict(X_data)))\n",
    "        # keep track of validation, if given\n",
    "        if XY_test is not None:\n",
    "            X_test = XY_test[0].copy()\n",
    "            y_test = XY_test[1].copy()\n",
    "            self.val_score_ = []\n",
    "            self.val_score_.append(accuracy_score(y_test,self.predict(X_test)))\n",
    "            self.val_cost_ = []\n",
    "            \n",
    "        for i in range(self.epochs):\n",
    "\n",
    "            # adaptive learning rate\n",
    "            # decrease at certain epochs\n",
    "            eta = self.eta * self.decrease_const**(np.floor(i/self.decrease_iter))\n",
    "\n",
    "            if print_progress>0 and (i+1)%print_progress==0:\n",
    "                sys.stderr.write('\\rEpoch: %d/%d' % (i+1, self.epochs))\n",
    "                sys.stderr.flush()\n",
    "\n",
    "            if self.shuffle:\n",
    "                idx_shuffle = np.random.permutation(y_data.shape[0])\n",
    "                X_data, Y_enc, y_data = X_data[idx_shuffle], Y_enc[:, idx_shuffle], y_data[idx_shuffle]\n",
    "\n",
    "            mini = np.array_split(range(y_data.shape[0]), self.minibatches)\n",
    "            mini_cost = []\n",
    "            for idx in mini:\n",
    "\n",
    "                # feedforward\n",
    "                A1, Z1, A2, Z2, A3 = self._feedforward(X_data[idx],\n",
    "                                                       self.W1,\n",
    "                                                       self.W2,\n",
    "                                                       self.b1,\n",
    "                                                       self.b2\n",
    "                                                      )\n",
    "                \n",
    "                cost = self._cost(A3,Y_enc[:, idx],self.W1,self.W2)\n",
    "                mini_cost.append(cost) # this appends cost of mini-batch only\n",
    "\n",
    "                # compute gradient via backpropagation\n",
    "                gradW1, gradW2, gradb1, gradb2 = self._get_gradient(A1=A1, A2=A2, A3=A3, Z1=Z1, Z2=Z2, \n",
    "                                                  Y_enc=Y_enc[:, idx],\n",
    "                                                  W1=self.W1,W2=self.W2)\n",
    "\n",
    "                \n",
    "                \n",
    "                # momentum and adaptation calculations\n",
    "                # Eta-grad implementation:\n",
    "                G1 = gradW1*gradW1 + self.alpha*G1_prev + 1e-7\n",
    "                G2 = gradW2*gradW2 + self.alpha*G2_prev + 1e-7\n",
    "                \n",
    "                # momentum and adagrad\n",
    "                rho_W1, rho_W2 = eta * gradW1/np.sqrt(G1), eta * gradW2/np.sqrt(G2)\n",
    "                self.W1 -= (rho_W1 + (self.alpha * rho_W1_prev)) # update with momentum\n",
    "                self.W2 -= (rho_W2 + (self.alpha * rho_W2_prev)) # update with momentum\n",
    "                self.b1 -= eta * gradb1\n",
    "                self.b2 -= eta * gradb2\n",
    "                \n",
    "                # update previous parameters for the \n",
    "                rho_W1_prev, rho_W2_prev = rho_W1, rho_W2\n",
    "                G1_prev, G2_prev = G1, G2\n",
    "                \n",
    "                \n",
    "\n",
    "            self.cost_.append(np.mean(mini_cost))\n",
    "            self.score_.append(accuracy_score(y_data,self.predict(X_data)))\n",
    "            if XY_test is not None:\n",
    "                yhat = self.predict(X_test)\n",
    "                self.val_score_.append(accuracy_score(y_test,yhat))\n",
    "            \n",
    "        return self"
   ]
  },
  {
   "cell_type": "code",
   "execution_count": 87,
   "metadata": {},
   "outputs": [
    {
     "name": "stderr",
     "output_type": "stream",
     "text": [
      "Epoch: 75/75"
     ]
    },
    {
     "name": "stdout",
     "output_type": "stream",
     "text": [
      "CPU times: user 6min 37s, sys: 1min 13s, total: 7min 50s\n",
      "Wall time: 48.7 s\n",
      "=================\n",
      "Long Run :\n",
      "Resubstitution acc: 0.92335\n",
      "Validation acc: 0.8833\n"
     ]
    },
    {
     "data": {
      "image/png": "[encoded data removed]",
      "text/plain": [
       "<Figure size 640x480 with 1 Axes>"
      ]
     },
     "metadata": {},
     "output_type": "display_data"
    }
   ],
   "source": [
    "# just for fun, let's look at the output of what happens when we let our system loose\n",
    "# these values have been hand tuned\n",
    "vals = {'n_hidden':50, \n",
    "         'C':1e-2, 'epochs':75, 'eta':0.005, \n",
    "         'alpha':0.1, 'decrease_const':0.1,\n",
    "         'decrease_iter':20,\n",
    "         'minibatches':len(X_train)/256,\n",
    "         'shuffle':True,'random_state':1}\n",
    "\n",
    "nn_long_ada = TLPAdaGrad(**vals)\n",
    "\n",
    "%time nn_long_ada.fit(X_train, y_train, print_progress=1, XY_test=(X_test,y_test))\n",
    "print_result(nn_long_ada,X_train,y_train,X_test,y_test,title=\"Long Run\",color=\"red\")"
   ]
  },
  {
   "cell_type": "markdown",
   "metadata": {},
   "source": [
    "\n",
    "____\n",
    "# Rectified Linear Units\n",
    "Now lets look at another type of activation function. The rectified linear unit (ReLu) is an interesting choice to use because of its simplicity. Moreover, we will learn that its backpropagated derivative has some characteristics that are advantageous. \n",
    "\n",
    "We define the ReLU neuron as:\n",
    "\n",
    "$$\n",
    "    \\phi(\\mathbf{z}^{(i)})=\\left\\{\n",
    "                \\begin{array}{ll}\n",
    "                \\mathbf{z}^{(i)}  \\text{,  if }\\mathbf{z}^{(i)}>0 \\\\\n",
    "                \\mathbf{0} \\text{,      else } \\\\\n",
    "                \\end{array}\n",
    "              \\right.\n",
    "$$\n",
    "\n",
    "Which has a very simple derivative:\n",
    "$$\n",
    "    \\frac{\\partial\\phi(\\mathbf{z}^{(i)})}{\\partial\\mathbf{z}^{(i)}}=\\left\\{\n",
    "                \\begin{array}{ll}\n",
    "                \\mathbf{1} \\text{,  if }\\mathbf{z}^{(i)}>0 \\\\\n",
    "                \\mathbf{0} \\text{,      else } \\\\\n",
    "                \\end{array}\n",
    "              \\right.\n",
    "$$"
   ]
  },
  {
   "cell_type": "code",
   "execution_count": 88,
   "metadata": {},
   "outputs": [],
   "source": [
    "class TLPReLU(TLPAdaGrad):\n",
    "    def _initialize_weights(self):\n",
    "        \"\"\"Initialize weights with small random numbers.\"\"\"\n",
    "        # suggested relu/sigmoid bounds\n",
    "        #Xavier Glorot, Yoshua Bengio ; \n",
    "        #  Understanding the difficulty of training deep feedforward neural networks\n",
    "        #  Conference on Artificial Intelligence and Statistics, PMLR 9:249-256, 2010.\n",
    "        init_bound = np.sqrt(2)*np.sqrt(6. / (self.n_hidden + self.n_features_))\n",
    "        W1 = np.random.uniform(-init_bound, init_bound,(self.n_hidden, self.n_features_))\n",
    "        \n",
    "        # reduce the final layer magnitude in order to balance the size of the gradients\n",
    "        # between \n",
    "        init_bound = 4*np.sqrt(6 / (self.n_output_ + self.n_hidden))\n",
    "        W2 = np.random.uniform(-init_bound, init_bound,(self.n_output_, self.n_hidden)) \n",
    "        \n",
    "        b1 = np.zeros((self.n_hidden, 1))\n",
    "        b2 = np.zeros((self.n_output_, 1))\n",
    "        \n",
    "        return W1, W2, b1, b2\n",
    "    \n",
    "    @staticmethod\n",
    "    def _relu(Z):\n",
    "        return np.maximum(0, Z.copy())\n",
    "        \n",
    "    def _feedforward(self, X, W1, W2, b1, b2):\n",
    "        \"\"\"Compute feedforward step\n",
    "        \"\"\"\n",
    "        # A1->W1->ReLu->A2->W2->Sigmoid\n",
    "        A1 = X.T\n",
    "        Z1 = W1 @ A1 + b1\n",
    "        A2 = self._relu(Z1)\n",
    "        Z2 = W2 @ A2 + b2\n",
    "        A3 = self._sigmoid(Z2) # never use relu as last layer for classification (yuck!)\n",
    "        return A1, Z1, A2, Z2, A3\n",
    "    \n",
    "    def _get_gradient(self, A1, A2, A3, Z1, Z2, Y_enc, W1, W2):\n",
    "        \"\"\" Compute gradient step using backpropagation.\n",
    "        \"\"\"\n",
    "        # vectorized backpropagation\n",
    "        V2 = (A3-Y_enc) \n",
    "        \n",
    "        # V3[Z2<=0] = 0 # could can change to be relu back prop on this layer too!\n",
    "        \n",
    "        # old update: V1 = A2*(1-A2)*(W2.T @ V2)\n",
    "        # the derivative of sigmoid was A2(1-A2), but now that is relu\n",
    "        # so we change it to:\n",
    "        \n",
    "        V1 = (W2.T @ V2) \n",
    "        V1[Z1<=0] = 0\n",
    "        # relu derivative only zeros out certain values! easy!\n",
    "        \n",
    "        gradW2 = V2 @ A2.T\n",
    "        gradW1 = V1 @ A1.T\n",
    "        \n",
    "        gradb2 = np.sum(V2, axis=1).reshape((-1,1))\n",
    "        gradb1 = np.sum(V1, axis=1).reshape((-1,1))\n",
    "        \n",
    "        # regularize weights that are not bias terms\n",
    "        gradW1 += (W1 * self.l2_C)\n",
    "        gradW2 += (W2 * self.l2_C)\n",
    "\n",
    "        return gradW1, gradW2, gradb1, gradb2\n",
    "    \n"
   ]
  },
  {
   "cell_type": "code",
   "execution_count": 89,
   "metadata": {},
   "outputs": [
    {
     "name": "stderr",
     "output_type": "stream",
     "text": [
      "Epoch: 75/75"
     ]
    },
    {
     "name": "stdout",
     "output_type": "stream",
     "text": [
      "CPU times: user 6min 25s, sys: 1min 7s, total: 7min 32s\n",
      "Wall time: 47.3 s\n",
      "{'n_hidden': 50, 'C': 0.01, 'epochs': 75, 'eta': 0.005, 'alpha': 0.1, 'decrease_const': 0.1, 'decrease_iter': 20, 'minibatches': 234.375, 'shuffle': True, 'random_state': 1}\n"
     ]
    }
   ],
   "source": [
    "nn_long_relu = TLPReLU(**vals) # same as previous parameter values\n",
    "%time nn_long_relu.fit(X_train, y_train, print_progress=True, XY_test=(X_test,y_test))\n",
    "print(vals)"
   ]
  },
  {
   "cell_type": "code",
   "execution_count": 90,
   "metadata": {},
   "outputs": [
    {
     "name": "stdout",
     "output_type": "stream",
     "text": [
      "=================\n",
      "ReLU :\n",
      "Resubstitution acc: 0.9109333333333334\n",
      "Validation acc: 0.8706\n",
      "=================\n",
      "Sigmoid :\n",
      "Resubstitution acc: 0.92335\n",
      "Validation acc: 0.8833\n"
     ]
    },
    {
     "data": {
      "image/png": "[encoded data removed]",
      "text/plain": [
       "<Figure size 640x480 with 1 Axes>"
      ]
     },
     "metadata": {},
     "output_type": "display_data"
    }
   ],
   "source": [
    "print_result(nn_long_relu, X_train, y_train, X_test, y_test, title=\"ReLU\",color=\"blue\")\n",
    "print_result(nn_long_ada, X_train, y_train, X_test, y_test, title=\"Sigmoid\",color=\"red\")"
   ]
  },
  {
   "cell_type": "markdown",
   "metadata": {},
   "source": [
    "# Sklearn Implementation\n",
    "Let's see if our method stacks up to the implementations from `scikit-learn`."
   ]
  },
  {
   "cell_type": "code",
   "execution_count": 91,
   "metadata": {},
   "outputs": [
    {
     "name": "stdout",
     "output_type": "stream",
     "text": [
      "1.3.0\n",
      "CPU times: user 9min 39s, sys: 22.6 s, total: 10min 2s\n",
      "Wall time: 1min 2s\n",
      "Validation Acc: 0.8725\n"
     ]
    },
    {
     "name": "stderr",
     "output_type": "stream",
     "text": [
      "/Users/ghaidaatoum/anaconda3/envs/mlenv2023/lib/python3.8/site-packages/sklearn/neural_network/_multilayer_perceptron.py:691: ConvergenceWarning: Stochastic Optimizer: Maximum iterations (100) reached and the optimization hasn't converged yet.\n",
      "  warnings.warn(\n"
     ]
    }
   ],
   "source": [
    "from sklearn import __version__ as sklearn_version\n",
    "from sklearn.neural_network import MLPClassifier\n",
    "from sklearn.metrics import accuracy_score\n",
    "\n",
    "print(sklearn_version)\n",
    "# these values have been hand tuned\n",
    "# sigmoid with SGD, batching, nesterov's momentum, \n",
    "# L2, adaptive learning rate\n",
    "clf = MLPClassifier(hidden_layer_sizes=(50,), \n",
    "                    activation='logistic', # compare to sigmoid\n",
    "                    solver='sgd', \n",
    "                    alpha=1e-4, # L2 penalty\n",
    "                    batch_size=128, # min of 128, num_samples\n",
    "                    learning_rate='adaptive', # decrease rate if loss goes up\n",
    "                    learning_rate_init=0.1, # only SGD\n",
    "                    power_t=0.5,    # only SGD with inverse scaling\n",
    "                    max_iter=100, \n",
    "                    shuffle=True, \n",
    "                    random_state=1, \n",
    "                    tol=1e-9, # for stopping\n",
    "                    verbose=False, \n",
    "                    momentum=0.9, # only SGD\n",
    "                    nesterovs_momentum=True, # only SGD\n",
    "                    early_stopping=False, \n",
    "                    validation_fraction=0.1, # only if early_stop is true\n",
    "                    beta_1=0.9, # adam decay rate of moment\n",
    "                    beta_2=0.999, # adam decay rate of moment\n",
    "                    epsilon=1e-08) # adam numerical stabilizer\n",
    "\n",
    "%time clf.fit(X_train,y_train)\n",
    "yhat = clf.predict(X_test)\n",
    "print('Validation Acc:',accuracy_score(yhat,y_test))"
   ]
  },
  {
   "cell_type": "code",
   "execution_count": 92,
   "metadata": {},
   "outputs": [
    {
     "name": "stdout",
     "output_type": "stream",
     "text": [
      "CPU times: user 8min 24s, sys: 21.5 s, total: 8min 45s\n",
      "Wall time: 54.1 s\n",
      "Validation Acc: 0.8678\n"
     ]
    },
    {
     "name": "stderr",
     "output_type": "stream",
     "text": [
      "/Users/ghaidaatoum/anaconda3/envs/mlenv2023/lib/python3.8/site-packages/sklearn/neural_network/_multilayer_perceptron.py:691: ConvergenceWarning: Stochastic Optimizer: Maximum iterations (100) reached and the optimization hasn't converged yet.\n",
      "  warnings.warn(\n"
     ]
    }
   ],
   "source": [
    "# but with this implementation we can also easily change Neurons\n",
    "# ReLU with SGD, batching, simple momentum, \n",
    "# L2, adaptive learning rate\n",
    "clf = MLPClassifier(hidden_layer_sizes=(50, ), \n",
    "                    activation='relu', # type of non-linearity, every layer except output layer\n",
    "                    solver='sgd', \n",
    "                    alpha=1e-4, # L2 penalty\n",
    "                    batch_size= 128, # min of 128, num_samples\n",
    "                    learning_rate='adaptive', # adapt learning? \n",
    "                    learning_rate_init=0.1, # only SGD\n",
    "                    power_t=0.0,    # only SGD with inverse scaling of learning rate\n",
    "                    max_iter=100, # stopping criteria\n",
    "                    shuffle=True, \n",
    "                    random_state=1, \n",
    "                    tol=0, # for stopping\n",
    "                    verbose=False, \n",
    "                    momentum=0.9, # only SGD\n",
    "                    nesterovs_momentum=False, # only SGD\n",
    "                    early_stopping=False, \n",
    "                    validation_fraction=0.0, # only if early_stop is true\n",
    "                    beta_1=0.9, # adam decay rate of moment\n",
    "                    beta_2=0.999, # adam decay rate of moment\n",
    "                    epsilon=1e-08) # adam numerical stabilizer\n",
    "\n",
    "%time clf.fit(X_train,y_train)\n",
    "yhat = clf.predict(X_test)\n",
    "print('Validation Acc:',accuracy_score(yhat,y_test))"
   ]
  },
  {
   "cell_type": "code",
   "execution_count": 93,
   "metadata": {},
   "outputs": [
    {
     "name": "stdout",
     "output_type": "stream",
     "text": [
      "CPU times: user 12min 55s, sys: 34.4 s, total: 13min 29s\n",
      "Wall time: 1min 28s\n",
      "Validation Acc: 0.8601\n"
     ]
    },
    {
     "name": "stderr",
     "output_type": "stream",
     "text": [
      "/Users/ghaidaatoum/anaconda3/envs/mlenv2023/lib/python3.8/site-packages/sklearn/neural_network/_multilayer_perceptron.py:691: ConvergenceWarning: Stochastic Optimizer: Maximum iterations (100) reached and the optimization hasn't converged yet.\n",
      "  warnings.warn(\n"
     ]
    }
   ],
   "source": [
    "# but what if we also use AdaM optimization?\n",
    "# ReLU with AdaM, batching, simple momentum, \n",
    "# L2, adaptive learning rate\n",
    "clf = MLPClassifier(hidden_layer_sizes=(50, ), \n",
    "                    activation='relu', # type of non-linearity, every layer except output layer\n",
    "                    solver='adam', \n",
    "                    alpha=1e-4, # L2 penalty\n",
    "                    batch_size= 128, # min of 200, num_samples\n",
    "                    learning_rate='adaptive', # adapt learning? \n",
    "                    learning_rate_init=0.01, # only SGD\n",
    "                    power_t=1,    # only SGD with inverse scaling of learning rate\n",
    "                    max_iter=100, # stopping criteria\n",
    "                    shuffle=True, \n",
    "                    random_state=1, \n",
    "                    tol=0, # for stopping\n",
    "                    verbose=False, \n",
    "                    momentum=0.9, # only SGD\n",
    "                    nesterovs_momentum=False, # only SGD\n",
    "                    early_stopping=False, \n",
    "                    validation_fraction=0.0, # only if early_stop is true\n",
    "                    beta_1=0.9, # adam decay rate of moment\n",
    "                    beta_2=0.999, # adam decay rate of moment\n",
    "                    epsilon=1e-08) # adam numerical stabilizer\n",
    "\n",
    "%time clf.fit(X_train,y_train)\n",
    "yhat = clf.predict(X_test)\n",
    "print('Validation Acc:',accuracy_score(yhat,y_test))"
   ]
  },
  {
   "cell_type": "markdown",
   "metadata": {
    "collapsed": true,
    "jupyter": {
     "outputs_hidden": true
    }
   },
   "source": [
    "## In this notebook, you learned:\n",
    "- Simple optimization methods and tricks for Neural Networks\n",
    "- Cross Entropy Loss\n",
    "- Glorot and He Initialization\n",
    "- Adaptive methods, like AdaGrad\n",
    "- Rectified Linear Activation Functions"
   ]
  },
  {
   "cell_type": "code",
   "execution_count": null,
   "metadata": {},
   "outputs": [],
   "source": []
  }
 ],
 "metadata": {
  "anaconda-cloud": {},
  "kernelspec": {
   "display_name": "Python 3 (ipykernel)",
   "language": "python",
   "name": "python3"
  },
  "language_info": {
   "codemirror_mode": {
    "name": "ipython",
    "version": 3
   },
   "file_extension": ".py",
   "mimetype": "text/x-python",
   "name": "python",
   "nbconvert_exporter": "python",
   "pygments_lexer": "ipython3",
   "version": "3.8.18"
  }
 },
 "nbformat": 4,
 "nbformat_minor": 4
}

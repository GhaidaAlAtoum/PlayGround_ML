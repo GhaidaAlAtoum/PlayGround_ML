{
 "cells": [
  {
   "cell_type": "code",
   "execution_count": 1,
   "id": "266daed7-0422-41df-9b05-3d13e0fff41f",
   "metadata": {
    "tags": []
   },
   "outputs": [],
   "source": [
    "import os\n",
    "os.environ['KMP_DUPLICATE_LIB_OK']='True'\n",
    "os.environ['TF_CPP_MIN_LOG_LEVEL'] = '2'"
   ]
  },
  {
   "cell_type": "code",
   "execution_count": 2,
   "id": "7a8c7115-9f51-4a67-b081-3dfd226b5945",
   "metadata": {
    "tags": []
   },
   "outputs": [],
   "source": [
    "import numpy as np\n",
    "import pandas as pd\n",
    "import matplotlib\n",
    "import matplotlib.pyplot as plot\n",
    "import seaborn\n",
    "import re\n",
    "\n",
    "from sklearn.linear_model import SGDClassifier\n",
    "from sklearn.model_selection import train_test_split\n",
    "from sklearn.metrics import accuracy_score\n",
    "import scipy.stats as stats\n",
    "\n",
    "from tensorflow.keras.layers import Embedding\n",
    "from tensorflow import keras\n",
    "from tensorflow.keras.preprocessing.text import Tokenizer\n",
    "from tensorflow.keras.preprocessing.sequence import pad_sequences\n",
    "from tensorflow.keras.datasets import imdb\n",
    "from tensorflow.keras.preprocessing import sequence\n",
    "from keras import Sequential\n",
    "from keras.layers import Embedding, LSTM, Dense, Dropout\n",
    "from tqdm import tqdm\n"
   ]
  },
  {
   "cell_type": "code",
   "execution_count": 3,
   "id": "40ef1503-eca5-4ba2-99ce-6af6cab956b7",
   "metadata": {
    "tags": []
   },
   "outputs": [],
   "source": [
    "def load_embeddings(filename):\n",
    "    \"\"\"\n",
    "    Load a DataFrame from the generalized text format used by word2vec, GloVe,\n",
    "    fastText, and ConceptNet Numberbatch. The main point where they differ is\n",
    "    whether there is an initial line with the dimensions of the matrix.\n",
    "    \"\"\"\n",
    "    labels = []\n",
    "    rows = []\n",
    "    with open(filename, encoding='utf-8') as infile:\n",
    "        for i, line in enumerate(infile):\n",
    "            items = line.rstrip().split(' ')\n",
    "            if len(items) == 2:\n",
    "                # This is a header row giving the shape of the matrix\n",
    "                continue\n",
    "            labels.append(items[0])\n",
    "            values = np.array([float(x) for x in items[1:]], 'f')\n",
    "            rows.append(values)\n",
    "    \n",
    "    arr = np.vstack(rows)\n",
    "    return pd.DataFrame(arr, index=labels, dtype='f')"
   ]
  },
  {
   "cell_type": "code",
   "execution_count": 4,
   "id": "6a9c201d-1216-433e-b426-b97fc4655081",
   "metadata": {
    "tags": []
   },
   "outputs": [],
   "source": [
    "def load_lexicon(filename):\n",
    "    \"\"\"\n",
    "    Load a file from Bing Liu's sentiment lexicon\n",
    "    (https://www.cs.uic.edu/~liub/FBS/sentiment-analysis.html), containing\n",
    "    English words in Latin-1 encoding.\n",
    "    \n",
    "    One file contains a list of positive words, and the other contains\n",
    "    a list of negative words. The files contain comment lines starting\n",
    "    with ';' and blank lines, which should be skipped.\n",
    "    \"\"\"\n",
    "    lexicon = []\n",
    "    with open(filename, encoding='latin-1') as infile:\n",
    "        for line in infile:\n",
    "            line = line.rstrip()\n",
    "            if line and not line.startswith(';'):\n",
    "                lexicon.append(line)\n",
    "    return lexicon"
   ]
  },
  {
   "cell_type": "code",
   "execution_count": 5,
   "id": "10053009-c4df-4d9b-86d1-a58ac49c7940",
   "metadata": {
    "tags": []
   },
   "outputs": [
    {
     "name": "stdout",
     "output_type": "stream",
     "text": [
      "CPU times: user 21.1 s, sys: 1.09 s, total: 22.2 s\n",
      "Wall time: 22.3 s\n"
     ]
    },
    {
     "data": {
      "text/plain": [
       "(400000, 300)"
      ]
     },
     "execution_count": 5,
     "metadata": {},
     "output_type": "execute_result"
    }
   ],
   "source": [
    "%%time \n",
    "glove_6B_300d_embeddings = load_embeddings('data/embeddings/glove/glove.6B.300d.txt')\n",
    "glove_6B_300d_embeddings.shape"
   ]
  },
  {
   "cell_type": "code",
   "execution_count": 6,
   "id": "59a491d0-3a09-470e-a2e7-3ab0dac61084",
   "metadata": {
    "tags": []
   },
   "outputs": [
    {
     "name": "stdout",
     "output_type": "stream",
     "text": [
      "Positive Words:  2006 Negative Words:  4783\n"
     ]
    }
   ],
   "source": [
    "pos_words = load_lexicon('data/lexicons/hu_liu_2004/opinion-lexicon-English/positive-words.txt')\n",
    "neg_words = load_lexicon('data/lexicons/hu_liu_2004/opinion-lexicon-English/negative-words.txt')\n",
    "print(\"Positive Words: \", len(pos_words), \"Negative Words: \", len(neg_words))"
   ]
  },
  {
   "cell_type": "code",
   "execution_count": null,
   "id": "56df74e1-0564-4a33-88e1-3ef8ee91b1b1",
   "metadata": {
    "tags": []
   },
   "outputs": [],
   "source": [
    "type(pos_words)"
   ]
  },
  {
   "cell_type": "code",
   "execution_count": null,
   "id": "58e81b9b-8fbb-4514-8bc1-29b6edc43bd9",
   "metadata": {
    "tags": []
   },
   "outputs": [],
   "source": [
    "pos_words_common = list(set(pos_words) & set(glove_6B_300d_embeddings.index)) \n",
    "neg_words_common = list(set(neg_words) & set(glove_6B_300d_embeddings.index)) \n",
    "pos_vectors = glove_6B_300d_embeddings.loc[pos_words_common]\n",
    "neg_vectors = glove_6B_300d_embeddings.loc[neg_words_common]\n",
    "vectors = pd.concat([pos_vectors, neg_vectors])\n",
    "targets = np.array([1 for entry in pos_vectors.index] + [-1 for entry in neg_vectors.index])\n",
    "labels = list(pos_vectors.index) + list(neg_vectors.index)"
   ]
  },
  {
   "cell_type": "code",
   "execution_count": 7,
   "id": "6b6d8ff1-c30f-4299-9607-80b34827289f",
   "metadata": {
    "tags": []
   },
   "outputs": [],
   "source": [
    "from sklearn.datasets import fetch_20newsgroups\n",
    "bunch = fetch_20newsgroups(subset='train', shuffle=True, random_state=42)"
   ]
  },
  {
   "cell_type": "code",
   "execution_count": 9,
   "id": "bc5a0a83-84b0-47b8-bd8b-3328d7197d2e",
   "metadata": {
    "tags": []
   },
   "outputs": [
    {
     "data": {
      "text/plain": [
       "11314"
      ]
     },
     "execution_count": 9,
     "metadata": {},
     "output_type": "execute_result"
    }
   ],
   "source": [
    "len(bunch.data)"
   ]
  },
  {
   "cell_type": "code",
   "execution_count": null,
   "id": "cca3c4cc-50c5-4154-9183-e1d30b613a2c",
   "metadata": {
    "tags": []
   },
   "outputs": [],
   "source": [
    "bunch.target"
   ]
  },
  {
   "cell_type": "code",
   "execution_count": 11,
   "id": "2bb5452b-ba67-44f9-8052-f1c5af1ef743",
   "metadata": {
    "tags": []
   },
   "outputs": [
    {
     "name": "stdout",
     "output_type": "stream",
     "text": [
      "Found 134142 unique tokens. Distilled to 134142 top words.\n",
      "Shape of data tensor: (11314, 1000)\n",
      "Shape of label tensor: (11314, 20)\n",
      "134142\n",
      "CPU times: user 3.41 s, sys: 20.1 ms, total: 3.43 s\n",
      "Wall time: 3.44 s\n"
     ]
    }
   ],
   "source": [
    "%%time\n",
    "from tensorflow import keras\n",
    "from tensorflow.keras.preprocessing.text import Tokenizer\n",
    "from tensorflow.keras.preprocessing.sequence import pad_sequences\n",
    "\n",
    "NUM_TOP_WORDS = None # use entire vocabulary!\n",
    "MAX_ART_LEN = 1000 # maximum and minimum number of words\n",
    "\n",
    "#tokenize the text\n",
    "tokenizer = Tokenizer(num_words=NUM_TOP_WORDS)\n",
    "tokenizer.fit_on_texts(bunch.data)\n",
    "# save as sequences with integers replacing words\n",
    "sequences = tokenizer.texts_to_sequences(bunch.data)\n",
    "\n",
    "word_index = tokenizer.word_index\n",
    "NUM_TOP_WORDS = len(word_index) if NUM_TOP_WORDS==None else NUM_TOP_WORDS\n",
    "top_words = min((len(word_index),NUM_TOP_WORDS))\n",
    "print('Found %s unique tokens. Distilled to %d top words.' % (len(word_index),top_words))\n",
    "\n",
    "X = pad_sequences(sequences, maxlen=MAX_ART_LEN)\n",
    "\n",
    "y_ohe = keras.utils.to_categorical(bunch.target)\n",
    "print('Shape of data tensor:', X.shape)\n",
    "print('Shape of label tensor:', y_ohe.shape)\n",
    "print(np.max(X))"
   ]
  },
  {
   "cell_type": "code",
   "execution_count": 12,
   "id": "bf5cd013-dee0-4f5e-9db6-f21533d6ebc4",
   "metadata": {
    "tags": []
   },
   "outputs": [
    {
     "data": {
      "text/plain": [
       "11314"
      ]
     },
     "execution_count": 12,
     "metadata": {},
     "output_type": "execute_result"
    }
   ],
   "source": [
    "len(X)"
   ]
  },
  {
   "cell_type": "code",
   "execution_count": 16,
   "id": "36620e78-221c-4ee7-9355-abadd302fe6b",
   "metadata": {
    "tags": []
   },
   "outputs": [],
   "source": [
    "words = list(pos_words + neg_words)\n",
    "targets = [1 for entry in pos_words] + [-1 for entry in neg_words]"
   ]
  },
  {
   "cell_type": "code",
   "execution_count": 17,
   "id": "e7cf1d4a-956b-4492-938e-041559bbfb4f",
   "metadata": {
    "tags": []
   },
   "outputs": [
    {
     "data": {
      "text/plain": [
       "6789"
      ]
     },
     "execution_count": 17,
     "metadata": {},
     "output_type": "execute_result"
    }
   ],
   "source": [
    "len(words)"
   ]
  },
  {
   "cell_type": "code",
   "execution_count": 18,
   "id": "9dda84c0-9e60-4f19-85d6-1a04c85a3b8a",
   "metadata": {
    "tags": []
   },
   "outputs": [
    {
     "name": "stdout",
     "output_type": "stream",
     "text": [
      "Found 400000 word vectors.\n",
      "CPU times: user 15.1 s, sys: 589 ms, total: 15.7 s\n",
      "Wall time: 15.6 s\n"
     ]
    }
   ],
   "source": [
    "%%time\n",
    "EMBED_SIZE = 300\n",
    "# the embed size should match the file you load glove from\n",
    "embeddings_index = {}\n",
    "f = open('data/embeddings/glove/glove.6B.300d.txt')\n",
    "# save key/array pairs of the embeddings\n",
    "#  the key of the dictionary is the word, the array is the embedding\n",
    "for line in f:\n",
    "    values = line.split()\n",
    "    word = values[0]\n",
    "    coefs = np.asarray(values[1:], dtype='float32')\n",
    "    embeddings_index[word] = coefs\n",
    "f.close()\n",
    "\n",
    "print('Found %s word vectors.' % len(embeddings_index))"
   ]
  },
  {
   "cell_type": "code",
   "execution_count": 19,
   "id": "daaa06dc-09ab-4356-8297-b22eddde92d2",
   "metadata": {
    "tags": []
   },
   "outputs": [
    {
     "name": "stdout",
     "output_type": "stream",
     "text": [
      "Found 6788 unique tokens. Distilled to 6788 top words.\n"
     ]
    }
   ],
   "source": [
    "NUM_TOP_WORDS = None # use entire vocabulary!\n",
    "MAX_ART_LEN = 1000 # maximum and minimum number of words\n",
    "\n",
    "#tokenize the text\n",
    "tokenizer = Tokenizer(num_words=NUM_TOP_WORDS)\n",
    "tokenizer.fit_on_texts(words)\n",
    "# save as sequences with integers replacing words\n",
    "sequences = tokenizer.texts_to_sequences(words)\n",
    "\n",
    "word_index = tokenizer.word_index\n",
    "NUM_TOP_WORDS = len(word_index) if NUM_TOP_WORDS==None else NUM_TOP_WORDS\n",
    "top_words = min((len(word_index),NUM_TOP_WORDS))\n",
    "print('Found %s unique tokens. Distilled to %d top words.' % (len(word_index),top_words))\n",
    "\n",
    "X = pad_sequences(sequences, maxlen=MAX_ART_LEN)\n",
    "# y_ohe = keras.utils.to_categorical(targets)\n"
   ]
  },
  {
   "cell_type": "code",
   "execution_count": 21,
   "id": "8a48a7de-777b-4818-a53d-df2ffba85ba9",
   "metadata": {
    "tags": []
   },
   "outputs": [
    {
     "data": {
      "text/plain": [
       "6789"
      ]
     },
     "execution_count": 21,
     "metadata": {},
     "output_type": "execute_result"
    }
   ],
   "source": [
    "len(y_ohe)"
   ]
  },
  {
   "cell_type": "code",
   "execution_count": 22,
   "id": "1f5f9f70-a7df-4dc3-a8e4-9c6f6589bd3c",
   "metadata": {
    "tags": []
   },
   "outputs": [
    {
     "name": "stdout",
     "output_type": "stream",
     "text": [
      "Embedding Shape: (6789, 300) \n",
      " Total words found: 6316 \n",
      " Percentage: 93.03284725290912\n"
     ]
    }
   ],
   "source": [
    "# now fill in the matrix, using the ordering from the\n",
    "#  keras word tokenizer from before\n",
    "found_words = 0\n",
    "embedding_matrix = np.zeros((len(word_index) + 1, EMBED_SIZE))\n",
    "for word, i in word_index.items():\n",
    "    embedding_vector = embeddings_index.get(word)\n",
    "    if embedding_vector is not None:\n",
    "        # words not found in embedding index will be ALL-ZEROS\n",
    "        embedding_matrix[i] = embedding_vector\n",
    "        found_words = found_words+1\n",
    "\n",
    "print(\"Embedding Shape:\",embedding_matrix.shape, \"\\n\",\n",
    "      \"Total words found:\",found_words, \"\\n\",\n",
    "      \"Percentage:\",100*found_words/embedding_matrix.shape[0])"
   ]
  },
  {
   "cell_type": "code",
   "execution_count": 23,
   "id": "8d6b01bf-8134-4475-adcd-024ad99a23c8",
   "metadata": {
    "tags": []
   },
   "outputs": [],
   "source": [
    "from tensorflow.keras.layers import Embedding\n",
    "\n",
    "# save this embedding now\n",
    "embedding_layer = Embedding(len(word_index) + 1,\n",
    "                            EMBED_SIZE,\n",
    "                            weights=[embedding_matrix],# here is the embedding getting saved\n",
    "                            input_length=MAX_ART_LEN,\n",
    "                            trainable=False)"
   ]
  },
  {
   "cell_type": "code",
   "execution_count": 49,
   "id": "52fa7b10-36e8-4ccc-9f4f-a4b4a4ecf49e",
   "metadata": {
    "tags": []
   },
   "outputs": [
    {
     "name": "stdout",
     "output_type": "stream",
     "text": [
      "Model: \"model_3\"\n",
      "_________________________________________________________________\n",
      " Layer (type)                Output Shape              Param #   \n",
      "=================================================================\n",
      " input_4 (InputLayer)        [(None, 1000)]            0         \n",
      "                                                                 \n",
      " embedding (Embedding)       (None, 1000, 300)         2036700   \n",
      "                                                                 \n",
      " conv1d_9 (Conv1D)           (None, 996, 128)          192128    \n",
      "                                                                 \n",
      " dropout_12 (Dropout)        (None, 996, 128)          0         \n",
      "                                                                 \n",
      " max_pooling1d_9 (MaxPooling  (None, 199, 128)         0         \n",
      " 1D)                                                             \n",
      "                                                                 \n",
      " dropout_13 (Dropout)        (None, 199, 128)          0         \n",
      "                                                                 \n",
      " conv1d_10 (Conv1D)          (None, 195, 128)          82048     \n",
      "                                                                 \n",
      " max_pooling1d_10 (MaxPoolin  (None, 39, 128)          0         \n",
      " g1D)                                                            \n",
      "                                                                 \n",
      " dropout_14 (Dropout)        (None, 39, 128)           0         \n",
      "                                                                 \n",
      " conv1d_11 (Conv1D)          (None, 35, 128)           82048     \n",
      "                                                                 \n",
      " max_pooling1d_11 (MaxPoolin  (None, 1, 128)           0         \n",
      " g1D)                                                            \n",
      "                                                                 \n",
      " flatten_3 (Flatten)         (None, 128)               0         \n",
      "                                                                 \n",
      " dropout_15 (Dropout)        (None, 128)               0         \n",
      "                                                                 \n",
      " dense_6 (Dense)             (None, 128)               16512     \n",
      "                                                                 \n",
      " dense_7 (Dense)             (None, 2)                 258       \n",
      "                                                                 \n",
      "=================================================================\n",
      "Total params: 2,409,694\n",
      "Trainable params: 372,994\n",
      "Non-trainable params: 2,036,700\n",
      "_________________________________________________________________\n",
      "None\n"
     ]
    }
   ],
   "source": [
    "from tensorflow.keras.models import Model\n",
    "from tensorflow.keras.layers import Conv1D, MaxPooling1D, Flatten, Dense\n",
    "from tensorflow.keras.layers import Dense, Input, Dropout\n",
    "from tensorflow.keras.layers import Embedding\n",
    "NUM_CLASSES= 2\n",
    "EMBED_SIZE = 300 \n",
    "sequence_input = Input(shape=(MAX_ART_LEN,), dtype='int32')\n",
    "# starting size: 1000\n",
    "embedded_sequences = embedding_layer(sequence_input) # from previous embedding\n",
    "x = Conv1D(128, 5, activation='relu',\n",
    "           kernel_initializer='he_uniform')(embedded_sequences)\n",
    "\n",
    "# after conv, size becomes: 1000-4=996\n",
    "x = Dropout(0.05)(x)\n",
    "x = MaxPooling1D(5)(x)# after max pool, 996/5 = 199\n",
    "x = Dropout(0.15)(x)\n",
    "x = Conv1D(128, 5, activation='relu',\n",
    "           kernel_initializer='he_uniform')(x)\n",
    "\n",
    "# new size is 195\n",
    "x = MaxPooling1D(5)(x) # after max pool, size is 195/5 = 39\n",
    "x = Dropout(0.2)(x)\n",
    "x = Conv1D(128, 5, activation='relu',\n",
    "           kernel_initializer='he_uniform')(x)\n",
    "\n",
    "# after convolution, size becomes 35 elements long\n",
    "x = MaxPooling1D(35)(x) # this is the size to globally flatten \n",
    "# flattened vector max pools across each of the 35 elements\n",
    "# so vectors is now 128 dimensions (same as num output filters)\n",
    "x = Flatten()(x)\n",
    "x = Dropout(0.25)(x)\n",
    "x = Dense(128, activation='relu',\n",
    "          kernel_initializer='he_uniform')(x)\n",
    "\n",
    "preds = Dense(NUM_CLASSES, activation='softmax',\n",
    "              kernel_initializer='glorot_uniform')(x)\n",
    "\n",
    "model = Model(sequence_input, preds)\n",
    "model.compile(loss='categorical_crossentropy',\n",
    "              optimizer='rmsprop',\n",
    "              metrics=['acc'])\n",
    "\n",
    "print(model.summary())"
   ]
  },
  {
   "cell_type": "code",
   "execution_count": null,
   "id": "c25fb694-0c26-45aa-b9a5-34a0856e47af",
   "metadata": {
    "tags": []
   },
   "outputs": [],
   "source": [
    "X.shape"
   ]
  },
  {
   "cell_type": "code",
   "execution_count": null,
   "id": "79436cf2-2b83-433a-a393-62d47019fa3d",
   "metadata": {
    "tags": []
   },
   "outputs": [],
   "source": [
    "y_ohe.shape"
   ]
  },
  {
   "cell_type": "code",
   "execution_count": 47,
   "id": "6d795c07-aa7e-4b65-8f66-ce7c58f60786",
   "metadata": {
    "tags": []
   },
   "outputs": [],
   "source": [
    "X_train, X_test, y_train_ohe, y_test_ohe = train_test_split(X, \n",
    "                 y_ohe, \n",
    "                 test_size=0.2, \n",
    "                 random_state=42)"
   ]
  },
  {
   "cell_type": "code",
   "execution_count": 45,
   "id": "fa5b8d77-481b-4f1e-a1e9-5b56f87f70bd",
   "metadata": {
    "tags": []
   },
   "outputs": [],
   "source": [
    "histories = []"
   ]
  },
  {
   "cell_type": "code",
   "execution_count": 50,
   "id": "6a33f7af-95bf-4da1-a4db-bb23e76cd03c",
   "metadata": {
    "tags": []
   },
   "outputs": [
    {
     "name": "stdout",
     "output_type": "stream",
     "text": [
      "Epoch 1/2\n",
      "43/43 [==============================] - 17s 372ms/step - loss: 0.0643 - acc: 0.9766 - val_loss: 0.0022 - val_acc: 1.0000\n",
      "Epoch 2/2\n",
      "43/43 [==============================] - 16s 371ms/step - loss: 6.4611e-05 - acc: 1.0000 - val_loss: 4.7607e-04 - val_acc: 1.0000\n"
     ]
    }
   ],
   "source": [
    "tmp = model.fit(X_train, y_train_ohe, validation_data=(X_test, y_test_ohe),\n",
    "          epochs=2, batch_size=128)\n",
    "histories.append(tmp)"
   ]
  },
  {
   "cell_type": "code",
   "execution_count": null,
   "id": "f851dac6-1d7c-4b1c-916f-cbe81eee3b26",
   "metadata": {
    "tags": []
   },
   "outputs": [],
   "source": [
    "from sklearn import metrics as mt\n",
    "from matplotlib import pyplot as plt\n",
    "%matplotlib inline\n",
    "\n",
    "# combine all the history from training together\n",
    "combined = dict()\n",
    "for key in ['acc','val_acc','loss','val_loss']:\n",
    "    combined[key] = np.hstack([x.history[key] for x in histories])\n",
    "    \n",
    "# summarize history for accuracy\n",
    "plt.figure(figsize=(15,5))\n",
    "plt.subplot(121)\n",
    "plt.plot(combined['acc'])\n",
    "plt.plot(combined['val_acc'])\n",
    "plt.title('model accuracy')\n",
    "plt.ylabel('accuracy')\n",
    "plt.xlabel('epoch')\n",
    "plt.legend(['train', 'test'], loc='upper left')\n",
    "\n",
    "# summarize history for loss\n",
    "plt.subplot(122)\n",
    "plt.plot(combined['loss'])\n",
    "plt.plot(combined['val_loss'])\n",
    "plt.title('model loss')\n",
    "plt.ylabel('loss')\n",
    "plt.xlabel('epoch')\n",
    "plt.legend(['train', 'test'], loc='upper left')\n",
    "plt.show()"
   ]
  },
  {
   "cell_type": "code",
   "execution_count": 32,
   "id": "ca3b6410-2ffd-4b10-8c78-6522c1cee137",
   "metadata": {
    "tags": []
   },
   "outputs": [],
   "source": [
    "STARTING_TEST = {\n",
    "    \"Christianity\": [\n",
    "        \"I love Jesus\", \"I enjoy Gospel\", \"We use Baptism\", \"This is Catholicism\", \"The God is the creator\",\n",
    "        \"I am an Apostle\",  \"Gospel was spread by the Disciple\", \"The Salvation is by grace\", \"Christian is so popular\", \"Faith is the invisible power\",\n",
    "        \"This the one of the best Evangelical church\", \"Christendom is the state of being a christian\", \"I must persist with Prayer\", \"I am an Apostolic\", \"I belong to the Lord\", \"I would be a Preacher\", \"This is the final Atonement\", \n",
    "        \"I wear my Crucifix\", \"This is the church of Anglican\", \"It was on the old Covenant\", \"We believe in Resurrection\", \"The Easter is christian holiday\", \"Take the Communion as a remembrance of me\", \"We will go to Heaven\"\n",
    "    ],\n",
    "    \"Judaism\": [\n",
    "        \"I am Jewish\", \" I enjoyed Passover\", \"Shalom, how are you?\", \"I read the Torah\", \"Messiah is the savior\", \"I am a Gentile\", \"I am a Ashkenazi\", \"A Cantor sings\", \"I was granted Eruv\",\n",
    "        \"Tabernacle is the tent of the congregation\", \"I only eat Kosher\", \"I lit the Menorah\", \"Pentecost is a feast\", \"Pharisee is a movement\", \"I wear a Skullcap\", \"Sukkot is a holiday\", \"Purim is a festival\",\n",
    "        \"Living in the Diaspora\", \"Mohel is a rabbi\", \"Matzah is an unleavened flatbread\", \"I visited my Shul yesterday\", \"I wore my Tzitzit\", \"I speak Hebrew\",\n",
    "        \"Shabbat is celebrated on saturday\", \"I celebrated Hanukkah\", \"I went to the Synagogue\", \"I read the Talmud\", \"We hosted a Mitzvah\", \"Zion is a nationalist movement\"\n",
    "    ],\n",
    "    \"Buddhism\": [\n",
    "        \"I follow Buddha\", \"Chan is a way of living\", \"Danais cultivated\", \"Karma driven by intention\", \"I am a student of Mahayana\", \"I like that Koan\", \"Sitting Zen\",\n",
    "        \"I enjoy Meditation\", \"I am a Monk\", \"Nirvana is my goal\", \"Pali canon is the standard collection\", \"Qigong leads to buddhahood\", \"Sangha means community\",\n",
    "        \"Sanskrit main language of buddhist\", \"I follow the Theravada traditions\",\"My experience with Vipassana was enlightening\", \"Yoga is good for peace of mind\",\n",
    "        \"Bodhisattva\", \"Vipassana\", \"Lama is a spiritual teacher\", \"Stupa is a sacred monument\", \"Sutra is a sacred text\", \"Dhyana is a deep profound meditation\", \"Samsara is a process of continuous wandering through existence\"\n",
    "    ],\n",
    "    \"Islam\": [\n",
    "        \"Allah is gracious\", \"My name is Amir\", \"God is Alim\", \"Ramadan Mubarak\", \"I am Muslim\", \"Salaam, how are you?\", \"We went to the Mosque\",\n",
    "        \"I need to ask for a Fatwa\", \"Muhammad is the prophet\", \"Sharia is a code\", \"I visited Mecca\", \"Jihad literally means striving\", \"I performed Hajj last year\", \"I enjoy Fasting\", \"My friend wears the Hijab\",\n",
    "        \"Takbir is the act of calling to prayer\", \"Barakah is a blessing\", \"I only eat Halal\", \"God is gracious\", \"Salat is a must\", \"I paid my Zakat\", \"I took my Shahada last year \", \"I visited madina\"\n",
    "        \"Making one is Tawhid\", \"I read an interesting Hadith\", \"I asked the Imam a questions\", \"I am Shia\", \"I am Sunnah\", \"I ask for a Tafsir\", \"I read the Quran\"\n",
    "    ]\n",
    "}\n"
   ]
  },
  {
   "cell_type": "code",
   "execution_count": 51,
   "id": "fb566264-b2db-498a-b6e1-c294178c8b44",
   "metadata": {
    "tags": []
   },
   "outputs": [
    {
     "name": "stdout",
     "output_type": "stream",
     "text": [
      "Found 76 unique tokens. Distilled to 76 top words.\n"
     ]
    }
   ],
   "source": [
    "islam = STARTING_TEST[\"Islam\"]\n",
    "tokenizer = Tokenizer(num_words=NUM_TOP_WORDS)\n",
    "tokenizer.fit_on_texts(islam)\n",
    "sequences = tokenizer.texts_to_sequences(islam)\n",
    "word_index = tokenizer.word_index\n",
    "NUM_TOP_WORDS = len(word_index) if NUM_TOP_WORDS==None else NUM_TOP_WORDS\n",
    "top_words = min((len(word_index),NUM_TOP_WORDS))\n",
    "print('Found %s unique tokens. Distilled to %d top words.' % (len(word_index),top_words))\n",
    "\n",
    "islam_X = pad_sequences(sequences, maxlen=MAX_ART_LEN)"
   ]
  },
  {
   "cell_type": "code",
   "execution_count": 125,
   "id": "b6cc63cc-aa64-4c25-a985-3d450e5a5092",
   "metadata": {
    "tags": []
   },
   "outputs": [
    {
     "name": "stdout",
     "output_type": "stream",
     "text": [
      "Found 75 unique tokens. Distilled to 75 top words.\n"
     ]
    }
   ],
   "source": [
    "Buddhism = STARTING_TEST[\"Buddhism\"]\n",
    "tokenizer = Tokenizer(num_words=NUM_TOP_WORDS)\n",
    "tokenizer.fit_on_texts(Buddhism)\n",
    "sequences = tokenizer.texts_to_sequences(Buddhism)\n",
    "word_index = tokenizer.word_index\n",
    "NUM_TOP_WORDS = len(word_index) if NUM_TOP_WORDS==None else NUM_TOP_WORDS\n",
    "top_words = min((len(word_index),NUM_TOP_WORDS))\n",
    "print('Found %s unique tokens. Distilled to %d top words.' % (len(word_index),top_words))\n",
    "\n",
    "Buddhism_X = pad_sequences(sequences, maxlen=MAX_ART_LEN)"
   ]
  },
  {
   "cell_type": "code",
   "execution_count": null,
   "id": "16d4503d-ee07-44b5-8f56-cdac9411dc1a",
   "metadata": {},
   "outputs": [],
   "source": [
    "christ = STARTING_TEST[\"Christianity\"]\n",
    "tokenizer = Tokenizer(num_words=NUM_TOP_WORDS)\n",
    "tokenizer.fit_on_texts(christ)\n",
    "sequences = tokenizer.texts_to_sequences(christ)\n",
    "word_index = tokenizer.word_index\n",
    "NUM_TOP_WORDS = len(word_index) if NUM_TOP_WORDS==None else NUM_TOP_WORDS\n",
    "top_words = min((len(word_index),NUM_TOP_WORDS))\n",
    "print('Found %s unique tokens. Distilled to %d top words.' % (len(word_index),top_words))\n",
    "\n",
    "christ_X = pad_sequences(sequences, maxlen=MAX_ART_LEN)"
   ]
  },
  {
   "cell_type": "code",
   "execution_count": 118,
   "id": "24d6c590-50fd-4de1-9a6d-68f0cc928e59",
   "metadata": {
    "tags": []
   },
   "outputs": [
    {
     "name": "stdout",
     "output_type": "stream",
     "text": [
      "Found 73 unique tokens. Distilled to 73 top words.\n"
     ]
    }
   ],
   "source": [
    "Judaism = STARTING_TEST[\"Judaism\"]\n",
    "tokenizer = Tokenizer(num_words=NUM_TOP_WORDS)\n",
    "tokenizer.fit_on_texts(Judaism)\n",
    "sequences = tokenizer.texts_to_sequences(Judaism)\n",
    "word_index = tokenizer.word_index\n",
    "NUM_TOP_WORDS = len(word_index) if NUM_TOP_WORDS==None else NUM_TOP_WORDS\n",
    "top_words = min((len(word_index),NUM_TOP_WORDS))\n",
    "print('Found %s unique tokens. Distilled to %d top words.' % (len(word_index),top_words))\n",
    "\n",
    "Judaism_X = pad_sequences(sequences, maxlen=MAX_ART_LEN)"
   ]
  },
  {
   "cell_type": "code",
   "execution_count": 56,
   "id": "311ce8a1-0c1a-4fb8-af86-332ba4b502b1",
   "metadata": {
    "tags": []
   },
   "outputs": [
    {
     "name": "stdout",
     "output_type": "stream",
     "text": [
      "1/1 [==============================] - 0s 60ms/step\n"
     ]
    }
   ],
   "source": [
    "result_islam = model.predict(islam_X)"
   ]
  },
  {
   "cell_type": "code",
   "execution_count": 64,
   "id": "333b2058-5c1a-40df-a913-ffeb1651a77d",
   "metadata": {
    "tags": []
   },
   "outputs": [
    {
     "name": "stdout",
     "output_type": "stream",
     "text": [
      "1/1 [==============================] - 0s 46ms/step\n"
     ]
    }
   ],
   "source": [
    "result_christ = model.predict(christ_X)"
   ]
  },
  {
   "cell_type": "code",
   "execution_count": 59,
   "id": "fc91cf6e-4958-437b-b66a-7068390b1ce2",
   "metadata": {
    "tags": []
   },
   "outputs": [],
   "source": [
    "import math\n"
   ]
  },
  {
   "cell_type": "code",
   "execution_count": 61,
   "id": "a3e79942-7883-4424-9871-631a4a841d99",
   "metadata": {
    "tags": []
   },
   "outputs": [],
   "source": [
    "sent = []\n",
    "for a in result_islam:\n",
    "    sent.append(math.log(a[0]) - math.log(a[1]))"
   ]
  },
  {
   "cell_type": "code",
   "execution_count": 65,
   "id": "8db08869-5790-4e60-ac9f-2910135fc2bd",
   "metadata": {
    "tags": []
   },
   "outputs": [],
   "source": [
    "sent_c = []\n",
    "for a in result_christ:\n",
    "    sent_c.append(math.log(a[0]) - math.log(a[1]))"
   ]
  },
  {
   "cell_type": "code",
   "execution_count": 103,
   "id": "28797ea4-6b32-4983-891a-b9133a506689",
   "metadata": {
    "tags": []
   },
   "outputs": [],
   "source": [
    "def hehe(res):\n",
    "    return math.log(res[0]) - math.log(res[1])"
   ]
  },
  {
   "cell_type": "code",
   "execution_count": 109,
   "id": "196b7e09-bd97-413f-80d5-62af1acc2071",
   "metadata": {
    "tags": []
   },
   "outputs": [
    {
     "data": {
      "text/plain": [
       "7.156163e-06"
      ]
     },
     "execution_count": 109,
     "metadata": {},
     "output_type": "execute_result"
    }
   ],
   "source": [
    "model.predict(np.expand_dims(islam_X[0], axis=0), verbose=0)[0]"
   ]
  },
  {
   "cell_type": "code",
   "execution_count": 126,
   "id": "7ed101d0-4f5f-4a6e-ad6d-6681d4763451",
   "metadata": {
    "tags": []
   },
   "outputs": [],
   "source": [
    "def sentiment_table():\n",
    "    frames = []\n",
    "    for sent in islam_X:\n",
    "        sentiment = {}\n",
    "        sentiment['sentiment'] = hehe(model.predict(np.expand_dims(sent, axis=0), verbose=0)[0])\n",
    "        sentiment['group'] = 'islam'\n",
    "        frames.append(pd.DataFrame([sentiment]))\n",
    "        \n",
    "    for sent in christ_X:\n",
    "        sentiment = {}\n",
    "        sentiment['sentiment'] = hehe(model.predict(np.expand_dims(sent, axis=0), verbose=0)[0])\n",
    "        sentiment['group'] = 'christ'\n",
    "        frames.append(pd.DataFrame([sentiment]))\n",
    "        \n",
    "    for sent in Judaism_X:\n",
    "        sentiment = {}\n",
    "        sentiment['sentiment'] = hehe(model.predict(np.expand_dims(sent, axis=0), verbose=0)[0])\n",
    "        sentiment['group'] = 'Judaism'\n",
    "        frames.append(pd.DataFrame([sentiment]))\n",
    "        \n",
    "    for sent in Buddhism_X:\n",
    "        sentiment = {}\n",
    "        sentiment['sentiment'] = hehe(model.predict(np.expand_dims(sent, axis=0), verbose=0)[0])\n",
    "        sentiment['group'] = 'Buddhism'\n",
    "        frames.append(pd.DataFrame([sentiment]))\n",
    "    return pd.concat(frames)"
   ]
  },
  {
   "cell_type": "code",
   "execution_count": 127,
   "id": "de14054e-9e7c-4723-a717-dd450c6ec8e2",
   "metadata": {
    "tags": []
   },
   "outputs": [],
   "source": [
    "result = sentiment_table()"
   ]
  },
  {
   "cell_type": "code",
   "execution_count": 128,
   "id": "639db222-eef9-461c-b475-0fb71cda575a",
   "metadata": {
    "tags": []
   },
   "outputs": [
    {
     "data": {
      "image/png": "[encoded data removed]",
      "text/plain": [
       "<Figure size 1500x500 with 2 Axes>"
      ]
     },
     "metadata": {},
     "output_type": "display_data"
    }
   ],
   "source": [
    "matplotlib.pyplot.figure(figsize=(15,5))\n",
    "matplotlib.pyplot.subplot(121)\n",
    "plot = seaborn.swarmplot(x='group', y='sentiment', data=result)\n",
    "# plot.set_ylim([-10, 10])\n",
    "matplotlib.pyplot.subplot(122)\n",
    "plot = seaborn.barplot(x='group', y='sentiment', data=result, capsize=.1)"
   ]
  }
 ],
 "metadata": {
  "kernelspec": {
   "display_name": "Python 3 (ipykernel)",
   "language": "python",
   "name": "python3"
  },
  "language_info": {
   "codemirror_mode": {
    "name": "ipython",
    "version": 3
   },
   "file_extension": ".py",
   "mimetype": "text/x-python",
   "name": "python",
   "nbconvert_exporter": "python",
   "pygments_lexer": "ipython3",
   "version": "3.8.18"
  }
 },
 "nbformat": 4,
 "nbformat_minor": 5
}

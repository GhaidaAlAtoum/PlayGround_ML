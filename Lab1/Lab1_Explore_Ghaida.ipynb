{
 "cells": [
  {
   "cell_type": "code",
   "execution_count": 1,
   "id": "a33c7492-b843-4823-87d8-b336608dcb3e",
   "metadata": {
    "tags": []
   },
   "outputs": [],
   "source": [
    "import numpy as np\n",
    "import pandas as pd\n",
    "import matplotlib\n",
    "import matplotlib.pyplot as plot\n",
    "import seaborn\n",
    "import re\n",
    "\n",
    "from sklearn.linear_model import SGDClassifier\n",
    "from sklearn.model_selection import train_test_split\n",
    "from sklearn.metrics import accuracy_score\n",
    "import scipy.stats as stats"
   ]
  },
  {
   "cell_type": "code",
   "execution_count": 9,
   "id": "a48036fc-a9b1-43bf-b60f-3a9c639a4dc4",
   "metadata": {
    "tags": []
   },
   "outputs": [],
   "source": [
    "# Configure how graphs will show up in this notebook\n",
    "%matplotlib inline\n",
    "seaborn.set_context('notebook', rc={'figure.figsize': (50, 50)}, font_scale=1.5)"
   ]
  },
  {
   "cell_type": "code",
   "execution_count": 2,
   "id": "4180a90d-5f50-45bf-8dc0-b2c9765b18a5",
   "metadata": {
    "tags": []
   },
   "outputs": [
    {
     "name": "stdout",
     "output_type": "stream",
     "text": [
      "CPU times: user 2 µs, sys: 2 µs, total: 4 µs\n",
      "Wall time: 6.2 µs\n"
     ]
    }
   ],
   "source": [
    "%%time\n",
    "def load_embeddings(filename):\n",
    "    \"\"\"\n",
    "    Load a DataFrame from the generalized text format used by word2vec, GloVe,\n",
    "    fastText, and ConceptNet Numberbatch. The main point where they differ is\n",
    "    whether there is an initial line with the dimensions of the matrix.\n",
    "    \"\"\"\n",
    "    labels = []\n",
    "    rows = []\n",
    "    with open(filename, encoding='utf-8') as infile:\n",
    "        for i, line in enumerate(infile):\n",
    "            items = line.rstrip().split(' ')\n",
    "            if len(items) == 2:\n",
    "                # This is a header row giving the shape of the matrix\n",
    "                continue\n",
    "            labels.append(items[0])\n",
    "            values = np.array([float(x) for x in items[1:]], 'f')\n",
    "            rows.append(values)\n",
    "    \n",
    "    arr = np.vstack(rows)\n",
    "    return pd.DataFrame(arr, index=labels, dtype='f')"
   ]
  },
  {
   "cell_type": "code",
   "execution_count": 5,
   "id": "cc7c40f0-8e78-4ced-802f-81f4a10524e7",
   "metadata": {
    "tags": []
   },
   "outputs": [
    {
     "ename": "KeyboardInterrupt",
     "evalue": "",
     "output_type": "error",
     "traceback": [
      "\u001b[0;31m---------------------------------------------------------------------------\u001b[0m",
      "\u001b[0;31mKeyboardInterrupt\u001b[0m                         Traceback (most recent call last)",
      "File \u001b[0;32m<timed exec>:1\u001b[0m\n",
      "File \u001b[0;32m<timed exec>:11\u001b[0m, in \u001b[0;36mload_embeddings\u001b[0;34m(filename)\u001b[0m\n",
      "\u001b[0;31mKeyboardInterrupt\u001b[0m: "
     ]
    }
   ],
   "source": [
    "%%time \n",
    "glove_840B_embeddings = load_embeddings('data/embeddings/glove/glove.840B.300d.txt')\n",
    "glove_840B_embeddings.shape"
   ]
  },
  {
   "cell_type": "code",
   "execution_count": 3,
   "id": "85faa6f3-26a3-4067-882d-6b3094438147",
   "metadata": {
    "tags": []
   },
   "outputs": [
    {
     "name": "stdout",
     "output_type": "stream",
     "text": [
      "CPU times: user 21.6 s, sys: 848 ms, total: 22.4 s\n",
      "Wall time: 22.2 s\n"
     ]
    },
    {
     "data": {
      "text/plain": [
       "(400000, 300)"
      ]
     },
     "execution_count": 3,
     "metadata": {},
     "output_type": "execute_result"
    }
   ],
   "source": [
    "%%time \n",
    "glove_6B_300d_embeddings = load_embeddings('data/embeddings/glove/glove.6B.300d.txt')\n",
    "glove_6B_300d_embeddings.shape"
   ]
  },
  {
   "cell_type": "code",
   "execution_count": 7,
   "id": "20942ea8-5492-40a4-89f8-8a72f831ca27",
   "metadata": {
    "tags": []
   },
   "outputs": [
    {
     "ename": "KeyboardInterrupt",
     "evalue": "",
     "output_type": "error",
     "traceback": [
      "\u001b[0;31m---------------------------------------------------------------------------\u001b[0m",
      "\u001b[0;31mKeyboardInterrupt\u001b[0m                         Traceback (most recent call last)",
      "Cell \u001b[0;32mIn[7], line 3\u001b[0m\n\u001b[1;32m      1\u001b[0m \u001b[38;5;66;03m## Loading word2vec\u001b[39;00m\n\u001b[1;32m      2\u001b[0m \u001b[38;5;28;01mfrom\u001b[39;00m \u001b[38;5;21;01mconceptnet5\u001b[39;00m\u001b[38;5;21;01m.\u001b[39;00m\u001b[38;5;21;01mvectors\u001b[39;00m\u001b[38;5;21;01m.\u001b[39;00m\u001b[38;5;21;01mformats\u001b[39;00m \u001b[38;5;28;01mimport\u001b[39;00m load_word2vec_bin\n\u001b[0;32m----> 3\u001b[0m w2v \u001b[38;5;241m=\u001b[39m \u001b[43mload_word2vec_bin\u001b[49m\u001b[43m(\u001b[49m\u001b[38;5;124;43m'\u001b[39;49m\u001b[38;5;124;43mdata/embeddings/word2vec/word2vec-googlenews-300.bin.gz\u001b[39;49m\u001b[38;5;124;43m'\u001b[39;49m\u001b[43m,\u001b[49m\u001b[43m \u001b[49m\u001b[43mnrows\u001b[49m\u001b[38;5;241;43m=\u001b[39;49m\u001b[38;5;241;43m2000000\u001b[39;49m\u001b[43m)\u001b[49m\n\u001b[1;32m      5\u001b[0m \u001b[38;5;66;03m# word2vec is case-sensitive, so case-fold its labels\u001b[39;00m\n\u001b[1;32m      6\u001b[0m w2v\u001b[38;5;241m.\u001b[39mindex \u001b[38;5;241m=\u001b[39m [label\u001b[38;5;241m.\u001b[39mcasefold() \u001b[38;5;28;01mfor\u001b[39;00m label \u001b[38;5;129;01min\u001b[39;00m w2v\u001b[38;5;241m.\u001b[39mindex]\n",
      "File \u001b[0;32m/usr/local/lib/python3.8/dist-packages/conceptnet5/vectors/formats.py:214\u001b[0m, in \u001b[0;36mload_word2vec_bin\u001b[0;34m(filename, nrows)\u001b[0m\n\u001b[1;32m    212\u001b[0m \u001b[38;5;28;01mwhile\u001b[39;00m \u001b[38;5;28mlen\u001b[39m(label_list) \u001b[38;5;241m<\u001b[39m nrows:\n\u001b[1;32m    213\u001b[0m     label \u001b[38;5;241m=\u001b[39m _read_until_space(infile)\n\u001b[0;32m--> 214\u001b[0m     vec \u001b[38;5;241m=\u001b[39m \u001b[43m_read_vec\u001b[49m\u001b[43m(\u001b[49m\u001b[43minfile\u001b[49m\u001b[43m,\u001b[49m\u001b[43m \u001b[49m\u001b[43mncols\u001b[49m\u001b[43m)\u001b[49m\n\u001b[1;32m    215\u001b[0m     \u001b[38;5;28;01mif\u001b[39;00m label \u001b[38;5;241m==\u001b[39m \u001b[38;5;124m'\u001b[39m\u001b[38;5;124m</s>\u001b[39m\u001b[38;5;124m'\u001b[39m:\n\u001b[1;32m    216\u001b[0m         \u001b[38;5;66;03m# Skip the word2vec sentence boundary marker, which will not\u001b[39;00m\n\u001b[1;32m    217\u001b[0m         \u001b[38;5;66;03m# correspond to anything in other data\u001b[39;00m\n\u001b[1;32m    218\u001b[0m         \u001b[38;5;28;01mcontinue\u001b[39;00m\n",
      "\u001b[0;31mKeyboardInterrupt\u001b[0m: "
     ]
    }
   ],
   "source": [
    "## Loading word2vec\n",
    "from conceptnet5.vectors.formats import load_word2vec_bin\n",
    "w2v = load_word2vec_bin('data/embeddings/word2vec/word2vec-googlenews-300.bin.gz', nrows=2000000)\n",
    "\n",
    "# word2vec is case-sensitive, so case-fold its labels\n",
    "w2v.index = [label.casefold() for label in w2v.index]\n",
    "\n",
    "# Now we have duplicate labels, so drop the later (lower-frequency) occurrences of the same label\n",
    "w2v = w2v.reset_index().drop_duplicates(subset='index', keep='first').set_index('index')"
   ]
  },
  {
   "cell_type": "code",
   "execution_count": 4,
   "id": "4bbc4db0-2ca1-4fce-859d-5831c1c2328e",
   "metadata": {
    "tags": []
   },
   "outputs": [],
   "source": [
    "def load_lexicon(filename):\n",
    "    \"\"\"\n",
    "    Load a file from Bing Liu's sentiment lexicon\n",
    "    (https://www.cs.uic.edu/~liub/FBS/sentiment-analysis.html), containing\n",
    "    English words in Latin-1 encoding.\n",
    "    \n",
    "    One file contains a list of positive words, and the other contains\n",
    "    a list of negative words. The files contain comment lines starting\n",
    "    with ';' and blank lines, which should be skipped.\n",
    "    \"\"\"\n",
    "    lexicon = []\n",
    "    with open(filename, encoding='latin-1') as infile:\n",
    "        for line in infile:\n",
    "            line = line.rstrip()\n",
    "            if line and not line.startswith(';'):\n",
    "                lexicon.append(line)\n",
    "    return lexicon"
   ]
  },
  {
   "cell_type": "code",
   "execution_count": 5,
   "id": "8ad68ecd-b179-40b3-bdee-5420403d8b67",
   "metadata": {
    "tags": []
   },
   "outputs": [
    {
     "name": "stdout",
     "output_type": "stream",
     "text": [
      "2006 4783\n"
     ]
    }
   ],
   "source": [
    "pos_words = load_lexicon('data/lexicons/hu_liu_2004/opinion-lexicon-English/positive-words.txt')\n",
    "neg_words = load_lexicon('data/lexicons/hu_liu_2004/opinion-lexicon-English/negative-words.txt')\n",
    "\n",
    "print(len(pos_words), len(neg_words))"
   ]
  },
  {
   "cell_type": "code",
   "execution_count": 6,
   "id": "389dc502-ac56-4e79-8aae-573e8626be11",
   "metadata": {
    "tags": []
   },
   "outputs": [],
   "source": [
    "pos_words_common = list(set(pos_words) & set(glove_6B_300d_embeddings.index)) \n",
    "neg_words_common = list(set(neg_words) & set(glove_6B_300d_embeddings.index)) \n",
    "pos_vectors = glove_6B_300d_embeddings.loc[pos_words_common]\n",
    "neg_vectors = glove_6B_300d_embeddings.loc[neg_words_common]\n",
    "vectors = pd.concat([pos_vectors, neg_vectors])\n",
    "targets = np.array([1 for entry in pos_vectors.index] + [-1 for entry in neg_vectors.index])\n",
    "labels = list(pos_vectors.index) + list(neg_vectors.index)"
   ]
  },
  {
   "cell_type": "code",
   "execution_count": 10,
   "id": "929e9a5e-f36e-45cf-8468-67783e706c22",
   "metadata": {
    "tags": []
   },
   "outputs": [
    {
     "data": {
      "text/html": [
       "<div>\n",
       "<style scoped>\n",
       "    .dataframe tbody tr th:only-of-type {\n",
       "        vertical-align: middle;\n",
       "    }\n",
       "\n",
       "    .dataframe tbody tr th {\n",
       "        vertical-align: top;\n",
       "    }\n",
       "\n",
       "    .dataframe thead th {\n",
       "        text-align: right;\n",
       "    }\n",
       "</style>\n",
       "<table border=\"1\" class=\"dataframe\">\n",
       "  <thead>\n",
       "    <tr style=\"text-align: right;\">\n",
       "      <th></th>\n",
       "      <th>0</th>\n",
       "      <th>1</th>\n",
       "      <th>2</th>\n",
       "      <th>3</th>\n",
       "      <th>4</th>\n",
       "      <th>5</th>\n",
       "      <th>6</th>\n",
       "      <th>7</th>\n",
       "      <th>8</th>\n",
       "      <th>9</th>\n",
       "      <th>...</th>\n",
       "      <th>290</th>\n",
       "      <th>291</th>\n",
       "      <th>292</th>\n",
       "      <th>293</th>\n",
       "      <th>294</th>\n",
       "      <th>295</th>\n",
       "      <th>296</th>\n",
       "      <th>297</th>\n",
       "      <th>298</th>\n",
       "      <th>299</th>\n",
       "    </tr>\n",
       "  </thead>\n",
       "  <tbody>\n",
       "    <tr>\n",
       "      <th>upscale</th>\n",
       "      <td>0.326700</td>\n",
       "      <td>0.440310</td>\n",
       "      <td>0.27021</td>\n",
       "      <td>-0.083099</td>\n",
       "      <td>0.385910</td>\n",
       "      <td>0.48372</td>\n",
       "      <td>0.242900</td>\n",
       "      <td>0.33570</td>\n",
       "      <td>-0.060518</td>\n",
       "      <td>-0.44930</td>\n",
       "      <td>...</td>\n",
       "      <td>0.046882</td>\n",
       "      <td>-0.013723</td>\n",
       "      <td>-0.12263</td>\n",
       "      <td>0.310650</td>\n",
       "      <td>0.065257</td>\n",
       "      <td>0.060959</td>\n",
       "      <td>0.260770</td>\n",
       "      <td>0.087547</td>\n",
       "      <td>-0.098923</td>\n",
       "      <td>-0.230280</td>\n",
       "    </tr>\n",
       "    <tr>\n",
       "      <th>cheapest</th>\n",
       "      <td>-0.087459</td>\n",
       "      <td>0.532400</td>\n",
       "      <td>0.41479</td>\n",
       "      <td>-0.099595</td>\n",
       "      <td>0.830590</td>\n",
       "      <td>0.40803</td>\n",
       "      <td>0.257870</td>\n",
       "      <td>-0.20273</td>\n",
       "      <td>-0.742570</td>\n",
       "      <td>-0.49510</td>\n",
       "      <td>...</td>\n",
       "      <td>-0.119580</td>\n",
       "      <td>-0.467170</td>\n",
       "      <td>0.41236</td>\n",
       "      <td>0.169180</td>\n",
       "      <td>-0.100830</td>\n",
       "      <td>-0.095395</td>\n",
       "      <td>-0.130840</td>\n",
       "      <td>-0.221540</td>\n",
       "      <td>0.351550</td>\n",
       "      <td>0.008503</td>\n",
       "    </tr>\n",
       "    <tr>\n",
       "      <th>topnotch</th>\n",
       "      <td>-0.483830</td>\n",
       "      <td>-0.135670</td>\n",
       "      <td>0.43951</td>\n",
       "      <td>0.258990</td>\n",
       "      <td>0.231090</td>\n",
       "      <td>0.65708</td>\n",
       "      <td>0.782740</td>\n",
       "      <td>1.02930</td>\n",
       "      <td>0.252140</td>\n",
       "      <td>0.91091</td>\n",
       "      <td>...</td>\n",
       "      <td>0.312980</td>\n",
       "      <td>-0.384740</td>\n",
       "      <td>0.35288</td>\n",
       "      <td>0.830960</td>\n",
       "      <td>-0.580360</td>\n",
       "      <td>-0.212710</td>\n",
       "      <td>0.479450</td>\n",
       "      <td>0.496530</td>\n",
       "      <td>0.874290</td>\n",
       "      <td>-0.108690</td>\n",
       "    </tr>\n",
       "    <tr>\n",
       "      <th>titillate</th>\n",
       "      <td>-0.111110</td>\n",
       "      <td>0.031328</td>\n",
       "      <td>0.55381</td>\n",
       "      <td>-0.050605</td>\n",
       "      <td>-0.158770</td>\n",
       "      <td>1.18890</td>\n",
       "      <td>-0.221000</td>\n",
       "      <td>-0.26587</td>\n",
       "      <td>-0.417020</td>\n",
       "      <td>0.78967</td>\n",
       "      <td>...</td>\n",
       "      <td>-0.084749</td>\n",
       "      <td>0.102160</td>\n",
       "      <td>0.53991</td>\n",
       "      <td>-0.098531</td>\n",
       "      <td>0.525110</td>\n",
       "      <td>-0.974250</td>\n",
       "      <td>-0.554620</td>\n",
       "      <td>0.083019</td>\n",
       "      <td>0.335940</td>\n",
       "      <td>0.038485</td>\n",
       "    </tr>\n",
       "    <tr>\n",
       "      <th>happy</th>\n",
       "      <td>-0.176120</td>\n",
       "      <td>0.109370</td>\n",
       "      <td>0.29458</td>\n",
       "      <td>-0.469490</td>\n",
       "      <td>-0.085332</td>\n",
       "      <td>-0.23072</td>\n",
       "      <td>0.001865</td>\n",
       "      <td>0.17469</td>\n",
       "      <td>0.069360</td>\n",
       "      <td>-0.68698</td>\n",
       "      <td>...</td>\n",
       "      <td>0.002189</td>\n",
       "      <td>-0.114440</td>\n",
       "      <td>-0.25003</td>\n",
       "      <td>-0.177860</td>\n",
       "      <td>-0.092675</td>\n",
       "      <td>-0.527340</td>\n",
       "      <td>-0.000776</td>\n",
       "      <td>0.057345</td>\n",
       "      <td>0.035544</td>\n",
       "      <td>0.057239</td>\n",
       "    </tr>\n",
       "  </tbody>\n",
       "</table>\n",
       "<p>5 rows × 300 columns</p>\n",
       "</div>"
      ],
      "text/plain": [
       "                0         1        2         3         4        5         6    \\\n",
       "upscale    0.326700  0.440310  0.27021 -0.083099  0.385910  0.48372  0.242900   \n",
       "cheapest  -0.087459  0.532400  0.41479 -0.099595  0.830590  0.40803  0.257870   \n",
       "topnotch  -0.483830 -0.135670  0.43951  0.258990  0.231090  0.65708  0.782740   \n",
       "titillate -0.111110  0.031328  0.55381 -0.050605 -0.158770  1.18890 -0.221000   \n",
       "happy     -0.176120  0.109370  0.29458 -0.469490 -0.085332 -0.23072  0.001865   \n",
       "\n",
       "               7         8        9    ...       290       291      292  \\\n",
       "upscale    0.33570 -0.060518 -0.44930  ...  0.046882 -0.013723 -0.12263   \n",
       "cheapest  -0.20273 -0.742570 -0.49510  ... -0.119580 -0.467170  0.41236   \n",
       "topnotch   1.02930  0.252140  0.91091  ...  0.312980 -0.384740  0.35288   \n",
       "titillate -0.26587 -0.417020  0.78967  ... -0.084749  0.102160  0.53991   \n",
       "happy      0.17469  0.069360 -0.68698  ...  0.002189 -0.114440 -0.25003   \n",
       "\n",
       "                293       294       295       296       297       298  \\\n",
       "upscale    0.310650  0.065257  0.060959  0.260770  0.087547 -0.098923   \n",
       "cheapest   0.169180 -0.100830 -0.095395 -0.130840 -0.221540  0.351550   \n",
       "topnotch   0.830960 -0.580360 -0.212710  0.479450  0.496530  0.874290   \n",
       "titillate -0.098531  0.525110 -0.974250 -0.554620  0.083019  0.335940   \n",
       "happy     -0.177860 -0.092675 -0.527340 -0.000776  0.057345  0.035544   \n",
       "\n",
       "                299  \n",
       "upscale   -0.230280  \n",
       "cheapest   0.008503  \n",
       "topnotch  -0.108690  \n",
       "titillate  0.038485  \n",
       "happy      0.057239  \n",
       "\n",
       "[5 rows x 300 columns]"
      ]
     },
     "execution_count": 10,
     "metadata": {},
     "output_type": "execute_result"
    }
   ],
   "source": [
    "pos_vectors.head()"
   ]
  },
  {
   "cell_type": "code",
   "execution_count": null,
   "id": "74b9dbc5-2509-4efd-a9da-9da9ccfc927b",
   "metadata": {
    "tags": []
   },
   "outputs": [],
   "source": [
    "import re\n",
    "TOKEN_RE = re.compile(r\"\\w.*?\\b\")\n",
    "\n",
    "def vecs_to_sentiment(model, vecs):\n",
    "    # predict_log_proba gives the log probability for each class\n",
    "    predictions = model.predict_log_proba(vecs)\n",
    "\n",
    "    # To see an overall positive vs. negative classification in one number,\n",
    "    # we take the log probability of positive sentiment minus the log\n",
    "    # probability of negative sentiment.\n",
    "    # this is a logarithm of the max margin for the classifier, \n",
    "    # similar to odds ratio (but not exact) log(p_1/p_0) = log(p_1)-log(p_0)\n",
    "    return predictions[:, 1] - predictions[:, 0]\n",
    "\n",
    "\n",
    "def words_to_sentiment(model, embeddings, words):\n",
    "    vecs = embeddings.loc[embeddings.index.intersection(set(words))].dropna()\n",
    "    # vecs = embeddings.loc[words].dropna()\n",
    "    log_odds = vecs_to_sentiment(model, vecs)\n",
    "    return pd.DataFrame({'sentiment': log_odds}, index=vecs.index)\n",
    "    \n",
    "\n",
    "def text_to_sentiment(model, embeddings, text):\n",
    "    # tokenize the input phrase\n",
    "    tokens = [token.casefold() for token in TOKEN_RE.findall(text)]\n",
    "    # send each token separately into the embedding, then the classifier\n",
    "    sentiments = words_to_sentiment(model, embeddings, tokens)\n",
    "    return sentiments['sentiment'].mean() # return the mean for the classifier        "
   ]
  },
  {
   "cell_type": "code",
   "execution_count": null,
   "id": "a23ebd6d-de27-4d32-9456-1df19b2db232",
   "metadata": {
    "tags": []
   },
   "outputs": [],
   "source": [
    "def texts_to_sentiment(model, embeddings, texts):\n",
    "    sentiments = pd.DataFrame(columns=['sentiment'])\n",
    "    for text in texts:\n",
    "        sentiments= pd.concat([sentiments, pd.DataFrame.from_records([{'sentiment': text_to_sentiment(model, embeddings, text)}])])\n",
    "    return sentiments\n"
   ]
  },
  {
   "cell_type": "code",
   "execution_count": null,
   "id": "b99b5a28-e915-43ef-bf56-e8c5810eb049",
   "metadata": {
    "tags": []
   },
   "outputs": [],
   "source": [
    "def category_sentiment_table(model, embeddings, group_data, isText=False):\n",
    "    frames = []\n",
    "    for group, name_list in sorted(group_data.items()):\n",
    "        lower_names = [name.lower() for name in name_list]\n",
    "        if isText:\n",
    "            sentiments = texts_to_sentiment(model, embeddings, lower_names)\n",
    "        else:\n",
    "            sentiments = words_to_sentiment(model, embeddings, lower_names)\n",
    "        sentiments['group'] = group\n",
    "        frames.append(sentiments)\n",
    "\n",
    "    # Put together the data we got from each ethnic group into one big table\n",
    "    return pd.concat(frames)"
   ]
  },
  {
   "cell_type": "code",
   "execution_count": 7,
   "id": "c3279bff-9f43-4252-be49-c491c4e331cc",
   "metadata": {
    "tags": []
   },
   "outputs": [
    {
     "data": {
      "text/plain": [
       "400000"
      ]
     },
     "execution_count": 7,
     "metadata": {},
     "output_type": "execute_result"
    }
   ],
   "source": [
    "len(set(glove_6B_300d_embeddings.index))"
   ]
  },
  {
   "cell_type": "code",
   "execution_count": 13,
   "id": "a43bbf6c-d428-4d09-afcd-052a61ace6b5",
   "metadata": {
    "tags": []
   },
   "outputs": [
    {
     "data": {
      "text/plain": [
       "2006"
      ]
     },
     "execution_count": 13,
     "metadata": {},
     "output_type": "execute_result"
    }
   ],
   "source": [
    "len(set(pos_words))"
   ]
  },
  {
   "cell_type": "code",
   "execution_count": 15,
   "id": "40e7acc9-eceb-4411-8d62-8c0f225160da",
   "metadata": {
    "tags": []
   },
   "outputs": [
    {
     "data": {
      "text/plain": [
       "1893"
      ]
     },
     "execution_count": 15,
     "metadata": {},
     "output_type": "execute_result"
    }
   ],
   "source": [
    "len(list(set(pos_words) & set(glove_6B_300d_embeddings.index)) )"
   ]
  },
  {
   "cell_type": "code",
   "execution_count": null,
   "id": "6ef8f3fc-7874-4580-b9af-a011a2a5d9ee",
   "metadata": {},
   "outputs": [],
   "source": [
    "pos_words_common = list(set(pos_words) & set(glove_6B_300d_embeddings.index)) \n",
    "neg_words_common = list(set(neg_words) & set(glove_6B_300d_embeddings.index)) "
   ]
  },
  {
   "cell_type": "code",
   "execution_count": null,
   "id": "c6fc19d9-6aaa-4946-9385-f08dbb81edd3",
   "metadata": {
    "tags": []
   },
   "outputs": [],
   "source": [
    "def train_model(embeddings, title = ''):\n",
    "    # get the positive and negative embeddings\n",
    "    pos_words_common = list(set(pos_words) & set(embeddings.index)) \n",
    "    neg_words_common = list(set(neg_words) & set(embeddings.index)) \n",
    "    pos_vectors = embeddings.loc[pos_words_common]\n",
    "    neg_vectors = embeddings.loc[neg_words_common]\n",
    "    vectors = pd.concat([pos_vectors, neg_vectors])\n",
    "    targets = np.array([1 for entry in pos_vectors.index] + [-1 for entry in neg_vectors.index])\n",
    "    labels = list(pos_vectors.index) + list(neg_vectors.index)\n",
    "\n",
    "    # split the data\n",
    "    train_vectors, test_vectors, train_targets, test_targets, train_labels, test_labels = \\\n",
    "        train_test_split(vectors, targets, labels, test_size=0.1, random_state=0)\n",
    "    \n",
    "    # train our model\n",
    "    model = SGDClassifier(loss='log_loss', random_state=0, max_iter=100)\n",
    "#     model.fit(train_vectors, train_targets)\n",
    "    \n",
    "#     # print out a goodness of fit\n",
    "#     accuracy = accuracy_score(model.predict(test_vectors), test_targets)\n",
    "#     print(\"Accuracy of sentiment: {:.2%}\".format(accuracy))\n",
    "    return model"
   ]
  },
  {
   "cell_type": "code",
   "execution_count": null,
   "id": "2eb25808-5bd0-41b5-8ad1-13b7dc5f8550",
   "metadata": {},
   "outputs": [],
   "source": []
  },
  {
   "cell_type": "code",
   "execution_count": null,
   "id": "e0b359e4-84ec-4818-98dc-5ad073a8c56e",
   "metadata": {},
   "outputs": [],
   "source": []
  },
  {
   "cell_type": "code",
   "execution_count": null,
   "id": "3f5fa8a5-7933-4acb-8b96-ba7e46624d56",
   "metadata": {
    "tags": []
   },
   "outputs": [],
   "source": [
    "model_6B = train_model(glove_6B_300d_embeddings)"
   ]
  },
  {
   "cell_type": "code",
   "execution_count": null,
   "id": "69af631f-5777-4c0c-883f-9ab5b2ded55a",
   "metadata": {
    "tags": []
   },
   "outputs": [],
   "source": [
    "model_840B = train_model(glove_840B_embeddings)"
   ]
  },
  {
   "cell_type": "code",
   "execution_count": null,
   "id": "2d13ae87-79a2-446d-84d2-b1fe184f74de",
   "metadata": {
    "tags": []
   },
   "outputs": [],
   "source": [
    "model_w2v = train_model(w2v)"
   ]
  },
  {
   "cell_type": "code",
   "execution_count": null,
   "id": "f8a68c1d-bb94-4b48-8593-bd2edc01846f",
   "metadata": {},
   "outputs": [],
   "source": [
    "# Gender by Name. (2020). UCI Machine Learning Repository. https://doi.org/10.24432/C55G7X.\n",
    "\n",
    "gender_names = pd.read_csv(\"gender_bias_test_data/uci_gendered_names/name_gender_dataset.csv\")\n",
    "\n",
    "gender_names.info()"
   ]
  },
  {
   "cell_type": "code",
   "execution_count": null,
   "id": "351b4199-549b-4763-9f0a-bb62624a7dbc",
   "metadata": {},
   "outputs": [],
   "source": [
    "num_f = gender_names[gender_names.Gender == 'F'].shape[0]\n",
    "num_m = gender_names[gender_names.Gender == 'M'].shape[0]\n",
    "\n",
    "print('There are {} female instants vs {} male instants'.format(num_f, num_m))"
   ]
  },
  {
   "cell_type": "code",
   "execution_count": null,
   "id": "d5354269-b78c-4a77-bc60-cbdfb3167405",
   "metadata": {},
   "outputs": [],
   "source": [
    "GENDER_CAT_NAMES = {\n",
    "    'female': gender_names[gender_names.Gender == 'F'].iloc[:num_m].Name.values,\n",
    "    'male': gender_names[gender_names.Gender == 'M'].Name.values\n",
    "}"
   ]
  },
  {
   "cell_type": "code",
   "execution_count": null,
   "id": "2ad0cc7b-ccc8-4d15-a8cd-55db72d19aa7",
   "metadata": {
    "tags": []
   },
   "outputs": [],
   "source": [
    "def cat_sentiment(model, embeddings, group_data, isText=False, swarmPlot=True):\n",
    "    print(\"---- Get the sentiment table\")\n",
    "    # get the name table of different people's names and save embeddings\n",
    "    category_sentiments = category_sentiment_table(model, embeddings, group_data, isText)\n",
    "    \n",
    "    stats_params = []\n",
    "    for group in category_sentiments.group.unique():\n",
    "        stats_params.append(category_sentiments['sentiment'][category_sentiments['group'] == group])\n",
    "    \n",
    "    print(\"---- Calculate F_oneway\")\n",
    "    stats.f_oneway(*stats_params)\n",
    "    fstat,pval = stats.f_oneway(*stats_params)\n",
    "    print('F-statistic:',fstat,' With P-value:', pval)\n",
    "\n",
    "    # Show the results on a swarm plot, with a consistent Y-axis\n",
    "    matplotlib.pyplot.figure(figsize=(15,5))\n",
    "    matplotlib.pyplot.subplot(121)\n",
    "    plot = None\n",
    "    if swarmPlot:\n",
    "        plot = seaborn.swarmplot(x='group', y='sentiment', data=category_sentiments)\n",
    "    else:\n",
    "        plot = seaborn.violinplot(x='group', y='sentiment', data=category_sentiments)\n",
    "    plot.set_ylim([-10, 10])\n",
    "    matplotlib.pyplot.subplot(122)\n",
    "    plot = seaborn.barplot(x='group', y='sentiment', data=category_sentiments, capsize=.1)\n",
    "    matplotlib.pyplot.suptitle(\"hehe\", fontsize=16)"
   ]
  },
  {
   "cell_type": "code",
   "execution_count": null,
   "id": "f91dbeb5-660b-41ba-83b2-da37a602e4fa",
   "metadata": {},
   "outputs": [],
   "source": [
    "cat_sentiment(model_840B ,glove_840B_embeddings, GENDER_CAT_NAMES, False, False)"
   ]
  },
  {
   "cell_type": "code",
   "execution_count": null,
   "id": "3439fa78-30fd-42a5-8a61-7c9c676527bf",
   "metadata": {},
   "outputs": [],
   "source": [
    "cat_sentiment(model_w2v ,w2v, GENDER_CAT_NAMES, False, False)"
   ]
  },
  {
   "cell_type": "code",
   "execution_count": null,
   "id": "7138d39f-18e8-4862-89c7-2ea05940fbe3",
   "metadata": {},
   "outputs": [],
   "source": [
    "# Gendered Words: https://github.com/ecmonsen/gendered_words\n",
    "\n",
    "gendered_words = pd.read_json('gender_bias_test_data/gendered_words/gendred_words.json')\n",
    "\n",
    "gendered_words.info()"
   ]
  },
  {
   "cell_type": "code",
   "execution_count": null,
   "id": "b1efc8fa-7544-44f8-baa3-d86e8352df78",
   "metadata": {},
   "outputs": [],
   "source": [
    "gendered_words = gendered_words.drop('gender_map', axis=1)\n",
    "gendered_words = gendered_words.drop('wordnet_senseno', axis=1)"
   ]
  },
  {
   "cell_type": "code",
   "execution_count": null,
   "id": "1f4a5316-3f2b-4c72-8488-6305fb68b87a",
   "metadata": {},
   "outputs": [],
   "source": [
    "gendered_words.info()"
   ]
  },
  {
   "cell_type": "code",
   "execution_count": null,
   "id": "641d9e5a-b874-43ae-bfff-ced8b51874c1",
   "metadata": {},
   "outputs": [],
   "source": [
    "num_f_2 = gendered_words[gendered_words.gender == 'f'].shape[0]\n",
    "num_m_2 = gendered_words[gendered_words.gender == 'm'].shape[0]\n",
    "\n",
    "print('There are {} female instants vs {} male instants'.format(num_f_2, num_m_2))"
   ]
  },
  {
   "cell_type": "code",
   "execution_count": null,
   "id": "2384ae9f-6d85-4e54-8cb2-3ebdbc776849",
   "metadata": {},
   "outputs": [],
   "source": [
    "GENDER_CAT_NAMES_2 = {\n",
    "    'female': gendered_words[gendered_words.gender == 'f'].iloc[:num_f_2].word.values,\n",
    "    'male': gendered_words[gendered_words.gender == 'm'].iloc[:num_f_2].word.values\n",
    "}"
   ]
  },
  {
   "cell_type": "code",
   "execution_count": null,
   "id": "07bbd140-c648-4abd-8833-458036ec2a86",
   "metadata": {},
   "outputs": [],
   "source": [
    "cat_sentiment(model_840B ,glove_840B_embeddings, GENDER_CAT_NAMES_2)"
   ]
  },
  {
   "cell_type": "code",
   "execution_count": null,
   "id": "53b0e948-593e-4840-b574-dd9785795e45",
   "metadata": {},
   "outputs": [],
   "source": [
    "cat_sentiment(model_w2v ,w2v, GENDER_CAT_NAMES_2)"
   ]
  },
  {
   "cell_type": "code",
   "execution_count": 12,
   "id": "d575ba7f-d3ae-4819-924f-3f195985c22b",
   "metadata": {
    "collapsed": true,
    "jupyter": {
     "outputs_hidden": true
    },
    "tags": []
   },
   "outputs": [],
   "source": [
    "# Google Case study for gender bias translations\n",
    "# https://ai.google/static/documents/case-study-translate-gender-bias.pdf\n",
    "\n",
    "google_translation = pd.read_csv(\"gender_bias_test_data/google_translation_gender_bias/google_en_es_gender_bias.csv\")"
   ]
  },
  {
   "cell_type": "code",
   "execution_count": null,
   "id": "a1272e00-e92d-4e0a-9490-e45ebeb8f97f",
   "metadata": {
    "tags": []
   },
   "outputs": [],
   "source": [
    "google_translation.info()"
   ]
  },
  {
   "cell_type": "code",
   "execution_count": 13,
   "id": "26634368-0fda-4cd4-918a-a74015e28642",
   "metadata": {
    "collapsed": true,
    "jupyter": {
     "outputs_hidden": true
    },
    "tags": []
   },
   "outputs": [],
   "source": [
    "\n",
    "google_translation = google_translation.drop(\n",
    "    [\n",
    "        'sourceLanguage', 'targetLanguage', 'documentID', 'stringID',\n",
    "        'translatedText', 'entityName', 'sourceURL'\n",
    "    ],\n",
    "    axis=1)"
   ]
  },
  {
   "cell_type": "code",
   "execution_count": null,
   "id": "646b0a28-f6f1-4403-a3fe-03ea563f4a37",
   "metadata": {
    "tags": []
   },
   "outputs": [],
   "source": [
    "google_translation.info()"
   ]
  },
  {
   "cell_type": "code",
   "execution_count": null,
   "id": "ded5d556-6049-4b08-94bc-041e0c5ecaaf",
   "metadata": {
    "tags": []
   },
   "outputs": [],
   "source": [
    "lengths = google_translation.sourceText.str.len()\n",
    "plot.hist(lengths) \n",
    "plot.axis([0,550,0,800])\n",
    "plot.xlabel('Text Length')\n",
    "plot.ylabel('Count')\n",
    "plot.show()"
   ]
  },
  {
   "cell_type": "code",
   "execution_count": null,
   "id": "a60316b6-3320-4eb7-9107-b2b0d0d470cc",
   "metadata": {},
   "outputs": [],
   "source": [
    "print(\"Max length is {}\".format(max(lengths)))\n",
    "print(\"Min length is {}\".format(min(lengths)))\n",
    "print(\"Top 10 lengths: \", lengths.value_counts().nlargest(10).to_dict())"
   ]
  },
  {
   "cell_type": "code",
   "execution_count": null,
   "id": "10c8a798-4c5e-4fdf-9109-66ea1ba4d9ca",
   "metadata": {},
   "outputs": [],
   "source": [
    "MAX_LENGTH_STR = 513\n",
    "# Truncate and padd sentences with zeros\n",
    "google_translation['short_str'] = google_translation['sourceText'].str.slice(0,MAX_LENGTH_STR).str.zfill(MAX_LENGTH_STR)"
   ]
  },
  {
   "cell_type": "code",
   "execution_count": null,
   "id": "14d7f5b1-d1cc-4408-ad8d-42624042e3ac",
   "metadata": {},
   "outputs": [],
   "source": [
    "google_translation.perceivedGender.unique()"
   ]
  },
  {
   "cell_type": "code",
   "execution_count": null,
   "id": "711f0ed3-e248-47b6-b0f1-878d324ef216",
   "metadata": {},
   "outputs": [],
   "source": [
    "num_f_3 = google_translation[google_translation.perceivedGender == 'Female'].shape[0]\n",
    "num_m_3 = google_translation[google_translation.perceivedGender == 'Male'].shape[0]\n",
    "\n",
    "print('There are {} female instants vs {} male instants'.format(num_f_3, num_m_3))"
   ]
  },
  {
   "cell_type": "code",
   "execution_count": null,
   "id": "b52b0a2d-adff-4967-a0b8-f69c5b5f6a01",
   "metadata": {},
   "outputs": [],
   "source": [
    "NUMBER_SAMPLES = 100\n",
    "GENDER_CAT_NAMES_3 = {\n",
    "    'female': google_translation[google_translation.perceivedGender == 'Female'].sample(n=NUMBER_SAMPLES).short_str.values,\n",
    "    'male': google_translation[google_translation.perceivedGender == 'Male'].sample(n=NUMBER_SAMPLES).short_str.values\n",
    "}"
   ]
  },
  {
   "cell_type": "code",
   "execution_count": null,
   "id": "442d2b9e-c365-4636-8e6d-218236873e9c",
   "metadata": {},
   "outputs": [],
   "source": [
    "%%time\n",
    "cat_sentiment(model_w2v ,w2v, GENDER_CAT_NAMES_3, True, False)"
   ]
  },
  {
   "cell_type": "code",
   "execution_count": null,
   "id": "09e03759-9cae-4d43-8a7f-7a27e57bb22b",
   "metadata": {},
   "outputs": [],
   "source": [
    "%%time\n",
    "cat_sentiment(model_6B ,glove_6B_300d_embeddings, GENDER_CAT_NAMES_3, True, False)"
   ]
  },
  {
   "cell_type": "code",
   "execution_count": null,
   "id": "5b16bd03-2006-4579-9eda-cebcd18ea929",
   "metadata": {},
   "outputs": [],
   "source": [
    "%%time\n",
    "cat_sentiment(model_840B ,glove_840B_embeddings, GENDER_CAT_NAMES_3, True, False)"
   ]
  },
  {
   "cell_type": "code",
   "execution_count": null,
   "id": "915bbb83-1e5a-412b-9450-50ac441da7a1",
   "metadata": {
    "tags": []
   },
   "outputs": [],
   "source": [
    "GENDER_CAT_NAMES_4 = {\n",
    "    'female': ['trimester', 'homemaker', 'feminist', 'dancer', 'actresses', 'sisters', 'ladies', 'she', 'witch', 'wives', 'salon'],\n",
    "    'male'  : ['he',        'sons',      'brothers', 'boyhood', 'priest',   'dads',     'man' ,  'boyfriend', 'actor', 'husbands', 'barber' ]\n",
    "}"
   ]
  },
  {
   "cell_type": "code",
   "execution_count": null,
   "id": "e696b157-804a-4454-946c-cf9486aff87c",
   "metadata": {
    "tags": []
   },
   "outputs": [],
   "source": [
    "cat_sentiment(model_840B ,glove_840B_embeddings, GENDER_CAT_NAMES_4)"
   ]
  },
  {
   "cell_type": "markdown",
   "id": "bbd40afa-3710-44a9-876e-d9c65b23980b",
   "metadata": {},
   "source": [
    "# RNN"
   ]
  },
  {
   "cell_type": "code",
   "execution_count": 14,
   "id": "b7473e26-138f-4380-ab65-1c72078c3049",
   "metadata": {
    "tags": []
   },
   "outputs": [],
   "source": [
    "import os\n",
    "os.environ['KMP_DUPLICATE_LIB_OK']='True'\n",
    "os.environ['TF_CPP_MIN_LOG_LEVEL'] = '2'\n",
    "\n",
    "from tensorflow.keras.layers import Embedding\n",
    "from tensorflow import keras\n",
    "from tensorflow.keras.preprocessing.text import Tokenizer\n",
    "from tensorflow.keras.preprocessing.sequence import pad_sequences\n",
    "from tensorflow.keras.datasets import imdb\n",
    "from tensorflow.keras.preprocessing import sequence\n",
    "from keras import Sequential\n",
    "from keras.layers import Embedding, LSTM, Dense, Dropout"
   ]
  },
  {
   "cell_type": "code",
   "execution_count": 15,
   "id": "b37c42ef-46b8-4ae7-8542-4705a2ddbfcf",
   "metadata": {
    "tags": []
   },
   "outputs": [
    {
     "name": "stdout",
     "output_type": "stream",
     "text": [
      "Downloading data from https://storage.googleapis.com/tensorflow/tf-keras-datasets/imdb.npz\n",
      "17464789/17464789 [==============================] - 0s 0us/step\n",
      "Loaded dataset with 25000 training samples, 25000 test samples\n"
     ]
    }
   ],
   "source": [
    "vocabulary_size = 5000\n",
    "(X_train, y_train), (X_test, y_test) = imdb.load_data(num_words = vocabulary_size)\n",
    "print('Loaded dataset with {} training samples, {} test samples'.format(len(X_train), len(X_test)))"
   ]
  },
  {
   "cell_type": "code",
   "execution_count": 16,
   "id": "a1b33e5c-0851-4ed7-86b9-7aad51fa7e78",
   "metadata": {
    "tags": []
   },
   "outputs": [
    {
     "name": "stdout",
     "output_type": "stream",
     "text": [
      "Maximum review length: 2697\n",
      "Minimum review length: 14\n"
     ]
    }
   ],
   "source": [
    "print('Maximum review length: {}'.format(len(max((X_train + X_test), key=len))))\n",
    "print('Minimum review length: {}'.format(len(min((X_test + X_test), key=len))))"
   ]
  },
  {
   "cell_type": "code",
   "execution_count": 17,
   "id": "b1614025-91d4-4476-ae5f-f4bcfa555b13",
   "metadata": {
    "tags": []
   },
   "outputs": [],
   "source": [
    "max_words = 500\n",
    "X_train = sequence.pad_sequences(X_train, maxlen=max_words)\n",
    "X_test = sequence.pad_sequences(X_test, maxlen=max_words)"
   ]
  },
  {
   "cell_type": "code",
   "execution_count": 18,
   "id": "f2ab67de-8d9e-4e15-b097-377393362a61",
   "metadata": {
    "tags": []
   },
   "outputs": [
    {
     "name": "stdout",
     "output_type": "stream",
     "text": [
      "Model: \"sequential\"\n",
      "_________________________________________________________________\n",
      " Layer (type)                Output Shape              Param #   \n",
      "=================================================================\n",
      " embedding (Embedding)       (None, 500, 32)           160000    \n",
      "                                                                 \n",
      " lstm (LSTM)                 (None, 100)               53200     \n",
      "                                                                 \n",
      " dense (Dense)               (None, 1)                 101       \n",
      "                                                                 \n",
      "=================================================================\n",
      "Total params: 213,301\n",
      "Trainable params: 213,301\n",
      "Non-trainable params: 0\n",
      "_________________________________________________________________\n",
      "None\n"
     ]
    }
   ],
   "source": [
    "embedding_size=32\n",
    "rnn_base=Sequential()\n",
    "rnn_base.add(Embedding(vocabulary_size, embedding_size, input_length=max_words))\n",
    "rnn_base.add(LSTM(100))\n",
    "rnn_base.add(Dense(1, activation='sigmoid'))\n",
    "print(rnn_base.summary())"
   ]
  },
  {
   "cell_type": "code",
   "execution_count": 19,
   "id": "88dc6532-92bb-400b-a45d-3c721a54a16b",
   "metadata": {
    "tags": []
   },
   "outputs": [],
   "source": [
    "rnn_base.compile(loss='binary_crossentropy', \n",
    "             optimizer='adam', \n",
    "             metrics=['accuracy'])"
   ]
  },
  {
   "cell_type": "code",
   "execution_count": 20,
   "id": "695fbdba-30c3-4b47-a17f-0a23cc85f2a1",
   "metadata": {
    "tags": []
   },
   "outputs": [
    {
     "name": "stdout",
     "output_type": "stream",
     "text": [
      "Epoch 1/3\n",
      "390/390 [==============================] - 122s 310ms/step - loss: 0.4565 - accuracy: 0.7756 - val_loss: 0.2953 - val_accuracy: 0.8438\n",
      "Epoch 2/3\n",
      "390/390 [==============================] - 120s 309ms/step - loss: 0.2921 - accuracy: 0.8849 - val_loss: 0.3231 - val_accuracy: 0.9062\n",
      "Epoch 3/3\n",
      "390/390 [==============================] - 121s 310ms/step - loss: 0.2669 - accuracy: 0.8952 - val_loss: 0.2536 - val_accuracy: 0.9062\n"
     ]
    },
    {
     "data": {
      "text/plain": [
       "<keras.callbacks.History at 0x7fe0b96b6820>"
      ]
     },
     "execution_count": 20,
     "metadata": {},
     "output_type": "execute_result"
    }
   ],
   "source": [
    "batch_size = 64\n",
    "num_epochs = 3\n",
    "X_valid, y_valid = X_train[:batch_size], y_train[:batch_size]\n",
    "X_train2, y_train2 = X_train[batch_size:], y_train[batch_size:]\n",
    "rnn_base.fit(X_train2, y_train2, validation_data=(X_valid, y_valid), batch_size=batch_size, epochs=num_epochs)"
   ]
  },
  {
   "cell_type": "code",
   "execution_count": 21,
   "id": "b9910f1d-be8f-4514-9627-abe413628112",
   "metadata": {
    "tags": []
   },
   "outputs": [
    {
     "name": "stdout",
     "output_type": "stream",
     "text": [
      "Test accuracy: 0.8618800044059753\n"
     ]
    }
   ],
   "source": [
    "scores = rnn_base.evaluate(X_test, y_test, verbose=0)\n",
    "print('Test accuracy:', scores[1])"
   ]
  },
  {
   "cell_type": "code",
   "execution_count": null,
   "id": "c93017f1-3124-4298-a88b-c766c97657a0",
   "metadata": {
    "tags": []
   },
   "outputs": [],
   "source": [
    "google_translation.info()"
   ]
  },
  {
   "cell_type": "code",
   "execution_count": null,
   "id": "ce644e86-02e3-4090-9085-86e907aa65d9",
   "metadata": {
    "tags": []
   },
   "outputs": [],
   "source": [
    "X_test.shape"
   ]
  },
  {
   "cell_type": "code",
   "execution_count": null,
   "id": "0ccdaa59-aaca-45b4-83b8-938c8555d596",
   "metadata": {
    "tags": []
   },
   "outputs": [],
   "source": [
    "type(X_test)"
   ]
  },
  {
   "cell_type": "code",
   "execution_count": null,
   "id": "c08ae16c-598f-4f50-90d8-f4f8442aaca2",
   "metadata": {
    "tags": []
   },
   "outputs": [],
   "source": [
    "google_translation[google_translation.perceivedGender == 'Female'].sample(n=2).sourceText.shape"
   ]
  },
  {
   "cell_type": "code",
   "execution_count": null,
   "id": "4d2092f5-2ed7-477e-b51d-cef654c27d7e",
   "metadata": {},
   "outputs": [],
   "source": []
  },
  {
   "cell_type": "code",
   "execution_count": 22,
   "id": "8c30c0fe-295b-44c9-a913-08681417af98",
   "metadata": {
    "tags": []
   },
   "outputs": [
    {
     "name": "stdout",
     "output_type": "stream",
     "text": [
      "Found 3365 unique tokens. Distilled to 3365 top words.\n"
     ]
    }
   ],
   "source": [
    "NUM_TOP_WORDS = 5000\n",
    "MAX_ART_LEN = 500\n",
    "female_pre = google_translation[google_translation.perceivedGender == 'Female'].sourceText\n",
    "tokenizer = Tokenizer(num_words=NUM_TOP_WORDS)\n",
    "tokenizer.fit_on_texts(female_pre)\n",
    "sequences = tokenizer.texts_to_sequences(female_pre)\n",
    "word_index = tokenizer.word_index\n",
    "NUM_TOP_WORDS = len(word_index) if NUM_TOP_WORDS==None else NUM_TOP_WORDS\n",
    "top_words = min((len(word_index),NUM_TOP_WORDS))\n",
    "print('Found %s unique tokens. Distilled to %d top words.' % (len(word_index),top_words))\n",
    "\n",
    "female_X = pad_sequences(sequences, maxlen=MAX_ART_LEN)\n"
   ]
  },
  {
   "cell_type": "code",
   "execution_count": 23,
   "id": "5e98a94b-dac8-4271-b07d-077be75d7e67",
   "metadata": {
    "tags": []
   },
   "outputs": [
    {
     "name": "stdout",
     "output_type": "stream",
     "text": [
      "Found 3365 unique tokens. Distilled to 3365 top words.\n"
     ]
    }
   ],
   "source": [
    "NUM_TOP_WORDS = 5000\n",
    "MAX_ART_LEN = 500\n",
    "male_pre = google_translation[google_translation.perceivedGender == 'Male'].sourceText\n",
    "tokenizer = Tokenizer(num_words=NUM_TOP_WORDS)\n",
    "tokenizer.fit_on_texts(female_pre)\n",
    "sequences = tokenizer.texts_to_sequences(male_pre)\n",
    "word_index = tokenizer.word_index\n",
    "NUM_TOP_WORDS = len(word_index) if NUM_TOP_WORDS==None else NUM_TOP_WORDS\n",
    "top_words = min((len(word_index),NUM_TOP_WORDS))\n",
    "print('Found %s unique tokens. Distilled to %d top words.' % (len(word_index),top_words))\n",
    "\n",
    "male_X = pad_sequences(sequences, maxlen=MAX_ART_LEN)"
   ]
  },
  {
   "cell_type": "code",
   "execution_count": null,
   "id": "517199e5-c1e0-4eb0-82fb-01b44d92a647",
   "metadata": {
    "tags": []
   },
   "outputs": [],
   "source": [
    "# 'female': google_translation[google_translation.perceivedGender == 'Female'].sample(n=NUMBER_SAMPLES).short_str.values,\n",
    "femal_sentiment = rnn_base.predict(female_X)\n",
    "male_sentiment = rnn_base.predict(male_X)"
   ]
  },
  {
   "cell_type": "code",
   "execution_count": 30,
   "id": "4d3cc4e0-d824-418d-a776-c87109979d94",
   "metadata": {
    "tags": []
   },
   "outputs": [
    {
     "data": {
      "text/plain": [
       "(25000, 500)"
      ]
     },
     "execution_count": 30,
     "metadata": {},
     "output_type": "execute_result"
    }
   ],
   "source": [
    "X_test.shape"
   ]
  },
  {
   "cell_type": "code",
   "execution_count": 90,
   "id": "e87df775-289d-4f6c-8590-5c95b32e9968",
   "metadata": {
    "tags": []
   },
   "outputs": [
    {
     "name": "stdout",
     "output_type": "stream",
     "text": [
      "4/4 [==============================] - 0s 54ms/step\n"
     ]
    },
    {
     "data": {
      "text/plain": [
       "array([0, 0, 0, 0, 0, 0, 0, 0, 0, 0, 0, 0, 0, 0, 0, 0, 0, 0, 0, 0, 0, 0,\n",
       "       0, 0, 0, 0, 0, 0, 0, 0, 0, 0, 0, 0, 0, 0, 0, 0, 0, 0, 0, 0, 0, 0,\n",
       "       0, 0, 0, 0, 0, 0, 0, 0, 0, 0, 0, 0, 0, 0, 0, 0, 0, 0, 0, 0, 0, 0,\n",
       "       0, 0, 0, 0, 0, 0, 0, 0, 0, 0, 0, 0, 0, 0, 0, 0, 0, 0, 0, 0, 0, 0,\n",
       "       0, 0, 0, 0, 0, 0, 0, 0, 0, 0, 0, 0])"
      ]
     },
     "execution_count": 90,
     "metadata": {},
     "output_type": "execute_result"
    }
   ],
   "source": [
    "a = rnn_base.predict(female_X[:100])\n",
    "np.argmax(a,axis=1)"
   ]
  },
  {
   "cell_type": "code",
   "execution_count": 99,
   "id": "ead84080-bb25-4d8a-8499-ad1d183f8e6e",
   "metadata": {
    "tags": []
   },
   "outputs": [],
   "source": [
    "def sentiment_table():\n",
    "    frames = []\n",
    "    print(\"Female Sentiments ... \")\n",
    "    for sent in female_X:\n",
    "        sentiment = {}\n",
    "        sentiment['sentiment'] = rnn_base.predict(np.expand_dims(sent, axis=0), verbose=0)[0][0]\n",
    "        sentiment['group'] = 'Female'\n",
    "        frames.append(pd.DataFrame([sentiment]))\n",
    "        \n",
    "    print(\"Male Sentiments ... \")\n",
    "    for sent in male_X:\n",
    "        sentiment = {}\n",
    "        sentiment['sentiment'] = rnn_base.predict(np.expand_dims(sent, axis=0), verbose=0)[0][0]\n",
    "        sentiment['group'] = 'Male'\n",
    "        frames.append(pd.DataFrame([sentiment]))\n",
    "    return pd.concat(frames)"
   ]
  },
  {
   "cell_type": "code",
   "execution_count": null,
   "id": "95ecc0cf-68eb-42b5-844a-01ea450a41d0",
   "metadata": {},
   "outputs": [],
   "source": []
  },
  {
   "cell_type": "code",
   "execution_count": 100,
   "id": "056f8b15-96f6-4e32-88d8-5536168f6906",
   "metadata": {
    "tags": []
   },
   "outputs": [
    {
     "name": "stdout",
     "output_type": "stream",
     "text": [
      "Female Sentiments ... \n",
      "Male Sentiments ... \n",
      "CPU times: user 1min 27s, sys: 6.21 s, total: 1min 34s\n",
      "Wall time: 1min 15s\n"
     ]
    }
   ],
   "source": [
    "%%time\n",
    "result = sentiment_table()"
   ]
  },
  {
   "cell_type": "code",
   "execution_count": 97,
   "id": "99e399a0-d8fc-4e7e-808b-6035f58aae1a",
   "metadata": {
    "tags": []
   },
   "outputs": [
    {
     "data": {
      "text/html": [
       "<div>\n",
       "<style scoped>\n",
       "    .dataframe tbody tr th:only-of-type {\n",
       "        vertical-align: middle;\n",
       "    }\n",
       "\n",
       "    .dataframe tbody tr th {\n",
       "        vertical-align: top;\n",
       "    }\n",
       "\n",
       "    .dataframe thead th {\n",
       "        text-align: right;\n",
       "    }\n",
       "</style>\n",
       "<table border=\"1\" class=\"dataframe\">\n",
       "  <thead>\n",
       "    <tr style=\"text-align: right;\">\n",
       "      <th></th>\n",
       "      <th>sentiment</th>\n",
       "      <th>group</th>\n",
       "    </tr>\n",
       "  </thead>\n",
       "  <tbody>\n",
       "    <tr>\n",
       "      <th>0</th>\n",
       "      <td>0</td>\n",
       "      <td>Female</td>\n",
       "    </tr>\n",
       "    <tr>\n",
       "      <th>0</th>\n",
       "      <td>0</td>\n",
       "      <td>Female</td>\n",
       "    </tr>\n",
       "    <tr>\n",
       "      <th>0</th>\n",
       "      <td>0</td>\n",
       "      <td>Female</td>\n",
       "    </tr>\n",
       "    <tr>\n",
       "      <th>0</th>\n",
       "      <td>0</td>\n",
       "      <td>Female</td>\n",
       "    </tr>\n",
       "    <tr>\n",
       "      <th>0</th>\n",
       "      <td>0</td>\n",
       "      <td>Female</td>\n",
       "    </tr>\n",
       "    <tr>\n",
       "      <th>...</th>\n",
       "      <td>...</td>\n",
       "      <td>...</td>\n",
       "    </tr>\n",
       "    <tr>\n",
       "      <th>0</th>\n",
       "      <td>0</td>\n",
       "      <td>Male</td>\n",
       "    </tr>\n",
       "    <tr>\n",
       "      <th>0</th>\n",
       "      <td>0</td>\n",
       "      <td>Male</td>\n",
       "    </tr>\n",
       "    <tr>\n",
       "      <th>0</th>\n",
       "      <td>0</td>\n",
       "      <td>Male</td>\n",
       "    </tr>\n",
       "    <tr>\n",
       "      <th>0</th>\n",
       "      <td>0</td>\n",
       "      <td>Male</td>\n",
       "    </tr>\n",
       "    <tr>\n",
       "      <th>0</th>\n",
       "      <td>0</td>\n",
       "      <td>Male</td>\n",
       "    </tr>\n",
       "  </tbody>\n",
       "</table>\n",
       "<p>1345 rows × 2 columns</p>\n",
       "</div>"
      ],
      "text/plain": [
       "    sentiment   group\n",
       "0           0  Female\n",
       "0           0  Female\n",
       "0           0  Female\n",
       "0           0  Female\n",
       "0           0  Female\n",
       "..        ...     ...\n",
       "0           0    Male\n",
       "0           0    Male\n",
       "0           0    Male\n",
       "0           0    Male\n",
       "0           0    Male\n",
       "\n",
       "[1345 rows x 2 columns]"
      ]
     },
     "execution_count": 97,
     "metadata": {},
     "output_type": "execute_result"
    }
   ],
   "source": [
    "result"
   ]
  },
  {
   "cell_type": "code",
   "execution_count": 101,
   "id": "eeb8a83d-6c23-4277-baca-8d752dfa19f6",
   "metadata": {
    "tags": []
   },
   "outputs": [
    {
     "data": {
      "image/png": "[encoded data removed]",
      "text/plain": [
       "<Figure size 1500x500 with 2 Axes>"
      ]
     },
     "metadata": {},
     "output_type": "display_data"
    }
   ],
   "source": [
    "matplotlib.pyplot.figure(figsize=(15,5))\n",
    "matplotlib.pyplot.subplot(121)\n",
    "plot = seaborn.swarmplot(x='group', y='sentiment', data=result, size=1)\n",
    "plot.set_ylim([-10, 10])\n",
    "matplotlib.pyplot.subplot(122)\n",
    "plot = seaborn.barplot(x='group', y='sentiment', data=result, capsize=.1)"
   ]
  },
  {
   "cell_type": "code",
   "execution_count": 77,
   "id": "2c47658f-fed1-4be4-8ff4-07bd6af8ae6f",
   "metadata": {
    "tags": []
   },
   "outputs": [],
   "source": [
    "def tokenize_data(num_top_words, max_text_length, text):\n",
    "    tokenizer = Tokenizer(num_words=num_top_words)\n",
    "    tokenizer.fit_on_texts(text)\n",
    "    sequences = tokenizer.texts_to_sequences(text)\n",
    "    word_index = tokenizer.word_index\n",
    "    NUM_TOP_WORDS = len(word_index) if num_top_words==None else num_top_words\n",
    "    top_words = min((len(word_index),NUM_TOP_WORDS))\n",
    "    print('Found %s unique tokens. Distilled to %d top words.' % (len(word_index),top_words))\n",
    "\n",
    "    X = pad_sequences(sequences, maxlen=MAX_ART_LEN)\n",
    "    return X\n",
    "    "
   ]
  },
  {
   "cell_type": "code",
   "execution_count": null,
   "id": "54bff3e5-6180-4d69-b7bd-65ff57fb6c4b",
   "metadata": {},
   "outputs": [],
   "source": [
    "# Other Biases to look into:\n",
    "\n",
    "# religious\n",
    "# gender\n",
    "# ageism \n",
    "# \n",
    "\n",
    "# racial <- is probably the most obvious one"
   ]
  }
 ],
 "metadata": {
  "kernelspec": {
   "display_name": "Python 3 (ipykernel)",
   "language": "python",
   "name": "python3"
  },
  "language_info": {
   "codemirror_mode": {
    "name": "ipython",
    "version": 3
   },
   "file_extension": ".py",
   "mimetype": "text/x-python",
   "name": "python",
   "nbconvert_exporter": "python",
   "pygments_lexer": "ipython3",
   "version": "3.9.16"
  }
 },
 "nbformat": 4,
 "nbformat_minor": 5
}

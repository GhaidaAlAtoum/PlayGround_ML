{
 "cells": [
  {
   "cell_type": "markdown",
   "metadata": {},
   "source": [
    "# Train the transformer on glove embeddings and test the religous biases with it."
   ]
  },
  {
   "cell_type": "code",
   "execution_count": 59,
   "metadata": {},
   "outputs": [],
   "source": [
    "import numpy as np\n",
    "import pandas as pd\n",
    "from transformers import BertTokenizer\n",
    "import torch\n",
    "import torch.nn as nn\n",
    "import torch.nn.functional as F\n",
    "import torch.optim as optim\n",
    "from sklearn.model_selection import train_test_split\n",
    "from torch.utils.data import Dataset, DataLoader\n",
    "import json\n",
    "import seaborn as sns"
   ]
  },
  {
   "cell_type": "code",
   "execution_count": 3,
   "metadata": {},
   "outputs": [],
   "source": [
    "def load_embeddings(filename):\n",
    "    \"\"\"\n",
    "    Load a DataFrame from the generalized text format used by word2vec, GloVe,\n",
    "    fastText, and ConceptNet Numberbatch. The main point where they differ is\n",
    "    whether there is an initial line with the dimensions of the matrix.\n",
    "    \"\"\"\n",
    "    labels = []\n",
    "    rows = []\n",
    "    with open(filename, encoding='utf-8') as infile:\n",
    "        for i, line in enumerate(infile):\n",
    "            items = line.rstrip().split(' ')\n",
    "            if len(items) == 2:\n",
    "                # This is a header row giving the shape of the matrix\n",
    "                continue\n",
    "            labels.append(items[0])\n",
    "            values = np.array([float(x) for x in items[1:]], 'f')\n",
    "            rows.append(values)\n",
    "    \n",
    "    arr = np.vstack(rows)\n",
    "    return pd.DataFrame(arr, index=labels, dtype='f')\n",
    "\n"
   ]
  },
  {
   "cell_type": "code",
   "execution_count": 4,
   "metadata": {},
   "outputs": [],
   "source": [
    "def load_lexicon(filename):\n",
    "    \"\"\"\n",
    "    Load a file from Bing Liu's sentiment lexicon\n",
    "    (https://www.cs.uic.edu/~liub/FBS/sentiment-analysis.html), containing\n",
    "    English words in Latin-1 encoding.\n",
    "    \n",
    "    One file contains a list of positive words, and the other contains\n",
    "    a list of negative words. The files contain comment lines starting\n",
    "    with ';' and blank lines, which should be skipped.\n",
    "    \"\"\"\n",
    "    lexicon = []\n",
    "    with open(filename, encoding='latin-1') as infile:\n",
    "        for line in infile:\n",
    "            line = line.rstrip()\n",
    "            if line and not line.startswith(';'):\n",
    "                lexicon.append(line)\n",
    "    return lexicon"
   ]
  },
  {
   "cell_type": "code",
   "execution_count": 5,
   "metadata": {},
   "outputs": [],
   "source": [
    "def get_embedding_matrix(word_index, glove_embeddings, embedding_dim):\n",
    "    # Initialize the embedding matrix as a numpy array\n",
    "    embedding_matrix = np.zeros((len(word_index) + 1, embedding_dim))  # +1 for handling the zero padding\n",
    "    found_words = 0\n",
    "    \n",
    "    for word, i in word_index.items():\n",
    "        if word in glove_embeddings.index:\n",
    "            embedding_vector = glove_embeddings.loc[word].values\n",
    "            if embedding_vector is not None:\n",
    "                embedding_matrix[i] = embedding_vector\n",
    "                found_words += 1\n",
    "    \n",
    "    print(\"Embedding Shape:\", embedding_matrix.shape, \"\\n\",\n",
    "          \"Total words found:\", found_words, \"\\n\",\n",
    "          \"Percentage:\", 100 * found_words / len(word_index))\n",
    "    \n",
    "    return torch.tensor(embedding_matrix, dtype=torch.float32)\n"
   ]
  },
  {
   "cell_type": "code",
   "execution_count": 112,
   "metadata": {},
   "outputs": [],
   "source": [
    "\n",
    "def filter_glove_embeddings(glove_embeddings, lexicon_words):\n",
    "    # Filter the GloVe embeddings to only include words present in the lexicon\n",
    "    filtered_embeddings = glove_embeddings.loc[glove_embeddings.index.intersection(lexicon_words)]\n",
    "    return filtered_embeddings\n",
    "\n",
    "# Now create the word_index from the filtered GloVe embeddings\n",
    "def create_word_index_from_filtered_embeddings(filtered_embeddings):\n",
    "    return {word: i+1 for i, word in enumerate(filtered_embeddings.index)}  # Start indexing from 1\n",
    "\n",
    "\n",
    "def custom_tokenize_and_create_word_index(glove_word_index, words, max_length):\n",
    "    # This function needs to be defined correctly.\n",
    "    # Assuming it's meant to tokenize words and return their indices.\n",
    "    # The placeholder below is just an example.\n",
    "    sequences = [glove_word_index.get(word, 0) for word in words]  # Tokenize words\n",
    "    return sequences  # This should be a list of integers."
   ]
  },
  {
   "cell_type": "markdown",
   "metadata": {},
   "source": [
    "## 1. Load and Preprocess the data"
   ]
  },
  {
   "cell_type": "code",
   "execution_count": 7,
   "metadata": {},
   "outputs": [
    {
     "data": {
      "text/plain": [
       "(2196017, 300)"
      ]
     },
     "execution_count": 7,
     "metadata": {},
     "output_type": "execute_result"
    }
   ],
   "source": [
    "# Load GloVe embeddings as a DataFrame\n",
    "glove_840B_embeddings = load_embeddings('data/embeddings/glove.840B.300d.txt')\n",
    "glove_840B_embeddings.shape"
   ]
  },
  {
   "cell_type": "code",
   "execution_count": 110,
   "metadata": {},
   "outputs": [],
   "source": [
    "def load_hu_liu_lexicon_to_training_dataset(pos_value=1, neg_value=-1):\n",
    "    pos_words = load_lexicon('data/lexicons/hu_liu_2004/positive-words.txt')\n",
    "    neg_words = load_lexicon('data/lexicons/hu_liu_2004/negative_words.txt')\n",
    "    print(\"Positive Words: \", len(pos_words), \"Negative Words: \", len(neg_words))\n",
    "    words = list(pos_words + neg_words)\n",
    "    targets = [1 for entry in pos_words] + [0 for entry in neg_words]\n",
    "    return words, targets"
   ]
  },
  {
   "cell_type": "code",
   "execution_count": 113,
   "metadata": {},
   "outputs": [
    {
     "name": "stdout",
     "output_type": "stream",
     "text": [
      "Positive Words:  2007 Negative Words:  4783\n",
      "[1, 1]\n"
     ]
    }
   ],
   "source": [
    "# Load the Hu and Liu lexicon\n",
    "pos_neg_lexicon_X_base, pos_neg_lexicon_Y_base = load_hu_liu_lexicon_to_training_dataset()\n",
    "print(pos_neg_lexicon_Y_base[:2])"
   ]
  },
  {
   "cell_type": "code",
   "execution_count": 114,
   "metadata": {},
   "outputs": [],
   "source": [
    "# Assuming pos_neg_lexicon_X_base contains all the unique words in your lexicon dataset\n",
    "lexicon_words = set(pos_neg_lexicon_X_base)  # Create a set of unique lexicon words\n",
    "filtered_glove_embeddings = filter_glove_embeddings(glove_840B_embeddings, lexicon_words)\n",
    "\n",
    "glove_word_index = create_word_index_from_filtered_embeddings(filtered_glove_embeddings)"
   ]
  },
  {
   "cell_type": "code",
   "execution_count": 115,
   "metadata": {},
   "outputs": [],
   "source": [
    "# Tokenize lexicon words based on GloVe word_index\n",
    "pos_neg_lexicon_indices = custom_tokenize_and_create_word_index(glove_word_index, pos_neg_lexicon_X_base, 100)"
   ]
  },
  {
   "cell_type": "code",
   "execution_count": 116,
   "metadata": {},
   "outputs": [],
   "source": [
    "# Ensure pos_neg_lexicon_indices is a list of integers\n",
    "pos_neg_lexicon_X_tensor = torch.tensor(pos_neg_lexicon_indices, dtype=torch.long)\n",
    "# Convert the labels to a tensor. Ensure this matches your loss function's expected format\n",
    "pos_neg_lexicon_Y_tensor = torch.tensor(pos_neg_lexicon_Y_base, dtype=torch.long)  # For CrossEntropyLoss, use long"
   ]
  },
  {
   "cell_type": "markdown",
   "metadata": {},
   "source": [
    "## 2. Build the custom transformer"
   ]
  },
  {
   "cell_type": "code",
   "execution_count": 117,
   "metadata": {},
   "outputs": [
    {
     "name": "stdout",
     "output_type": "stream",
     "text": [
      "Embedding Shape: (6615, 300) \n",
      " Total words found: 6614 \n",
      " Percentage: 100.0\n"
     ]
    }
   ],
   "source": [
    "# Assuming 'glove_word_index' is a dict mapping your dataset words to their indices in the filtered GloVe embeddings\n",
    "embedding_matrix = get_embedding_matrix(glove_word_index, filtered_glove_embeddings, 300)"
   ]
  },
  {
   "cell_type": "code",
   "execution_count": 118,
   "metadata": {},
   "outputs": [],
   "source": [
    "# Initialize the embedding layer with the preloaded GloVe embeddings\n",
    "embedding_layer = nn.Embedding.from_pretrained(embedding_matrix, freeze=True)"
   ]
  },
  {
   "cell_type": "code",
   "execution_count": 119,
   "metadata": {},
   "outputs": [],
   "source": [
    "# Split the data into training and testing sets\n",
    "pos_neg_lexicon_X_train, pos_neg_lexicon_X_test, pos_neg_lexicon_Y_train, pos_neg_lexicon_Y_test = train_test_split(\n",
    "    pos_neg_lexicon_X_tensor,  # Removed unsqueeze if you're processing word indices as sequences\n",
    "    pos_neg_lexicon_Y_tensor,\n",
    "    test_size=0.2, \n",
    "    random_state=42\n",
    ")\n"
   ]
  },
  {
   "cell_type": "code",
   "execution_count": 16,
   "metadata": {},
   "outputs": [],
   "source": [
    "# Assuming pos_neg_lexicon_Y_train and pos_neg_lexicon_Y_test are your original labels with -1 and 1\n",
    "# pos_neg_lexicon_Y_train_adjusted = (pos_neg_lexicon_Y_train + 1) // 2  # Maps -1 to 0, and 1 to 1\n",
    "# pos_neg_lexicon_Y_test_adjusted = (pos_neg_lexicon_Y_test + 1) // 2"
   ]
  },
  {
   "cell_type": "code",
   "execution_count": 120,
   "metadata": {},
   "outputs": [
    {
     "data": {
      "text/plain": [
       "tensor([5983,    0])"
      ]
     },
     "execution_count": 120,
     "metadata": {},
     "output_type": "execute_result"
    }
   ],
   "source": [
    "pos_neg_lexicon_X_test[:2]"
   ]
  },
  {
   "cell_type": "markdown",
   "metadata": {},
   "source": [
    "### Step 1: Define the Custom Transformer Model\n",
    "This model will include an embedding layer initialized with your preloaded GloVe embeddings, a transformer encoder layer to capture the context, and a final classifier layer to predict the sentiment based on the lexicon input."
   ]
  },
  {
   "cell_type": "code",
   "execution_count": 89,
   "metadata": {},
   "outputs": [],
   "source": [
    "class CustomTransformerModel(nn.Module):\n",
    "    def __init__(self, embedding_matrix, num_classes, seq_length):\n",
    "        super(CustomTransformerModel, self).__init__()\n",
    "        self.embedding = nn.Embedding.from_pretrained(embedding_matrix, freeze=True)\n",
    "        \n",
    "        # Adjust the number of attention heads to be divisible by embedding dimension (300)\n",
    "        encoder_layer = nn.TransformerEncoderLayer(d_model=embedding_matrix.size(1), nhead=6, dropout=0.1)\n",
    "        self.transformer_encoder = nn.TransformerEncoder(encoder_layer, num_layers=6)\n",
    "        \n",
    "        # Classifier\n",
    "        self.classifier = nn.Linear(embedding_matrix.size(1), num_classes)\n",
    "\n",
    "    def forward(self, x):\n",
    "        # x: [batch_size, seq_length]\n",
    "        \n",
    "        # Embedding\n",
    "        x = self.embedding(x)  # x: [batch_size, seq_length, embedding_dim]\n",
    "        \n",
    "        # Transformer expects [seq_length, batch_size, embedding_dim]\n",
    "        x = x.permute(1, 0, 2)\n",
    "        \n",
    "        # Transformer Encoder\n",
    "        x = self.transformer_encoder(x)\n",
    "        \n",
    "        # Pooling - Assuming global average pooling across the sequence\n",
    "        x = x.mean(dim=0)  # Correct pooling operation\n",
    "        \n",
    "        # Classifier\n",
    "        out = self.classifier(x)\n",
    "        return out\n"
   ]
  },
  {
   "cell_type": "code",
   "execution_count": 90,
   "metadata": {},
   "outputs": [],
   "source": [
    "class CustomTransformerModel(nn.Module):\n",
    "    def __init__(self, embedding_matrix, num_classes, seq_length, num_layers=6, num_heads=10, hidden_dim=512, dropout=0.1):\n",
    "        super(CustomTransformerModel, self).__init__()\n",
    "        self.embedding = nn.Embedding.from_pretrained(embedding_matrix, freeze=True)\n",
    "        \n",
    "        encoder_layer = nn.TransformerEncoderLayer(\n",
    "            d_model=embedding_matrix.size(1),  # Use the size of the embedding dimension\n",
    "            nhead=num_heads,\n",
    "            dim_feedforward=hidden_dim,\n",
    "            dropout=dropout\n",
    "        )\n",
    "        self.transformer_encoder = nn.TransformerEncoder(encoder_layer, num_layers=num_layers)\n",
    "        \n",
    "        self.classifier = nn.Linear(embedding_matrix.size(1), num_classes)\n",
    "\n",
    "    def forward(self, x):\n",
    "        x = self.embedding(x)\n",
    "        x = x.permute(1, 0, 2)\n",
    "        x = self.transformer_encoder(x)\n",
    "        x = x.mean(dim=0)\n",
    "        out = self.classifier(x)\n",
    "        return out\n"
   ]
  },
  {
   "cell_type": "markdown",
   "metadata": {},
   "source": [
    "### Step 2: Initialize the Model\n",
    "Before initializing the model, ensure we have the embedding matrix ready as a tensor, which we prepared using the get_embedding_matrix function."
   ]
  },
  {
   "cell_type": "code",
   "execution_count": 91,
   "metadata": {},
   "outputs": [],
   "source": [
    "MAX_ART_LEN = 1000\n",
    "NUM_CLASSES = 2"
   ]
  },
  {
   "cell_type": "code",
   "execution_count": 92,
   "metadata": {},
   "outputs": [
    {
     "data": {
      "text/plain": [
       "torch.Size([2196017, 300])"
      ]
     },
     "execution_count": 92,
     "metadata": {},
     "output_type": "execute_result"
    }
   ],
   "source": [
    "embedding_matrix.shape"
   ]
  },
  {
   "cell_type": "code",
   "execution_count": 93,
   "metadata": {},
   "outputs": [
    {
     "name": "stderr",
     "output_type": "stream",
     "text": [
      "/Users/tango.tew/miniconda3/envs/torch_env/lib/python3.8/site-packages/torch/nn/modules/transformer.py:286: UserWarning: enable_nested_tensor is True, but self.use_nested_tensor is False because encoder_layer.self_attn.batch_first was not True(use batch_first for better inference performance)\n",
      "  warnings.warn(f\"enable_nested_tensor is True, but self.use_nested_tensor is False because {why_not_sparsity_fast_path}\")\n"
     ]
    }
   ],
   "source": [
    "model = CustomTransformerModel(embedding_matrix, NUM_CLASSES, MAX_ART_LEN)"
   ]
  },
  {
   "cell_type": "markdown",
   "metadata": {},
   "source": [
    "### Step 3: Training Preparation\n",
    "Define your loss function, optimizer, and optionally, learning rate schedulers or any regularization techniques you wish to use."
   ]
  },
  {
   "cell_type": "code",
   "execution_count": 94,
   "metadata": {},
   "outputs": [],
   "source": [
    "criterion = nn.CrossEntropyLoss()\n",
    "optimizer = optim.Adam(model.parameters(), lr=0.01)"
   ]
  },
  {
   "cell_type": "markdown",
   "metadata": {},
   "source": [
    "### Step 4: Training Loop\n",
    "Implement the training loop, iterating over your dataset and updating the model's weights based on the loss calculated from its predictions."
   ]
  },
  {
   "cell_type": "markdown",
   "metadata": {},
   "source": [
    "#### Prepare Data for PyTorch DataLoader"
   ]
  },
  {
   "cell_type": "code",
   "execution_count": 95,
   "metadata": {},
   "outputs": [],
   "source": [
    "class LexiconDataset(Dataset):\n",
    "    def __init__(self, x_tensor, y_tensor):\n",
    "        self.x = x_tensor.unsqueeze(1)  # Add sequence dimension\n",
    "        self.y = y_tensor\n",
    "\n",
    "    def __len__(self):\n",
    "        return len(self.x)\n",
    "\n",
    "    def __getitem__(self, index):\n",
    "        return self.x[index], self.y[index]\n"
   ]
  },
  {
   "cell_type": "markdown",
   "metadata": {},
   "source": [
    "#### Instantiate the Dataset and DataLoader for Training and Testing"
   ]
  },
  {
   "cell_type": "code",
   "execution_count": 121,
   "metadata": {},
   "outputs": [],
   "source": [
    "batch_size = 32  # Adjust based on your computational resources\n",
    "\n",
    "# Training Dataset and DataLoader\n",
    "train_dataset = LexiconDataset(pos_neg_lexicon_X_train, pos_neg_lexicon_Y_train)\n",
    "train_loader = DataLoader(train_dataset, batch_size=batch_size, shuffle=True)\n",
    "\n",
    "# Testing Dataset and DataLoader\n",
    "test_dataset = LexiconDataset(pos_neg_lexicon_X_test, pos_neg_lexicon_Y_test)\n",
    "test_loader = DataLoader(test_dataset, batch_size=batch_size, shuffle=False)\n"
   ]
  },
  {
   "cell_type": "code",
   "execution_count": 122,
   "metadata": {},
   "outputs": [
    {
     "data": {
      "text/plain": [
       "tensor([0, 1])"
      ]
     },
     "execution_count": 122,
     "metadata": {},
     "output_type": "execute_result"
    }
   ],
   "source": [
    "torch.unique(pos_neg_lexicon_Y_train)"
   ]
  },
  {
   "cell_type": "markdown",
   "metadata": {},
   "source": [
    "#### Ready to Train and Evaluate"
   ]
  },
  {
   "cell_type": "code",
   "execution_count": 97,
   "metadata": {},
   "outputs": [],
   "source": [
    "def train(model, train_loader, criterion, optimizer, num_epochs=10):\n",
    "    model.train()\n",
    "    for epoch in range(num_epochs):\n",
    "        for inputs, labels in train_loader:\n",
    "            optimizer.zero_grad()\n",
    "            \n",
    "            outputs = model(inputs)\n",
    "            loss = criterion(outputs, labels)\n",
    "            \n",
    "            loss.backward()\n",
    "            optimizer.step()\n",
    "            \n",
    "            print(f\"Epoch {epoch+1}, Loss: {loss.item()}\")"
   ]
  },
  {
   "cell_type": "code",
   "execution_count": 98,
   "metadata": {},
   "outputs": [
    {
     "name": "stdout",
     "output_type": "stream",
     "text": [
      "torch.Size([32, 1]) torch.Size([32])\n"
     ]
    }
   ],
   "source": [
    "for inputs, labels in train_loader:\n",
    "    print(inputs.shape, labels.shape)\n",
    "    break  # Remove or comment this line after verifying the shape\n"
   ]
  },
  {
   "cell_type": "code",
   "execution_count": 123,
   "metadata": {},
   "outputs": [
    {
     "name": "stdout",
     "output_type": "stream",
     "text": [
      "Epoch 1, Loss: 0.9579605460166931\n",
      "Epoch 1, Loss: 2.8094124794006348\n",
      "Epoch 1, Loss: 1.3583800792694092\n",
      "Epoch 1, Loss: 4.47660493850708\n",
      "Epoch 1, Loss: 0.9096378684043884\n",
      "Epoch 1, Loss: 0.6781406402587891\n",
      "Epoch 1, Loss: 1.1215811967849731\n",
      "Epoch 1, Loss: 0.9326765537261963\n",
      "Epoch 1, Loss: 0.6447389721870422\n",
      "Epoch 1, Loss: 0.6945757269859314\n",
      "Epoch 1, Loss: 1.0672390460968018\n",
      "Epoch 1, Loss: 0.6439735889434814\n",
      "Epoch 1, Loss: 0.4922581613063812\n",
      "Epoch 1, Loss: 0.6471454501152039\n",
      "Epoch 1, Loss: 0.6697860360145569\n",
      "Epoch 1, Loss: 0.675388514995575\n",
      "Epoch 1, Loss: 0.5942237973213196\n",
      "Epoch 1, Loss: 0.4548320770263672\n",
      "Epoch 1, Loss: 0.9344602227210999\n",
      "Epoch 1, Loss: 0.573497474193573\n",
      "Epoch 1, Loss: 0.871665894985199\n",
      "Epoch 1, Loss: 0.5545620918273926\n",
      "Epoch 1, Loss: 0.7162260413169861\n",
      "Epoch 1, Loss: 0.7867313027381897\n",
      "Epoch 1, Loss: 0.6944659948348999\n",
      "Epoch 1, Loss: 0.5060985684394836\n",
      "Epoch 1, Loss: 0.5910044312477112\n",
      "Epoch 1, Loss: 0.661442756652832\n",
      "Epoch 1, Loss: 1.0735210180282593\n",
      "Epoch 1, Loss: 0.8114480376243591\n",
      "Epoch 1, Loss: 0.6490362882614136\n",
      "Epoch 1, Loss: 0.6915599703788757\n",
      "Epoch 1, Loss: 0.841903030872345\n",
      "Epoch 1, Loss: 0.7608290910720825\n",
      "Epoch 1, Loss: 0.6260198354721069\n",
      "Epoch 1, Loss: 0.7816169261932373\n",
      "Epoch 1, Loss: 0.6730832457542419\n",
      "Epoch 1, Loss: 0.6550961136817932\n",
      "Epoch 1, Loss: 0.2867642641067505\n",
      "Epoch 1, Loss: 0.7267246246337891\n",
      "Epoch 1, Loss: 0.6968227624893188\n",
      "Epoch 1, Loss: 0.6811678409576416\n",
      "Epoch 1, Loss: 0.774193525314331\n",
      "Epoch 1, Loss: 0.7112789154052734\n",
      "Epoch 1, Loss: 0.6041125059127808\n",
      "Epoch 1, Loss: 0.5746215581893921\n",
      "Epoch 1, Loss: 0.5988312363624573\n",
      "Epoch 1, Loss: 0.6392178535461426\n",
      "Epoch 1, Loss: 0.9445984959602356\n",
      "Epoch 1, Loss: 0.6207460761070251\n",
      "Epoch 1, Loss: 0.5796438455581665\n",
      "Epoch 1, Loss: 0.6334508061408997\n",
      "Epoch 1, Loss: 0.6849735379219055\n",
      "Epoch 1, Loss: 0.6601101756095886\n",
      "Epoch 1, Loss: 0.5110963582992554\n",
      "Epoch 1, Loss: 0.6942580938339233\n",
      "Epoch 1, Loss: 0.6033374667167664\n",
      "Epoch 1, Loss: 0.5389364361763\n",
      "Epoch 1, Loss: 0.7322161197662354\n",
      "Epoch 1, Loss: 0.6028596758842468\n",
      "Epoch 1, Loss: 0.630700945854187\n",
      "Epoch 1, Loss: 0.6845327019691467\n",
      "Epoch 1, Loss: 0.6968199014663696\n",
      "Epoch 1, Loss: 0.6836128234863281\n",
      "Epoch 1, Loss: 0.616205096244812\n",
      "Epoch 1, Loss: 0.5781192779541016\n",
      "Epoch 1, Loss: 0.4353668987751007\n",
      "Epoch 1, Loss: 0.5935659408569336\n",
      "Epoch 1, Loss: 0.5894784331321716\n",
      "Epoch 1, Loss: 0.5437827110290527\n",
      "Epoch 1, Loss: 0.7409672737121582\n",
      "Epoch 1, Loss: 0.7797636985778809\n",
      "Epoch 1, Loss: 0.7626656889915466\n",
      "Epoch 1, Loss: 0.8776288628578186\n",
      "Epoch 1, Loss: 0.6393214464187622\n",
      "Epoch 1, Loss: 0.7938817739486694\n",
      "Epoch 1, Loss: 0.7455891966819763\n",
      "Epoch 1, Loss: 0.48641878366470337\n",
      "Epoch 1, Loss: 0.7214394211769104\n",
      "Epoch 1, Loss: 0.6108056306838989\n",
      "Epoch 1, Loss: 0.6162756681442261\n",
      "Epoch 1, Loss: 0.6764192581176758\n",
      "Epoch 1, Loss: 0.6994214653968811\n",
      "Epoch 1, Loss: 0.6508461236953735\n",
      "Epoch 1, Loss: 0.6246111392974854\n",
      "Epoch 1, Loss: 0.5625468492507935\n",
      "Epoch 1, Loss: 0.9129769802093506\n",
      "Epoch 1, Loss: 0.5668622851371765\n",
      "Epoch 1, Loss: 0.6576806306838989\n",
      "Epoch 1, Loss: 0.6218733191490173\n",
      "Epoch 1, Loss: 0.6010463237762451\n",
      "Epoch 1, Loss: 0.5987473130226135\n",
      "Epoch 1, Loss: 0.6045807003974915\n",
      "Epoch 1, Loss: 0.642074704170227\n",
      "Epoch 1, Loss: 0.8720813989639282\n",
      "Epoch 1, Loss: 0.6987645030021667\n",
      "Epoch 1, Loss: 0.6708593368530273\n",
      "Epoch 1, Loss: 0.6955573558807373\n",
      "Epoch 1, Loss: 0.7177859544754028\n",
      "Epoch 1, Loss: 0.6478269100189209\n",
      "Epoch 1, Loss: 0.5234423875808716\n",
      "Epoch 1, Loss: 0.5408527851104736\n",
      "Epoch 1, Loss: 0.7235698103904724\n",
      "Epoch 1, Loss: 0.5507333874702454\n",
      "Epoch 1, Loss: 0.8808859586715698\n",
      "Epoch 1, Loss: 0.6865146160125732\n",
      "Epoch 1, Loss: 0.5317558646202087\n",
      "Epoch 1, Loss: 0.6645519137382507\n",
      "Epoch 1, Loss: 0.709271252155304\n",
      "Epoch 1, Loss: 0.6987552642822266\n",
      "Epoch 1, Loss: 0.5813700556755066\n",
      "Epoch 1, Loss: 0.7010542750358582\n",
      "Epoch 1, Loss: 0.5967936515808105\n",
      "Epoch 1, Loss: 0.4504565894603729\n",
      "Epoch 1, Loss: 0.5682786107063293\n",
      "Epoch 1, Loss: 0.8507221937179565\n",
      "Epoch 1, Loss: 0.6179937124252319\n",
      "Epoch 1, Loss: 0.6126496195793152\n",
      "Epoch 1, Loss: 0.672262966632843\n",
      "Epoch 1, Loss: 0.6933079957962036\n",
      "Epoch 1, Loss: 0.6602638363838196\n",
      "Epoch 1, Loss: 0.5122858285903931\n",
      "Epoch 1, Loss: 0.5397933721542358\n",
      "Epoch 1, Loss: 0.8743675947189331\n",
      "Epoch 1, Loss: 0.5193372368812561\n",
      "Epoch 1, Loss: 1.033344030380249\n",
      "Epoch 1, Loss: 0.7464234828948975\n",
      "Epoch 1, Loss: 0.6498627066612244\n",
      "Epoch 1, Loss: 0.7710518836975098\n",
      "Epoch 1, Loss: 0.7455412745475769\n",
      "Epoch 1, Loss: 0.6431734561920166\n",
      "Epoch 1, Loss: 0.6056642532348633\n",
      "Epoch 1, Loss: 0.5351982116699219\n",
      "Epoch 1, Loss: 0.8037256598472595\n",
      "Epoch 1, Loss: 0.5973420143127441\n",
      "Epoch 1, Loss: 0.7362969517707825\n",
      "Epoch 1, Loss: 0.7468785643577576\n",
      "Epoch 1, Loss: 0.6943176984786987\n",
      "Epoch 1, Loss: 0.6829562187194824\n",
      "Epoch 1, Loss: 0.7297559380531311\n",
      "Epoch 1, Loss: 0.7529470920562744\n",
      "Epoch 1, Loss: 0.6960113048553467\n",
      "Epoch 1, Loss: 0.7167895436286926\n",
      "Epoch 1, Loss: 0.53076171875\n",
      "Epoch 1, Loss: 0.7880051136016846\n",
      "Epoch 1, Loss: 0.5281079411506653\n",
      "Epoch 1, Loss: 0.5688063502311707\n",
      "Epoch 1, Loss: 0.7579087018966675\n",
      "Epoch 1, Loss: 0.6154823899269104\n",
      "Epoch 1, Loss: 0.6945358514785767\n",
      "Epoch 1, Loss: 0.6722350120544434\n",
      "Epoch 1, Loss: 0.6783139705657959\n",
      "Epoch 1, Loss: 0.7439538240432739\n",
      "Epoch 1, Loss: 0.6744128465652466\n",
      "Epoch 1, Loss: 0.6791772842407227\n",
      "Epoch 1, Loss: 0.5388277173042297\n",
      "Epoch 1, Loss: 0.7292656898498535\n",
      "Epoch 1, Loss: 0.7428476810455322\n",
      "Epoch 1, Loss: 0.6935753226280212\n",
      "Epoch 1, Loss: 0.7038892507553101\n",
      "Epoch 1, Loss: 0.5775083899497986\n",
      "Epoch 1, Loss: 0.652712345123291\n",
      "Epoch 1, Loss: 0.6536522507667542\n",
      "Epoch 1, Loss: 0.5994623899459839\n",
      "Epoch 1, Loss: 0.5967645645141602\n",
      "Epoch 1, Loss: 0.581916332244873\n",
      "Epoch 1, Loss: 0.6212486028671265\n",
      "Epoch 1, Loss: 0.7420374155044556\n",
      "Epoch 1, Loss: 0.49603888392448425\n",
      "Epoch 1, Loss: 0.7038901448249817\n",
      "Epoch 2, Loss: 0.7476106882095337\n",
      "Epoch 2, Loss: 0.7053830623626709\n",
      "Epoch 2, Loss: 0.644954264163971\n",
      "Epoch 2, Loss: 0.630564272403717\n",
      "Epoch 2, Loss: 0.6348318457603455\n",
      "Epoch 2, Loss: 0.6755715012550354\n",
      "Epoch 2, Loss: 0.6009317636489868\n",
      "Epoch 2, Loss: 0.638705313205719\n",
      "Epoch 2, Loss: 0.7456620931625366\n",
      "Epoch 2, Loss: 0.5664495229721069\n",
      "Epoch 2, Loss: 0.6203979253768921\n",
      "Epoch 2, Loss: 0.429106205701828\n",
      "Epoch 2, Loss: 0.5343319773674011\n",
      "Epoch 2, Loss: 0.6251437067985535\n",
      "Epoch 2, Loss: 0.6558230519294739\n",
      "Epoch 2, Loss: 0.5744112730026245\n",
      "Epoch 2, Loss: 0.44821351766586304\n",
      "Epoch 2, Loss: 0.7684633731842041\n",
      "Epoch 2, Loss: 0.5252888202667236\n",
      "Epoch 2, Loss: 0.6230751872062683\n",
      "Epoch 2, Loss: 0.7106994986534119\n",
      "Epoch 2, Loss: 0.6225407123565674\n",
      "Epoch 2, Loss: 0.6355357766151428\n",
      "Epoch 2, Loss: 0.5904862284660339\n",
      "Epoch 2, Loss: 0.5590181946754456\n",
      "Epoch 2, Loss: 0.6222544312477112\n",
      "Epoch 2, Loss: 0.6972846984863281\n",
      "Epoch 2, Loss: 0.6835131049156189\n",
      "Epoch 2, Loss: 0.7767137289047241\n",
      "Epoch 2, Loss: 0.562121570110321\n",
      "Epoch 2, Loss: 0.5609917044639587\n",
      "Epoch 2, Loss: 0.5649347901344299\n",
      "Epoch 2, Loss: 0.4947608411312103\n",
      "Epoch 2, Loss: 0.6723150610923767\n",
      "Epoch 2, Loss: 0.6478374004364014\n",
      "Epoch 2, Loss: 0.6930175423622131\n",
      "Epoch 2, Loss: 0.6777929067611694\n",
      "Epoch 2, Loss: 0.5748854279518127\n",
      "Epoch 2, Loss: 0.5804096460342407\n",
      "Epoch 2, Loss: 0.580344557762146\n",
      "Epoch 2, Loss: 0.6191211342811584\n",
      "Epoch 2, Loss: 0.6162896156311035\n",
      "Epoch 2, Loss: 0.5625872015953064\n",
      "Epoch 2, Loss: 0.6339297890663147\n",
      "Epoch 2, Loss: 0.6031758189201355\n",
      "Epoch 2, Loss: 0.4897426664829254\n",
      "Epoch 2, Loss: 0.6507540941238403\n",
      "Epoch 2, Loss: 0.7595617175102234\n",
      "Epoch 2, Loss: 0.6896718144416809\n",
      "Epoch 2, Loss: 0.5951748490333557\n",
      "Epoch 2, Loss: 0.6047753095626831\n",
      "Epoch 2, Loss: 0.6826316118240356\n",
      "Epoch 2, Loss: 0.6056632399559021\n",
      "Epoch 2, Loss: 0.5895931124687195\n",
      "Epoch 2, Loss: 0.6143990159034729\n",
      "Epoch 2, Loss: 0.6115407943725586\n",
      "Epoch 2, Loss: 0.6461624503135681\n",
      "Epoch 2, Loss: 0.5271772742271423\n",
      "Epoch 2, Loss: 0.6500839591026306\n",
      "Epoch 2, Loss: 0.5903772115707397\n",
      "Epoch 2, Loss: 0.5574333071708679\n",
      "Epoch 2, Loss: 0.5257557034492493\n",
      "Epoch 2, Loss: 0.6845283508300781\n",
      "Epoch 2, Loss: 0.7577692866325378\n",
      "Epoch 2, Loss: 0.5643755793571472\n",
      "Epoch 2, Loss: 0.6104522943496704\n",
      "Epoch 2, Loss: 0.5978834629058838\n",
      "Epoch 2, Loss: 0.6465945243835449\n",
      "Epoch 2, Loss: 0.6014763116836548\n",
      "Epoch 2, Loss: 0.627293586730957\n",
      "Epoch 2, Loss: 0.689500093460083\n",
      "Epoch 2, Loss: 0.6660415530204773\n",
      "Epoch 2, Loss: 0.5882210731506348\n",
      "Epoch 2, Loss: 0.5911591649055481\n",
      "Epoch 2, Loss: 0.6536337733268738\n",
      "Epoch 2, Loss: 0.5819107294082642\n",
      "Epoch 2, Loss: 0.6816500425338745\n",
      "Epoch 2, Loss: 0.6156114339828491\n",
      "Epoch 2, Loss: 0.6788684129714966\n",
      "Epoch 2, Loss: 0.6517972946166992\n",
      "Epoch 2, Loss: 0.6454588174819946\n",
      "Epoch 2, Loss: 0.5263025760650635\n",
      "Epoch 2, Loss: 0.5895501375198364\n",
      "Epoch 2, Loss: 0.5746943354606628\n",
      "Epoch 2, Loss: 0.5723675489425659\n",
      "Epoch 2, Loss: 0.5311542749404907\n",
      "Epoch 2, Loss: 0.7625297904014587\n",
      "Epoch 2, Loss: 0.5320937633514404\n",
      "Epoch 2, Loss: 0.6126776337623596\n",
      "Epoch 2, Loss: 0.5914582014083862\n",
      "Epoch 2, Loss: 0.8485663533210754\n",
      "Epoch 2, Loss: 0.5530382990837097\n",
      "Epoch 2, Loss: 0.6730467081069946\n",
      "Epoch 2, Loss: 0.6731759905815125\n",
      "Epoch 2, Loss: 0.5936988592147827\n",
      "Epoch 2, Loss: 0.6708114147186279\n",
      "Epoch 2, Loss: 0.6115156412124634\n",
      "Epoch 2, Loss: 0.6658033728599548\n",
      "Epoch 2, Loss: 0.549262285232544\n",
      "Epoch 2, Loss: 0.6724100708961487\n",
      "Epoch 2, Loss: 0.5076048374176025\n",
      "Epoch 2, Loss: 0.6110028028488159\n",
      "Epoch 2, Loss: 0.652895987033844\n",
      "Epoch 2, Loss: 0.5670555233955383\n",
      "Epoch 2, Loss: 0.5172896385192871\n",
      "Epoch 2, Loss: 0.6004687547683716\n",
      "Epoch 2, Loss: 0.4866015613079071\n",
      "Epoch 2, Loss: 0.6195309162139893\n",
      "Epoch 2, Loss: 0.6126169562339783\n",
      "Epoch 2, Loss: 0.709729015827179\n",
      "Epoch 2, Loss: 0.44832831621170044\n",
      "Epoch 2, Loss: 0.6776237487792969\n",
      "Epoch 2, Loss: 0.7028783559799194\n",
      "Epoch 2, Loss: 0.5339947938919067\n",
      "Epoch 2, Loss: 0.5500262379646301\n",
      "Epoch 2, Loss: 0.5363555550575256\n",
      "Epoch 2, Loss: 0.5483285188674927\n",
      "Epoch 2, Loss: 0.6255912184715271\n",
      "Epoch 2, Loss: 0.5490235686302185\n",
      "Epoch 2, Loss: 0.48906493186950684\n",
      "Epoch 2, Loss: 0.6109169125556946\n",
      "Epoch 2, Loss: 0.4793124794960022\n",
      "Epoch 2, Loss: 0.6218352317810059\n",
      "Epoch 2, Loss: 0.5797714591026306\n",
      "Epoch 2, Loss: 0.6153357028961182\n",
      "Epoch 2, Loss: 0.8302230834960938\n",
      "Epoch 2, Loss: 0.6042724251747131\n",
      "Epoch 2, Loss: 0.5921021699905396\n",
      "Epoch 2, Loss: 0.5281394124031067\n",
      "Epoch 2, Loss: 0.5988898873329163\n",
      "Epoch 2, Loss: 0.5978447198867798\n",
      "Epoch 2, Loss: 0.6723877191543579\n",
      "Epoch 2, Loss: 0.6266839504241943\n",
      "Epoch 2, Loss: 0.5480338931083679\n",
      "Epoch 2, Loss: 0.5871168375015259\n",
      "Epoch 2, Loss: 0.6435983180999756\n",
      "Epoch 2, Loss: 0.5395611524581909\n",
      "Epoch 2, Loss: 0.6287711262702942\n",
      "Epoch 2, Loss: 0.6765682101249695\n",
      "Epoch 2, Loss: 0.5556001663208008\n",
      "Epoch 2, Loss: 0.6682385206222534\n",
      "Epoch 2, Loss: 0.4216381907463074\n",
      "Epoch 2, Loss: 0.5308957695960999\n",
      "Epoch 2, Loss: 0.6014237403869629\n",
      "Epoch 2, Loss: 0.795404314994812\n",
      "Epoch 2, Loss: 0.7391129732131958\n",
      "Epoch 2, Loss: 0.6565195322036743\n",
      "Epoch 2, Loss: 0.6917269229888916\n",
      "Epoch 2, Loss: 0.6351423263549805\n",
      "Epoch 2, Loss: 0.6219639182090759\n",
      "Epoch 2, Loss: 0.6312938332557678\n",
      "Epoch 2, Loss: 0.6263338327407837\n",
      "Epoch 2, Loss: 0.6404855251312256\n",
      "Epoch 2, Loss: 0.615204393863678\n",
      "Epoch 2, Loss: 0.6341414451599121\n",
      "Epoch 2, Loss: 0.6424319744110107\n",
      "Epoch 2, Loss: 0.6452668905258179\n",
      "Epoch 2, Loss: 0.6521661281585693\n",
      "Epoch 2, Loss: 0.5385115146636963\n",
      "Epoch 2, Loss: 0.7284106016159058\n",
      "Epoch 2, Loss: 0.5988645553588867\n",
      "Epoch 2, Loss: 0.6298882365226746\n",
      "Epoch 2, Loss: 0.6587277054786682\n",
      "Epoch 2, Loss: 0.6547767519950867\n",
      "Epoch 2, Loss: 0.699090301990509\n",
      "Epoch 2, Loss: 0.7454453706741333\n",
      "Epoch 2, Loss: 0.6621602177619934\n",
      "Epoch 2, Loss: 0.5627120137214661\n",
      "Epoch 2, Loss: 0.6171283721923828\n",
      "Epoch 2, Loss: 0.5916610360145569\n"
     ]
    }
   ],
   "source": [
    "# Example usage of train function\n",
    "num_epochs = 2  # Set the number of epochs\n",
    "train(model, train_loader, criterion, optimizer, num_epochs)\n"
   ]
  },
  {
   "cell_type": "markdown",
   "metadata": {},
   "source": [
    "#### Evaluate the model after training"
   ]
  },
  {
   "cell_type": "code",
   "execution_count": 124,
   "metadata": {},
   "outputs": [],
   "source": [
    "def evaluate(model, test_loader, device='cpu'):\n",
    "    model.eval()  # Set the model to evaluation mode\n",
    "    correct = 0\n",
    "    total = 0\n",
    "\n",
    "    with torch.no_grad():  # No need to track gradients for evaluation\n",
    "        for inputs, labels in test_loader:\n",
    "            inputs, labels = inputs.to(device), labels.to(device)\n",
    "            outputs = model(inputs)\n",
    "            \n",
    "            # For binary classification, consider the output with the highest score as the prediction\n",
    "            _, predicted = torch.max(outputs.data, 1)\n",
    "            total += labels.size(0)\n",
    "            correct += (predicted == labels).sum().item()\n",
    "\n",
    "    accuracy = correct / total\n",
    "    print(f'Accuracy: {accuracy:.4f}')\n"
   ]
  },
  {
   "cell_type": "code",
   "execution_count": 125,
   "metadata": {},
   "outputs": [
    {
     "name": "stdout",
     "output_type": "stream",
     "text": [
      "Accuracy: 0.6988\n"
     ]
    }
   ],
   "source": [
    "# Assuming you're evaluating on CPU; if you're using a GPU, set device accordingly\n",
    "device = torch.device('cpu')\n",
    "model.to(device)  # Move the model to the right device\n",
    "\n",
    "# Call the evaluation function with the test_loader\n",
    "evaluate(model, test_loader, device=device)"
   ]
  },
  {
   "cell_type": "markdown",
   "metadata": {},
   "source": [
    "### Test against religous biases"
   ]
  },
  {
   "cell_type": "code",
   "execution_count": 126,
   "metadata": {},
   "outputs": [],
   "source": [
    "# Load the JSON data into a dictionary\n",
    "with open('./data/religious_sent_json.json', 'r') as file:\n",
    "    religions_dict = json.load(file)\n",
    "\n",
    "RELIGOUS_SENTENCES = religions_dict"
   ]
  },
  {
   "cell_type": "code",
   "execution_count": 127,
   "metadata": {},
   "outputs": [],
   "source": [
    "def tokenize_sentences(glove_word_index, sentences, max_length):\n",
    "    tokenized_sentences = []\n",
    "    for sentence in sentences:\n",
    "        # Split the sentence into words and tokenize\n",
    "        tokens = [glove_word_index.get(word.lower(), 0) for word in sentence.split()]\n",
    "        # Pad or truncate the sequence to max_length\n",
    "        if len(tokens) < max_length:\n",
    "            tokens += [0] * (max_length - len(tokens))  # Padding\n",
    "        else:\n",
    "            tokens = tokens[:max_length]  # Truncating\n",
    "        tokenized_sentences.append(tokens)\n",
    "    return torch.tensor(tokenized_sentences, dtype=torch.long)\n"
   ]
  },
  {
   "cell_type": "code",
   "execution_count": 128,
   "metadata": {},
   "outputs": [],
   "source": [
    "from torch import softmax\n",
    "\n",
    "\n",
    "def sentence_sentiment_table(sentences, model, word_index, device):\n",
    "    model.eval()  # Ensure the model is in evaluation mode\n",
    "    frames = []\n",
    "    for religion, sentence_list in sorted(sentences.items()):\n",
    "        # Tokenize and prepare the sentences\n",
    "        tokenized_sentences = tokenize_sentences(word_index, sentence_list, MAX_ART_LEN)\n",
    "        tokenized_sentences = tokenized_sentences.to(device)  # Move to the same device as the model\n",
    "\n",
    "        with torch.no_grad():  # Do not track gradients\n",
    "            outputs = model(tokenized_sentences)\n",
    "            probabilities = softmax(outputs, dim=1)[:, 1]  # Get the probability of the second class (positive class)\n",
    "\n",
    "        for sentence, probability in zip(sentence_list, probabilities):\n",
    "            adjusted_score = probability.item()  # Convert to a Python float\n",
    "            frames.append([sentence, adjusted_score, religion])\n",
    "            \n",
    "    return pd.DataFrame(frames, columns=['Sentence', 'Sentiment Score', 'Religion'])\n"
   ]
  },
  {
   "cell_type": "code",
   "execution_count": 129,
   "metadata": {},
   "outputs": [
    {
     "data": {
      "text/plain": [
       "CustomTransformerModel(\n",
       "  (embedding): Embedding(2196017, 300)\n",
       "  (transformer_encoder): TransformerEncoder(\n",
       "    (layers): ModuleList(\n",
       "      (0-5): 6 x TransformerEncoderLayer(\n",
       "        (self_attn): MultiheadAttention(\n",
       "          (out_proj): NonDynamicallyQuantizableLinear(in_features=300, out_features=300, bias=True)\n",
       "        )\n",
       "        (linear1): Linear(in_features=300, out_features=512, bias=True)\n",
       "        (dropout): Dropout(p=0.1, inplace=False)\n",
       "        (linear2): Linear(in_features=512, out_features=300, bias=True)\n",
       "        (norm1): LayerNorm((300,), eps=1e-05, elementwise_affine=True)\n",
       "        (norm2): LayerNorm((300,), eps=1e-05, elementwise_affine=True)\n",
       "        (dropout1): Dropout(p=0.1, inplace=False)\n",
       "        (dropout2): Dropout(p=0.1, inplace=False)\n",
       "      )\n",
       "    )\n",
       "  )\n",
       "  (classifier): Linear(in_features=300, out_features=2, bias=True)\n",
       ")"
      ]
     },
     "execution_count": 129,
     "metadata": {},
     "output_type": "execute_result"
    }
   ],
   "source": [
    "# Assuming your model and word_index are already defined and loaded\n",
    "device = torch.device('cuda' if torch.cuda.is_available() else 'cpu')\n",
    "model.to(device)  # Ensure your model is on the right device"
   ]
  },
  {
   "cell_type": "code",
   "execution_count": 130,
   "metadata": {},
   "outputs": [
    {
     "name": "stdout",
     "output_type": "stream",
     "text": [
      "                                  Sentence  Sentiment Score      Religion\n",
      "0                          I follow Buddha         0.369842      Buddhism\n",
      "10   Pali canon is the standard collection         0.369842      Buddhism\n",
      "20              Stupa is a sacred monument         0.369842      Buddhism\n",
      "30       Gospel was spread by the Disciple         0.369842  Christianity\n",
      "40             This is the final Atonement         0.369842  Christianity\n",
      "50                             God is Alim         0.369842         Islam\n",
      "60              I performed Hajj last year         0.369842         Islam\n",
      "70                        I visited madina         0.369842         Islam\n",
      "80                    Shalom, how are you?         0.369842       Judaism\n",
      "90                    Pentecost is a feast         0.369842       Judaism\n",
      "100                         I speak Hebrew         0.369842       Judaism\n"
     ]
    }
   ],
   "source": [
    "sentence_sentiments = sentence_sentiment_table(RELIGOUS_SENTENCES, model, glove_word_index, device)\n",
    "\n",
    "print(sentence_sentiments[::10])"
   ]
  },
  {
   "cell_type": "code",
   "execution_count": 60,
   "metadata": {},
   "outputs": [],
   "source": [
    "from matplotlib import pyplot as plt\n",
    "\n",
    "\n",
    "def plot_sentiment(data, title, scale=[-1, 1]):\n",
    "    plt.figure(figsize=(15, 5))\n",
    "\n",
    "    # Using stripplot instead of swarmplot with jitter\n",
    "    plt.subplot(121)\n",
    "    sns.stripplot(x=title[0], y=title[1], data=data, jitter=True, size=3)\n",
    "    plt.ylim(scale)\n",
    "\n",
    "    # Adding a violin plot to better visualize distributions\n",
    "    plt.subplot(122)\n",
    "    sns.violinplot(x=title[0], y=title[1], data=data, inner=None, color=\".8\")\n",
    "    sns.barplot(x=title[0], y=title[1], data=data, capsize=.1, alpha=.7)\n",
    "\n",
    "    # plt.tight_layout()\n",
    "    plt.show()"
   ]
  },
  {
   "cell_type": "code",
   "execution_count": 63,
   "metadata": {},
   "outputs": [
    {
     "data": {
      "image/png": "[encoded data removed]",
      "text/plain": [
       "<Figure size 1500x500 with 2 Axes>"
      ]
     },
     "metadata": {},
     "output_type": "display_data"
    }
   ],
   "source": [
    "plot_sentiment(sentence_sentiments, ['Religion', 'Sentiment Score'], scale=[-1, 1])"
   ]
  }
 ],
 "metadata": {
  "kernelspec": {
   "display_name": "torch_env",
   "language": "python",
   "name": "python3"
  },
  "language_info": {
   "codemirror_mode": {
    "name": "ipython",
    "version": 3
   },
   "file_extension": ".py",
   "mimetype": "text/x-python",
   "name": "python",
   "nbconvert_exporter": "python",
   "pygments_lexer": "ipython3",
   "version": "3.8.18"
  }
 },
 "nbformat": 4,
 "nbformat_minor": 2
}

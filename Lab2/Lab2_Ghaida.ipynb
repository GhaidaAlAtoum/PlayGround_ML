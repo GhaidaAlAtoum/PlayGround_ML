{
 "cells": [
  {
   "cell_type": "markdown",
   "id": "0d0b2c0a-d58c-4174-ad7f-c331438aae0e",
   "metadata": {},
   "source": [
    "# Lab 2 - Transfer Learning and Transformers"
   ]
  },
  {
   "cell_type": "markdown",
   "id": "12b4277c-94ff-462c-a895-f06cd4f0483b",
   "metadata": {},
   "source": [
    "# Group Information"
   ]
  },
  {
   "cell_type": "markdown",
   "id": "f164751b-b03c-4bb7-8043-24dbfdd755c6",
   "metadata": {
    "tags": []
   },
   "source": [
    "**Group:** Lab Two Group 1\n",
    "\n",
    "**Group Members:**\n",
    "\n",
    " * Ghaida Al-Atoum\n",
    " * Tango Tew\n",
    " * Wilma Davis"
   ]
  },
  {
   "cell_type": "markdown",
   "id": "cfcd61a2-75b1-44f8-9998-0ce662160880",
   "metadata": {},
   "source": [
    "# General Setup"
   ]
  },
  {
   "cell_type": "code",
   "execution_count": 1,
   "id": "f8f26788-7a7b-47b6-ba95-7df96a273558",
   "metadata": {
    "tags": []
   },
   "outputs": [],
   "source": [
    "import os\n",
    "import sys\n",
    "os.environ['KMP_DUPLICATE_LIB_OK']='True'\n",
    "os.environ['TF_CPP_MIN_LOG_LEVEL'] = '2'\n",
    "os.environ['TF_FORCE_GPU_ALLOW_GROWTH'] = 'true'"
   ]
  },
  {
   "cell_type": "code",
   "execution_count": 2,
   "id": "d05fd789-4b20-407f-8cf4-200278f575c2",
   "metadata": {},
   "outputs": [],
   "source": [
    "import re,string\n",
    "import time\n",
    "import math\n",
    "import seaborn as sns\n",
    "import numpy as np\n",
    "import pandas as pd\n",
    "import matplotlib as plt\n",
    "import matplotlib.pyplot as pyplot\n",
    "from sklearn.model_selection import train_test_split\n",
    "from bs4 import BeautifulSoup\n",
    "import nltk\n",
    "from nltk.corpus import stopwords\n",
    "import pickle\n",
    "\n",
    "import tensorflow as tf\n",
    "from tensorflow import keras\n",
    "from keras import Sequential\n",
    "from tensorflow.keras import layers\n",
    "from keras.layers import Embedding, LSTM, Dense, Dropout, Dense, Input\n",
    "from keras.layers import Conv1D, MaxPooling1D, Flatten, Dense, Layer, MultiHeadAttention, LayerNormalization, GlobalAveragePooling1D\n",
    "from tensorflow.keras.datasets import imdb\n",
    "from tensorflow.keras.preprocessing.text import Tokenizer\n",
    "from tensorflow.keras.preprocessing.sequence import pad_sequences\n",
    "from tensorflow.keras.preprocessing import sequence\n",
    "from tensorflow.keras.models import Model, Sequential\n",
    "from tensorflow.keras.optimizers.schedules import ExponentialDecay\n",
    "from tensorflow.keras.optimizers import Adam\n",
    "from tensorflow.keras.callbacks import EarlyStopping\n",
    "from tensorflow.keras.initializers import TruncatedNormal\n",
    "from tensorflow.keras.losses import CategoricalCrossentropy\n",
    "from tensorflow.keras.metrics import CategoricalAccuracy\n",
    "from tensorflow.keras.utils import to_categorical, plot_model\n",
    "from tensorflow.python.client import device_lib\n",
    "\n",
    "import transformers\n",
    "from transformers import AutoTokenizer, TFBertModel"
   ]
  },
  {
   "cell_type": "code",
   "execution_count": 3,
   "id": "28529dce-21a3-4d11-a8e5-43dc365033e2",
   "metadata": {},
   "outputs": [
    {
     "name": "stdout",
     "output_type": "stream",
     "text": [
      "Tensorflow version:  2.9.2\n",
      "Keras Version:  2.9.0\n",
      "System Version:  3.9.16 (main, Dec  7 2022, 01:11:51) \n",
      "[GCC 9.4.0]\n"
     ]
    }
   ],
   "source": [
    "print(\"Tensorflow version: \", tf.__version__)\n",
    "print(\"Keras Version: \", keras.__version__)\n",
    "print(\"System Version: \", sys.version)"
   ]
  },
  {
   "cell_type": "code",
   "execution_count": 4,
   "id": "bcfe33ee-9077-49ea-bdde-27e1a8baf635",
   "metadata": {},
   "outputs": [],
   "source": [
    "LOAD_MODELS = False"
   ]
  },
  {
   "cell_type": "markdown",
   "id": "d4e752b1-355f-4b95-a031-ce1de500ccb1",
   "metadata": {},
   "source": [
    "## Tensfor Flow Setup"
   ]
  },
  {
   "cell_type": "code",
   "execution_count": 5,
   "id": "2127a245-54cb-4cfa-83c8-39d1cfbe3560",
   "metadata": {},
   "outputs": [
    {
     "name": "stdout",
     "output_type": "stream",
     "text": [
      "1 Physical GPUs, 1 Logical GPUs\n"
     ]
    }
   ],
   "source": [
    "tf.debugging.set_log_device_placement(False)\n",
    "gpus = tf.config.list_physical_devices('GPU')\n",
    "for gpu in gpus:\n",
    "    tf.config.experimental.set_memory_growth(gpu, True)\n",
    "    logical_gpus = tf.config.list_logical_devices('GPU')\n",
    "    print(len(gpus), \"Physical GPUs,\", len(logical_gpus), \"Logical GPUs\")"
   ]
  },
  {
   "cell_type": "code",
   "execution_count": 6,
   "id": "10b99411-646b-484d-be2d-4e02430b8fc4",
   "metadata": {},
   "outputs": [],
   "source": [
    "tf.config.run_functions_eagerly(True)\n",
    "tf.data.experimental.enable_debug_mode()"
   ]
  },
  {
   "cell_type": "markdown",
   "id": "9317dc3d-7b9b-4632-897d-234c7a683cf9",
   "metadata": {},
   "source": [
    "# Helper Functions"
   ]
  },
  {
   "cell_type": "markdown",
   "id": "bb5aaea0-7356-4727-a78f-086049cceb78",
   "metadata": {},
   "source": [
    "#### plot_learning_curves"
   ]
  },
  {
   "cell_type": "code",
   "execution_count": 7,
   "id": "2a96e35d-2af6-444d-9e40-abc80c940225",
   "metadata": {},
   "outputs": [],
   "source": [
    "METRICS_TO_PLOT = ['fbeta_local', 'loss']\n",
    "METRICS_IN_HISTORIES = ['accuracy','val_accuracy','fbeta_local', 'val_fbeta_local', 'loss','val_loss']"
   ]
  },
  {
   "cell_type": "code",
   "execution_count": 8,
   "id": "cf4a3443-b5ea-4a3b-ae08-2c5e7edfff6e",
   "metadata": {},
   "outputs": [],
   "source": [
    "# model_name : String - used for plot title\n",
    "# metrics_to_plot : List of metrics to plot their learning curves (i.e. the metric and the val_metric)\n",
    "# all_metrics : List of metrics available under the history\n",
    "# history : list of histories saved for every training (.fit) \n",
    "def plot_learning_curves(model_name, metrics_to_plot, all_metrics, history):\n",
    "    combined = history\n",
    "    if type(history) is not dict:\n",
    "        combined = combine_histories(all_metrics, history)\n",
    "\n",
    "    numbers_to_plot = len(metrics_to_plot)\n",
    "    pyplot.figure(figsize=(25, 10))\n",
    "    for i in range(0, numbers_to_plot):\n",
    "        epochs = range(len(combined[metrics_to_plot[i]]))\n",
    "        pyplot.subplot(1, numbers_to_plot, i+1)\n",
    "        pyplot.plot(epochs, combined[metrics_to_plot[i]], 'bo')\n",
    "        pyplot.plot(epochs, combined['val_{}'.format(metrics_to_plot[i])], 'b')\n",
    "        pyplot.title('Model {}'.format(metrics_to_plot[i]))\n",
    "        pyplot.ylabel(metrics_to_plot[i])\n",
    "        pyplot.xlabel('Epoch')\n",
    "        pyplot.legend(['Train', 'Validation'], loc='upper left')\n",
    "        \n",
    "    pyplot.show()"
   ]
  },
  {
   "cell_type": "markdown",
   "id": "946c66ba-3ac0-496b-a061-9240c0a86000",
   "metadata": {},
   "source": [
    "#### bytes_to"
   ]
  },
  {
   "cell_type": "code",
   "execution_count": 9,
   "id": "f53419f9-777c-480e-a69c-aa30be53a1a3",
   "metadata": {},
   "outputs": [],
   "source": [
    "# Reference: https://gist.github.com/shawnbutts/3906915\n",
    "def bytes_to(bytes, to, bsize=1024):\n",
    "    \"\"\"convert bytes to megabytes, etc.\n",
    "       sample code:\n",
    "           print('mb= ' + str(bytes_to(314575262000000, 'm')))\n",
    "       sample output: \n",
    "           mb= 300002347.946\n",
    "    \"\"\"\n",
    "\n",
    "    a = {'k' : 1, 'm': 2, 'g' : 3, 't' : 4, 'p' : 5, 'e' : 6 }\n",
    "    r = float(bytes)\n",
    "    for i in range(a[to]):\n",
    "        r = r / bsize\n",
    "\n",
    "    return(r)"
   ]
  },
  {
   "cell_type": "markdown",
   "id": "bf8b3f91-6f3e-4132-9a87-342ea630555e",
   "metadata": {},
   "source": [
    "#### print_gpu_usage"
   ]
  },
  {
   "cell_type": "code",
   "execution_count": 10,
   "id": "1d61015e-928b-4a03-b281-136a0745d526",
   "metadata": {},
   "outputs": [],
   "source": [
    "def print_gpu_usage():\n",
    "    print(\"GPU Peak Memory: \", bytes_to(tf.config.experimental.get_memory_info('GPU:0')['peak'], 'g'), 'G')\n",
    "    print(\"GPU Current Memory Usage: \", bytes_to(tf.config.experimental.get_memory_usage('GPU:0'), 'g'), 'G')"
   ]
  },
  {
   "cell_type": "code",
   "execution_count": 11,
   "id": "264d3391-3034-452c-8b33-998856bff3a4",
   "metadata": {},
   "outputs": [],
   "source": [
    "from keras import backend as K\n",
    "\n",
    "def fbeta_local(y_true, y_pred, beta=0.5):\n",
    "    y_pred = K.clip(y_pred, 0, 1)\n",
    "    tp = K.sum(K.round(K.clip(y_true * y_pred, 0, 1))) # a\n",
    "    tn = K.sum(K.round(K.clip((1 - y_true) * (1 - y_pred), 0, 1))) # d\n",
    "    fp = K.sum(K.round(K.clip((1 - y_true) * y_pred, 0, 1))) \n",
    "    fn = K.sum(K.round(K.clip(y_true * (1 - y_pred), 0, 1)))\n",
    "    \n",
    "    percision = tp / (tp + fp + K.epsilon())\n",
    "    recall = tp / (tp + fn + K.epsilon())\n",
    "    num = (1 + (beta ** 2)) * percision * recall\n",
    "    den =  ((beta ** 2) * percision) + recall + K.epsilon()\n",
    "    return num / den"
   ]
  },
  {
   "cell_type": "markdown",
   "id": "75812086-7007-4c09-8e5d-a5f6fc3b141a",
   "metadata": {},
   "source": [
    "#### Saving/Loading Models/Weights"
   ]
  },
  {
   "cell_type": "code",
   "execution_count": 12,
   "id": "a73d22a5-cd77-4ac7-b381-7aeffdb08f24",
   "metadata": {},
   "outputs": [],
   "source": [
    "def format_model_save_file(model_name):\n",
    "    return \"./models/model_{}.keras\".format(model_name)"
   ]
  },
  {
   "cell_type": "code",
   "execution_count": 13,
   "id": "60dcedc4-111c-4445-9f51-146aac170dd8",
   "metadata": {},
   "outputs": [],
   "source": [
    "def save_model(model):\n",
    "    path = format_model_save_file(model.name)\n",
    "    model.save(path)"
   ]
  },
  {
   "cell_type": "code",
   "execution_count": 14,
   "id": "16e0482b-548f-495e-831c-cf4e8046a239",
   "metadata": {},
   "outputs": [],
   "source": [
    "def load_model(model_name):\n",
    "    return keras.models.load_model(format_model_save_file(model_name), custom_objects={\"fbeta_local\":fbeta_local})"
   ]
  },
  {
   "cell_type": "code",
   "execution_count": 15,
   "id": "a54239de-3105-428e-9e0b-1088205aed20",
   "metadata": {},
   "outputs": [],
   "source": [
    "def format_checkpoint_name(model_name):\n",
    "    return \"./checkpoints/checkpoint_{}.ckpt\".format(model_name)"
   ]
  },
  {
   "cell_type": "code",
   "execution_count": 16,
   "id": "c3b82ada-5565-4e04-aebf-ac6d8b762fc9",
   "metadata": {},
   "outputs": [],
   "source": [
    "def load_weights_from_checkpoints(model_name):\n",
    "    model = create_model()\n",
    "    checkpoint_file = format_checkpoint_name(model_name)\n",
    "    return model.load_weights(checkpoint_file)"
   ]
  },
  {
   "cell_type": "code",
   "execution_count": 17,
   "id": "47680b3a-d619-4415-87b9-8165b986cad2",
   "metadata": {},
   "outputs": [],
   "source": [
    "def format_history_path_name(model_name):\n",
    "    return \"./histories/history_{}\".format(model_name)"
   ]
  },
  {
   "cell_type": "code",
   "execution_count": 95,
   "id": "46563461-acc7-4c77-84ce-be9bf2fb4f6d",
   "metadata": {},
   "outputs": [],
   "source": [
    "def combine_histories(all_metrics, histories):\n",
    "    if type(histories) is not dict:\n",
    "        combined = dict()\n",
    "        for key in all_metrics:\n",
    "            a=np.array([])\n",
    "            for x in histories:\n",
    "                a = np.append(a, x.history[key])\n",
    "            combined[key] = a\n",
    "        return combined\n",
    "    return histories"
   ]
  },
  {
   "cell_type": "code",
   "execution_count": 19,
   "id": "656d3bb9-376d-42bd-80e4-f18ed7ead8c7",
   "metadata": {},
   "outputs": [],
   "source": [
    "def save_history(histories, all_metrics, model_name):\n",
    "    combined_histories = combine_histories(all_metrics, histories)\n",
    "    file_path = format_history_path_name(model_name)\n",
    "    with open(file_path, 'wb') as file_p:\n",
    "        pickle.dump(combined_histories, file_p)"
   ]
  },
  {
   "cell_type": "code",
   "execution_count": 20,
   "id": "1bd2488d-71f9-4db4-9894-b1c80006cfd5",
   "metadata": {},
   "outputs": [],
   "source": [
    "def load_history(model_name):\n",
    "    file_path = format_history_path_name(model_name)\n",
    "    with open(file_path, 'rb') as file_p:\n",
    "        return pickle.load(file_p)"
   ]
  },
  {
   "cell_type": "code",
   "execution_count": 21,
   "id": "173904a6-6731-4394-a51e-fa0b34534301",
   "metadata": {},
   "outputs": [],
   "source": [
    "def train_model(model, train_data, train_labels, test_data, test_labels, epochs, batch_size, histories, save_model=True, verbose=1):\n",
    "    # Calculate the number of batches per epoch\n",
    "    len_train_data = 0\n",
    "    if type(train_data) is dict:\n",
    "        len_train_data = len(train_data[list(train_data.keys())[0]])\n",
    "    else:\n",
    "        len_train_data = len(train_data)\n",
    "        \n",
    "    print(\"Length of training data {}\".format(len_train_data))\n",
    "    n_batches = len_train_data / batch_size\n",
    "    n_batches = math.ceil(n_batches)    # round up the number of batches to the nearest whole integer\n",
    "\n",
    "    model_checkpoint_callback = tf.keras.callbacks.ModelCheckpoint(\n",
    "        filepath=format_checkpoint_name(model.name),\n",
    "        verbose=verbose,\n",
    "        save_weights_only=True,\n",
    "        save_freq=2*n_batches\n",
    "    )\n",
    "\n",
    "    print(\"Training model {} ...\".format(model.name))\n",
    "    history = model.fit(\n",
    "        train_data, train_labels,\n",
    "        epochs=epochs,\n",
    "        batch_size=batch_size,\n",
    "        callbacks=[model_checkpoint_callback],\n",
    "        validation_data=(test_data, test_labels),\n",
    "        verbose=verbose #0 = silent, 1 = progress bar, 2 = one line per epoch\n",
    "    )\n",
    "    \n",
    "    histories.append(history)\n",
    "    save_history(histories, METRICS_IN_HISTORIES, model.name)\n",
    "    print_gpu_usage()\n",
    "    \n",
    "    if save_model:\n",
    "        model_save_path = format_model_save_file(model.name)\n",
    "        if os.path.exists(model_save_path):\n",
    "            os.remove(model_save_path)\n",
    "            \n",
    "        print(\"Save Trained Model {} ...\".format(model.name))\n",
    "        model.save(format_model_save_file(model.name))\n",
    "    \n",
    "    return model"
   ]
  },
  {
   "cell_type": "markdown",
   "id": "aa2a0032-cc3e-417a-b0d3-0ef52c62dd89",
   "metadata": {},
   "source": [
    "# Load ConceptNet Embedding"
   ]
  },
  {
   "cell_type": "markdown",
   "id": "edcbf2f8-7589-48c8-8407-15fc8d553a5a",
   "metadata": {},
   "source": [
    "* ConceptNet Embedding will be used to embed the reviews in order to be able to train CNN Model. "
   ]
  },
  {
   "cell_type": "code",
   "execution_count": 22,
   "id": "8e05dfa6-0872-45bc-9471-793a5f8fe185",
   "metadata": {},
   "outputs": [],
   "source": [
    "EMBEDDING_LOCATIONS = {\n",
    "    \"NUMBER_BATCH\": \"/notebooks/data/embeddings/numberBatch/numberbatch-en-17.04b.txt\"\n",
    "}"
   ]
  },
  {
   "cell_type": "code",
   "execution_count": 23,
   "id": "34a5777a-00d1-4133-9ae8-2d6a20e4a23f",
   "metadata": {},
   "outputs": [],
   "source": [
    "# *************************************************************************************************************************************************\n",
    "# Robyn Speer (2017) How to make a racist AI without really trying [source code]. https://blog.conceptnet.io/posts/2017/how-to-make-a-racist-ai-without-really-trying/\n",
    "# *************************************************************************************************************************************************\n",
    "def load_embeddings(filename):\n",
    "    \"\"\"\n",
    "    Load a DataFrame from the generalized text format used by word2vec, GloVe,\n",
    "    fastText, and ConceptNet Numberbatch. The main point where they differ is\n",
    "    whether there is an initial line with the dimensions of the matrix.\n",
    "    \"\"\"\n",
    "    labels = []\n",
    "    rows = []\n",
    "    with open(filename, encoding='utf-8') as infile:\n",
    "        for i, line in enumerate(infile):\n",
    "            items = line.rstrip().split(' ')\n",
    "            if len(items) == 2:\n",
    "                # This is a header row giving the shape of the matrix\n",
    "                continue\n",
    "            labels.append(items[0])\n",
    "            values = np.array([float(x) for x in items[1:]], 'f')\n",
    "            rows.append(values)\n",
    "    \n",
    "    arr = np.vstack(rows)\n",
    "    return pd.DataFrame(arr, index=labels, dtype='f')"
   ]
  },
  {
   "cell_type": "code",
   "execution_count": 24,
   "id": "575c5317-6a21-4162-a37a-74203186916a",
   "metadata": {},
   "outputs": [
    {
     "name": "stdout",
     "output_type": "stream",
     "text": [
      "CPU times: user 24.4 s, sys: 1.12 s, total: 25.5 s\n",
      "Wall time: 25.6 s\n"
     ]
    },
    {
     "data": {
      "text/plain": [
       "(418081, 300)"
      ]
     },
     "execution_count": 24,
     "metadata": {},
     "output_type": "execute_result"
    }
   ],
   "source": [
    "%%time \n",
    "number_batch_embedding = load_embeddings(EMBEDDING_LOCATIONS[\"NUMBER_BATCH\"])\n",
    "number_batch_embedding.shape"
   ]
  },
  {
   "cell_type": "code",
   "execution_count": 25,
   "id": "0ab5a5eb-e158-41e0-8085-5ecf3e99dd92",
   "metadata": {},
   "outputs": [],
   "source": [
    "# Defines an embedding keras layer\n",
    "# embedding size : the dimention of the embedding of each word\n",
    "# embedding_matrix : embedding matrix to utilize\n",
    "# max_art_length : Maximum and Minumum number of words\n",
    "\n",
    "def define_embedding_layer(embedding_size, embedding_matrix, max_art_length):\n",
    "    return Embedding(\n",
    "        embedding_matrix.shape[0],\n",
    "        embedding_size,\n",
    "        weights=[embedding_matrix],\n",
    "        input_length=max_art_length,\n",
    "        trainable=False\n",
    "    )"
   ]
  },
  {
   "cell_type": "markdown",
   "id": "bcd11831-09da-42a2-94f9-90663aa0bed0",
   "metadata": {},
   "source": [
    "# Dataset"
   ]
  },
  {
   "cell_type": "markdown",
   "id": "ebcef062-4821-47d6-9be3-ce79e222652f",
   "metadata": {},
   "source": [
    "**What is the classification task. Is this multi-task? Explain.**\n"
   ]
  },
  {
   "cell_type": "markdown",
   "id": "e7913662-9f10-47a1-a56f-75e6bd590447",
   "metadata": {},
   "source": [
    "**What is the feature data? Who collected the data? Why? When? Is the data multi-modal?**\n"
   ]
  },
  {
   "cell_type": "markdown",
   "id": "3ea438d4-fbc9-4780-b262-d9966673be95",
   "metadata": {},
   "source": [
    "**What evaluation criteria will you be using and why?**"
   ]
  },
  {
   "cell_type": "markdown",
   "id": "2cc51206-bae2-453d-99a1-5f3330fbd4a1",
   "metadata": {},
   "source": [
    "## Loading IMDB"
   ]
  },
  {
   "cell_type": "code",
   "execution_count": 26,
   "id": "52253115-4d35-4753-b2a8-e341adc37665",
   "metadata": {},
   "outputs": [
    {
     "data": {
      "text/html": [
       "<div>\n",
       "<style scoped>\n",
       "    .dataframe tbody tr th:only-of-type {\n",
       "        vertical-align: middle;\n",
       "    }\n",
       "\n",
       "    .dataframe tbody tr th {\n",
       "        vertical-align: top;\n",
       "    }\n",
       "\n",
       "    .dataframe thead th {\n",
       "        text-align: right;\n",
       "    }\n",
       "</style>\n",
       "<table border=\"1\" class=\"dataframe\">\n",
       "  <thead>\n",
       "    <tr style=\"text-align: right;\">\n",
       "      <th></th>\n",
       "      <th>review</th>\n",
       "      <th>sentiment</th>\n",
       "    </tr>\n",
       "  </thead>\n",
       "  <tbody>\n",
       "    <tr>\n",
       "      <th>0</th>\n",
       "      <td>One of the other reviewers has mentioned that ...</td>\n",
       "      <td>positive</td>\n",
       "    </tr>\n",
       "    <tr>\n",
       "      <th>1</th>\n",
       "      <td>A wonderful little production. &lt;br /&gt;&lt;br /&gt;The...</td>\n",
       "      <td>positive</td>\n",
       "    </tr>\n",
       "    <tr>\n",
       "      <th>2</th>\n",
       "      <td>I thought this was a wonderful way to spend ti...</td>\n",
       "      <td>positive</td>\n",
       "    </tr>\n",
       "    <tr>\n",
       "      <th>3</th>\n",
       "      <td>Basically there's a family where a little boy ...</td>\n",
       "      <td>negative</td>\n",
       "    </tr>\n",
       "    <tr>\n",
       "      <th>4</th>\n",
       "      <td>Petter Mattei's \"Love in the Time of Money\" is...</td>\n",
       "      <td>positive</td>\n",
       "    </tr>\n",
       "  </tbody>\n",
       "</table>\n",
       "</div>"
      ],
      "text/plain": [
       "                                              review sentiment\n",
       "0  One of the other reviewers has mentioned that ...  positive\n",
       "1  A wonderful little production. <br /><br />The...  positive\n",
       "2  I thought this was a wonderful way to spend ti...  positive\n",
       "3  Basically there's a family where a little boy ...  negative\n",
       "4  Petter Mattei's \"Love in the Time of Money\" is...  positive"
      ]
     },
     "execution_count": 26,
     "metadata": {},
     "output_type": "execute_result"
    }
   ],
   "source": [
    "# https://www.kaggle.com/datasets/lakshmi25npathi/imdb-dataset-of-50k-movie-reviews\n",
    "df = pd.read_csv(\"/notebooks/dataset/imbd_50000/IMDB_Dataset.csv\")\n",
    "df.head()"
   ]
  },
  {
   "cell_type": "markdown",
   "id": "2af34f10-186f-4e2e-876b-c2002bf4b40e",
   "metadata": {},
   "source": [
    "## Understading the data"
   ]
  },
  {
   "cell_type": "code",
   "execution_count": 27,
   "id": "dd180a7f-32b1-46d6-9626-350726da6802",
   "metadata": {},
   "outputs": [
    {
     "data": {
      "text/html": [
       "<div>\n",
       "<style scoped>\n",
       "    .dataframe tbody tr th:only-of-type {\n",
       "        vertical-align: middle;\n",
       "    }\n",
       "\n",
       "    .dataframe tbody tr th {\n",
       "        vertical-align: top;\n",
       "    }\n",
       "\n",
       "    .dataframe thead th {\n",
       "        text-align: right;\n",
       "    }\n",
       "</style>\n",
       "<table border=\"1\" class=\"dataframe\">\n",
       "  <thead>\n",
       "    <tr style=\"text-align: right;\">\n",
       "      <th></th>\n",
       "      <th>review</th>\n",
       "      <th>sentiment</th>\n",
       "    </tr>\n",
       "  </thead>\n",
       "  <tbody>\n",
       "    <tr>\n",
       "      <th>count</th>\n",
       "      <td>50000</td>\n",
       "      <td>50000</td>\n",
       "    </tr>\n",
       "    <tr>\n",
       "      <th>unique</th>\n",
       "      <td>49582</td>\n",
       "      <td>2</td>\n",
       "    </tr>\n",
       "    <tr>\n",
       "      <th>top</th>\n",
       "      <td>Loved today's show!!! It was a variety and not...</td>\n",
       "      <td>positive</td>\n",
       "    </tr>\n",
       "    <tr>\n",
       "      <th>freq</th>\n",
       "      <td>5</td>\n",
       "      <td>25000</td>\n",
       "    </tr>\n",
       "  </tbody>\n",
       "</table>\n",
       "</div>"
      ],
      "text/plain": [
       "                                                   review sentiment\n",
       "count                                               50000     50000\n",
       "unique                                              49582         2\n",
       "top     Loved today's show!!! It was a variety and not...  positive\n",
       "freq                                                    5     25000"
      ]
     },
     "execution_count": 27,
     "metadata": {},
     "output_type": "execute_result"
    }
   ],
   "source": [
    "df.describe()"
   ]
  },
  {
   "cell_type": "code",
   "execution_count": 28,
   "id": "6cd7f8d6-abde-4825-bd8b-d38e06cb7ca1",
   "metadata": {},
   "outputs": [
    {
     "name": "stdout",
     "output_type": "stream",
     "text": [
      "<class 'pandas.core.frame.DataFrame'>\n",
      "RangeIndex: 50000 entries, 0 to 49999\n",
      "Data columns (total 2 columns):\n",
      " #   Column     Non-Null Count  Dtype \n",
      "---  ------     --------------  ----- \n",
      " 0   review     50000 non-null  object\n",
      " 1   sentiment  50000 non-null  object\n",
      "dtypes: object(2)\n",
      "memory usage: 781.4+ KB\n"
     ]
    }
   ],
   "source": [
    "df.info()"
   ]
  },
  {
   "cell_type": "markdown",
   "id": "a4b9d89d-fc7a-4116-8e66-8acc26d1cf6e",
   "metadata": {},
   "source": [
    "### Do we have the same number of elments in positive and negative ?"
   ]
  },
  {
   "cell_type": "code",
   "execution_count": 29,
   "id": "40f6f493-1067-40e3-9e2b-1194297d8d47",
   "metadata": {},
   "outputs": [
    {
     "data": {
      "text/plain": [
       "<AxesSubplot: xlabel='sentiment', ylabel='count'>"
      ]
     },
     "execution_count": 29,
     "metadata": {},
     "output_type": "execute_result"
    },
    {
     "data": {
      "image/png": "[encoded data removed]",
      "text/plain": [
       "<Figure size 640x480 with 1 Axes>"
      ]
     },
     "metadata": {},
     "output_type": "display_data"
    }
   ],
   "source": [
    "sns.countplot(df, x='sentiment')"
   ]
  },
  {
   "cell_type": "markdown",
   "id": "f12d0b85-c79f-4532-bb83-e172abf78727",
   "metadata": {},
   "source": [
    "It seems we have the same number of instances for each class thus stratifying wouldn't be necessary and an 80/20 split should be sufficient enought. "
   ]
  },
  {
   "cell_type": "markdown",
   "id": "27bc04f1-57bd-476d-b9cb-6106563be419",
   "metadata": {},
   "source": [
    "## Text Clean Up"
   ]
  },
  {
   "cell_type": "markdown",
   "id": "072bed92-fb7d-4d2a-bbef-aa87a19610df",
   "metadata": {},
   "source": [
    "### Clean Up HTML"
   ]
  },
  {
   "cell_type": "code",
   "execution_count": 30,
   "id": "ac984978-8ce5-4b1f-b775-fe7260781f0c",
   "metadata": {},
   "outputs": [
    {
     "name": "stdout",
     "output_type": "stream",
     "text": [
      "Sample: \n"
     ]
    },
    {
     "data": {
      "text/plain": [
       "\"This movie is awful, I can't even be bothered to write a review on this garbage! All i will say it is one of the most boring films I've ever seen.<br /><br />And the acting is very bad. The boy who plays the main character really annoys me, he's got the same expression on his face through out the movie. I just want to slap him! Basically 80% of the movie is slow motion shots of skateboarders, weird music, and utter sh*t..<br /><br />Apparently I've got to write at least 10 lines of text to submit this comment, so I'll use up a few more lines by saying the lead character has got one of those faces you just want to slap!<br /><br />Meh i give up..THIS MOVIE SUCKS !!!!\""
      ]
     },
     "execution_count": 30,
     "metadata": {},
     "output_type": "execute_result"
    }
   ],
   "source": [
    "print(\"Sample: \")\n",
    "df.review[1000]"
   ]
  },
  {
   "cell_type": "code",
   "execution_count": 31,
   "id": "816b386f-37d6-449f-b775-2d6e2e93af46",
   "metadata": {},
   "outputs": [],
   "source": [
    "def remove_html(data_series):\n",
    "    return BeautifulSoup(data_series, \"html.parser\").get_text()"
   ]
  },
  {
   "cell_type": "code",
   "execution_count": 32,
   "id": "14c694c8-8223-4042-924a-ae99c16eb45a",
   "metadata": {},
   "outputs": [
    {
     "name": "stderr",
     "output_type": "stream",
     "text": [
      "/usr/local/lib/python3.9/dist-packages/bs4/__init__.py:435: MarkupResemblesLocatorWarning: The input looks more like a filename than markup. You may want to open this file and pass the filehandle into Beautiful Soup.\n",
      "  warnings.warn(\n"
     ]
    }
   ],
   "source": [
    "df['review'] = df['review'].apply(remove_html)"
   ]
  },
  {
   "cell_type": "markdown",
   "id": "89fc9f50-1ebc-48bf-ba6c-67339a443968",
   "metadata": {},
   "source": [
    "### Clean Up HTTPS"
   ]
  },
  {
   "cell_type": "code",
   "execution_count": 33,
   "id": "a5892bd0-1381-4b66-b3ae-6a1e41abbd63",
   "metadata": {},
   "outputs": [
    {
     "data": {
      "text/plain": [
       "\"This quasi J-horror film followed a young woman as she returns to her childhood village on the island of Shikoku to sell the family house and meet up with old friends. She finds that one, the daughter of the village priestess, drowned several years earlier. She and Fumiko (another childhood friend) then learn that Sayori's mother is trying to bring her back to life with black magic. Already the bonds between the dead and living are getting weak and the friends and villagers are seeing ghosts. Nothing was exceptional or even very good about this movie. Unlike stellar J-horror films, the suspense doesn't really build, the result doesn't seem overly threatening and the ending borders on the absurd.This movie is like plain white rice cooked a little too long so that it is bordering on mushy. Sometimes you get this at poor Asian restaurants or cook your own white rice a little too long. You end up eating it, because you need it with the meal, because what is Chinese or Japanese food without rice, but it almost ruins the meal because of the gluey, gooey tastelessness of it all. 3/10 http://blog.myspace.com/locoformovies\""
      ]
     },
     "execution_count": 33,
     "metadata": {},
     "output_type": "execute_result"
    }
   ],
   "source": [
    "df.review[1088]"
   ]
  },
  {
   "cell_type": "code",
   "execution_count": 34,
   "id": "c95156fb-e06f-4f2a-82a3-8c6e351a6f23",
   "metadata": {},
   "outputs": [],
   "source": [
    "def remove_url(text):\n",
    "    return re.sub(r'http\\S+', '', text)"
   ]
  },
  {
   "cell_type": "code",
   "execution_count": 35,
   "id": "1adeed17-804e-4d9d-ad5c-5ec0232ebdc0",
   "metadata": {},
   "outputs": [],
   "source": [
    "df['review'] = df['review'].apply(remove_url)"
   ]
  },
  {
   "cell_type": "code",
   "execution_count": 36,
   "id": "84001b96-0595-43cc-99e3-66a4d92bbd85",
   "metadata": {},
   "outputs": [
    {
     "data": {
      "text/plain": [
       "\"POPEYE AND BIG FOOT **; POPEYE'S ENGINE COMPANY **; GETTING POPEYE'S GOAT **1/2I used to lap these up as a kid but, catching an episode of the series comprising three cartoons back-to-back now i.e. several years later (they preceded the theatrical screening of the pirate yarn RAIDERS OF THE SEVEN SEAS [1953]), I can see how they don't hold up all that well! The character of Popeye isn't exactly sympathetic to begin with, Olive Oyl distinctly overbearing and Bluto's antics failed to elicit much interest either \\x96 in short, the scripts were alarmingly thin, fairly awful and generally unfunny to boot. They're strictly juvenile fare, yet I doubt today's kids would even have the patience to stick with them!; furthermore, the animation style is unattractive.Taking each short per se, I guess they improved from one to the other: after the initial shock, one adapted to its mediocre quality as it were, so that the third cartoon easily results in being the most enjoyable of the lot \\x96 Popeye is entrusted with a mascot army goat whose immense appetite causes him no end of mischief (hardly original, I know, but always an amusing ploy). One interesting element here was that the shorts were bookended with Popeye delivering moralistic bits of wisdom to the kids in the audience.\""
      ]
     },
     "execution_count": 36,
     "metadata": {},
     "output_type": "execute_result"
    }
   ],
   "source": [
    "df.review[48033]"
   ]
  },
  {
   "cell_type": "markdown",
   "id": "4011f54f-24df-437d-818e-3028f2475c6d",
   "metadata": {},
   "source": [
    "### Clean up text between brackets []"
   ]
  },
  {
   "cell_type": "code",
   "execution_count": 37,
   "id": "cca1fbe6-4e22-4858-9a63-a95d3113e7f7",
   "metadata": {},
   "outputs": [],
   "source": [
    "def remove_between_square_brackets(text):\n",
    "    return re.sub('\\[[^]]*\\]', '', text)"
   ]
  },
  {
   "cell_type": "code",
   "execution_count": 38,
   "id": "74376f09-fe33-4873-a23a-7533b09f0f95",
   "metadata": {},
   "outputs": [],
   "source": [
    "df['review'] = df['review'].apply(remove_between_square_brackets)"
   ]
  },
  {
   "cell_type": "code",
   "execution_count": 39,
   "id": "7d35fb78-6262-4d90-9bbc-f0d3173a8c0e",
   "metadata": {},
   "outputs": [
    {
     "data": {
      "text/plain": [
       "\"POPEYE AND BIG FOOT **; POPEYE'S ENGINE COMPANY **; GETTING POPEYE'S GOAT **1/2I used to lap these up as a kid but, catching an episode of the series comprising three cartoons back-to-back now i.e. several years later (they preceded the theatrical screening of the pirate yarn RAIDERS OF THE SEVEN SEAS ), I can see how they don't hold up all that well! The character of Popeye isn't exactly sympathetic to begin with, Olive Oyl distinctly overbearing and Bluto's antics failed to elicit much interest either \\x96 in short, the scripts were alarmingly thin, fairly awful and generally unfunny to boot. They're strictly juvenile fare, yet I doubt today's kids would even have the patience to stick with them!; furthermore, the animation style is unattractive.Taking each short per se, I guess they improved from one to the other: after the initial shock, one adapted to its mediocre quality as it were, so that the third cartoon easily results in being the most enjoyable of the lot \\x96 Popeye is entrusted with a mascot army goat whose immense appetite causes him no end of mischief (hardly original, I know, but always an amusing ploy). One interesting element here was that the shorts were bookended with Popeye delivering moralistic bits of wisdom to the kids in the audience.\""
      ]
     },
     "execution_count": 39,
     "metadata": {},
     "output_type": "execute_result"
    }
   ],
   "source": [
    "df.review[48033]"
   ]
  },
  {
   "cell_type": "markdown",
   "id": "0f647e11-714f-46dd-988e-7a42d7411257",
   "metadata": {},
   "source": [
    "### Clean up stop words"
   ]
  },
  {
   "cell_type": "code",
   "execution_count": 40,
   "id": "4db5a5b2-ab55-4801-bb19-a694f2e864b5",
   "metadata": {},
   "outputs": [
    {
     "name": "stderr",
     "output_type": "stream",
     "text": [
      "[nltk_data] Downloading package stopwords to /root/nltk_data...\n",
      "[nltk_data]   Unzipping corpora/stopwords.zip.\n"
     ]
    },
    {
     "data": {
      "text/plain": [
       "True"
      ]
     },
     "execution_count": 40,
     "metadata": {},
     "output_type": "execute_result"
    }
   ],
   "source": [
    "nltk.download('stopwords')"
   ]
  },
  {
   "cell_type": "code",
   "execution_count": 41,
   "id": "6fc62fad-d25a-48a8-a02b-a762538e7a6f",
   "metadata": {},
   "outputs": [],
   "source": [
    "stop = set(stopwords.words('english'))\n",
    "punctuation = list(string.punctuation)\n",
    "stop.update(punctuation)"
   ]
  },
  {
   "cell_type": "code",
   "execution_count": 42,
   "id": "81974e1f-3ccb-4c94-91b8-9de9c0da0d8f",
   "metadata": {},
   "outputs": [],
   "source": [
    "def remove_stopwords(text):\n",
    "    final_text = []\n",
    "    for i in text.split():\n",
    "        if i.strip().lower() not in stop and i.strip().lower().isalpha():\n",
    "            final_text.append(i.strip().lower())\n",
    "    return \" \".join(final_text)"
   ]
  },
  {
   "cell_type": "code",
   "execution_count": 43,
   "id": "f492443b-63c0-411f-9f7d-936394e95300",
   "metadata": {},
   "outputs": [],
   "source": [
    "df['review'] = df['review'].apply(remove_stopwords)"
   ]
  },
  {
   "cell_type": "markdown",
   "id": "a7014243-ce95-4744-b2e0-1e355483d772",
   "metadata": {},
   "source": [
    "### Sentences Length Distribution ?"
   ]
  },
  {
   "cell_type": "code",
   "execution_count": 44,
   "id": "f2a3b9ba-c83b-46ea-9d23-05f6e1b3bb44",
   "metadata": {},
   "outputs": [],
   "source": [
    "text_lens = df['review'].str.len()"
   ]
  },
  {
   "cell_type": "code",
   "execution_count": 45,
   "id": "b52dc9a0-8ed4-4b1a-bb05-053cc055a959",
   "metadata": {},
   "outputs": [
    {
     "name": "stdout",
     "output_type": "stream",
     "text": [
      "Mean: 617.99234 - Max: 7593\n",
      "Standard Deviation: 482.8162404805433\n"
     ]
    }
   ],
   "source": [
    "print(\"Mean: {} - Max: {}\".format(str(text_lens.mean()), str(text_lens.max())))\n",
    "print(\"Standard Deviation: \" + str(text_lens.std()))"
   ]
  },
  {
   "cell_type": "code",
   "execution_count": 46,
   "id": "fa1a5af3-443b-4486-a912-7178ebfe185c",
   "metadata": {},
   "outputs": [
    {
     "data": {
      "image/png": "[encoded data removed]",
      "text/plain": [
       "<Figure size 640x480 with 1 Axes>"
      ]
     },
     "metadata": {},
     "output_type": "display_data"
    }
   ],
   "source": [
    "n, bins, patches = pyplot.hist(text_lens,alpha=0.7,rwidth=0.85)\n",
    "pyplot.grid(axis='both', alpha=0.75)\n",
    "# pyplot.axis([0,5000,0,40000])\n",
    "# pyplot.xticks(range(20))\n",
    "pyplot.xlabel('Text Length')\n",
    "pyplot.ylabel('Count')\n",
    "\n",
    "maxfreq = n.max()\n",
    "\n",
    "pyplot.ylim(ymax=np.ceil(maxfreq / 10) * 10 if maxfreq % 10 else maxfreq + 10)\n",
    "pyplot.show()"
   ]
  },
  {
   "cell_type": "markdown",
   "id": "4cf8d181-9cd8-467d-96dd-87efaedf253b",
   "metadata": {},
   "source": [
    "I think it would be safe to go with ~ 1500"
   ]
  },
  {
   "cell_type": "markdown",
   "id": "617780cb-2cd7-41a7-8b1f-c6bce67eefd7",
   "metadata": {},
   "source": [
    "## Categorize Sentiment Column"
   ]
  },
  {
   "cell_type": "code",
   "execution_count": 47,
   "id": "15e206d3-ebce-497f-8db9-fed192a583ff",
   "metadata": {},
   "outputs": [],
   "source": [
    "df['sentiment'] = df['sentiment'].astype('category')\n",
    "df['sentiment'] = df['sentiment'].cat.codes"
   ]
  },
  {
   "cell_type": "markdown",
   "id": "2726ce9a-a353-4bea-9d2e-c11fe7f5ec32",
   "metadata": {},
   "source": [
    "# Split the data into training and testing"
   ]
  },
  {
   "cell_type": "markdown",
   "id": "2345a241-0f1d-4707-a7bf-f04f2d42dbb3",
   "metadata": {},
   "source": [
    "**How you performed this split and why you think it is reasonable to split this particular dataset this way** "
   ]
  },
  {
   "cell_type": "markdown",
   "id": "878b6913-3d50-4102-ae66-d4f544dbb3da",
   "metadata": {},
   "source": [
    "## Setting Up Data for CNN Training "
   ]
  },
  {
   "cell_type": "code",
   "execution_count": 43,
   "id": "5d59d38e-3ab8-4150-bec0-17c1e88e934e",
   "metadata": {},
   "outputs": [],
   "source": [
    "MAX_ART_LEN = 1000\n",
    "NUM_CLASSES = 1"
   ]
  },
  {
   "cell_type": "code",
   "execution_count": 44,
   "id": "e8994fd9-3a36-42e0-90bc-86d1b50aead4",
   "metadata": {},
   "outputs": [],
   "source": [
    "# Tokenizer function\n",
    "# sentences : can be a list of strings, a generator of strings, or a list of list of strings\n",
    "# target_labels : List of the target labels to one hot encode them. \n",
    "# num_top_words : Number of vocabs. If set to NONE - Use the entire vocabulary\n",
    "# max_art_length : Maximum and Minumum number of words\n",
    "\n",
    "def tokenize(sentences, target_labels, num_top_words, max_art_length):\n",
    "    #tokenize the text\n",
    "    tokenizer = Tokenizer(num_words=num_top_words)\n",
    "    tokenizer.fit_on_texts(sentences)\n",
    "\n",
    "    # save as sequences with integers replacing words\n",
    "    sequences = tokenizer.texts_to_sequences(sentences)\n",
    "\n",
    "    word_index = tokenizer.word_index\n",
    "    num_top_words = len(word_index) if num_top_words==None else num_top_words\n",
    "    top_words = min((len(word_index), num_top_words))\n",
    "    print('Found %s unique tokens. Distilled to %d top words.' % (len(word_index),top_words))\n",
    "\n",
    "    X = pad_sequences(sequences, maxlen=max_art_length)\n",
    "    y_ohe = None\n",
    "    if target_labels is not None:\n",
    "        y_ohe = keras.utils.to_categorical(target_labels)\n",
    "    return word_index, X, y_ohe"
   ]
  },
  {
   "cell_type": "code",
   "execution_count": 45,
   "id": "d1e1693e-4ef7-49c7-933f-bc9b76f8e6c4",
   "metadata": {},
   "outputs": [
    {
     "name": "stdout",
     "output_type": "stream",
     "text": [
      "Found 83538 unique tokens. Distilled to 83538 top words.\n"
     ]
    }
   ],
   "source": [
    "word_index, X, _ = tokenize(\n",
    "    df['review'],\n",
    "    df['sentiment'],\n",
    "    None,\n",
    "    MAX_ART_LEN\n",
    ")"
   ]
  },
  {
   "cell_type": "code",
   "execution_count": 46,
   "id": "95b032d3-f792-4c3d-a219-f6d9e3a1272c",
   "metadata": {},
   "outputs": [],
   "source": [
    "X_train, X_test, y_train, y_test = train_test_split(\n",
    "    X, \n",
    "    df['sentiment'], \n",
    "    test_size=0.2,\n",
    "    random_state=42\n",
    ")"
   ]
  },
  {
   "cell_type": "markdown",
   "id": "e3cba440-bf90-428b-a181-9d9b6565c243",
   "metadata": {},
   "source": [
    "# Training a CNN Model"
   ]
  },
  {
   "cell_type": "code",
   "execution_count": 144,
   "id": "6027929e-b8e7-41a2-a0ac-57f054e17707",
   "metadata": {},
   "outputs": [],
   "source": [
    "def get_cnn_model(max_art_len, embedding_layer, num_classes):\n",
    "    sequence_input = Input(shape=(max_art_len,), dtype='int32')\n",
    "    embedded_sequences = embedding_layer(sequence_input)\n",
    "    x = Conv1D(filters= 128, kernel_size=3, activation='relu', kernel_initializer='he_uniform')(embedded_sequences)\n",
    "    x = Dropout(rate= 0.5)(x)\n",
    "    x = MaxPooling1D(pool_size = 2)(x) #Strides defaults to pooling size\n",
    "    \n",
    "    x = Conv1D(filters= 128, kernel_size=6, activation='relu',kernel_initializer='he_uniform')(x)\n",
    "    x = Dropout(rate= 0.5)(x)\n",
    "    x = MaxPooling1D(pool_size = 4)(x) #Strides defaults to pooling size\n",
    "    \n",
    "    x = Conv1D(filters=128, kernel_size=5, activation='relu', kernel_initializer='he_uniform')(x)\n",
    "    x = MaxPooling1D(pool_size = 2)(x) #Strides defaults to pooling size\n",
    "    x = Dropout(rate= 0.5)(x)\n",
    "    \n",
    "    x = Flatten()(x)\n",
    "    x = Dense(128, activation='relu', kernel_initializer='he_uniform')(x)\n",
    "    x = Dropout(rate= 0.5)(x)\n",
    "    x = Dense(64, activation='relu', kernel_initializer='he_uniform')(x)\n",
    "    x = Dropout(rate= 0.5)(x)\n",
    "    x = Dense(32, activation='relu', kernel_initializer='he_uniform')(x)\n",
    "    x = Dropout(rate= 0.2)(x)\n",
    "    \n",
    "    preds = Dense(num_classes, activation='sigmoid',\n",
    "                  kernel_initializer='glorot_uniform')(x)\n",
    "\n",
    "    model = Model(sequence_input, preds, name=\"CNN_MODEL\")\n",
    "    \n",
    "    lr_schedule = ExponentialDecay(\n",
    "        initial_learning_rate=0.001,\n",
    "        decay_steps=10000,\n",
    "        decay_rate=0.95,\n",
    "        staircase=True\n",
    "    ) \n",
    "\n",
    "    opt = Adam(epsilon=0.0001, learning_rate=lr_schedule)\n",
    "    model.compile(\n",
    "        loss='binary_crossentropy',\n",
    "        optimizer=opt,\n",
    "        metrics=['accuracy', fbeta_local]\n",
    "    )\n",
    "    return model"
   ]
  },
  {
   "cell_type": "code",
   "execution_count": 86,
   "id": "6adee1db-32eb-4e5c-970e-f7e97847bddf",
   "metadata": {},
   "outputs": [
    {
     "name": "stdout",
     "output_type": "stream",
     "text": [
      "Model: \"CNN_MODEL\"\n",
      "_________________________________________________________________\n",
      " Layer (type)                Output Shape              Param #   \n",
      "=================================================================\n",
      " input_18 (InputLayer)       [(None, 1000)]            0         \n",
      "                                                                 \n",
      " embedding_17 (Embedding)    (None, 1000, 300)         125424300 \n",
      "                                                                 \n",
      " conv1d_46 (Conv1D)          (None, 998, 128)          115328    \n",
      "                                                                 \n",
      " dropout_53 (Dropout)        (None, 998, 128)          0         \n",
      "                                                                 \n",
      " max_pooling1d_46 (MaxPoolin  (None, 499, 128)         0         \n",
      " g1D)                                                            \n",
      "                                                                 \n",
      " conv1d_47 (Conv1D)          (None, 494, 128)          98432     \n",
      "                                                                 \n",
      " dropout_54 (Dropout)        (None, 494, 128)          0         \n",
      "                                                                 \n",
      " max_pooling1d_47 (MaxPoolin  (None, 123, 128)         0         \n",
      " g1D)                                                            \n",
      "                                                                 \n",
      " conv1d_48 (Conv1D)          (None, 119, 128)          82048     \n",
      "                                                                 \n",
      " max_pooling1d_48 (MaxPoolin  (None, 59, 128)          0         \n",
      " g1D)                                                            \n",
      "                                                                 \n",
      " dropout_55 (Dropout)        (None, 59, 128)           0         \n",
      "                                                                 \n",
      " flatten_17 (Flatten)        (None, 7552)              0         \n",
      "                                                                 \n",
      " dense_40 (Dense)            (None, 128)               966784    \n",
      "                                                                 \n",
      " dropout_56 (Dropout)        (None, 128)               0         \n",
      "                                                                 \n",
      " dense_41 (Dense)            (None, 64)                8256      \n",
      "                                                                 \n",
      " dropout_57 (Dropout)        (None, 64)                0         \n",
      "                                                                 \n",
      " dense_42 (Dense)            (None, 32)                2080      \n",
      "                                                                 \n",
      " dropout_58 (Dropout)        (None, 32)                0         \n",
      "                                                                 \n",
      " dense_43 (Dense)            (None, 1)                 33        \n",
      "                                                                 \n",
      "=================================================================\n",
      "Total params: 126,697,261\n",
      "Trainable params: 1,272,961\n",
      "Non-trainable params: 125,424,300\n",
      "_________________________________________________________________\n",
      "None\n"
     ]
    }
   ],
   "source": [
    "cnn_model = None\n",
    "cnn_model_histories = []\n",
    "if LOAD_MODELS:\n",
    "    cnn_model = load_model(\"CNN_MODEL\")\n",
    "    cnn_model_histories = load_history(\"CNN_MODEL\")\n",
    "else: \n",
    "    embedding_layer_numberbatch = define_embedding_layer(\n",
    "        300,\n",
    "        number_batch_embedding, #Use the entire numberbatch embedding and not the smaller version of vocab embedding_matrix_numberbatch\n",
    "        MAX_ART_LEN\n",
    "    )\n",
    "\n",
    "    cnn_model_histories = []\n",
    "    cnn_model = get_cnn_model(\n",
    "        MAX_ART_LEN, \n",
    "        embedding_layer_numberbatch, \n",
    "        NUM_CLASSES\n",
    "    )\n",
    "\n",
    "print(cnn_model.summary())"
   ]
  },
  {
   "cell_type": "code",
   "execution_count": 151,
   "id": "15191454-f7d0-4684-8b4f-7810ddfcaf92",
   "metadata": {},
   "outputs": [
    {
     "name": "stdout",
     "output_type": "stream",
     "text": [
      "Length of training data 40000\n",
      "Training model CNN_MODEL ...\n",
      "Epoch 1/10\n",
      "313/313 [==============================] - 16s 50ms/step - loss: 0.1421 - accuracy: 0.9440 - fbeta_local: 0.9467 - val_loss: 0.5288 - val_accuracy: 0.7797 - val_fbeta_local: 0.8409\n",
      "Epoch 2/10\n",
      "312/313 [============================>.] - ETA: 0s - loss: 0.1375 - accuracy: 0.9473 - fbeta_local: 0.9483\n",
      "Epoch 2: saving model to ./checkpoints/checkpoint_CNN_MODEL.ckpt\n",
      "313/313 [==============================] - 16s 51ms/step - loss: 0.1375 - accuracy: 0.9473 - fbeta_local: 0.9484 - val_loss: 0.5026 - val_accuracy: 0.7880 - val_fbeta_local: 0.8217\n",
      "Epoch 3/10\n",
      "313/313 [==============================] - 15s 48ms/step - loss: 0.1394 - accuracy: 0.9459 - fbeta_local: 0.9462 - val_loss: 0.4956 - val_accuracy: 0.7820 - val_fbeta_local: 0.8221\n",
      "Epoch 4/10\n",
      "311/313 [============================>.] - ETA: 0s - loss: 0.1345 - accuracy: 0.9472 - fbeta_local: 0.9456\n",
      "Epoch 4: saving model to ./checkpoints/checkpoint_CNN_MODEL.ckpt\n",
      "313/313 [==============================] - 16s 50ms/step - loss: 0.1344 - accuracy: 0.9473 - fbeta_local: 0.9458 - val_loss: 0.5446 - val_accuracy: 0.7794 - val_fbeta_local: 0.8264\n",
      "Epoch 5/10\n",
      "313/313 [==============================] - 15s 48ms/step - loss: 0.1380 - accuracy: 0.9454 - fbeta_local: 0.9451 - val_loss: 0.4965 - val_accuracy: 0.7849 - val_fbeta_local: 0.8033\n",
      "Epoch 6/10\n",
      "311/313 [============================>.] - ETA: 0s - loss: 0.1365 - accuracy: 0.9474 - fbeta_local: 0.9491\n",
      "Epoch 6: saving model to ./checkpoints/checkpoint_CNN_MODEL.ckpt\n",
      "313/313 [==============================] - 16s 52ms/step - loss: 0.1366 - accuracy: 0.9473 - fbeta_local: 0.9491 - val_loss: 0.5589 - val_accuracy: 0.7780 - val_fbeta_local: 0.8283\n",
      "Epoch 7/10\n",
      "313/313 [==============================] - 15s 48ms/step - loss: 0.1376 - accuracy: 0.9466 - fbeta_local: 0.9462 - val_loss: 0.5417 - val_accuracy: 0.7721 - val_fbeta_local: 0.8429\n",
      "Epoch 8/10\n",
      "311/313 [============================>.] - ETA: 0s - loss: 0.1311 - accuracy: 0.9490 - fbeta_local: 0.9503\n",
      "Epoch 8: saving model to ./checkpoints/checkpoint_CNN_MODEL.ckpt\n",
      "313/313 [==============================] - 16s 51ms/step - loss: 0.1310 - accuracy: 0.9490 - fbeta_local: 0.9502 - val_loss: 0.4839 - val_accuracy: 0.7848 - val_fbeta_local: 0.8013\n",
      "Epoch 9/10\n",
      "313/313 [==============================] - 15s 48ms/step - loss: 0.1249 - accuracy: 0.9507 - fbeta_local: 0.9526 - val_loss: 0.5724 - val_accuracy: 0.7709 - val_fbeta_local: 0.8464\n",
      "Epoch 10/10\n",
      "312/313 [============================>.] - ETA: 0s - loss: 0.1354 - accuracy: 0.9472 - fbeta_local: 0.9490\n",
      "Epoch 10: saving model to ./checkpoints/checkpoint_CNN_MODEL.ckpt\n",
      "313/313 [==============================] - 16s 50ms/step - loss: 0.1353 - accuracy: 0.9473 - fbeta_local: 0.9491 - val_loss: 0.5131 - val_accuracy: 0.7792 - val_fbeta_local: 0.8280\n",
      "GPU Peak Memory:  7.732884883880615 G\n",
      "GPU Current Memory Usage:  4.813326120376587 G\n",
      "Save Trained Model CNN_MODEL ...\n",
      "CPU times: user 2min 31s, sys: 4.58 s, total: 2min 35s\n",
      "Wall time: 2min 36s\n"
     ]
    },
    {
     "data": {
      "text/plain": [
       "<keras.engine.functional.Functional at 0x7f98a8765ee0>"
      ]
     },
     "execution_count": 151,
     "metadata": {},
     "output_type": "execute_result"
    }
   ],
   "source": [
    "%%time\n",
    "\n",
    "train_model(\n",
    "    model = cnn_model,\n",
    "    train_data = X_train,\n",
    "    train_labels = y_train,\n",
    "    test_data = X_test,\n",
    "    test_labels = y_test,\n",
    "    epochs = 10,\n",
    "    batch_size = 128,\n",
    "    histories = cnn_model_histories,\n",
    "    save_model = True,\n",
    "    verbose = 1\n",
    ")"
   ]
  },
  {
   "cell_type": "code",
   "execution_count": 147,
   "id": "d3abb53a-1adf-4957-9fce-2f035180b5bf",
   "metadata": {},
   "outputs": [
    {
     "data": {
      "image/png": "[encoded data removed]",
      "text/plain": [
       "<Figure size 2500x1000 with 2 Axes>"
      ]
     },
     "metadata": {},
     "output_type": "display_data"
    }
   ],
   "source": [
    "plot_learning_curves(\n",
    "    cnn_model.name,\n",
    "    ['fbeta_local', 'loss'],\n",
    "    METRICS_IN_HISTORIES,\n",
    "    cnn_model_histories\n",
    ")"
   ]
  },
  {
   "cell_type": "markdown",
   "id": "68326c6d-56d5-4933-8bb8-753bc5977627",
   "metadata": {},
   "source": [
    "# Transfer Learning"
   ]
  },
  {
   "cell_type": "markdown",
   "id": "abf54caf-b2ca-463e-a001-385f4fd9f2e3",
   "metadata": {},
   "source": [
    "## Loading BERT Model and BERT Tokenizer"
   ]
  },
  {
   "cell_type": "code",
   "execution_count": 50,
   "id": "0dd0627a-dc22-41ef-a576-95cb27e72212",
   "metadata": {},
   "outputs": [
    {
     "name": "stdout",
     "output_type": "stream",
     "text": [
      "GPU Peak Memory:  0.0 G\n",
      "GPU Current Memory Usage:  0.0 G\n",
      "Loading BERTS ...\n"
     ]
    },
    {
     "data": {
      "application/vnd.jupyter.widget-view+json": {
       "model_id": "047a8dc64b014dac8b3f3ea898a5213b",
       "version_major": 2,
       "version_minor": 0
      },
      "text/plain": [
       "Downloading tokenizer_config.json:   0%|          | 0.00/49.0 [00:00<?, ?B/s]"
      ]
     },
     "metadata": {},
     "output_type": "display_data"
    },
    {
     "data": {
      "application/vnd.jupyter.widget-view+json": {
       "model_id": "34fb71d55ed7427d82463308a037e27a",
       "version_major": 2,
       "version_minor": 0
      },
      "text/plain": [
       "Downloading config.json:   0%|          | 0.00/570 [00:00<?, ?B/s]"
      ]
     },
     "metadata": {},
     "output_type": "display_data"
    },
    {
     "data": {
      "application/vnd.jupyter.widget-view+json": {
       "model_id": "ef8b8ca2da23481cb99c76cf68c170c4",
       "version_major": 2,
       "version_minor": 0
      },
      "text/plain": [
       "Downloading vocab.txt:   0%|          | 0.00/208k [00:00<?, ?B/s]"
      ]
     },
     "metadata": {},
     "output_type": "display_data"
    },
    {
     "data": {
      "application/vnd.jupyter.widget-view+json": {
       "model_id": "de8f7b5db8c04234a428df8b6e5e6dde",
       "version_major": 2,
       "version_minor": 0
      },
      "text/plain": [
       "Downloading tokenizer.json:   0%|          | 0.00/426k [00:00<?, ?B/s]"
      ]
     },
     "metadata": {},
     "output_type": "display_data"
    },
    {
     "data": {
      "application/vnd.jupyter.widget-view+json": {
       "model_id": "5a4369e4e7f24484b1c729aabfb82476",
       "version_major": 2,
       "version_minor": 0
      },
      "text/plain": [
       "Downloading tf_model.h5:   0%|          | 0.00/502M [00:00<?, ?B/s]"
      ]
     },
     "metadata": {},
     "output_type": "display_data"
    },
    {
     "name": "stderr",
     "output_type": "stream",
     "text": [
      "Some layers from the model checkpoint at bert-base-cased were not used when initializing TFBertModel: ['nsp___cls', 'mlm___cls']\n",
      "- This IS expected if you are initializing TFBertModel from the checkpoint of a model trained on another task or with another architecture (e.g. initializing a BertForSequenceClassification model from a BertForPreTraining model).\n",
      "- This IS NOT expected if you are initializing TFBertModel from the checkpoint of a model that you expect to be exactly identical (initializing a BertForSequenceClassification model from a BertForSequenceClassification model).\n",
      "All the layers of TFBertModel were initialized from the model checkpoint at bert-base-cased.\n",
      "If your task is similar to the task the model of the checkpoint was trained on, you can already use TFBertModel for predictions without further training.\n"
     ]
    },
    {
     "name": "stdout",
     "output_type": "stream",
     "text": [
      "Done...\n",
      "GPU Peak Memory:  0.5728297233581543 G\n",
      "GPU Current Memory Usage:  0.41112565994262695 G\n"
     ]
    }
   ],
   "source": [
    "print_gpu_usage()\n",
    "print(\"Loading BERTS ...\")\n",
    "## Load tokenizer and the pre-trained bert model\n",
    "bert_base_cased_tokenizer = AutoTokenizer.from_pretrained('bert-base-cased')\n",
    "bert_base_cased_model = TFBertModel.from_pretrained('bert-base-cased')\n",
    "print(\"Done...\")\n",
    "print_gpu_usage()"
   ]
  },
  {
   "cell_type": "markdown",
   "id": "c37dc590-4f8e-433a-8fbc-959a8b54373a",
   "metadata": {},
   "source": [
    "## General Transfer Learning Config Variables"
   ]
  },
  {
   "cell_type": "code",
   "execution_count": 51,
   "id": "2e3c231a-1f4f-4584-b468-2245df65e85f",
   "metadata": {},
   "outputs": [],
   "source": [
    "batch_size = 16\n",
    "max_encoding_length = 512\n",
    "bert_out_dimension = 768"
   ]
  },
  {
   "cell_type": "markdown",
   "id": "cf7ac30a-e7e3-4de9-a385-585d57abc7ff",
   "metadata": {},
   "source": [
    "## Extracting Bottleneck Features"
   ]
  },
  {
   "cell_type": "code",
   "execution_count": 52,
   "id": "4b348afc-83db-4693-8cdf-bb5138c96262",
   "metadata": {},
   "outputs": [],
   "source": [
    "def save_bottleneck(bert_model, tokenizer, ds, batch_size, max_length, filename_addendum, verbose=False):\n",
    "    bottleneck_features = []\n",
    "    labels_train = []\n",
    "    \n",
    "    batch_num = 1\n",
    "    for i in range(0, ds.shape[0], batch_size):\n",
    "        batch = ds.iloc[i:i+batch_size].review.tolist()\n",
    "        inputs = tokenizer(\n",
    "            text=batch,\n",
    "            add_special_tokens=True,\n",
    "            max_length=max_length,\n",
    "            truncation=True,\n",
    "            padding=True,\n",
    "            return_tensors='tf',\n",
    "            return_token_type_ids=False,\n",
    "            return_attention_mask=True,\n",
    "            verbose=True\n",
    "        )\n",
    "        \n",
    "        out = bert_model(inputs)\n",
    "        bottleneck_features.extend(out.pooler_output)\n",
    "        labels_train.extend(ds.iloc[i:i+batch_size].sentiment)\n",
    "        \n",
    "        del out\n",
    "        if verbose and batch_num % 500 == 0:\n",
    "            print(\"Batch {} - size {}\".format(batch_num, len(batch)))\n",
    "            print_gpu_usage()\n",
    "        batch_num = batch_num + 1\n",
    "    \n",
    "    print(\"Total Number of batches {} - Length of bottleneck features {}\".format(batch_num, len(bottleneck_features)))\n",
    "    bottleneck_features = np.array(bottleneck_features)\n",
    "    labels_train = np.array(labels_train)\n",
    "    data_filename = './bottleneckFeatures/bottleneck_features_{}_{}.npy'.format(filename_addendum, max_length)\n",
    "    labels_filename = './bottleneckFeatures/bottleneck_labels_{}_{}.npy'.format(filename_addendum, max_length)\n",
    "    np.save(data_filename, bottleneck_features)\n",
    "    np.save(labels_filename, labels_train)\n",
    "    \n",
    "    return data_filename, labels_filename"
   ]
  },
  {
   "cell_type": "code",
   "execution_count": 54,
   "id": "85be11ce-9d96-4029-9d89-794191c50e6b",
   "metadata": {},
   "outputs": [],
   "source": [
    "df_train, df_test = train_test_split(\n",
    "    df, \n",
    "    test_size=0.2,\n",
    "    random_state=42\n",
    ")"
   ]
  },
  {
   "cell_type": "code",
   "execution_count": 55,
   "id": "d68fa541-f00c-452b-80d3-b2694da9fb13",
   "metadata": {},
   "outputs": [
    {
     "name": "stdout",
     "output_type": "stream",
     "text": [
      "Batch 500 - size 16\n",
      "GPU Peak Memory:  1.6527152061462402 G\n",
      "GPU Current Memory Usage:  0.43484044075012207 G\n",
      "Batch 1000 - size 16\n",
      "GPU Peak Memory:  1.6645004749298096 G\n",
      "GPU Current Memory Usage:  0.4585764408111572 G\n",
      "Batch 1500 - size 16\n",
      "GPU Peak Memory:  1.7023975849151611 G\n",
      "GPU Current Memory Usage:  0.4823944568634033 G\n",
      "Batch 2000 - size 16\n",
      "GPU Peak Memory:  1.7140748500823975 G\n",
      "GPU Current Memory Usage:  0.5061759948730469 G\n",
      "Batch 2500 - size 16\n",
      "GPU Peak Memory:  1.7140748500823975 G\n",
      "GPU Current Memory Usage:  0.5300021171569824 G\n",
      "Total Number of batches 2501 - Length of bottleneck features 40000\n",
      "CPU times: user 4min 8s, sys: 6.16 s, total: 4min 14s\n",
      "Wall time: 3min 52s\n"
     ]
    }
   ],
   "source": [
    "%%time\n",
    "train_bottlenck_feature_file, train_labels_file = save_bottleneck(\n",
    "    bert_model = bert_base_cased_model,\n",
    "    tokenizer= bert_base_cased_tokenizer,\n",
    "    ds = df_train,\n",
    "    batch_size = batch_size, \n",
    "    max_length = max_encoding_length,\n",
    "    filename_addendum = 'train',\n",
    "    verbose = True\n",
    ")"
   ]
  },
  {
   "cell_type": "code",
   "execution_count": 56,
   "id": "71051b1b-cfa6-4097-8ea1-caedab816357",
   "metadata": {},
   "outputs": [
    {
     "name": "stdout",
     "output_type": "stream",
     "text": [
      "Batch 500 - size 16\n",
      "GPU Peak Memory:  1.7140748500823975 G\n",
      "GPU Current Memory Usage:  0.4352550506591797 G\n",
      "Total Number of batches 626 - Length of bottleneck features 10000\n",
      "CPU times: user 1min 1s, sys: 1.51 s, total: 1min 3s\n",
      "Wall time: 58.1 s\n"
     ]
    }
   ],
   "source": [
    "%%time\n",
    "test_bottlenck_feature_file, test_labels_file = save_bottleneck(\n",
    "    bert_model = bert_base_cased_model,\n",
    "    tokenizer= bert_base_cased_tokenizer,\n",
    "    ds = df_test,\n",
    "    batch_size = batch_size, \n",
    "    max_length = max_encoding_length,\n",
    "    filename_addendum = 'test',\n",
    "    verbose = True\n",
    ")"
   ]
  },
  {
   "cell_type": "code",
   "execution_count": 57,
   "id": "ae4d6a6a-d5b2-4d3d-9ad7-4815f68aba10",
   "metadata": {},
   "outputs": [],
   "source": [
    "def load_bottleneck(train_x_file, train_y_file, test_x_file, test_y_file):\n",
    "    # Load bottleneck features that have already been extracted by base model\n",
    "    train_data = np.load(train_x_file)\n",
    "    train_labels = np.load(train_y_file)\n",
    "    print('Training Data Shape: ',train_data.shape, 'Training Label Shape: ',train_labels.shape)\n",
    "\n",
    "    test_data = np.load(test_x_file)\n",
    "    test_labels = np.load(test_y_file)\n",
    "    print('Val Data Shape: ',test_data.shape, 'Val Label Shape: ', test_labels.shape)\n",
    "    return train_data, train_labels, test_data, test_labels"
   ]
  },
  {
   "cell_type": "code",
   "execution_count": 58,
   "id": "b0285327-eb78-4322-bf08-3e65539790f7",
   "metadata": {},
   "outputs": [
    {
     "name": "stdout",
     "output_type": "stream",
     "text": [
      "Training Data Shape:  (40000, 768) Training Label Shape:  (40000,)\n",
      "Val Data Shape:  (10000, 768) Val Label Shape:  (10000,)\n"
     ]
    }
   ],
   "source": [
    "train_data, train_labels, test_data, test_labels = load_bottleneck(\n",
    "    train_x_file = train_bottlenck_feature_file, \n",
    "    train_y_file = train_labels_file,\n",
    "    test_x_file = test_bottlenck_feature_file, \n",
    "    test_y_file = test_labels_file\n",
    ")"
   ]
  },
  {
   "cell_type": "markdown",
   "id": "5f45c576-c897-4408-94a3-c580f3ae5106",
   "metadata": {},
   "source": [
    "## Train Top Model On Bottleneck Features"
   ]
  },
  {
   "cell_type": "markdown",
   "id": "2a7c495d-ea1a-4c8b-98f2-a7c9ccece9ba",
   "metadata": {},
   "source": [
    "### Top Model Description"
   ]
  },
  {
   "cell_type": "code",
   "execution_count": 60,
   "id": "e9959702-7575-4378-8da5-ca896c5908cc",
   "metadata": {},
   "outputs": [],
   "source": [
    "def get_top_model():\n",
    "    sequence_input = Input(shape=(bert_out_dimension,))\n",
    "    \n",
    "    x = layers.Dense(512, activation='relu')(sequence_input)\n",
    "    x = layers.Dropout(0.5)(x)\n",
    "    x = layers.Dense(256, activation='relu')(x)\n",
    "    x = layers.Dropout(0.5)(x)\n",
    "    x = layers.Dense(128, activation='relu')(x)\n",
    "    x = layers.Dropout(0.5)(x)\n",
    "    preds = layers.Dense(1, activation='sigmoid')(x)\n",
    "\n",
    "    top_model = Model(sequence_input, preds, name=\"TOP_MODEL\")\n",
    "    \n",
    "    top_model.compile(\n",
    "        loss='binary_crossentropy',\n",
    "        optimizer='adam',\n",
    "        metrics=['accuracy', fbeta_local]\n",
    "    )\n",
    "\n",
    "    return top_model"
   ]
  },
  {
   "cell_type": "code",
   "execution_count": 63,
   "id": "a78a9624-f911-4768-a038-82c326aa4b41",
   "metadata": {},
   "outputs": [
    {
     "name": "stdout",
     "output_type": "stream",
     "text": [
      "Model: \"TOP_MODEL\"\n",
      "_________________________________________________________________\n",
      " Layer (type)                Output Shape              Param #   \n",
      "=================================================================\n",
      " input_43 (InputLayer)       [(None, 768)]             0         \n",
      "                                                                 \n",
      " dense_136 (Dense)           (None, 512)               393728    \n",
      "                                                                 \n",
      " dropout_164 (Dropout)       (None, 512)               0         \n",
      "                                                                 \n",
      " dense_137 (Dense)           (None, 256)               131328    \n",
      "                                                                 \n",
      " dropout_165 (Dropout)       (None, 256)               0         \n",
      "                                                                 \n",
      " dense_138 (Dense)           (None, 128)               32896     \n",
      "                                                                 \n",
      " dropout_166 (Dropout)       (None, 128)               0         \n",
      "                                                                 \n",
      " dense_139 (Dense)           (None, 1)                 129       \n",
      "                                                                 \n",
      "=================================================================\n",
      "Total params: 558,081\n",
      "Trainable params: 558,081\n",
      "Non-trainable params: 0\n",
      "_________________________________________________________________\n"
     ]
    }
   ],
   "source": [
    "top_model = None\n",
    "top_model_with_bottlenecks = []\n",
    "if LOAD_MODELS:\n",
    "    top_model = load_model(\"TOP_MODEL\")\n",
    "    top_model_with_bottlenecks = load_history(\"TOP_MODEL\")\n",
    "else: \n",
    "    top_model = get_top_model()\n",
    "\n",
    "top_model.summary()"
   ]
  },
  {
   "cell_type": "code",
   "execution_count": 274,
   "id": "312a5d1d-639f-469f-bcec-0dc44399e2a8",
   "metadata": {},
   "outputs": [
    {
     "name": "stdout",
     "output_type": "stream",
     "text": [
      "Length of training data 40000\n",
      "Training model TOP_MODEL ...\n",
      "Epoch 1/10\n",
      "625/625 [==============================] - 25s 39ms/step - loss: 0.6511 - accuracy: 0.6060 - fbeta_local: 0.5781 - val_loss: 0.6140 - val_accuracy: 0.7014 - val_fbeta_local: 0.7292\n",
      "Epoch 2/10\n",
      "623/625 [============================>.] - ETA: 0s - loss: 0.6477 - accuracy: 0.6121 - fbeta_local: 0.5934\n",
      "Epoch 2: saving model to ./checkpoints/checkpoint_TOP_MODEL.ckpt\n",
      "625/625 [==============================] - 25s 40ms/step - loss: 0.6477 - accuracy: 0.6121 - fbeta_local: 0.5933 - val_loss: 0.6032 - val_accuracy: 0.7257 - val_fbeta_local: 0.7297\n",
      "Epoch 3/10\n",
      "625/625 [==============================] - 25s 40ms/step - loss: 0.6502 - accuracy: 0.6054 - fbeta_local: 0.5765 - val_loss: 0.6158 - val_accuracy: 0.7116 - val_fbeta_local: 0.7370\n",
      "Epoch 4/10\n",
      "623/625 [============================>.] - ETA: 0s - loss: 0.6503 - accuracy: 0.6076 - fbeta_local: 0.5818\n",
      "Epoch 4: saving model to ./checkpoints/checkpoint_TOP_MODEL.ckpt\n",
      "625/625 [==============================] - 25s 40ms/step - loss: 0.6505 - accuracy: 0.6071 - fbeta_local: 0.5814 - val_loss: 0.6052 - val_accuracy: 0.7231 - val_fbeta_local: 0.7400\n",
      "Epoch 5/10\n",
      "625/625 [==============================] - 25s 40ms/step - loss: 0.6498 - accuracy: 0.6054 - fbeta_local: 0.5725 - val_loss: 0.6148 - val_accuracy: 0.7193 - val_fbeta_local: 0.7392\n",
      "Epoch 6/10\n",
      "623/625 [============================>.] - ETA: 0s - loss: 0.6483 - accuracy: 0.6096 - fbeta_local: 0.5825\n",
      "Epoch 6: saving model to ./checkpoints/checkpoint_TOP_MODEL.ckpt\n",
      "625/625 [==============================] - 25s 40ms/step - loss: 0.6482 - accuracy: 0.6097 - fbeta_local: 0.5828 - val_loss: 0.6046 - val_accuracy: 0.7288 - val_fbeta_local: 0.7360\n",
      "Epoch 7/10\n",
      "625/625 [==============================] - 25s 40ms/step - loss: 0.6536 - accuracy: 0.6001 - fbeta_local: 0.5539 - val_loss: 0.6030 - val_accuracy: 0.7222 - val_fbeta_local: 0.7119\n",
      "Epoch 8/10\n",
      "623/625 [============================>.] - ETA: 0s - loss: 0.6492 - accuracy: 0.6085 - fbeta_local: 0.5825\n",
      "Epoch 8: saving model to ./checkpoints/checkpoint_TOP_MODEL.ckpt\n",
      "625/625 [==============================] - 25s 40ms/step - loss: 0.6492 - accuracy: 0.6085 - fbeta_local: 0.5823 - val_loss: 0.6128 - val_accuracy: 0.7169 - val_fbeta_local: 0.7387\n",
      "Epoch 9/10\n",
      "625/625 [==============================] - 25s 39ms/step - loss: 0.6468 - accuracy: 0.6123 - fbeta_local: 0.5904 - val_loss: 0.6408 - val_accuracy: 0.6725 - val_fbeta_local: 0.7044\n",
      "Epoch 10/10\n",
      "623/625 [============================>.] - ETA: 0s - loss: 0.6493 - accuracy: 0.6082 - fbeta_local: 0.5760\n",
      "Epoch 10: saving model to ./checkpoints/checkpoint_TOP_MODEL.ckpt\n",
      "625/625 [==============================] - 25s 40ms/step - loss: 0.6492 - accuracy: 0.6083 - fbeta_local: 0.5763 - val_loss: 0.6109 - val_accuracy: 0.7316 - val_fbeta_local: 0.7302\n",
      "GPU Peak Memory:  9.11984896659851 G\n",
      "GPU Current Memory Usage:  9.00492525100708 G\n",
      "Save Trained Model TOP_MODEL ...\n",
      "CPU times: user 3min 35s, sys: 3.69 s, total: 3min 39s\n",
      "Wall time: 4min 8s\n"
     ]
    },
    {
     "data": {
      "text/plain": [
       "<keras.engine.functional.Functional at 0x7f973c706550>"
      ]
     },
     "execution_count": 274,
     "metadata": {},
     "output_type": "execute_result"
    }
   ],
   "source": [
    "%%time\n",
    "train_model(\n",
    "    model = top_model, \n",
    "    train_data = train_data,\n",
    "    train_labels = train_labels, \n",
    "    test_data = test_data,\n",
    "    test_labels = test_labels,\n",
    "    epochs = 10, \n",
    "    batch_size = 64,\n",
    "    histories = top_model_with_bottlenecks\n",
    ")"
   ]
  },
  {
   "cell_type": "code",
   "execution_count": 64,
   "id": "7aa134c8-a4b8-4ea1-bcc8-7a194ac4cdb5",
   "metadata": {},
   "outputs": [
    {
     "data": {
      "image/png": "[encoded data removed]",
      "text/plain": [
       "<Figure size 2500x1000 with 2 Axes>"
      ]
     },
     "metadata": {},
     "output_type": "display_data"
    }
   ],
   "source": [
    "plot_learning_curves(\n",
    "    top_model.name, \n",
    "    METRICS_TO_PLOT,\n",
    "    METRICS_IN_HISTORIES,\n",
    "    top_model_with_bottlenecks\n",
    ")"
   ]
  },
  {
   "cell_type": "markdown",
   "id": "9ac4465e-d822-4252-aa4f-302e6faccb27",
   "metadata": {},
   "source": [
    "## Fine Tuning"
   ]
  },
  {
   "cell_type": "code",
   "execution_count": 65,
   "id": "a2b4131c-a503-4a38-9359-4125e2b219ca",
   "metadata": {},
   "outputs": [],
   "source": [
    "def get_combined_model(bert_base_model, top_model, max_tokenization_len):\n",
    "    in_id = tf.keras.layers.Input(shape=(max_tokenization_len,), name=\"input_ids\", dtype='int32')\n",
    "    in_mask = tf.keras.layers.Input(shape=(max_tokenization_len,), name=\"input_masks\",dtype='int32')\n",
    "    \n",
    "    for layer in bert_base_model.layers[:]:\n",
    "        if isinstance(layer, transformers.models.bert.modeling_tf_bert.TFBertMainLayer):\n",
    "            for encoder_layer in layer.encoder.layer:\n",
    "                if encoder_layer.name == 'layer_._11':\n",
    "                    print(\"Setting TRUE\")\n",
    "                    encoder_layer.trainable = True\n",
    "                else:\n",
    "                    encoder_layer.trainable = False\n",
    "            layer.embeddings.trainable = False\n",
    "            layer.pooler.trainable = False\n",
    "\n",
    "    model = tf.keras.Model(\n",
    "        inputs=[in_id, in_mask] , \n",
    "        outputs=top_model(bert_base_model({'input_ids':in_id, 'attention_mask':in_mask})[1]),\n",
    "        name = \"COMBINED_MODEL\"\n",
    "    )\n",
    "    \n",
    "    model.compile(\n",
    "        loss='binary_crossentropy',\n",
    "        optimizer=tf.keras.optimizers.SGD(learning_rate=1e-4, momentum=0.9),\n",
    "        metrics=[\n",
    "            'accuracy',\n",
    "            fbeta_local\n",
    "        ]\n",
    "    )\n",
    "    \n",
    "    return model"
   ]
  },
  {
   "cell_type": "code",
   "execution_count": 105,
   "id": "f305a6ac-c8bb-49cf-a071-ce93ef39327e",
   "metadata": {},
   "outputs": [
    {
     "name": "stdout",
     "output_type": "stream",
     "text": [
      "Setting TRUE\n",
      "Model: \"COMBINED_MODEL\"\n",
      "__________________________________________________________________________________________________\n",
      " Layer (type)                   Output Shape         Param #     Connected to                     \n",
      "==================================================================================================\n",
      " input_masks (InputLayer)       [(None, 512)]        0           []                               \n",
      "                                                                                                  \n",
      " input_ids (InputLayer)         [(None, 512)]        0           []                               \n",
      "                                                                                                  \n",
      " tf_bert_model (TFBertModel)    TFBaseModelOutputWi  108310272   ['input_masks[0][0]',            \n",
      "                                thPoolingAndCrossAt               'input_ids[0][0]']              \n",
      "                                tentions(last_hidde                                               \n",
      "                                n_state=(None, 512,                                               \n",
      "                                 768),                                                            \n",
      "                                 pooler_output=(Non                                               \n",
      "                                e, 768),                                                          \n",
      "                                 past_key_values=No                                               \n",
      "                                ne, hidden_states=N                                               \n",
      "                                one, attentions=Non                                               \n",
      "                                e, cross_attentions                                               \n",
      "                                =None)                                                            \n",
      "                                                                                                  \n",
      " TOP_MODEL (Functional)         (None, 1)            558081      ['tf_bert_model[1][1]']          \n",
      "                                                                                                  \n",
      "==================================================================================================\n",
      "Total params: 108,868,353\n",
      "Trainable params: 7,645,953\n",
      "Non-trainable params: 101,222,400\n",
      "__________________________________________________________________________________________________\n"
     ]
    }
   ],
   "source": [
    "combined_model = None\n",
    "combined_model_histories = []\n",
    "if LOAD_MODELS:\n",
    "    combined_model = load_model(\"COMBINED_MODEL\")\n",
    "    combined_model = load_history(\"COMBINED_MODEL\")\n",
    "else: \n",
    "    combined_model = get_combined_model(\n",
    "        bert_base_cased_model,\n",
    "        top_model,\n",
    "        max_encoding_length\n",
    "    )\n",
    "\n",
    "combined_model.summary()"
   ]
  },
  {
   "cell_type": "code",
   "execution_count": 108,
   "id": "28c48233-7566-4f14-bfdb-c2b78cc88ef5",
   "metadata": {},
   "outputs": [
    {
     "name": "stdout",
     "output_type": "stream",
     "text": [
      "CPU times: user 14.7 s, sys: 3.04 s, total: 17.7 s\n",
      "Wall time: 5.78 s\n"
     ]
    }
   ],
   "source": [
    "%%time\n",
    "train_tokenized = bert_base_cased_tokenizer(\n",
    "    text=df_train.review.tolist(),\n",
    "    add_special_tokens=True,\n",
    "    max_length=max_encoding_length,\n",
    "    truncation=True,\n",
    "    padding=True,\n",
    "    return_tensors='tf',\n",
    "    return_token_type_ids=False,\n",
    "    return_attention_mask=True,\n",
    "    verbose=True\n",
    ")"
   ]
  },
  {
   "cell_type": "code",
   "execution_count": 72,
   "id": "e109acf6-2c7c-49b0-939a-e9b6f887f06e",
   "metadata": {},
   "outputs": [
    {
     "name": "stdout",
     "output_type": "stream",
     "text": [
      "CPU times: user 3.51 s, sys: 804 ms, total: 4.31 s\n",
      "Wall time: 1.28 s\n"
     ]
    }
   ],
   "source": [
    "%%time\n",
    "test_tokenized = bert_base_cased_tokenizer(\n",
    "    text=df_test.review.tolist(),\n",
    "    add_special_tokens=True,\n",
    "    max_length=max_encoding_length,\n",
    "    truncation=True,\n",
    "    padding=True,\n",
    "    return_tensors='tf',\n",
    "    return_token_type_ids=False,\n",
    "    return_attention_mask=True,\n",
    "    verbose=True\n",
    ")"
   ]
  },
  {
   "cell_type": "code",
   "execution_count": 110,
   "id": "4e38dab4-7459-4f8e-b074-f21d0a029db9",
   "metadata": {},
   "outputs": [
    {
     "name": "stdout",
     "output_type": "stream",
     "text": [
      "GPU Peak Memory:  34.44791603088379 G\n",
      "GPU Current Memory Usage:  0.901087760925293 G\n",
      "Length of training data 40000\n",
      "Training model COMBINED_MODEL ...\n",
      "Epoch 1/15\n",
      "2500/2500 [==============================] - 837s 335ms/step - loss: 0.4356 - accuracy: 0.8138 - fbeta_local: 0.8149 - val_loss: 0.4260 - val_accuracy: 0.8111 - val_fbeta_local: 0.8377\n",
      "Epoch 2/15\n",
      "2499/2500 [============================>.] - ETA: 0s - loss: 0.4273 - accuracy: 0.8168 - fbeta_local: 0.8165\n",
      "Epoch 2: saving model to ./checkpoints/checkpoint_COMBINED_MODEL.ckpt\n",
      "2500/2500 [==============================] - 835s 334ms/step - loss: 0.4273 - accuracy: 0.8168 - fbeta_local: 0.8165 - val_loss: 0.3972 - val_accuracy: 0.8310 - val_fbeta_local: 0.8431\n",
      "Epoch 3/15\n",
      "2500/2500 [==============================] - 835s 334ms/step - loss: 0.4183 - accuracy: 0.8193 - fbeta_local: 0.8196 - val_loss: 0.3829 - val_accuracy: 0.8371 - val_fbeta_local: 0.8411\n",
      "Epoch 4/15\n",
      "2499/2500 [============================>.] - ETA: 0s - loss: 0.4147 - accuracy: 0.8202 - fbeta_local: 0.8218\n",
      "Epoch 4: saving model to ./checkpoints/checkpoint_COMBINED_MODEL.ckpt\n",
      "2500/2500 [==============================] - 836s 334ms/step - loss: 0.4146 - accuracy: 0.8202 - fbeta_local: 0.8218 - val_loss: 0.3840 - val_accuracy: 0.8339 - val_fbeta_local: 0.8471\n",
      "Epoch 5/15\n",
      "2500/2500 [==============================] - 836s 335ms/step - loss: 0.4082 - accuracy: 0.8228 - fbeta_local: 0.8246 - val_loss: 0.3945 - val_accuracy: 0.8225 - val_fbeta_local: 0.8475\n",
      "Epoch 6/15\n",
      "2499/2500 [============================>.] - ETA: 0s - loss: 0.4043 - accuracy: 0.8265 - fbeta_local: 0.8271\n",
      "Epoch 6: saving model to ./checkpoints/checkpoint_COMBINED_MODEL.ckpt\n",
      "2500/2500 [==============================] - 838s 335ms/step - loss: 0.4043 - accuracy: 0.8265 - fbeta_local: 0.8270 - val_loss: 0.3854 - val_accuracy: 0.8281 - val_fbeta_local: 0.8490\n",
      "Epoch 7/15\n",
      "2500/2500 [==============================] - 837s 335ms/step - loss: 0.3957 - accuracy: 0.8289 - fbeta_local: 0.8287 - val_loss: 0.3795 - val_accuracy: 0.8302 - val_fbeta_local: 0.8496\n",
      "Epoch 8/15\n",
      "2499/2500 [============================>.] - ETA: 0s - loss: 0.3941 - accuracy: 0.8309 - fbeta_local: 0.8316\n",
      "Epoch 8: saving model to ./checkpoints/checkpoint_COMBINED_MODEL.ckpt\n",
      "2500/2500 [==============================] - 839s 335ms/step - loss: 0.3941 - accuracy: 0.8309 - fbeta_local: 0.8316 - val_loss: 0.3651 - val_accuracy: 0.8427 - val_fbeta_local: 0.8357\n",
      "Epoch 9/15\n",
      "2500/2500 [==============================] - 836s 334ms/step - loss: 0.3940 - accuracy: 0.8292 - fbeta_local: 0.8289 - val_loss: 0.3954 - val_accuracy: 0.8204 - val_fbeta_local: 0.8491\n",
      "Epoch 10/15\n",
      "2499/2500 [============================>.] - ETA: 0s - loss: 0.3863 - accuracy: 0.8339 - fbeta_local: 0.8338\n",
      "Epoch 10: saving model to ./checkpoints/checkpoint_COMBINED_MODEL.ckpt\n",
      "2500/2500 [==============================] - 838s 335ms/step - loss: 0.3863 - accuracy: 0.8339 - fbeta_local: 0.8338 - val_loss: 0.3603 - val_accuracy: 0.8444 - val_fbeta_local: 0.8478\n",
      "Epoch 11/15\n",
      "2500/2500 [==============================] - 835s 334ms/step - loss: 0.3874 - accuracy: 0.8325 - fbeta_local: 0.8320 - val_loss: 0.3698 - val_accuracy: 0.8348 - val_fbeta_local: 0.8529\n",
      "Epoch 12/15\n",
      "2499/2500 [============================>.] - ETA: 0s - loss: 0.3847 - accuracy: 0.8354 - fbeta_local: 0.8376\n",
      "Epoch 12: saving model to ./checkpoints/checkpoint_COMBINED_MODEL.ckpt\n",
      "2500/2500 [==============================] - 838s 335ms/step - loss: 0.3847 - accuracy: 0.8354 - fbeta_local: 0.8375 - val_loss: 0.3560 - val_accuracy: 0.8447 - val_fbeta_local: 0.8431\n",
      "Epoch 13/15\n",
      "2500/2500 [==============================] - 837s 335ms/step - loss: 0.3806 - accuracy: 0.8360 - fbeta_local: 0.8359 - val_loss: 0.3648 - val_accuracy: 0.8375 - val_fbeta_local: 0.8537\n",
      "Epoch 14/15\n",
      "2499/2500 [============================>.] - ETA: 0s - loss: 0.3776 - accuracy: 0.8377 - fbeta_local: 0.8377\n",
      "Epoch 14: saving model to ./checkpoints/checkpoint_COMBINED_MODEL.ckpt\n",
      "2500/2500 [==============================] - 838s 335ms/step - loss: 0.3777 - accuracy: 0.8376 - fbeta_local: 0.8376 - val_loss: 0.3995 - val_accuracy: 0.8161 - val_fbeta_local: 0.8491\n",
      "Epoch 15/15\n",
      "2500/2500 [==============================] - 837s 335ms/step - loss: 0.3759 - accuracy: 0.8360 - fbeta_local: 0.8367 - val_loss: 0.3676 - val_accuracy: 0.8366 - val_fbeta_local: 0.8568\n",
      "GPU Peak Memory:  34.74974966049194 G\n",
      "GPU Current Memory Usage:  0.9316186904907227 G\n",
      "Save Trained Model COMBINED_MODEL ...\n",
      "GPU Peak Memory:  34.74974966049194 G\n",
      "GPU Current Memory Usage:  0.9316186904907227 G\n",
      "CPU times: user 2h 45min 57s, sys: 1min 17s, total: 2h 47min 14s\n",
      "Wall time: 3h 29min 10s\n"
     ]
    }
   ],
   "source": [
    "%%time\n",
    "print_gpu_usage()\n",
    "train_model(\n",
    "    model = combined_model,\n",
    "    train_data = {'input_ids': train_tokenized['input_ids'],'input_masks':train_tokenized['attention_mask']},\n",
    "    train_labels = df_train['sentiment'],\n",
    "    test_data = {'input_ids':test_tokenized['input_ids'], 'input_masks':test_tokenized['attention_mask']},\n",
    "    test_labels = df_test['sentiment'],\n",
    "    epochs = 15,\n",
    "    batch_size = 16,\n",
    "    histories = combined_model_histories,\n",
    "    save_model = True,\n",
    "    verbose = 1\n",
    ")\n",
    "print_gpu_usage()"
   ]
  },
  {
   "cell_type": "code",
   "execution_count": 111,
   "id": "40365416-f3ed-487d-b9bf-fc9c63ef2faf",
   "metadata": {},
   "outputs": [
    {
     "data": {
      "image/png": "[encoded data removed]",
      "text/plain": [
       "<Figure size 2500x1000 with 2 Axes>"
      ]
     },
     "metadata": {},
     "output_type": "display_data"
    }
   ],
   "source": [
    "plot_learning_curves(\n",
    "    combined_model.name, \n",
    "    METRICS_TO_PLOT,\n",
    "    METRICS_IN_HISTORIES,\n",
    "    combined_model_histories\n",
    ")"
   ]
  },
  {
   "cell_type": "markdown",
   "id": "ac996c24-f2c3-4047-9dbf-4d8618c64351",
   "metadata": {},
   "source": [
    "# Results"
   ]
  },
  {
   "cell_type": "markdown",
   "id": "1e837c1d-4773-4ac7-9bc5-fa987c6052e0",
   "metadata": {},
   "source": [
    "**Compare the convergence of the models and the running time.**"
   ]
  },
  {
   "cell_type": "markdown",
   "id": "e7446246-15a6-4380-8569-930599358405",
   "metadata": {},
   "source": [
    "**Statistical Comparision**"
   ]
  },
  {
   "cell_type": "code",
   "execution_count": 81,
   "id": "e44c6532-dd41-4e09-9568-59ba1cb7dc2e",
   "metadata": {},
   "outputs": [],
   "source": [
    "def get_variance_subtracted_error_states(n_1, error_1, n_2, error_2):\n",
    "    one = (error_1 * (1 - error_1)) / n_1\n",
    "    two = (error_2 * (1 - error_2)) / n_2\n",
    "    return one + two\n",
    "\n",
    "def get_mean_difference(error_1, error_2):\n",
    "    return abs(error_1 - error_2)"
   ]
  },
  {
   "cell_type": "code",
   "execution_count": 82,
   "id": "e0b3d56f-d488-4667-b086-ac68461af98d",
   "metadata": {},
   "outputs": [],
   "source": [
    "def compare_models(test_data_len, model_one_history_dict, model_two_history_dict):\n",
    "    model_one_error_avg = np.average(model_one_history_dict['val_loss'])\n",
    "    model_two_error_avg = np.average(model_two_history_dict['val_loss'])\n",
    "    \n",
    "    segma = get_variance_subtracted_error_states(\n",
    "        test_data_len,\n",
    "        model_one_error_avg,\n",
    "        test_data_len,\n",
    "        model_two_error_avg\n",
    "    )\n",
    "    \n",
    "    d = get_mean_difference(model_one_error_avg, model_two_error_avg)\n",
    "    return d-segma, d+segma"
   ]
  },
  {
   "cell_type": "code",
   "execution_count": 112,
   "id": "68aba76f-cdab-47e1-ac6b-90160621d64d",
   "metadata": {},
   "outputs": [],
   "source": [
    "cnn_history_dict = combine_histories(METRICS_IN_HISTORIES, cnn_model_histories)\n",
    "top_model_history_dict = combine_histories(METRICS_IN_HISTORIES, top_model_with_bottlenecks)\n",
    "fine_tuned_history_dict = combine_histories(METRICS_IN_HISTORIES, combined_model_histories)"
   ]
  },
  {
   "cell_type": "code",
   "execution_count": 113,
   "id": "210973ba-e160-4a9a-8b6c-e6f94d038cf0",
   "metadata": {},
   "outputs": [
    {
     "name": "stdout",
     "output_type": "stream",
     "text": [
      "Confidence range comparing CNN to top_model trained on bottleneck features is 0.13169176630091733-0.13178816088128037\n"
     ]
    }
   ],
   "source": [
    "# Compare CNN to top_model trained on bottleneck features\n",
    "lower_range, upper_range = compare_models(df_test.shape[0], cnn_history_dict, top_model_history_dict)\n",
    "print(\"Confidence range comparing CNN to top_model trained on bottleneck features is {}-{}\".format(lower_range, upper_range))"
   ]
  },
  {
   "cell_type": "code",
   "execution_count": 114,
   "id": "c3df990e-db8f-4660-9be1-4bdcd703e018",
   "metadata": {},
   "outputs": [
    {
     "name": "stdout",
     "output_type": "stream",
     "text": [
      "Confidence range comparing CNN to fine tuned model is 0.12059035338865846-0.1206875608572648\n"
     ]
    }
   ],
   "source": [
    "# Compare CNN to fine tuned model\n",
    "lower_range, upper_range = compare_models(df_test.shape[0], cnn_history_dict, fine_tuned_history_dict)\n",
    "print(\"Confidence range comparing CNN to fine tuned model is {}-{}\".format(lower_range, upper_range))"
   ]
  },
  {
   "cell_type": "code",
   "execution_count": 115,
   "id": "530b283d-3a8f-4d25-86d3-ab6064aa8f16",
   "metadata": {},
   "outputs": [
    {
     "name": "stdout",
     "output_type": "stream",
     "text": [
      "Confidence range comparing top_model trained on bottleneck features to fine tuned model is 0.2523321184378187-0.25242572299030225\n"
     ]
    }
   ],
   "source": [
    "# Compare top_model trained on bottleneck features to fine tuned model\n",
    "lower_range, upper_range = compare_models(df_test.shape[0], top_model_history_dict, fine_tuned_history_dict)\n",
    "print(\"Confidence range comparing top_model trained on bottleneck features to fine tuned model is {}-{}\".format(lower_range, upper_range))"
   ]
  },
  {
   "cell_type": "code",
   "execution_count": null,
   "id": "9731f036-3ec5-4057-b12c-c176b323aeda",
   "metadata": {},
   "outputs": [],
   "source": []
  }
 ],
 "metadata": {
  "kernelspec": {
   "display_name": "Python 3 (ipykernel)",
   "language": "python",
   "name": "python3"
  },
  "language_info": {
   "codemirror_mode": {
    "name": "ipython",
    "version": 3
   },
   "file_extension": ".py",
   "mimetype": "text/x-python",
   "name": "python",
   "nbconvert_exporter": "python",
   "pygments_lexer": "ipython3",
   "version": "3.9.16"
  },
  "toc-autonumbering": false
 },
 "nbformat": 4,
 "nbformat_minor": 5
}
